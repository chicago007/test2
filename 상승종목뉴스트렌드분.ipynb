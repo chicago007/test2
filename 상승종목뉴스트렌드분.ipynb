{
  "nbformat": 4,
  "nbformat_minor": 0,
  "metadata": {
    "colab": {
      "provenance": [],
      "authorship_tag": "ABX9TyOGummTm9P5Ys9VlHs3b3Os",
      "include_colab_link": true
    },
    "kernelspec": {
      "name": "python3",
      "display_name": "Python 3"
    },
    "language_info": {
      "name": "python"
    }
  },
  "cells": [
    {
      "cell_type": "markdown",
      "metadata": {
        "id": "view-in-github",
        "colab_type": "text"
      },
      "source": [
        "<a href=\"https://colab.research.google.com/github/chicago007/test2/blob/main/%EC%83%81%EC%8A%B9%EC%A2%85%EB%AA%A9%EB%89%B4%EC%8A%A4%ED%8A%B8%EB%A0%8C%EB%93%9C%EB%B6%84.ipynb\" target=\"_parent\"><img src=\"https://colab.research.google.com/assets/colab-badge.svg\" alt=\"Open In Colab\"/></a>"
      ]
    },
    {
      "cell_type": "code",
      "execution_count": 3,
      "metadata": {
        "colab": {
          "base_uri": "https://localhost:8080/"
        },
        "collapsed": true,
        "id": "XGZKNg2owHvV",
        "outputId": "74e099c6-9e78-430c-82eb-8449b379d757"
      },
      "outputs": [
        {
          "output_type": "stream",
          "name": "stdout",
          "text": [
            "Requirement already satisfied: requests in /usr/local/lib/python3.11/dist-packages (2.32.3)\n",
            "Requirement already satisfied: konlpy in /usr/local/lib/python3.11/dist-packages (0.6.0)\n",
            "Requirement already satisfied: charset-normalizer<4,>=2 in /usr/local/lib/python3.11/dist-packages (from requests) (3.4.1)\n",
            "Requirement already satisfied: idna<4,>=2.5 in /usr/local/lib/python3.11/dist-packages (from requests) (3.10)\n",
            "Requirement already satisfied: urllib3<3,>=1.21.1 in /usr/local/lib/python3.11/dist-packages (from requests) (2.3.0)\n",
            "Requirement already satisfied: certifi>=2017.4.17 in /usr/local/lib/python3.11/dist-packages (from requests) (2024.12.14)\n",
            "Requirement already satisfied: JPype1>=0.7.0 in /usr/local/lib/python3.11/dist-packages (from konlpy) (1.5.2)\n",
            "Requirement already satisfied: lxml>=4.1.0 in /usr/local/lib/python3.11/dist-packages (from konlpy) (5.3.0)\n",
            "Requirement already satisfied: numpy>=1.6 in /usr/local/lib/python3.11/dist-packages (from konlpy) (1.26.4)\n",
            "Requirement already satisfied: packaging in /usr/local/lib/python3.11/dist-packages (from JPype1>=0.7.0->konlpy) (24.2)\n",
            "\u001b[31mERROR: Could not find a version that satisfies the requirement Article (from versions: none)\u001b[0m\u001b[31m\n",
            "\u001b[0m\u001b[31mERROR: No matching distribution found for Article\u001b[0m\u001b[31m\n",
            "\u001b[0mRequirement already satisfied: pykrx in /usr/local/lib/python3.11/dist-packages (1.0.48)\n",
            "Requirement already satisfied: requests in /usr/local/lib/python3.11/dist-packages (from pykrx) (2.32.3)\n",
            "Requirement already satisfied: pandas in /usr/local/lib/python3.11/dist-packages (from pykrx) (2.2.2)\n",
            "Requirement already satisfied: datetime in /usr/local/lib/python3.11/dist-packages (from pykrx) (5.5)\n",
            "Requirement already satisfied: numpy in /usr/local/lib/python3.11/dist-packages (from pykrx) (1.26.4)\n",
            "Requirement already satisfied: xlrd in /usr/local/lib/python3.11/dist-packages (from pykrx) (2.0.1)\n",
            "Requirement already satisfied: deprecated in /usr/local/lib/python3.11/dist-packages (from pykrx) (1.2.18)\n",
            "Requirement already satisfied: multipledispatch in /usr/local/lib/python3.11/dist-packages (from pykrx) (1.0.0)\n",
            "Requirement already satisfied: matplotlib in /usr/local/lib/python3.11/dist-packages (from pykrx) (3.10.0)\n",
            "Requirement already satisfied: zope.interface in /usr/local/lib/python3.11/dist-packages (from datetime->pykrx) (7.2)\n",
            "Requirement already satisfied: pytz in /usr/local/lib/python3.11/dist-packages (from datetime->pykrx) (2024.2)\n",
            "Requirement already satisfied: wrapt<2,>=1.10 in /usr/local/lib/python3.11/dist-packages (from deprecated->pykrx) (1.17.2)\n",
            "Requirement already satisfied: contourpy>=1.0.1 in /usr/local/lib/python3.11/dist-packages (from matplotlib->pykrx) (1.3.1)\n",
            "Requirement already satisfied: cycler>=0.10 in /usr/local/lib/python3.11/dist-packages (from matplotlib->pykrx) (0.12.1)\n",
            "Requirement already satisfied: fonttools>=4.22.0 in /usr/local/lib/python3.11/dist-packages (from matplotlib->pykrx) (4.55.7)\n",
            "Requirement already satisfied: kiwisolver>=1.3.1 in /usr/local/lib/python3.11/dist-packages (from matplotlib->pykrx) (1.4.8)\n",
            "Requirement already satisfied: packaging>=20.0 in /usr/local/lib/python3.11/dist-packages (from matplotlib->pykrx) (24.2)\n",
            "Requirement already satisfied: pillow>=8 in /usr/local/lib/python3.11/dist-packages (from matplotlib->pykrx) (11.1.0)\n",
            "Requirement already satisfied: pyparsing>=2.3.1 in /usr/local/lib/python3.11/dist-packages (from matplotlib->pykrx) (3.2.1)\n",
            "Requirement already satisfied: python-dateutil>=2.7 in /usr/local/lib/python3.11/dist-packages (from matplotlib->pykrx) (2.8.2)\n",
            "Requirement already satisfied: tzdata>=2022.7 in /usr/local/lib/python3.11/dist-packages (from pandas->pykrx) (2025.1)\n",
            "Requirement already satisfied: charset-normalizer<4,>=2 in /usr/local/lib/python3.11/dist-packages (from requests->pykrx) (3.4.1)\n",
            "Requirement already satisfied: idna<4,>=2.5 in /usr/local/lib/python3.11/dist-packages (from requests->pykrx) (3.10)\n",
            "Requirement already satisfied: urllib3<3,>=1.21.1 in /usr/local/lib/python3.11/dist-packages (from requests->pykrx) (2.3.0)\n",
            "Requirement already satisfied: certifi>=2017.4.17 in /usr/local/lib/python3.11/dist-packages (from requests->pykrx) (2024.12.14)\n",
            "Requirement already satisfied: six>=1.5 in /usr/local/lib/python3.11/dist-packages (from python-dateutil>=2.7->matplotlib->pykrx) (1.17.0)\n",
            "Requirement already satisfied: setuptools in /usr/local/lib/python3.11/dist-packages (from zope.interface->datetime->pykrx) (75.1.0)\n",
            "Requirement already satisfied: pandas_market_calendars in /usr/local/lib/python3.11/dist-packages (4.6.1)\n",
            "Requirement already satisfied: pandas>=1.1 in /usr/local/lib/python3.11/dist-packages (from pandas_market_calendars) (2.2.2)\n",
            "Requirement already satisfied: pytz in /usr/local/lib/python3.11/dist-packages (from pandas_market_calendars) (2024.2)\n",
            "Requirement already satisfied: python-dateutil in /usr/local/lib/python3.11/dist-packages (from pandas_market_calendars) (2.8.2)\n",
            "Requirement already satisfied: exchange-calendars>=3.3 in /usr/local/lib/python3.11/dist-packages (from pandas_market_calendars) (4.9)\n",
            "Requirement already satisfied: numpy in /usr/local/lib/python3.11/dist-packages (from exchange-calendars>=3.3->pandas_market_calendars) (1.26.4)\n",
            "Requirement already satisfied: pyluach in /usr/local/lib/python3.11/dist-packages (from exchange-calendars>=3.3->pandas_market_calendars) (2.2.0)\n",
            "Requirement already satisfied: toolz in /usr/local/lib/python3.11/dist-packages (from exchange-calendars>=3.3->pandas_market_calendars) (0.12.1)\n",
            "Requirement already satisfied: tzdata in /usr/local/lib/python3.11/dist-packages (from exchange-calendars>=3.3->pandas_market_calendars) (2025.1)\n",
            "Requirement already satisfied: korean_lunar_calendar in /usr/local/lib/python3.11/dist-packages (from exchange-calendars>=3.3->pandas_market_calendars) (0.3.1)\n",
            "Requirement already satisfied: six>=1.5 in /usr/local/lib/python3.11/dist-packages (from python-dateutil->pandas_market_calendars) (1.17.0)\n",
            "Requirement already satisfied: feedparser in /usr/local/lib/python3.11/dist-packages (6.0.11)\n",
            "Requirement already satisfied: sgmllib3k in /usr/local/lib/python3.11/dist-packages (from feedparser) (1.0.0)\n"
          ]
        }
      ],
      "source": [
        "!pip install requests konlpy\n",
        "!pip install Article\n",
        "!pip install pykrx\n",
        "!pip install pandas_market_calendars\n",
        "!pip install feedparser"
      ]
    },
    {
      "cell_type": "code",
      "source": [
        "from pykrx import stock\n",
        "from datetime import datetime, timedelta\n",
        "import pandas_market_calendars as mcal\n",
        "import requests\n",
        "import re\n",
        "import json\n",
        "import pandas as pd\n",
        "import pytz\n",
        "import calendar\n",
        "from IPython.display import Markdown, display\n",
        "import feedparser\n",
        "\n",
        "# 한국 시간(Asia/Seoul) 설정\n",
        "seoul_tz = pytz.timezone(\"Asia/Seoul\")\n",
        "\n",
        "# 1) 최근 5거래일 중 20% 이상 상승한 종목의 상승률과 시가총액을 보여준다.\n",
        "def get_krx_trading_range():\n",
        "    krx = mcal.get_calendar('XKRX')\n",
        "    today = datetime.now(seoul_tz).date()\n",
        "    start_date = today - timedelta(days=30)\n",
        "    trading_days = krx.valid_days(start_date, today)\n",
        "    # 최근 5거래일 중 첫 번째(5일 전)와 마지막(최신 거래일)을 구함\n",
        "    start_trading_day = trading_days[-5]\n",
        "    last_trading_day = trading_days[-1]\n",
        "    return start_trading_day.date(), last_trading_day.date()\n",
        "\n",
        "start_date, end_date = get_krx_trading_range()\n",
        "print(f\"시작일: {start_date}, 종료일: {end_date}\")\n",
        "\n",
        "# 주가 변동 데이터 가져오기\n",
        "df = stock.get_market_price_change(start_date.strftime(\"%Y%m%d\"), end_date.strftime(\"%Y%m%d\"), \"ALL\")\n",
        "\n",
        "# 등락률이 20% 이상인 종목 필터링 및 내림차순 정렬\n",
        "rising_stocks = df[df['등락률'] >= 20].sort_values('등락률', ascending=False)\n",
        "\n",
        "# 시가총액 정보 가져오기\n",
        "market_cap = stock.get_market_cap(end_date.strftime(\"%Y%m%d\"))\n",
        "\n",
        "# 결과 출력 및 종목명 리스트 생성 (종목명(티커) 형식)\n",
        "print(\"최근 5일간 20% 이상 상승한 종목:\")\n",
        "stock_names = []\n",
        "name_to_ticker = {}  # 종목명과 티커 매핑\n",
        "for ticker in rising_stocks.index:\n",
        "    stock_name = stock.get_market_ticker_name(ticker)\n",
        "    name_to_ticker[stock_name] = ticker\n",
        "    change_rate = rising_stocks.loc[ticker, '등락률']\n",
        "    cap = market_cap.loc[ticker, '시가총액']\n",
        "    cap_billion = cap / 100_000_000  # 억원 단위로 변환\n",
        "    print(f\"{stock_name}({ticker}) (등락률: {change_rate:.2f}%, 시가총액: {cap_billion:.2f}억원)\")\n",
        "    stock_names.append(stock_name)\n",
        "\n",
        "# 네이버 API 정보 (발급받은 값 입력)\n",
        "CLIENT_ID = \"DjAgMkN04y03NqmM6SpU\"\n",
        "CLIENT_SECRET = \"y5vuriJA8E\"\n",
        "\n",
        "# 날짜 설정 (트렌드 데이터: 최근 30일)\n",
        "END_DATE = datetime.now(seoul_tz)\n",
        "START_DATE = END_DATE - timedelta(days=30)\n",
        "\n",
        "def get_trend_data(keywords):\n",
        "    url = \"https://openapi.naver.com/v1/datalab/search\"\n",
        "    headers = {\n",
        "        \"X-Naver-Client-Id\": CLIENT_ID,\n",
        "        \"X-Naver-Client-Secret\": CLIENT_SECRET,\n",
        "        \"Content-Type\": \"application/json\"\n",
        "    }\n",
        "    # 최대 5개씩 나누어 API 호출\n",
        "    chunk_size = 5\n",
        "    keyword_chunks = [keywords[i:i + chunk_size] for i in range(0, len(keywords), chunk_size)]\n",
        "    all_results = []\n",
        "    for chunk in keyword_chunks:\n",
        "        body = {\n",
        "            \"startDate\": START_DATE.strftime(\"%Y-%m-%d\"),\n",
        "            \"endDate\": END_DATE.strftime(\"%Y-%m-%d\"),\n",
        "            \"timeUnit\": \"date\",\n",
        "            \"keywordGroups\": [{\"groupName\": keyword, \"keywords\": [keyword]} for keyword in chunk]\n",
        "        }\n",
        "        response = requests.post(url, headers=headers, data=json.dumps(body))\n",
        "        data = json.loads(response.text)\n",
        "        if 'results' in data:\n",
        "            all_results.extend(data[\"results\"])\n",
        "        else:\n",
        "            print(\"Error: 'results' key not found in API response for chunk:\", chunk)\n",
        "            print(\"API Response:\", response.text)\n",
        "    return all_results\n",
        "\n",
        "def analyze_trends(trend_data):\n",
        "    df_list = []\n",
        "    for item in trend_data:\n",
        "        df = pd.DataFrame(item[\"data\"])\n",
        "        df[\"keyword\"] = item[\"title\"]\n",
        "        df_list.append(df)\n",
        "    if not df_list:\n",
        "        print(\"Error: No data to analyze. Check the API response and parameters.\")\n",
        "        return pd.DataFrame()\n",
        "    df_combined = pd.concat(df_list)\n",
        "    df_pivot = df_combined.pivot(index=\"period\", columns=\"keyword\", values=\"ratio\")\n",
        "    # 최근 7일과 이전 7일의 평균 검색량 비교\n",
        "    recent_7days = df_pivot.iloc[-7:].mean()\n",
        "    previous_7days = df_pivot.iloc[-14:-7].mean()\n",
        "    growth_rate = (recent_7days - previous_7days) / previous_7days * 100\n",
        "    return growth_rate.sort_values(ascending=False)\n",
        "\n",
        "# 트렌드 데이터 가져오기 및 분석\n",
        "trend_data = get_trend_data(stock_names)\n",
        "growth_rates = analyze_trends(trend_data)\n",
        "\n",
        "print(\"\\n검색량 증가율 (%):\")\n",
        "for keyword, rate in growth_rates.items():\n",
        "    ticker = name_to_ticker.get(keyword, \"N/A\")\n",
        "    print(f\"{keyword}({ticker}): {rate:.2f}%\")\n",
        "\n",
        "# 상승종목의 뉴스 가져오기 (최근 7일)\n",
        "news_end_date = datetime.now(seoul_tz)\n",
        "news_start_date = news_end_date - timedelta(days=7)\n",
        "\n",
        "headers_news = {\n",
        "    \"X-Naver-Client-Id\": CLIENT_ID,\n",
        "    \"X-Naver-Client-Secret\": CLIENT_SECRET\n",
        "}\n",
        "\n",
        "def clean_text(text):\n",
        "    text = text.replace(\"&amp;\", \"&\")\n",
        "    text = text.replace(\"quot;\", '')\n",
        "    text = re.sub(r'<.*?>', '', text)  # HTML 태그 제거\n",
        "    text = re.sub(r'[^\\w\\s]', '', text)  # 특수 문자 제거\n",
        "    return text\n",
        "\n",
        "for query in stock_names:\n",
        "    ticker = name_to_ticker.get(query, \"N/A\")\n",
        "    url = f\"https://openapi.naver.com/v1/search/news.json?query={query}&sort=date&display=10\"\n",
        "    response = requests.get(url, headers=headers_news)\n",
        "    if response.status_code == 200:\n",
        "        news_data = response.json()\n",
        "        print(f\"\\n최근 7일간 '{query}({ticker})' 관련 뉴스:\")\n",
        "        count = 0\n",
        "        for item in news_data[\"items\"]:\n",
        "            # pubDate를 %z 포맷을 사용해 파싱 후 서울 시간으로 변환\n",
        "            pub_date = datetime.strptime(item[\"pubDate\"], \"%a, %d %b %Y %H:%M:%S %z\")\n",
        "            pub_date = pub_date.astimezone(seoul_tz)\n",
        "            if news_start_date <= pub_date <= news_end_date:\n",
        "                count += 1\n",
        "                title = clean_text(item[\"title\"])\n",
        "                link = item[\"link\"]\n",
        "                print(f\"{count}. {pub_date.strftime('%Y-%m-%d')} [{title}]({link})\")\n",
        "        if count == 0:\n",
        "            print(\"최근 7일간 관련 뉴스가 없습니다.\")\n",
        "    else:\n",
        "        print(\"네이버 API 호출 실패:\", response.status_code)\n",
        "\n",
        "for query in stock_names:\n",
        "    ticker = name_to_ticker.get(query, \"N/A\")\n",
        "    # 구글 뉴스 RSS 피드 URL (검색어: 한국무브넥스)\n",
        "    rss_url = f\"https://news.google.com/rss/search?q={query}&{ticker}&hl=ko&gl=KR&ceid=KR:ko\"\n",
        "\n",
        "    # RSS 피드 파싱\n",
        "    feed = feedparser.parse(rss_url)\n",
        "\n",
        "    # 현재 시간과 7일 전 날짜 계산 (한국 시간 기준)\n",
        "    now = datetime.now(seoul_tz)\n",
        "    cutoff = now - timedelta(days=7)\n",
        "\n",
        "    news_items = []\n",
        "\n",
        "    # RSS 피드의 각 항목을 확인하여 지난 7일 이내의 뉴스만 선택 (최대 10개)\n",
        "    for entry in feed.entries:\n",
        "        # published_parsed는 time.struct_time 형식이므로 calendar.timegm을 사용해 timestamp로 변환\n",
        "        ts = calendar.timegm(entry.published_parsed)\n",
        "        published_dt = datetime.fromtimestamp(ts, seoul_tz)\n",
        "        if published_dt >= cutoff:\n",
        "            news_items.append((entry.title, entry.link))\n",
        "        if len(news_items) >= 10:\n",
        "            break\n",
        "\n",
        "    # # 결과 출력 (헤드라인과 링크)\n",
        "    # print(f\"\\n최근 7일간 '{query}({ticker})' 관련 뉴스:\")\n",
        "    # for idx, (title, link) in enumerate(news_items, start=1):\n",
        "    #     print(f\"{idx}. {title}\\n   링크: {link}\")\n",
        "    # 결과를 Markdown 형식으로 생성하여 출력 (제목 클릭 시 링크로 연결, 링크는 노출되지 않음)\n",
        "    markdown_text = f\"\\n최근 7일간 '{query}({ticker})' 관련 뉴스: (최대 10개):\\n\\n\"\n",
        "    for idx, (title, link) in enumerate(news_items, start=1):\n",
        "        markdown_text += f\"{idx}. [{title}]({link})\\n\\n\"\n",
        "\n",
        "    display(Markdown(markdown_text))\n"
      ],
      "metadata": {
        "colab": {
          "base_uri": "https://localhost:8080/",
          "height": 1000
        },
        "id": "KSmixppiwQ04",
        "outputId": "41ab0ab8-cac2-42c9-d1dc-053592848ed0"
      },
      "execution_count": 4,
      "outputs": [
        {
          "output_type": "stream",
          "name": "stderr",
          "text": [
            "/usr/local/lib/python3.11/dist-packages/pandas_market_calendars/market_calendar.py:179: UserWarning: ['break_start', 'break_end'] are discontinued, the dictionary `.discontinued_market_times` has the dates on which these were discontinued. The times as of those dates are incorrect, use .remove_time(market_time) to ignore a market_time.\n",
            "  warnings.warn(\n"
          ]
        },
        {
          "output_type": "stream",
          "name": "stdout",
          "text": [
            "시작일: 2025-01-31, 종료일: 2025-02-06\n"
          ]
        },
        {
          "output_type": "stream",
          "name": "stderr",
          "text": [
            "/usr/local/lib/python3.11/dist-packages/pykrx/website/krx/market/wrap.py:188: FutureWarning: Downcasting behavior in `replace` is deprecated and will be removed in a future version. To retain the old behavior, explicitly call `result.infer_objects(copy=False)`. To opt-in to the future behavior, set `pd.set_option('future.no_silent_downcasting', True)`\n",
            "  df = df.replace('', 0)\n"
          ]
        },
        {
          "output_type": "stream",
          "name": "stdout",
          "text": [
            "최근 5일간 20% 이상 상승한 종목:\n",
            "에스에이티이엔지(351320) (등락률: 101.27%, 시가총액: 0.00억원)\n",
            "바이브컴퍼니(301300) (등락률: 65.93%, 시가총액: 0.00억원)\n",
            "플리토(300080) (등락률: 62.93%, 시가총액: 0.00억원)\n",
            "GRT(900290) (등락률: 55.73%, 시가총액: 0.00억원)\n",
            "진양화학(051630) (등락률: 53.33%, 시가총액: 0.00억원)\n",
            "레인보우로보틱스(277810) (등락률: 50.20%, 시가총액: 0.00억원)\n",
            "에이원알폼(234070) (등락률: 49.40%, 시가총액: 0.00억원)\n",
            "엔솔바이오사이언스(140610) (등락률: 47.77%, 시가총액: 0.00억원)\n",
            "루트락(253610) (등락률: 46.75%, 시가총액: 0.00억원)\n",
            "한국무브넥스(010100) (등락률: 44.86%, 시가총액: 0.00억원)\n",
            "SOOP(067160) (등락률: 44.50%, 시가총액: 0.00억원)\n",
            "카페24(042000) (등락률: 44.47%, 시가총액: 0.00억원)\n",
            "솔트룩스(304100) (등락률: 41.67%, 시가총액: 0.00억원)\n",
            "토마토시스템(393210) (등락률: 39.17%, 시가총액: 0.00억원)\n",
            "피델릭스(032580) (등락률: 39.16%, 시가총액: 0.00억원)\n",
            "인스웨이브시스템즈(450520) (등락률: 38.73%, 시가총액: 0.00억원)\n",
            "코난테크놀로지(402030) (등락률: 38.39%, 시가총액: 0.00억원)\n",
            "온코크로스(382150) (등락률: 37.24%, 시가총액: 0.00억원)\n",
            "엠케이전자(033160) (등락률: 36.70%, 시가총액: 0.00억원)\n",
            "클로봇(466100) (등락률: 36.26%, 시가총액: 0.00억원)\n",
            "디와이디(219550) (등락률: 35.97%, 시가총액: 0.00억원)\n",
            "라온테크(232680) (등락률: 34.76%, 시가총액: 0.00억원)\n",
            "아남전자(008700) (등락률: 34.69%, 시가총액: 0.00억원)\n",
            "유니온(000910) (등락률: 33.78%, 시가총액: 0.00억원)\n",
            "하이젠알앤엠(160190) (등락률: 33.55%, 시가총액: 0.00억원)\n",
            "올릭스(226950) (등락률: 33.50%, 시가총액: 0.00억원)\n",
            "듀켐바이오(176750) (등락률: 32.67%, 시가총액: 0.00억원)\n",
            "한국ANKOR유전(152550) (등락률: 30.23%, 시가총액: 0.00억원)\n",
            "풀무원(017810) (등락률: 29.46%, 시가총액: 0.00억원)\n",
            "파워풀엑스(266870) (등락률: 28.80%, 시가총액: 0.00억원)\n",
            "이앤에치(341310) (등락률: 28.55%, 시가총액: 0.00억원)\n",
            "해성에어로보틱스(059270) (등락률: 28.25%, 시가총액: 0.00억원)\n",
            "애드바이오텍(179530) (등락률: 28.07%, 시가총액: 0.00억원)\n",
            "에스피시스템스(317830) (등락률: 28.01%, 시가총액: 0.00억원)\n",
            "딥노이드(315640) (등락률: 27.88%, 시가총액: 0.00억원)\n",
            "샌즈랩(411080) (등락률: 27.66%, 시가총액: 0.00억원)\n",
            "아이윈플러스(123010) (등락률: 26.97%, 시가총액: 0.00억원)\n",
            "오브젠(417860) (등락률: 26.23%, 시가총액: 0.00억원)\n",
            "보로노이(310210) (등락률: 25.90%, 시가총액: 0.00억원)\n",
            "에스비비테크(389500) (등락률: 25.16%, 시가총액: 0.00억원)\n",
            "대한광통신(010170) (등락률: 24.16%, 시가총액: 0.00억원)\n",
            "펨트론(168360) (등락률: 24.02%, 시가총액: 0.00억원)\n",
            "에스피지(058610) (등락률: 23.78%, 시가총액: 0.00억원)\n",
            "나인테크(267320) (등락률: 23.61%, 시가총액: 0.00억원)\n",
            "카카오페이(377300) (등락률: 23.60%, 시가총액: 0.00억원)\n",
            "자화전자(033240) (등락률: 23.46%, 시가총액: 0.00억원)\n",
            "인스코비(006490) (등락률: 22.18%, 시가총액: 0.00억원)\n",
            "와이팜(332570) (등락률: 22.14%, 시가총액: 0.00억원)\n",
            "엑스게이트(356680) (등락률: 21.96%, 시가총액: 0.00억원)\n",
            "피앤에스미캐닉스(460940) (등락률: 21.90%, 시가총액: 0.00억원)\n",
            "카카오(035720) (등락률: 20.84%, 시가총액: 0.00억원)\n",
            "아이케이세미콘(149010) (등락률: 20.83%, 시가총액: 0.00억원)\n",
            "코어라인소프트(384470) (등락률: 20.45%, 시가총액: 0.00억원)\n",
            "디티앤씨알오(383930) (등락률: 20.30%, 시가총액: 0.00억원)\n",
            "브레인즈컴퍼니(099390) (등락률: 20.20%, 시가총액: 0.00억원)\n",
            "이스트소프트(047560) (등락률: 20.18%, 시가총액: 0.00억원)\n",
            "\n",
            "검색량 증가율 (%):\n",
            "라온테크(232680): 2976.29%\n",
            "피델릭스(032580): 2695.28%\n",
            "에스에이티이엔지(351320): 2280.06%\n",
            "엠케이전자(033160): 1863.05%\n",
            "바이브컴퍼니(301300): 1727.16%\n",
            "한국ANKOR유전(152550): 1469.06%\n",
            "토마토시스템(393210): 1107.58%\n",
            "유니온(000910): 936.84%\n",
            "아남전자(008700): 846.91%\n",
            "플리토(300080): 832.73%\n",
            "인스웨이브시스템즈(450520): 685.02%\n",
            "오브젠(417860): 618.55%\n",
            "에스피시스템스(317830): 608.35%\n",
            "샌즈랩(411080): 536.13%\n",
            "카카오(035720): 535.67%\n",
            "GRT(900290): 526.53%\n",
            "진양화학(051630): 516.75%\n",
            "애드바이오텍(179530): 515.81%\n",
            "코난테크놀로지(402030): 500.02%\n",
            "솔트룩스(304100): 429.29%\n",
            "해성에어로보틱스(059270): 414.06%\n",
            "에스피지(058610): 406.88%\n",
            "대한광통신(010170): 380.15%\n",
            "나인테크(267320): 369.17%\n",
            "브레인즈컴퍼니(099390): 348.24%\n",
            "딥노이드(315640): 345.26%\n",
            "레인보우로보틱스(277810): 325.47%\n",
            "클로봇(466100): 286.37%\n",
            "온코크로스(382150): 265.07%\n",
            "펨트론(168360): 252.27%\n",
            "이스트소프트(047560): 249.15%\n",
            "피앤에스미캐닉스(460940): 240.04%\n",
            "에스비비테크(389500): 227.88%\n",
            "엑스게이트(356680): 226.88%\n",
            "한국무브넥스(010100): 210.57%\n",
            "듀켐바이오(176750): 209.31%\n",
            "디와이디(219550): 204.52%\n",
            "인스코비(006490): 195.48%\n",
            "보로노이(310210): 190.26%\n",
            "자화전자(033240): 183.39%\n",
            "카페24(042000): 174.49%\n",
            "풀무원(017810): 170.91%\n",
            "코어라인소프트(384470): 168.01%\n",
            "디티앤씨알오(383930): 164.89%\n",
            "엔솔바이오사이언스(140610): 164.20%\n",
            "하이젠알앤엠(160190): 134.98%\n",
            "와이팜(332570): 128.61%\n",
            "카카오페이(377300): 117.01%\n",
            "올릭스(226950): 82.18%\n",
            "SOOP(067160): 40.70%\n",
            "아이윈플러스(123010): 32.23%\n",
            "루트락(253610): 27.33%\n",
            "파워풀엑스(266870): 12.61%\n",
            "아이케이세미콘(149010): 4.88%\n",
            "에이원알폼(234070): -4.70%\n",
            "이앤에치(341310): nan%\n",
            "\n",
            "최근 7일간 '에스에이티이엔지(351320)' 관련 뉴스:\n",
            "1. 2025-02-06 [에스에이티이엔지 MA 나노캠텍 주가조작 세력의 귀환①](https://www.greened.kr/news/articleView.html?idxno=322920)\n",
            "2. 2025-02-05 [주식마감기사 로봇 관련주 강세 클로봇 애드바이오텍 등 급등](https://www.ggilbo.com/news/articleView.html?idxno=1072347)\n",
            "3. 2025-02-05 [애드바이오텍클로봇 상한가 해성에어로보틱스삼현아이윈플러스](https://www.yeongnam.com/web/view.php?key=20250205027045912)\n",
            "4. 2025-02-05 [트럼프도 찍었다  올해 주도주로 부상한 로봇株 마켓펀치](https://biz.newdaily.co.kr/site/data/html/2025/02/05/2025020500043.html)\n",
            "5. 2025-02-04 [상한가 종목 토마토시스템대한광통신 이어 파인텍바이오로그디바이](http://www.econonews.co.kr/news/articleView.html?idxno=373781)\n",
            "6. 2025-02-04 [주식마감기사 샘 올트먼 의료용 챗GPT 개발 검토 발언에 토마토시스](https://www.ggilbo.com/news/articleView.html?idxno=1072098)\n",
            "7. 2025-02-04 [오늘의 코스닥  2월 4일 상승주 TOP 10 1위 에스에이티이엔지](http://www.newsbrite.net/news/articleView.html?idxno=187978)\n",
            "8. 2025-02-04 [4일 특징주 하나금융지주 4000억 규모 자사주 소각 발표에 3](https://www.newsworks.co.kr/news/articleView.html?idxno=783080)\n",
            "9. 2025-02-04 [아이지넷피아이이 신고식 MA 이슈 대한광통신에스에이티이엔](http://www.newswell.co.kr/news/articleView.html?idxno=10869)\n",
            "10. 2025-02-04 [급등락주 짚어보기 에스에이티이엔지 최대주주 변경 기대에 이틀 연](https://www.etoday.co.kr/news/view/2442259)\n",
            "\n",
            "최근 7일간 '바이브컴퍼니(301300)' 관련 뉴스:\n",
            "1. 2025-02-05 [코스닥레인보우로보틱스  클로봇  삼천당제약 급등](http://www.choicenews.co.kr/news/articleView.html?idxno=142326)\n",
            "2. 2025-02-05 [애드바이오텍클로봇 상한가 해성에어로보틱스삼현아이윈플러스](https://www.yeongnam.com/web/view.php?key=20250205027045912)\n",
            "3. 2025-02-05 [브로큰 OST 황상준X정홍일 시너지에 호평 일색](https://m.entertain.naver.com/article/311/0001823540)\n",
            "4. 2025-02-05 [클로봇솔트룩스고영씨메스오브젠피앤에스미캐닉스 급등 지](https://www.yeongnam.com/web/view.php?key=20250205025125868)\n",
            "5. 2025-02-05 [클로봇 주가 파죽지세 로봇 자율주행 분야 인공지능 중요성 부각](https://www.pinpointnews.co.kr/news/articleView.html?idxno=318343)\n",
            "6. 2025-02-05 [솔트룩스 주가 룰루랄라AI 루시아LUXIA 공개로 실적개선 훈풍](https://www.pinpointnews.co.kr/news/articleView.html?idxno=318320)\n",
            "7. 2025-02-05 [옥씨부인전 추영우 천승휘 같은 사랑 하고파부럽고 멋있어 인터](https://m.entertain.naver.com/article/213/0001325986)\n",
            "8. 2025-02-04 [바이브컴퍼니 멀티모달 트렌드 분석으로 해외 진출 지원](https://www.aitimes.com/news/articleView.html?idxno=167679)\n",
            "9. 2025-02-04 [AI 한쿡 딥시크도 믿고 쓸 수 있어야 한국형 LLM 신뢰성 평가 체계](https://n.news.naver.com/mnews/article/138/0002190292?sid=105)\n",
            "10. 2025-02-04 [바이브컴퍼니 멀티모달 AI 기반 GPT 프로파일링 기술 선보여](https://n.news.naver.com/mnews/article/025/0003418521?sid=105)\n",
            "\n",
            "최근 7일간 '플리토(300080)' 관련 뉴스:\n",
            "1. 2025-02-05 [인터뷰 영어로 말하면 1초만에 한글로 플리토의 실시간 음성 번역](https://byline.network/?p=9004111222555204)\n",
            "2. 2025-02-05 [이화진의 마감전략ZIP 플랫폼 변화 주시 오픈AI와 달콤한 협업 기대](https://news.mtn.co.kr/news-detail/2025020515510235916)\n",
            "3. 2025-02-05 [박종현의 돌파매매 오늘의 돌파매매 추천주는 한전산업](https://news.mtn.co.kr/news-detail/2025020514461924503)\n",
            "4. 2025-02-05 [솔트룩스 주가 룰루랄라AI 루시아LUXIA 공개로 실적개선 훈풍](https://www.pinpointnews.co.kr/news/articleView.html?idxno=318320)\n",
            "5. 2025-02-05 [세계 휘저은 고래 시장 확대 기대 반 데이터 독점 우려 반](https://n.news.naver.com/mnews/article/081/0003515480?sid=101)\n",
            "6. 2025-02-04 [IT방송이슈 롯데시네마 lt클로저gt 외 2월 단독 개봉 라인업 공개 外](http://www.lawissue.co.kr/view.php?ud=202502041934311106204ead0791_12)\n",
            "7. 2025-02-04 [기대반우려반 국내 AI기업들이 보는 딥시크가성비 경쟁 가열될 것](https://n.news.naver.com/mnews/article/081/0003515405?sid=105)\n",
            "8. 2025-02-04 [플리토 광주은행 8개 지점에 AI 기반 다국어 통번역 시스템 공급](https://www.newspim.com/news/view/20250204000894)\n",
            "9. 2025-02-04 [플리토 광주은행 8개 지점에 AI 기반 다국어 통번역 시스템 공급](https://www.aitimes.com/news/articleView.html?idxno=167668)\n",
            "10. 2025-02-04 [플리토 광주은행 8개 지점에 AI 기반 다국어 통번역 시스템 공급](http://www.enewstoday.co.kr/news/articleView.html?idxno=2232597)\n",
            "\n",
            "최근 7일간 'GRT(900290)' 관련 뉴스:\n",
            "1. 2025-02-06 [박정식의 국내 주식시황 트럼프 관세 우려 완화에 반등 기조 속 개별](https://www.newsquest.co.kr/news/articleView.html?idxno=239108)\n",
            "2. 2025-02-05 [주식마감기사 로봇 관련주 강세 클로봇 애드바이오텍 등 급등](https://www.ggilbo.com/news/articleView.html?idxno=1072347)\n",
            "3. 2025-02-05 [그레이스케일 1분기 투자 포트폴리오 조정](https://www.khgames.co.kr/news/articleView.html?idxno=236655)\n",
            "4. 2025-02-05 [박정식의 국내 주식시황 멕시코캐나다 관세전쟁 우려 감소했으나 미](https://www.newsquest.co.kr/news/articleView.html?idxno=239032)\n",
            "5. 2025-02-05 [이더리움 가격 급락에도 매수 나선 美 의원무슨 이유인가](http://coinreaders.com/144287)\n",
            "6. 2025-02-04 [주식마감기사 샘 올트먼 의료용 챗GPT 개발 검토 발언에 토마토시스](https://www.ggilbo.com/news/articleView.html?idxno=1072098)\n",
            "7. 2025-02-04 [에스에이티이엔지바이오로그디바이스파인텍 등 5종목 상한가 아남](https://www.yeongnam.com/web/view.php?key=20250204026155817)\n",
            "8. 2025-02-04 [코스닥 마감트럼프 관세 쇼크 하루만에 반등불확실성 여전](https://n.news.naver.com/mnews/article/018/0005936153?sid=101)\n",
            "9. 2025-02-04 [코스닥 2대 강세새내기 아이지넷 32](https://n.news.naver.com/mnews/article/018/0005935980?sid=101)\n",
            "10. 2025-02-04 [GRT 세계 1위 징동팡 애플 삼성 등이 찾는 기업AI 로봇 항공우주 ](http://www.globalepic.co.kr/view.php?ud=202502040948449692abe7dc9896_29)\n",
            "\n",
            "최근 7일간 '진양화학(051630)' 관련 뉴스:\n",
            "1. 2025-02-05 [진양 경남적십자사 ESG실천기업 63호](http://www.gndomin.com/news/articleView.html?idxno=422573)\n",
            "2. 2025-02-05 [오늘의 코스피  2월 5일 상승주 TOP 10 1위 인스코비](http://www.newsbrite.net/news/articleView.html?idxno=188018)\n",
            "3. 2025-02-05 [애드바이오텍클로봇 상한가 해성에어로보틱스삼현아이윈플러스](https://www.yeongnam.com/web/view.php?key=20250205027045912)\n",
            "4. 2025-02-03 [52주 최고가 카페24 109 6개 종목 장중 신고가](https://www.itooza.com/common/iview.php?no=2025020309340201342)\n",
            "5. 2025-02-02 [한일화학 주가 불꽃랠리중국 희토류 등 자원 수출 통제로 자원 무기](https://www.pinpointnews.co.kr/news/articleView.html?idxno=317490)\n",
            "6. 2025-01-31 [오늘의 코스피  1월31일 금일 상승주 TOP 10 1위 진양화학](http://www.newsbrite.net/news/articleView.html?idxno=187918)\n",
            "7. 2025-01-31 [엠케이전자플리토라온테크 등 5종목 상한가 진양화학코난테크놀](https://www.yeongnam.com/web/view.php?key=20250131022305614)\n",
            "8. 2025-01-31 [진양화학 하락 벗어나 28 급등4600원선 회복](http://www.econonews.co.kr/news/articleView.html?idxno=373305)\n",
            "9. 2025-01-31 [코스닥 딥시크 쇼크에 반도체 약세외인기관 팔자](https://n.news.naver.com/mnews/article/018/0005933922?sid=101)\n",
            "\n",
            "최근 7일간 '레인보우로보틱스(277810)' 관련 뉴스:\n",
            "1. 2025-02-06 [어제장 오늘장 오늘 4분기 기업 실적 발표조선주에 힘 보태줄까](https://n.news.naver.com/mnews/article/374/0000423955?sid=101)\n",
            "2. 2025-02-06 [기업이슈 샘 올트먼 한국 기업들과 AI 협업 논의로봇주](https://n.news.naver.com/mnews/article/374/0000423951?sid=101)\n",
            "3. 2025-02-06 [여의도 클라쓰 토마토시스템 삼양엔씨켐 케이엔알시스템 클라쓰 ](https://news.mtn.co.kr/news-detail/2025020606334990649)\n",
            "4. 2025-02-06 [이롭 수술 보조 로봇 복강경 담낭 절제 수술 전임상시험 성공](https://www.yeongnam.com/web/view.php?key=20250205010000566)\n",
            "5. 2025-02-06 [출근길 포인트 혼다닛산 합병 추진 무산 현대기아차 영향은](https://www.pointdaily.co.kr/news/articleView.html?idxno=232891)\n",
            "6. 2025-02-06 [속보 연준 FOMC 금리인하 전면재조정 뉴욕증시 트럼프 관세 인플레 ](http://www.g-enews.com/ko-kr/news/article/news_all/2025020416511775854a01bf698f_1/article.html)\n",
            "7. 2025-02-05 [이건 진짜 미쳤다 천만원 넣었으면 4억됐다역대급 폭발 난리](https://n.news.naver.com/mnews/article/016/0002424504?sid=105)\n",
            "8. 2025-02-05 [코스닥 개인과 외인 매수에 상승 마감삼천당제약 레인보우로보틱스](http://www.econonews.co.kr/news/articleView.html?idxno=373948)\n",
            "9. 2025-02-05 [주식마감기사 로봇 관련주 강세 클로봇 애드바이오텍 등 급등](https://www.ggilbo.com/news/articleView.html?idxno=1072347)\n",
            "10. 2025-02-05 [코스피 2500선 탈환 코스닥 15 상승 마감SK하닉 LG엔솔 등 대형주 강](https://www.cbci.co.kr/news/articleView.html?idxno=484132)\n",
            "\n",
            "최근 7일간 '에이원알폼(234070)' 관련 뉴스:\n",
            "최근 7일간 관련 뉴스가 없습니다.\n",
            "\n",
            "최근 7일간 '엔솔바이오사이언스(140610)' 관련 뉴스:\n",
            "1. 2025-02-03 [시총 300억매출 100억 미만 퇴출바이오기업 타깃](https://www.dailymedi.com/news/news_view.php?wr_id=921112)\n",
            "2. 2025-01-31 [유한양행 엔솔바이오사이언스 지분가치 1년새 4배](https://www.dailypharm.com/Users/News/NewsView.html?ID=320023&REFERER=NP)\n",
            "3. 2025-01-31 [더벨2025 VC 로드맵조수봉 대표 AUM 5000억 회수 1000억 목표](https://www.thebell.co.kr/free/content/ArticleView.asp?key=202501231012360840102739)\n",
            "\n",
            "최근 7일간 '루트락(253610)' 관련 뉴스:\n",
            "1. 2025-02-02 [아스테라시스 주가 휘파람여전한 인기 배우 하지원 효과 톡톡](https://www.pinpointnews.co.kr/news/articleView.html?idxno=317470)\n",
            "2. 2025-01-30 [덴티움 주가 호호수소 에너지 분야로 사업 영역 확장 부각](https://www.pinpointnews.co.kr/news/articleView.html?idxno=317022)\n",
            "\n",
            "최근 7일간 '한국무브넥스(010100)' 관련 뉴스:\n",
            "1. 2025-02-06 [투자원정대 동행 솔트룩스 vs 한국무브넥스 vs 에브리봇 공략법은](https://news.mtn.co.kr/news-detail/2025020606335274735)\n",
            "2. 2025-02-05 [AI와 찰떡궁합대박이네 외국인 1400억 쓸어담은 종목](https://n.news.naver.com/mnews/article/015/0005089963?sid=101)\n",
            "3. 2025-02-05 [롤러코스터 장세에도 연속 신고가로봇주 연일 강세](https://n.news.naver.com/mnews/article/008/0005149130?sid=101)\n",
            "4. 2025-02-05 [오늘의 코스피  2월 5일 상승주 TOP 10 1위 인스코비](http://www.newsbrite.net/news/articleView.html?idxno=188018)\n",
            "5. 2025-02-05 [애드바이오텍클로봇 상한가 해성에어로보틱스삼현아이윈플러스](https://www.yeongnam.com/web/view.php?key=20250205027045912)\n",
            "6. 2025-02-05 [한국무브넥스 5거래일 연속 상승에 25 급등52주 최고가](http://www.econonews.co.kr/news/articleView.html?idxno=373916)\n",
            "7. 2025-02-05 [관세 불안에도 굳건한 로봇주레인보우로보틱스 4거래일 연속 신고가](https://n.news.naver.com/mnews/article/008/0005148917?sid=101)\n",
            "8. 2025-02-05 [트럼프도 찍었다  올해 주도주로 부상한 로봇株 마켓펀치](https://biz.newdaily.co.kr/site/data/html/2025/02/05/2025020500043.html)\n",
            "9. 2025-02-04 [여의도 클라쓰 켄코아에어로스페이스 폴라리스AI 케이씨에스 클라](https://news.mtn.co.kr/news-detail/2025020407051571049)\n",
            "10. 2025-02-03 [특징주 보스턴다이내믹스 부품 공급설 한국무브넥스 환골탈태 가](https://www.asiatime.co.kr/article/20250203500083)\n",
            "\n",
            "최근 7일간 'SOOP(067160)' 관련 뉴스:\n",
            "1. 2025-02-06 [SOOP EPS보다 멀티플 중요저평가 해소 중하나](https://n.news.naver.com/mnews/article/008/0005149344?sid=101)\n",
            "2. 2025-02-06 [오늘의 증시리포트 KB금융카카오뱅크신세계 등](https://www.etoday.co.kr/news/view/2442690)\n",
            "3. 2025-02-06 [하나증권 SOOP 전략 변화 효과글로벌 트래픽 확보 핵심](https://www.etoday.co.kr/news/view/2442693)\n",
            "4. 2025-02-06 [SOOP 글로벌 전략 변화로 디레이팅 해소하나](https://n.news.naver.com/mnews/article/018/0005937339?sid=101)\n",
            "5. 2025-02-06 [SOOP 선택과 집중프리콩오픈스튜디오 해외법인 정리](https://n.news.naver.com/mnews/article/648/0000033099?sid=105)\n",
            "6. 2025-02-06 [2600억 폰지사기 PS파이낸셜 대표 슈퍼카 6대 굴리고 별풍선 20억 쐈](https://n.news.naver.com/mnews/article/366/0001051579?sid=101)\n",
            "7. 2025-02-06 [관세 전쟁에 출렁이는 증시업종별 피난처는](https://n.news.naver.com/mnews/article/003/0013049556?sid=101)\n",
            "8. 2025-02-05 [한갱은 핫했다 SOOP 글로벌 전략 변경에 사흘새 44 폭등](https://www.smarttoday.co.kr/news/articleView.html?idxno=71763)\n",
            "9. 2025-02-05 [AI 수혜주인터넷 방송 플랫폼 SOOP 장중 상한가 훨훨](http://www.g-enews.com/ko-kr/news/article/news_all/20250205161458229c5fa75ef86_1/article.html)\n",
            "10. 2025-02-05 [코스닥레인보우로보틱스  클로봇  삼천당제약 급등](http://www.choicenews.co.kr/news/articleView.html?idxno=142326)\n",
            "\n",
            "최근 7일간 '카페24(042000)' 관련 뉴스:\n",
            "1. 2025-02-06 [포인트1분나는 솔로 영식광수 기행에 이번 기수 솔로남들은 ](https://m.entertain.naver.com/article/112/0003745356)\n",
            "2. 2025-02-06 [의정부시 노인일자리 참여자 안전 및 직무교육 실시](http://www.breaknews.com/1089879)\n",
            "3. 2025-02-06 [쿠팡 베이비키즈쇼 팝업스토어 진행](http://www.wsobi.com/news/articleView.html?idxno=267981)\n",
            "4. 2025-02-06 [24기 광수 폭로 진짜였나회사 사람들과 밥 먹기 싫어 친구 없었다](https://m.entertain.naver.com/article/311/0001823846)\n",
            "5. 2025-02-06 [추영우 SNS팔로우 논란톱모델 부모대역 동생까지대세 인](https://m.entertain.naver.com/article/109/0005237410)\n",
            "6. 2025-02-06 [아침소설 북으로 흐르는 강 lt10gt  정찬주](http://www.joynews24.com/view/1809442)\n",
            "7. 2025-02-06 [단독 요기요 정산금 못 믿겠네몰래 가입된 추천광고 수수료 15 추](http://www.consumernews.co.kr/news/articleView.html?idxno=725417)\n",
            "8. 2025-02-06 [쿠팡에 뺏긴 자리 다이소로 채운다대형마트 임대경쟁](https://n.news.naver.com/mnews/article/011/0004447238?sid=101)\n",
            "9. 2025-02-06 [관세 전쟁에 출렁이는 증시업종별 피난처는](https://n.news.naver.com/mnews/article/003/0013049556?sid=101)\n",
            "10. 2025-02-06 [나는 솔로 4일 차에 인기 폭발한 옥순본 모습 나타낸 광수 종합](https://www.topstarnews.net/news/articleView.html?idxno=15599815)\n",
            "\n",
            "최근 7일간 '솔트룩스(304100)' 관련 뉴스:\n",
            "1. 2025-02-06 [더벨VC 투자기업로폼 아미쿠스렉스 고소장 자동작성 서비스 확장](https://www.thebell.co.kr/free/content/ArticleView.asp?key=202501201423454480103346)\n",
            "2. 2025-02-06 [투자원정대 동행 솔트룩스 vs 한국무브넥스 vs 에브리봇 공략법은](https://news.mtn.co.kr/news-detail/2025020606335274735)\n",
            "3. 2025-02-05 [주식마감기사 로봇 관련주 강세 클로봇 애드바이오텍 등 급등](https://www.ggilbo.com/news/articleView.html?idxno=1072347)\n",
            "4. 2025-02-05 [AI 약소국 된 한국 유니콘 1개도 없다IT 강국 한국의 민낯](https://n.news.naver.com/mnews/article/014/0005304150?sid=101)\n",
            "5. 2025-02-05 [오늘의 테마 로봇 VS AI 소프트웨어](https://news.mtn.co.kr/news-detail/2025020517274635475)\n",
            "6. 2025-02-05 [AI 한쿡 병원이 달라졌어요 국내 의료AI 산업 성장세 주목](https://n.news.naver.com/mnews/article/138/0002190362?sid=105)\n",
            "7. 2025-02-05 [딥시크챗GPT에 대항국내 AI기업 솔트룩스 이목 집중](https://news.dealsitetv.com/articles/150527)\n",
            "8. 2025-02-05 [코스닥레인보우로보틱스  클로봇  삼천당제약 급등](http://www.choicenews.co.kr/news/articleView.html?idxno=142326)\n",
            "9. 2025-02-05 [오늘의 코스닥  2월 5일 상승주 TOP 10 1위 애드바이오텍](http://www.newsbrite.net/news/articleView.html?idxno=188019)\n",
            "10. 2025-02-05 [애드바이오텍클로봇 상한가 해성에어로보틱스삼현아이윈플러스](https://www.yeongnam.com/web/view.php?key=20250205027045912)\n",
            "\n",
            "최근 7일간 '토마토시스템(393210)' 관련 뉴스:\n",
            "1. 2025-02-06 [여의도 클라쓰 토마토시스템 삼양엔씨켐 케이엔알시스템 클라쓰 ](https://news.mtn.co.kr/news-detail/2025020606334990649)\n",
            "2. 2025-02-06 [영상 경농 온실사업 청신호 첨단 미래 농업을 그리다](http://www.newsfarm.co.kr/news/articleView.html?idxno=97417)\n",
            "3. 2025-02-05 [오늘 2월 5일 카카오로봇 관련주 오픈AI 업고 달린다  바이든 이](http://www.kwangju.co.kr/article.php?aid=1738757100779672339)\n",
            "4. 2025-02-05 [주식마감기사 로봇 관련주 강세 클로봇 애드바이오텍 등 급등](https://www.ggilbo.com/news/articleView.html?idxno=1072347)\n",
            "5. 2025-02-05 [IPO 기대주 너마저 LG CNS 10 하락](http://www.newstomato.com/ReadNews.aspx?no=1252630&inflow=N)\n",
            "6. 2025-02-05 [트럼프가 쏘아올린 관세 전쟁K뷰티 수혜](http://www.newstomato.com/ReadNews.aspx?no=1252618&inflow=N)\n",
            "7. 2025-02-05 [MS 이어 구글도 CSAP 인증토종 클라우드 위기](http://www.newstomato.com/ReadNews.aspx?no=1252610&inflow=N)\n",
            "8. 2025-02-05 [외인 이틀 연속 순매수코스피 250927로 마감 투자360](https://n.news.naver.com/mnews/article/016/0002424420?sid=101)\n",
            "9. 2025-02-05 [신세계까사 지난해 영업익 10억신세계 편입 후 첫 연간 흑자](http://www.newstomato.com/ReadNews.aspx?no=1252596&inflow=N)\n",
            "10. 2025-02-05 [제이엘케이 주가 두둥실외국인은 12만주 이상 줍줍](https://www.pinpointnews.co.kr/news/articleView.html?idxno=318426)\n",
            "\n",
            "최근 7일간 '피델릭스(032580)' 관련 뉴스:\n",
            "1. 2025-02-06 [박정식의 국내 주식시황 트럼프 관세 우려 완화에 반등 기조 속 개별](https://www.newsquest.co.kr/news/articleView.html?idxno=239108)\n",
            "2. 2025-02-06 [반도체 상장기업 브랜드평판 2월 1위 삼성전자 2위 SK하이닉스 3위 한](https://www.pinpointnews.co.kr/news/articleView.html?idxno=318561)\n",
            "3. 2025-02-05 [주식마감기사 로봇 관련주 강세 클로봇 애드바이오텍 등 급등](https://www.ggilbo.com/news/articleView.html?idxno=1072347)\n",
            "4. 2025-02-05 [박정식의 국내 주식시황 멕시코캐나다 관세전쟁 우려 감소했으나 미](https://www.newsquest.co.kr/news/articleView.html?idxno=239032)\n",
            "5. 2025-02-04 [주식마감기사 샘 올트먼 의료용 챗GPT 개발 검토 발언에 토마토시스](https://www.ggilbo.com/news/articleView.html?idxno=1072098)\n",
            "6. 2025-02-04 [특징주 피델릭스 딥시크 수혜주 부각에 9대 급등](http://www.seoulwire.com/news/articleView.html?idxno=636879)\n",
            "7. 2025-02-04 [제주반도체 주가 휘파람 여야정협의체 반도체법 논의 주목](https://www.pinpointnews.co.kr/news/articleView.html?idxno=317992)\n",
            "8. 2025-02-04 [특징주 피델릭스 中 딥시크 혁명에 수혜주 부각상한가에 이어 ](https://www.widedaily.com/news/articleView.html?idxno=258142)\n",
            "9. 2025-02-04 [특징주 피델릭스 화웨이텐센트 이어 MSAWS도 딥시크 쓴다글로](http://www.newsprime.co.kr/news/article.html?no=672962)\n",
            "10. 2025-02-04 [피델릭스 3거래일 연속 상승에 10 급등1700원선 재돌파](http://www.econonews.co.kr/news/articleView.html?idxno=373662)\n",
            "\n",
            "최근 7일간 '인스웨이브시스템즈(450520)' 관련 뉴스:\n",
            "1. 2025-02-05 [솔트룩스 주가 룰루랄라AI 루시아LUXIA 공개로 실적개선 훈풍](https://www.pinpointnews.co.kr/news/articleView.html?idxno=318320)\n",
            "2. 2025-02-04 [이달해 달달한10분 딥시크 쇼크 인스웨이브시스템즈에게는 기회 ](https://news.mtn.co.kr/news-detail/2025020413431327189)\n",
            "3. 2025-02-04 [코난테크놀로지 주가 기세등등 AI 동시통역 솔루션인 코난 챗봇 플러](https://www.pinpointnews.co.kr/news/articleView.html?idxno=318040)\n",
            "4. 2025-02-04 [리턴즈 고래 삼총사 한국가스공사 삼성에스디에스 OCI 인스웨이브](https://news.mtn.co.kr/news-detail/2025020318231916970)\n",
            "5. 2025-02-03 [주식마감기사 동해 최대 51억 배럴 추가 매장 가능성에 한국석유 상한](https://www.ggilbo.com/news/articleView.html?idxno=1071806)\n",
            "6. 2025-02-03 [이달해 달달한10분 美 사이버보안 뚫은 딥시크 MS와 AI 사이버보안](https://news.mtn.co.kr/news-detail/2025020315104892430)\n",
            "7. 2025-02-03 [마감시황 코스피 美 관세 전쟁에 2450선 후퇴반도체株 와르르](https://www.news2day.co.kr/article/20250203500216)\n",
            "8. 2025-02-03 [플리토 딥시크 등장에 25 강세韓 AI 상승 랠리 기대](https://www.kfenews.co.kr/news/articleView.html?idxno=629262)\n",
            "9. 2025-02-03 [플리토와이즈넛인스웨이브시스템즈이스트소프트 등 인공지능AI챗](https://www.yeongnam.com/web/view.php?key=20250203021215709)\n",
            "10. 2025-02-03 [인스웨이브시스템즈 주가 활짝 UI UX 개발 플랫폼 WebSquare5 시장서](https://www.pinpointnews.co.kr/news/articleView.html?idxno=317677)\n",
            "\n",
            "최근 7일간 '코난테크놀로지(402030)' 관련 뉴스:\n",
            "1. 2025-02-06 [딥시크 노리는 KAI 모델은네이버  LG  트웰브랩스 등 꼽혀](https://n.news.naver.com/mnews/article/055/0001229142?sid=101)\n",
            "2. 2025-02-06 [한림대의료원 생성형 AI 개발 착수입원부터 퇴원까지 전주기 의무기](https://medicalworldnews.co.kr/news/view.php?idx=1510965739)\n",
            "3. 2025-02-06 [한림대의료원 입퇴원까지 전주기 의무기록 작성해주는 생성형 AI 개](https://www.cstimes.com/news/articleView.html?idxno=631611)\n",
            "4. 2025-02-05 [가천대 길병원 김광기 교수 대한민국의학한림원 정회원 선출 外](http://www.newsmp.com/news/articleView.html?idxno=245135)\n",
            "5. 2025-02-05 [국내 AI 혁신 딥시크 맞설 소버린 AI 개발 본격화](https://www.gokorea.kr/news/articleView.html?idxno=818906)\n",
            "6. 2025-02-05 [쩐은 밀려도 개발 역량이 무기AI 시장 정부 지원 땐 한국도 승산](https://n.news.naver.com/mnews/article/032/0003349257?sid=105)\n",
            "7. 2025-02-05 [한림대의료원코난테크놀로지 AI 기반 플랫폼 구축 사업 계약](https://www.econovill.com/news/articleView.html?idxno=682596)\n",
            "8. 2025-02-05 [한림대의료원코난테크놀로지 생성형 AI 플랫폼 공동 개발](https://n.news.naver.com/mnews/article/296/0000086451?sid=102)\n",
            "9. 2025-02-05 [AI 약소국 된 한국 유니콘 1개도 없다IT 강국 한국의 민낯](https://n.news.naver.com/mnews/article/014/0005304150?sid=101)\n",
            "10. 2025-02-05 [코난테크놀로지 한림대 의료원과 의료 특화 초거대 LLM 선봬](https://www.ajunews.com/view/20250205174942964)\n",
            "\n",
            "최근 7일간 '온코크로스(382150)' 관련 뉴스:\n",
            "1. 2025-02-05 [AI 과학자 뛰어드니 꿈의 신약후보 물질 46일만에 찾았다](https://n.news.naver.com/mnews/article/009/0005438934?sid=105)\n",
            "2. 2025-02-04 [주식마감기사 샘 올트먼 의료용 챗GPT 개발 검토 발언에 토마토시스](https://www.ggilbo.com/news/articleView.html?idxno=1072098)\n",
            "3. 2025-02-04 [이달해 달달한10분 딥시크 쇼크 인스웨이브시스템즈에게는 기회 ](https://news.mtn.co.kr/news-detail/2025020413431327189)\n",
            "4. 2025-02-04 [연초 찬바람부는 IPO 시장LG CNS 구원투수 될까 마켓펀치](https://biz.newdaily.co.kr/site/data/html/2025/02/04/2025020400122.html)\n",
            "5. 2025-02-04 [셀바스헬스케어토마토시스템온코크로스 등 의료AI株 껑충올트](https://www.yeongnam.com/web/view.php?key=20250204025095786)\n",
            "6. 2025-02-04 [여의도 클라쓰 켄코아에어로스페이스 폴라리스AI 케이씨에스 클라](https://news.mtn.co.kr/news-detail/2025020407051571049)\n",
            "7. 2025-02-03 [주식마감기사 동해 최대 51억 배럴 추가 매장 가능성에 한국석유 상한](https://www.ggilbo.com/news/articleView.html?idxno=1071806)\n",
            "8. 2025-02-03 [이달해 달달한10분 美 사이버보안 뚫은 딥시크 MS와 AI 사이버보안](https://news.mtn.co.kr/news-detail/2025020315104892430)\n",
            "9. 2025-02-03 [인벤티지랩 큐라티스 인수딥시크 불똥 맞은 파미셀바이오맥짚](https://n.news.naver.com/mnews/article/018/0005934818?sid=105)\n",
            "10. 2025-02-03 [더벨동국생명과학 IPO탄탄한 매출도 역부족 수요예측 부진에 공모](https://www.thebell.co.kr/free/content/ArticleView.asp?key=202501311933310080106347)\n",
            "\n",
            "최근 7일간 '엠케이전자(033160)' 관련 뉴스:\n",
            "1. 2025-02-06 [박정식의 국내 주식시황 트럼프 관세 우려 완화에 반등 기조 속 개별](https://www.newsquest.co.kr/news/articleView.html?idxno=239108)\n",
            "2. 2025-02-06 [반도체 상장기업 브랜드평판 2월 1위 삼성전자 2위 SK하이닉스 3위 한](https://www.pinpointnews.co.kr/news/articleView.html?idxno=318561)\n",
            "3. 2025-02-05 [금양엠케이전자대한유화 급등 PI첨단소재천보더블유씨피포스](https://www.yeongnam.com/web/view.php?key=20250205024565880)\n",
            "4. 2025-02-05 [고영 주가 고공행진 외국인 vs 기관 치열한 힘겨루기 눈길](https://www.pinpointnews.co.kr/news/articleView.html?idxno=318357)\n",
            "5. 2025-02-05 [이 시각 시황 엔비디아 주가 반등 성공HBM 관련주 상승세](https://n.news.naver.com/mnews/article/374/0000423734?sid=101)\n",
            "6. 2025-02-05 [특징주 엠케이전자 딥시크 AI 게임체인저로 주목모멘텀 지속 상](https://www.widedaily.com/news/articleView.html?idxno=258280)\n",
            "7. 2025-02-05 [엠케이전자 전날 이어 9 급등9700원선 재돌파](http://www.econonews.co.kr/news/articleView.html?idxno=373841)\n",
            "8. 2025-02-05 [박정식의 국내 주식시황 멕시코캐나다 관세전쟁 우려 감소했으나 미](https://www.newsquest.co.kr/news/articleView.html?idxno=239032)\n",
            "9. 2025-02-05 [김형주 장정민의 지속가능경영 스토리무안 공항 항공기 참사로 본](http://www.impacton.net/news/articleView.html?idxno=13909)\n",
            "10. 2025-02-04 [시간외 특징주 엠케이전자 상한가 삼성전자 美 대규모 AI 사업 스타](https://www.widedaily.com/news/articleView.html?idxno=258256)\n",
            "\n",
            "최근 7일간 '클로봇(466100)' 관련 뉴스:\n",
            "1. 2025-02-06 [부자들의 숨은 전략 우진엔텍 vs 크라우드웍스 vs 에스와이스틸텍내](https://news.mtn.co.kr/news-detail/2025020606335422172)\n",
            "2. 2025-02-06 [단독현대차그룹 스타트업 투자 실탄 두 배 늘린다미래 선행기술 강](https://n.news.naver.com/mnews/article/277/0005542162?sid=103)\n",
            "3. 2025-02-05 [상한가 종목 클로봇 이어 애드바이오텍 상한가 마감](http://www.econonews.co.kr/news/articleView.html?idxno=373943)\n",
            "4. 2025-02-05 [오늘 2월 5일 카카오로봇 관련주 오픈AI 업고 달린다  바이든 이](http://www.kwangju.co.kr/article.php?aid=1738757100779672339)\n",
            "5. 2025-02-05 [주식마감기사 로봇 관련주 강세 클로봇 애드바이오텍 등 급등](https://www.ggilbo.com/news/articleView.html?idxno=1072347)\n",
            "6. 2025-02-05 [마감 LG씨엔에스 상장 첫날 시총 10 증발로봇주 또 오름세](https://www.asiatime.co.kr/article/20250205500422)\n",
            "7. 2025-02-05 [삼성전자샘올트먼 관심에 로봇株 강세레인보우로보 또 신고가핫](https://n.news.naver.com/mnews/article/421/0008057526?sid=101)\n",
            "8. 2025-02-05 [5일 특징주 LG CNS 코스피 입성 첫날 10 급락공모주 한파 지속](https://www.newsworks.co.kr/news/articleView.html?idxno=783281)\n",
            "9. 2025-02-05 [급등주 클로봇 2995 상한가 마감](https://www.jeonmae.co.kr/news/articleView.html?idxno=1116597)\n",
            "10. 2025-02-05 [코스피 외인기관 순매수에 2500선 회복](https://n.news.naver.com/mnews/article/277/0005542035?sid=101)\n",
            "\n",
            "최근 7일간 '디와이디(219550)' 관련 뉴스:\n",
            "1. 2025-02-05 [기관외국인 LG생건 투자자세 변화15000원 폭등](http://www.thebk.co.kr/news/articleView.html?idxno=208043)\n",
            "2. 2025-02-05 [디와이디 바이오 전문가로 경영진 전면 교체바이오헬스사업 본격화](https://n.news.naver.com/mnews/article/009/0005438847?sid=101)\n",
            "3. 2025-02-05 [디와이디 바이오 전문가로 경영진 전면 교체바이오헬스사업 본격](https://mdtoday.co.kr/news/view/1065578275545566)\n",
            "4. 2025-02-05 [건설 접고 바이오헬스 본격화디와이디 경영진 바이오 전문가로 전](https://www.financialpost.co.kr/news/articleView.html?idxno=219933)\n",
            "5. 2025-02-05 [디와이디 바이오 전문가로 경영진 교체바이오헬스 사업 본격화](https://n.news.naver.com/mnews/article/003/0013047928?sid=101)\n",
            "6. 2025-02-05 [디와이디 경영진 교체 및 자금조달 완료 바이오뷰티 사업 강화](https://n.news.naver.com/mnews/article/008/0005148905?sid=101)\n",
            "7. 2025-02-05 [디와이디 경영진 전격 교체 바이오헬스 사업 착수  화장품 매출은 ](https://www.the-stock.kr/news/articleView.html?idxno=30080)\n",
            "8. 2025-02-05 [디와이디 바이오 전문가로 경영진 전면 교체](https://www.newspim.com/news/view/20250205000328)\n",
            "9. 2025-02-05 [인사 디와이디 바이오 전문가로 경영진 전면 교체](https://www.meconomynews.com/news/articleView.html?idxno=107873)\n",
            "10. 2025-02-05 [디와이디 바이오 전문가로 경영진 전면 교체바이오헬스사업 본격화](https://n.news.naver.com/mnews/article/018/0005936682?sid=101)\n",
            "\n",
            "최근 7일간 '라온테크(232680)' 관련 뉴스:\n",
            "1. 2025-02-06 [반도체 상장기업 브랜드평판 2월 1위 삼성전자 2위 SK하이닉스 3위 한](https://www.pinpointnews.co.kr/news/articleView.html?idxno=318561)\n",
            "2. 2025-02-05 [창간 축사 라온시큐어 국내 IT산업 발전 방향 제시하는 나침판 역할](https://www.epnc.co.kr/news/articleView.html?idxno=312135)\n",
            "3. 2025-02-05 [에스피시스템스 주가 폭등랠리엔비디아와 인공지능 분야 협력 실적개](https://www.pinpointnews.co.kr/news/articleView.html?idxno=318433)\n",
            "4. 2025-02-05 [싸이맥스 주가 신바람났네 영업이익 등 실적호전 지속 가능성](https://www.pinpointnews.co.kr/news/articleView.html?idxno=318362)\n",
            "5. 2025-02-05 [클로봇 주가 파죽지세 로봇 자율주행 분야 인공지능 중요성 부각](https://www.pinpointnews.co.kr/news/articleView.html?idxno=318343)\n",
            "6. 2025-02-04 [주식마감기사 샘 올트먼 의료용 챗GPT 개발 검토 발언에 토마토시스](https://www.ggilbo.com/news/articleView.html?idxno=1072098)\n",
            "7. 2025-02-04 [펨트론 27 급등오로스테크놀로지티에프이저스템기가비스 등 반](https://www.yeongnam.com/web/view.php?key=20250204025425792)\n",
            "8. 2025-02-04 [비큐AI 주가 고공행진 AI 데이터 통합 플랫폼 뛰어난 기술력 부각](https://www.pinpointnews.co.kr/news/articleView.html?idxno=317980)\n",
            "9. 2025-02-04 [부자들의 숨은 전략 SBS vs 에스트래픽 vs 폴라리스AI내일의 부자 종](https://news.mtn.co.kr/news-detail/2025020407051990219)\n",
            "10. 2025-02-04 [리턴즈 고래 삼총사 한국가스공사 삼성에스디에스 OCI 인스웨이브](https://news.mtn.co.kr/news-detail/2025020318231916970)\n",
            "\n",
            "최근 7일간 '아남전자(008700)' 관련 뉴스:\n",
            "1. 2025-02-06 [박정식의 국내 주식시황 트럼프 관세 우려 완화에 반등 기조 속 개별](https://www.newsquest.co.kr/news/articleView.html?idxno=239108)\n",
            "2. 2025-02-05 [주식마감기사 로봇 관련주 강세 클로봇 애드바이오텍 등 급등](https://www.ggilbo.com/news/articleView.html?idxno=1072347)\n",
            "3. 2025-02-05 [오늘의 코스피  2월 5일 상승주 TOP 10 1위 인스코비](http://www.newsbrite.net/news/articleView.html?idxno=188018)\n",
            "4. 2025-02-05 [애드바이오텍클로봇 상한가 해성에어로보틱스삼현아이윈플러스](https://www.yeongnam.com/web/view.php?key=20250205027045912)\n",
            "5. 2025-02-05 [삼성전자 AI 동맹 주목아남전자 주가 12대 강세](https://www.gukjenews.com/news/articleView.html?idxno=3195158)\n",
            "6. 2025-02-05 [아남전자 주가 전일 급등 이어 껑충장중 1800원 돌파하기도](https://www.cbci.co.kr/news/articleView.html?idxno=484088)\n",
            "7. 2025-02-05 [특징주 아남전자 급등 삼성 720조 스타게이트 합류 촉각 대규모 AI ](https://www.widedaily.com/news/articleView.html?idxno=258331)\n",
            "8. 2025-02-05 [아남전자 전날 이어 15 급등1700원선 재돌파](http://www.econonews.co.kr/news/articleView.html?idxno=373904)\n",
            "9. 2025-02-04 [주식마감기사 샘 올트먼 의료용 챗GPT 개발 검토 발언에 토마토시스](https://www.ggilbo.com/news/articleView.html?idxno=1072098)\n",
            "10. 2025-02-04 [오늘의 코스피  2월 4일 상승주 TOP 10 1위 아남전자](http://www.newsbrite.net/news/articleView.html?idxno=187976)\n",
            "\n",
            "최근 7일간 '유니온(000910)' 관련 뉴스:\n",
            "1. 2025-02-06 [토큰포스트 브리핑 SC 비트코인 트럼프 퇴임 전 50만 달러까지 상승](https://www.tokenpost.kr/article-218864)\n",
            "2. 2025-02-06 [저축은행 CEO 브랜드평판 2월 1위 SBI저축은행 김문석 2위 OK저축은행 정](https://www.pinpointnews.co.kr/news/articleView.html?idxno=318566)\n",
            "3. 2025-02-06 [현장 공공주택 희망고문만 4년째달라진 게 없어 슬퍼](https://n.news.naver.com/mnews/article/028/0002729684?sid=102)\n",
            "4. 2025-02-05 [NFT 인프라 기업 리저버 1400만 달러 투자 유치네트워크 확장 본격화](https://www.tokenpost.kr/article-218738)\n",
            "5. 2025-02-05 [주식마감기사 로봇 관련주 강세 클로봇 애드바이오텍 등 급등](https://www.ggilbo.com/news/articleView.html?idxno=1072347)\n",
            "6. 2025-02-05 [춥다고 생업 놓을 수 있나요 한파에 이동노동자 고충 가중 뉴스](https://n.news.naver.com/mnews/article/022/0004008309?sid=102)\n",
            "7. 2025-02-05 [고압가스판매 시 탱크로리 충전허가 관심](https://www.gasnews.com/news/articleView.html?idxno=118855)\n",
            "8. 2025-02-05 [카드워치 카드업계 이벤트 진행신상품 출시즉시 발급 서비스 개](http://www.newswatch.kr/news/articleView.html?idxno=70519)\n",
            "9. 2025-02-05 [인도 여권 파워의 진실](http://www.ddanzi.com/834471843)\n",
            "10. 2025-02-05 [골프와 휴식 그리고 바다를 원한다면 다라 사코로 가라 캄보디아](https://www.geconomy.co.kr/news/article.html?no=294181)\n",
            "\n",
            "최근 7일간 '하이젠알앤엠(160190)' 관련 뉴스:\n",
            "1. 2025-02-06 [여의도 클라쓰 토마토시스템 삼양엔씨켐 케이엔알시스템 클라쓰 ](https://news.mtn.co.kr/news-detail/2025020606334990649)\n",
            "2. 2025-02-05 [레인보우로보틱스 나비효과로봇株 수익률 상위 싹쓸이](https://n.news.naver.com/mnews/article/018/0005937111?sid=101)\n",
            "3. 2025-02-05 [롤러코스터 장세에도 연속 신고가로봇주 연일 강세](https://n.news.naver.com/mnews/article/008/0005149130?sid=101)\n",
            "4. 2025-02-05 [관세 불안에도 굳건한 로봇주레인보우로보틱스 4거래일 연속 신고가](https://n.news.naver.com/mnews/article/008/0005148917?sid=101)\n",
            "5. 2025-02-05 [트럼프도 찍었다  올해 주도주로 부상한 로봇株 마켓펀치](https://biz.newdaily.co.kr/site/data/html/2025/02/05/2025020500043.html)\n",
            "6. 2025-02-04 [코스닥알테오젠  레인보우로보틱스  루닛  카페24 껑충](http://www.choicenews.co.kr/news/articleView.html?idxno=142237)\n",
            "7. 2025-02-04 [코스피 美 관세 유예에 2500선 안착 시도삼성전자 4대 급등](https://www.news2day.co.kr/article/20250204500096)\n",
            "8. 2025-02-04 [김태성의 시장 훑기 관세 우려 여전뉴욕증시 마감 상황은](https://n.news.naver.com/mnews/article/374/0000423489?sid=101)\n",
            "9. 2025-02-04 [여의도 클라쓰 켄코아에어로스페이스 폴라리스AI 케이씨에스 클라](https://news.mtn.co.kr/news-detail/2025020407051571049)\n",
            "10. 2025-02-03 [박종현의 돌파매매 오늘의 돌파매매 추천주는 제일일렉트릭](https://news.mtn.co.kr/news-detail/2025020314582964941)\n",
            "\n",
            "최근 7일간 '올릭스(226950)' 관련 뉴스:\n",
            "1. 2025-02-05 [올리패스 주가 활짝 자산 재평가로 재무 개선 효과 주목](https://www.pinpointnews.co.kr/news/articleView.html?idxno=318479)\n",
            "2. 2025-02-05 [애드바이오텍클로봇 상한가 해성에어로보틱스삼현아이윈플러스](https://www.yeongnam.com/web/view.php?key=20250205027045912)\n",
            "3. 2025-02-05 [인스코비 28 급등올릭스안트로젠강스템바이오텍 등 탈모치료 관](https://www.yeongnam.com/web/view.php?key=20250205027285903)\n",
            "4. 2025-02-05 [올릭스 주가 승승장구 하는데기관 대량매물은 찬바람](https://www.pinpointnews.co.kr/news/articleView.html?idxno=318420)\n",
            "5. 2025-02-04 [알테오젠 주가에 탑승할까 외국인 20만주 이상 쓸어 담았다](https://www.pinpointnews.co.kr/news/articleView.html?idxno=318211)\n",
            "6. 2025-02-03 [올릭스 비만탈모 치료제 임상 데이터 확보빅파마와 거래 협의중](https://n.news.naver.com/mnews/article/008/0005147965?sid=101)\n",
            "7. 2025-02-02 [디앤디파마텍 주가 신바람올해 안에 3개 주요 마일스톤 달성 솔솔](https://www.pinpointnews.co.kr/news/articleView.html?idxno=317462)\n",
            "8. 2025-01-31 [엠케이전자플리토라온테크 등 5종목 상한가 진양화학코난테크놀](https://www.yeongnam.com/web/view.php?key=20250131022305614)\n",
            "9. 2025-01-31 [JW신약 주가 들썩탈모 치료제 두타모아 정 제형 크기 축소 부각](https://www.pinpointnews.co.kr/news/articleView.html?idxno=317265)\n",
            "10. 2025-01-31 [삼천당제약 주가 활짝당뇨 및 비만 치료제 시장에 큰 변화 예상](https://www.pinpointnews.co.kr/news/articleView.html?idxno=317257)\n",
            "\n",
            "최근 7일간 '듀켐바이오(176750)' 관련 뉴스:\n",
            "1. 2025-02-05 [유가증권시장 제약지수 반등 성공](http://www.newsmp.com/news/articleView.html?idxno=245142)\n",
            "2. 2025-02-05 [퓨쳐켐 vs 셀비온 전립선암 RPT 맞수상업화 각축전](https://www.sisajournal-e.com/news/articleView.html?idxno=409269)\n",
            "3. 2025-02-05 [오늘의 코스닥  2월 5일 상승주 TOP 10 1위 애드바이오텍](http://www.newsbrite.net/news/articleView.html?idxno=188019)\n",
            "4. 2025-02-05 [애드바이오텍클로봇 상한가 해성에어로보틱스삼현아이윈플러스](https://www.yeongnam.com/web/view.php?key=20250205027045912)\n",
            "5. 2025-02-05 [더벨Red  BlueLG전자 고객사 확보 애드바이오텍 흑자전환 기대감](https://www.thebell.co.kr/free/content/ArticleView.asp?key=202502051022535520101135)\n",
            "6. 2025-02-05 [방사성의약품은 상승 중 대형 투자라이선스 거래 쏟아져](https://www.yakup.com/news/index.html?mode=view&cat=12&nid=305724)\n",
            "7. 2025-02-04 [매출 1조 플루빅토 넘은 셀비온 적자폭 확대도 못 꺾은 RPT 기대감](https://n.news.naver.com/mnews/article/008/0005148555?sid=101)\n",
            "8. 2025-02-04 [10년 계획 도루묵 안트로젠 주가 낙하바이오맥짚기](https://n.news.naver.com/mnews/article/018/0005936039?sid=101)\n",
            "9. 2025-02-04 [양 제약지수 동반 하락 듀켐바이오 홀로 선전](http://www.newsmp.com/news/articleView.html?idxno=245111)\n",
            "10. 2025-02-03 [암세포 잡는 방사선 미사일 잡아라SK바이오팜동아ST 선점 경쟁](https://n.news.naver.com/mnews/article/029/0002932847?sid=105)\n",
            "\n",
            "최근 7일간 '한국ANKOR유전(152550)' 관련 뉴스:\n",
            "1. 2025-02-05 [주식마감기사 로봇 관련주 강세 클로봇 애드바이오텍 등 급등](https://www.ggilbo.com/news/articleView.html?idxno=1072347)\n",
            "2. 2025-02-05 [대왕고래 이어 마귀상어 동해 52억배럴 유전 추가 확인](http://www.greenpostkorea.co.kr/news/articleView.html?idxno=223818)\n",
            "3. 2025-02-04 [주식마감기사 샘 올트먼 의료용 챗GPT 개발 검토 발언에 토마토시스](https://www.ggilbo.com/news/articleView.html?idxno=1072098)\n",
            "4. 2025-02-04 [이번에는 마귀상어대왕고래 테마주 날갯짓](https://n.news.naver.com/mnews/article/003/0013045243?sid=101)\n",
            "5. 2025-02-04 [추가 발견 동해 유망지구 일부 대왕고래보다 전망 밝아](https://n.news.naver.com/mnews/article/005/0001755103?sid=101)\n",
            "6. 2025-02-03 [주식마감기사 동해 최대 51억 배럴 추가 매장 가능성에 한국석유 상한](https://www.ggilbo.com/news/articleView.html?idxno=1071806)\n",
            "7. 2025-02-03 [동해에 추가 유전 가능성 다시 뛰는 대왕고래 테마주](https://n.news.naver.com/mnews/article/015/0005088875?sid=101)\n",
            "8. 2025-02-03 [울릉분지에 50억 배럴마귀상어 기대감에 가스석유 관련주 쑥](https://n.news.naver.com/mnews/article/374/0000423390?sid=101)\n",
            "9. 2025-02-03 [동해가스전 마귀상어 가능성에석유가스株 쑥](https://n.news.naver.com/mnews/article/018/0005935363?sid=101)\n",
            "10. 2025-02-03 [3일 특징주 항공株 환율피해 직격탄동반 하락](https://www.newsworks.co.kr/news/articleView.html?idxno=782927)\n",
            "\n",
            "최근 7일간 '풀무원(017810)' 관련 뉴스:\n",
            "1. 2025-02-06 [풀무원 얄피 신제품 얄피꽉찬 고기왕만두 출시](https://www.seoultimes.news/news/article.html?no=2000066059)\n",
            "2. 2025-02-06 [풀무원재단 교육 플랫폼 풀무원재단 클래스룸 오픈](https://n.news.naver.com/mnews/article/030/0003281407?sid=101)\n",
            "3. 2025-02-06 [풀무원재단 교육 플랫폼 풀무원재단클래스룸 오픈](https://www.newsinside.kr/news/articleView.html?idxno=3338524)\n",
            "4. 2025-02-06 [풀무원 신제품 얄피꽉찬 고기왕만두 출시](https://www.newsinside.kr/news/articleView.html?idxno=3338523)\n",
            "5. 2025-02-06 [풀무원 얄피꽉찬 고기왕만두 출시](https://www.newstof.com/news/articleView.html?idxno=26393)\n",
            "6. 2025-02-06 [풀무원재단 온라인 교육 플랫폼 오픈](http://www.kdfnews.com/news/articleView.html?idxno=149382)\n",
            "7. 2025-02-06 [풀무원재단 교육 플랫폼 풀무원재단 클래스룸 오픈](https://www.businessplus.kr/news/articleView.html?idxno=80359)\n",
            "8. 2025-02-06 [풀무원 얄피 신제품 얄피꽉찬 고기왕만두 출시](https://n.news.naver.com/mnews/article/119/0002920330?sid=101)\n",
            "9. 2025-02-06 [풀무원재단 교육 플랫폼 풀무원재단 클래스룸 오픈](https://www.newspim.com/news/view/20250206000075)\n",
            "10. 2025-02-06 [풀무원재단 교육 플랫폼 오픈온라인 교육 사업 확대](http://www.m-i.kr/news/articleView.html?idxno=1204901)\n",
            "\n",
            "최근 7일간 '파워풀엑스(266870)' 관련 뉴스:\n",
            "1. 2025-02-04 [LG생건 매출 답보기관투자자 매도로 067](http://www.thebk.co.kr/news/articleView.html?idxno=208038)\n",
            "2. 2025-02-04 [PGA 직관 티켓 잡아라  사흘간 펼쳐질 도심 골프축제](https://n.news.naver.com/mnews/article/009/0005438134?sid=101)\n",
            "3. 2025-02-03 [트럼프대통령 뷰티 관세부과 아직화장품 397 폭락](http://www.thebk.co.kr/news/articleView.html?idxno=208033)\n",
            "4. 2025-02-03 [골프 전시회 온라인 사전 등록하고 KPGA 프로암 초청권 받자](https://m.sports.naver.com/golf/article/009/0005437691)\n",
            "5. 2025-01-31 [제닉 실적 개선에도 주가 2250원 하락](http://www.thebk.co.kr/news/articleView.html?idxno=208019)\n",
            "\n",
            "최근 7일간 '이앤에치(341310)' 관련 뉴스:\n",
            "최근 7일간 관련 뉴스가 없습니다.\n",
            "\n",
            "최근 7일간 '해성에어로보틱스(059270)' 관련 뉴스:\n",
            "1. 2025-02-05 [주식마감기사 로봇 관련주 강세 클로봇 애드바이오텍 등 급등](https://www.ggilbo.com/news/articleView.html?idxno=1072347)\n",
            "2. 2025-02-05 [마감 LG씨엔에스 상장 첫날 시총 10 증발로봇주 또 오름세](https://www.asiatime.co.kr/article/20250205500422)\n",
            "3. 2025-02-05 [레인보우로보틱스 나비효과로봇株 수익률 상위 싹쓸이](https://n.news.naver.com/mnews/article/018/0005937111?sid=101)\n",
            "4. 2025-02-05 [외인 이틀 연속 순매수코스피 250927로 마감 투자360](https://n.news.naver.com/mnews/article/016/0002424420?sid=101)\n",
            "5. 2025-02-05 [오늘의 코스닥  2월 5일 상승주 TOP 10 1위 애드바이오텍](http://www.newsbrite.net/news/articleView.html?idxno=188019)\n",
            "6. 2025-02-05 [애드바이오텍클로봇 상한가 해성에어로보틱스삼현아이윈플러스](https://www.yeongnam.com/web/view.php?key=20250205027045912)\n",
            "7. 2025-02-05 [마감시황 LG CNS삼천당제약로봇 관련주](https://www.foodneconomy.com/news/articleView.html?idxno=407249)\n",
            "8. 2025-02-05 [해성에어로보틱스 전날 이어 15 급등7000원선 재돌파](http://www.econonews.co.kr/news/articleView.html?idxno=373896)\n",
            "9. 2025-02-05 [해성에어로보틱스 주가 17 도약올해 첫 7000원 넘어](https://www.cbci.co.kr/news/articleView.html?idxno=484069)\n",
            "10. 2025-02-05 [싸이맥스 주가 신바람났네 영업이익 등 실적호전 지속 가능성](https://www.pinpointnews.co.kr/news/articleView.html?idxno=318362)\n",
            "\n",
            "최근 7일간 '애드바이오텍(179530)' 관련 뉴스:\n",
            "1. 2025-02-06 [기업이슈 샘 올트먼 한국 기업들과 AI 협업 논의로봇주](https://n.news.naver.com/mnews/article/374/0000423951?sid=101)\n",
            "2. 2025-02-05 [유가증권시장 제약지수 반등 성공](http://www.newsmp.com/news/articleView.html?idxno=245142)\n",
            "3. 2025-02-05 [상한가 종목 클로봇 이어 애드바이오텍 상한가 마감](http://www.econonews.co.kr/news/articleView.html?idxno=373943)\n",
            "4. 2025-02-05 [주식마감기사 로봇 관련주 강세 클로봇 애드바이오텍 등 급등](https://www.ggilbo.com/news/articleView.html?idxno=1072347)\n",
            "5. 2025-02-05 [5일 특징주 LG CNS 코스피 입성 첫날 10 급락공모주 한파 지속](https://www.newsworks.co.kr/news/articleView.html?idxno=783281)\n",
            "6. 2025-02-05 [코스피 외인기관 순매수에 2500선 회복](https://n.news.naver.com/mnews/article/277/0005542035?sid=101)\n",
            "7. 2025-02-05 [AI 수혜주인터넷 방송 플랫폼 SOOP 장중 상한가 훨훨](http://www.g-enews.com/ko-kr/news/article/news_all/20250205161458229c5fa75ef86_1/article.html)\n",
            "8. 2025-02-05 [급등락주 짚어보기 애드바이오텍 대형 가전업체 미생물제 납품 기대](https://www.etoday.co.kr/news/view/2442622)\n",
            "9. 2025-02-05 [오늘의 코스닥  2월 5일 상승주 TOP 10 1위 애드바이오텍](http://www.newsbrite.net/news/articleView.html?idxno=188019)\n",
            "10. 2025-02-05 [애드바이오텍클로봇 상한가 해성에어로보틱스삼현아이윈플러스](https://www.yeongnam.com/web/view.php?key=20250205027045912)\n",
            "\n",
            "최근 7일간 '에스피시스템스(317830)' 관련 뉴스:\n",
            "1. 2025-02-05 [오늘 2월 5일 카카오로봇 관련주 오픈AI 업고 달린다  바이든 이](http://www.kwangju.co.kr/article.php?aid=1738757100779672339)\n",
            "2. 2025-02-05 [주식마감기사 로봇 관련주 강세 클로봇 애드바이오텍 등 급등](https://www.ggilbo.com/news/articleView.html?idxno=1072347)\n",
            "3. 2025-02-05 [AI와 찰떡궁합대박이네 외국인 1400억 쓸어담은 종목](https://n.news.naver.com/mnews/article/015/0005089963?sid=101)\n",
            "4. 2025-02-05 [레인보우로보틱스 나비효과로봇株 수익률 상위 싹쓸이](https://n.news.naver.com/mnews/article/018/0005937111?sid=101)\n",
            "5. 2025-02-05 [코스닥레인보우로보틱스  클로봇  삼천당제약 급등](http://www.choicenews.co.kr/news/articleView.html?idxno=142326)\n",
            "6. 2025-02-05 [외인 이틀 연속 순매수코스피 250927로 마감 투자360](https://n.news.naver.com/mnews/article/016/0002424420?sid=101)\n",
            "7. 2025-02-05 [애드바이오텍클로봇 상한가 해성에어로보틱스삼현아이윈플러스](https://www.yeongnam.com/web/view.php?key=20250205027045912)\n",
            "8. 2025-02-05 [마감시황 LG CNS삼천당제약로봇 관련주](https://www.foodneconomy.com/news/articleView.html?idxno=407249)\n",
            "9. 2025-02-05 [특징주 에스피시스템스 급등 레인보우로보틱스 로봇개 삼성 사업장](https://www.widedaily.com/news/articleView.html?idxno=258350)\n",
            "10. 2025-02-05 [에스피시스템스 주가 폭등랠리엔비디아와 인공지능 분야 협력 실적개](https://www.pinpointnews.co.kr/news/articleView.html?idxno=318433)\n",
            "\n",
            "최근 7일간 '딥노이드(315640)' 관련 뉴스:\n",
            "1. 2025-02-06 [엔터프라이즈핫이슈 딥시크 우군 확산 속 오픈AI 거센 반격AI 전](https://www.digitaltoday.co.kr/news/articleView.html?idxno=552132)\n",
            "2. 2025-02-05 [딥노이드 딥시크 R1 활용 인공지능 모델 업그레이드](https://www.econovill.com/news/articleView.html?idxno=682598)\n",
            "3. 2025-02-05 [딥노이드 딥시크 R1 활용 생성형 AI 모델 딥젠 업그레이드](https://n.news.naver.com/mnews/article/011/0004447178?sid=103)\n",
            "4. 2025-02-05 [딥노이드 자체 생성형 의료 AI 플랫폼에 딥시크 추가](http://digitalchosun.dizzo.com/site/data/html_dir/2025/02/05/2025020580217.html)\n",
            "5. 2025-02-05 [AI 한쿡 병원이 달라졌어요 국내 의료AI 산업 성장세 주목](https://n.news.naver.com/mnews/article/138/0002190362?sid=105)\n",
            "6. 2025-02-05 [딥노이드 딥시크 R1 활용 자체 생성형 AI 모델 DEEPGEN 업그레이드 ](http://www.thefirstmedia.net/news/articleView.html?idxno=163553)\n",
            "7. 2025-02-05 [딥노이드 딥시크 R1으로 자체 생성형AI 모델 업그레이드](https://n.news.naver.com/mnews/article/092/0002362034?sid=105)\n",
            "8. 2025-02-05 [딥노이드 딥시크 추론 모델 적용 딥젠 업그레이드](http://www.bosa.co.kr/news/articleView.html?idxno=2241437)\n",
            "9. 2025-02-05 [올트먼 한 마디에 주가 들썩생성형AI 힘주는 디지털헬스 기업들](https://n.news.naver.com/mnews/article/029/0002933410?sid=105)\n",
            "10. 2025-02-05 [딥노이드 딥시크 활용해 의료 최적화 AI 솔루션 개선](https://n.news.naver.com/mnews/article/277/0005542044?sid=101)\n",
            "\n",
            "최근 7일간 '샌즈랩(411080)' 관련 뉴스:\n",
            "1. 2025-02-06 [박정식의 국내 주식시황 트럼프 관세 우려 완화에 반등 기조 속 개별](https://www.newsquest.co.kr/news/articleView.html?idxno=239108)\n",
            "2. 2025-02-05 [시큐리티 포커스 이스트시큐 LLM 보안 설문 결과조시큐리티 악성](https://www.newsworks.co.kr/news/articleView.html?idxno=783289)\n",
            "3. 2025-02-04 [샌즈랩 AI 기반 악성코드 정보 예측 기술 美 특허 등록](http://www.itdaily.kr/news/articleView.html?idxno=230743)\n",
            "4. 2025-02-04 [샌즈랩 AI가 예측해 미래 위협까지 미리 대응하는 기술 美 특허 등록](https://www.aitimes.kr/news/articleView.html?idxno=33752)\n",
            "5. 2025-02-04 [bnTV 싼맛 딥시크 등장 AI 주도주 대전환](http://www.boannews.com/media/view.asp?idx=135831&kind=)\n",
            "6. 2025-02-04 [샌즈랩 미래 위협까지 탐지하는 기술로 美 특허](https://n.news.naver.com/mnews/article/003/0013046401?sid=105)\n",
            "7. 2025-02-04 [샌즈랩 AI 보안기술 미국 특허 등록악성코드 정보 예측](https://www.news2day.co.kr/article/20250204500204)\n",
            "8. 2025-02-04 [이달해 달달한10분 딥시크 쇼크 인스웨이브시스템즈에게는 기회 ](https://news.mtn.co.kr/news-detail/2025020413431327189)\n",
            "9. 2025-02-04 [샌즈랩 AI 기반 악성코드 정보 예측 기술 美 특허 등록](http://www.it-b.co.kr/news/articleView.html?idxno=80092)\n",
            "10. 2025-02-04 [샌즈랩 AI로 미래 악성코드 예측 기술 미국 특허 등록](https://n.news.naver.com/mnews/article/030/0003280740?sid=105)\n",
            "\n",
            "최근 7일간 '아이윈플러스(123010)' 관련 뉴스:\n",
            "1. 2025-02-05 [주식마감기사 로봇 관련주 강세 클로봇 애드바이오텍 등 급등](https://www.ggilbo.com/news/articleView.html?idxno=1072347)\n",
            "2. 2025-02-05 [오늘의 코스닥  2월 5일 상승주 TOP 10 1위 애드바이오텍](http://www.newsbrite.net/news/articleView.html?idxno=188019)\n",
            "3. 2025-02-05 [애드바이오텍클로봇 상한가 해성에어로보틱스삼현아이윈플러스](https://www.yeongnam.com/web/view.php?key=20250205027045912)\n",
            "4. 2025-02-05 [아이윈플러스 주가 20대 급등 상한가 가나](https://www.ggilbo.com/news/articleView.html?idxno=1072165)\n",
            "5. 2025-02-05 [특징주아이윈플러스 삼성 갤럭시S25 차세대 양자암호 기술 최초 탑재](https://n.news.naver.com/mnews/article/277/0005541672?sid=101)\n",
            "6. 2025-02-05 [출근길 포인트 오픈AI 올트먼소프트뱅크 손정의 한국서 광폭행보](https://www.pointdaily.co.kr/news/articleView.html?idxno=232728)\n",
            "7. 2025-02-05 [속보 뉴욕증시 중국 관련주 날벼락 트럼프 관세폭탄 끝내 미중 전](http://www.g-enews.com/ko-kr/news/article/news_all/202502031717042254a01bf698f_1/article.html)\n",
            "8. 2025-02-05 [관세폭탄 이어 양자컴퓨팅 미중 전면전 뉴욕증시 리게티 아이온큐](http://www.g-enews.com/ko-kr/news/article/news_all/2025020413124590054a01bf698f_1/article.html)\n",
            "9. 2025-02-04 [마감 트럼프 수혜 기대 로봇주 강세 지속양자컴퓨터주 동반 상승](https://www.asiatime.co.kr/article/20250204500478)\n",
            "10. 2025-02-04 [빌게이츠 5년 이내 상용화 발언에양자컴株 활활](https://n.news.naver.com/mnews/article/243/0000072202?sid=101)\n",
            "\n",
            "최근 7일간 '오브젠(417860)' 관련 뉴스:\n",
            "1. 2025-02-05 [애드바이오텍클로봇 상한가 해성에어로보틱스삼현아이윈플러스](https://www.yeongnam.com/web/view.php?key=20250205027045912)\n",
            "2. 2025-02-05 [클로봇솔트룩스고영씨메스오브젠피앤에스미캐닉스 급등 지](https://www.yeongnam.com/web/view.php?key=20250205025125868)\n",
            "3. 2025-02-05 [클로봇 주가 파죽지세 로봇 자율주행 분야 인공지능 중요성 부각](https://www.pinpointnews.co.kr/news/articleView.html?idxno=318343)\n",
            "4. 2025-02-04 [비큐AI 주가 고공행진 AI 데이터 통합 플랫폼 뛰어난 기술력 부각](https://www.pinpointnews.co.kr/news/articleView.html?idxno=317980)\n",
            "5. 2025-02-03 [바이브컴퍼니 주가 더 내달리나AI 판독 시스템 구축 사업이 성능평가](https://www.pinpointnews.co.kr/news/articleView.html?idxno=317753)\n",
            "6. 2025-02-03 [딥시크 수혜주오브젠 CRM에 딥시크 적용할 듯줌인e종목](https://n.news.naver.com/mnews/article/421/0008050679?sid=101)\n",
            "7. 2025-02-03 [밸류파인더 오브젠 딥시크 적용 검토올해 실적 턴어라운드 가시화](https://www.etoday.co.kr/news/view/2441653)\n",
            "8. 2025-02-03 [오브젠 CRM 솔루션에 딥시크 적용 검토 기대밸류파인더](https://n.news.naver.com/mnews/article/018/0005934674?sid=101)\n",
            "9. 2025-02-02 [코난테크놀로지 주가 고공행진중국 AI 스타트업 딥시크 고성능 AI 모](https://www.pinpointnews.co.kr/news/articleView.html?idxno=317459)\n",
            "10. 2025-01-31 [엠케이전자플리토라온테크 등 5종목 상한가 진양화학코난테크놀](https://www.yeongnam.com/web/view.php?key=20250131022305614)\n",
            "\n",
            "최근 7일간 '보로노이(310210)' 관련 뉴스:\n",
            "1. 2025-02-05 [유가증권시장 제약지수 반등 성공](http://www.newsmp.com/news/articleView.html?idxno=245142)\n",
            "2. 2025-02-05 [코스닥레인보우로보틱스  클로봇  삼천당제약 급등](http://www.choicenews.co.kr/news/articleView.html?idxno=142326)\n",
            "3. 2025-02-05 [애드바이오텍 주가 거침없는 하이킥음식물처리기 미생물제 대형 고객](https://www.pinpointnews.co.kr/news/articleView.html?idxno=318436)\n",
            "4. 2025-02-05 [여의도 클라쓰 딥노이드 씨어스테크놀로지 대동기어 클라쓰 올릴](https://news.mtn.co.kr/news-detail/2025020506323037202)\n",
            "5. 2025-02-04 [코스닥시장 제약지수 반등 보로노이ㆍ올리패스 두 자릿수 ](http://www.newsmp.com/news/articleView.html?idxno=245123)\n",
            "6. 2025-02-04 [코스피 사흘만의 반등삼전 3 강세](https://news.dealsitetv.com/articles/150495)\n",
            "7. 2025-02-04 [오늘의 주목주  무탄소 추진체계 개발 한화오션 6대 상승 코스닥 ](https://www.businesspost.co.kr/BP?command=article_view&num=382147)\n",
            "8. 2025-02-04 [코스닥알테오젠  레인보우로보틱스  루닛  카페24 껑충](http://www.choicenews.co.kr/news/articleView.html?idxno=142237)\n",
            "9. 2025-02-04 [에스에이티이엔지바이오로그디바이스파인텍 등 5종목 상한가 아남](https://www.yeongnam.com/web/view.php?key=20250204026155817)\n",
            "10. 2025-02-04 [여의도 클라쓰 켄코아에어로스페이스 폴라리스AI 케이씨에스 클라](https://news.mtn.co.kr/news-detail/2025020407051571049)\n",
            "\n",
            "최근 7일간 '에스비비테크(389500)' 관련 뉴스:\n",
            "1. 2025-02-05 [롤러코스터 장세에도 연속 신고가로봇주 연일 강세](https://n.news.naver.com/mnews/article/008/0005149130?sid=101)\n",
            "2. 2025-02-05 [관세 불안에도 굳건한 로봇주레인보우로보틱스 4거래일 연속 신고가](https://n.news.naver.com/mnews/article/008/0005148917?sid=101)\n",
            "3. 2025-02-05 [싸이맥스 주가 신바람났네 영업이익 등 실적호전 지속 가능성](https://www.pinpointnews.co.kr/news/articleView.html?idxno=318362)\n",
            "4. 2025-02-05 [트럼프도 찍었다  올해 주도주로 부상한 로봇株 마켓펀치](https://biz.newdaily.co.kr/site/data/html/2025/02/05/2025020500043.html)\n",
            "5. 2025-02-04 [로봇사업 기대株 에스비비테크 로봇 감속기 국산화 선도](https://dealsite.co.kr/articles/134923)\n",
            "6. 2025-02-03 [더벨Red  Blue로봇 감속기 안착 에스피지 성장 모멘텀 부각](https://www.thebell.co.kr/free/content/ArticleView.asp?key=202501141416557720107821)\n",
            "7. 2025-02-01 [벌써 180 뛰었는데 더 간다새해 난리 난 이 업종](https://n.news.naver.com/mnews/article/024/0000094657?sid=101)\n",
            "8. 2025-01-31 [하이젠알엔엠 장중 52주 최고가 경신레인보우로보틱스라온테크삼](https://www.yeongnam.com/web/view.php?key=20250131022075601)\n",
            "\n",
            "최근 7일간 '대한광통신(010170)' 관련 뉴스:\n",
            "1. 2025-02-05 [주식마감기사 로봇 관련주 강세 클로봇 애드바이오텍 등 급등](https://www.ggilbo.com/news/articleView.html?idxno=1072347)\n",
            "2. 2025-02-05 [기업이슈 빌 게이츠 양자컴퓨터 상용화에 긍정전망관련주 강세](https://n.news.naver.com/mnews/article/374/0000423717?sid=101)\n",
            "3. 2025-02-04 [상한가 종목 토마토시스템대한광통신 이어 파인텍바이오로그디바이](http://www.econonews.co.kr/news/articleView.html?idxno=373781)\n",
            "4. 2025-02-04 [주식마감기사 샘 올트먼 의료용 챗GPT 개발 검토 발언에 토마토시스](https://www.ggilbo.com/news/articleView.html?idxno=1072098)\n",
            "5. 2025-02-04 [급등주 대한광통신 2994 上 마감](https://www.jeonmae.co.kr/news/articleView.html?idxno=1116204)\n",
            "6. 2025-02-04 [오늘의 코스닥  2월 4일 상승주 TOP 10 1위 에스에이티이엔지](http://www.newsbrite.net/news/articleView.html?idxno=187978)\n",
            "7. 2025-02-04 [4일 특징주 하나금융지주 4000억 규모 자사주 소각 발표에 3](https://www.newsworks.co.kr/news/articleView.html?idxno=783080)\n",
            "8. 2025-02-04 [아이지넷피아이이 신고식 MA 이슈 대한광통신에스에이티이엔](http://www.newswell.co.kr/news/articleView.html?idxno=10869)\n",
            "9. 2025-02-04 [급등락주 짚어보기 에스에이티이엔지 최대주주 변경 기대에 이틀 연](https://www.etoday.co.kr/news/view/2442259)\n",
            "10. 2025-02-04 [에스에이티이엔지바이오로그디바이스파인텍 등 5종목 상한가 아남](https://www.yeongnam.com/web/view.php?key=20250204026155817)\n",
            "\n",
            "최근 7일간 '펨트론(168360)' 관련 뉴스:\n",
            "1. 2025-02-05 [리턴즈 고래 삼총사 한화엔진 HD현대에너지솔루션 유니트론텍 에](https://news.mtn.co.kr/news-detail/2025020506322596517)\n",
            "2. 2025-02-04 [주식마감기사 샘 올트먼 의료용 챗GPT 개발 검토 발언에 토마토시스](https://www.ggilbo.com/news/articleView.html?idxno=1072098)\n",
            "3. 2025-02-04 [오늘의 코스닥  2월 4일 상승주 TOP 10 1위 에스에이티이엔지](http://www.newsbrite.net/news/articleView.html?idxno=187978)\n",
            "4. 2025-02-04 [에스에이티이엔지바이오로그디바이스파인텍 등 5종목 상한가 아남](https://www.yeongnam.com/web/view.php?key=20250204026155817)\n",
            "5. 2025-02-04 [종합 코스피코스닥 기관외인 사자에 상승 마감](https://www.etoday.co.kr/news/view/2442241)\n",
            "6. 2025-02-04 [코스닥 마감트럼프 관세 쇼크 하루만에 반등불확실성 여전](https://n.news.naver.com/mnews/article/018/0005936153?sid=101)\n",
            "7. 2025-02-04 [펨트론 27 급등오로스테크놀로지티에프이저스템기가비스 등 반](https://www.yeongnam.com/web/view.php?key=20250204025425792)\n",
            "8. 2025-02-04 [코스닥 2대 강세새내기 아이지넷 32](https://n.news.naver.com/mnews/article/018/0005935980?sid=101)\n",
            "9. 2025-02-04 [펨트론 주가 덩실덩실외국인 대량매수 눈길](https://www.pinpointnews.co.kr/news/articleView.html?idxno=317969)\n",
            "10. 2025-02-03 [탑픽전쟁 효성중공업 vs 하이브 승리 전략은](https://news.mtn.co.kr/news-detail/2025020320142450985)\n",
            "\n",
            "최근 7일간 '에스피지(058610)' 관련 뉴스:\n",
            "1. 2025-02-06 [출근길 포인트 혼다닛산 합병 추진 무산 현대기아차 영향은](https://www.pointdaily.co.kr/news/articleView.html?idxno=232891)\n",
            "2. 2025-02-06 [속보 연준 FOMC 금리인하 전면재조정 뉴욕증시 트럼프 관세 인플레 ](http://www.g-enews.com/ko-kr/news/article/news_all/2025020416511775854a01bf698f_1/article.html)\n",
            "3. 2025-02-05 [코스피 美관세 우려 완화에 이틀째 올라 2500대 회복코스닥 15](https://www.getnews.co.kr/news/articleView.html?idxno=805473)\n",
            "4. 2025-02-05 [코스피 미중 관세 우려 완화로 이틀째 상승외인 SK하이닉스네이](https://www.topstarnews.net/news/articleView.html?idxno=15599680)\n",
            "5. 2025-02-05 [코스피美관세 우려완화에 2500대 회복코스닥 15](http://www.seouleconews.com/news/articleView.html?idxno=81613)\n",
            "6. 2025-02-05 [원화 환율 186원 내린 14443원](https://www.newsfreezone.co.kr/news/articleView.html?idxno=607445)\n",
            "7. 2025-02-05 [코스닥레인보우로보틱스  클로봇  삼천당제약 급등](http://www.choicenews.co.kr/news/articleView.html?idxno=142326)\n",
            "8. 2025-02-05 [롤러코스터 장세에도 연속 신고가로봇주 연일 강세](https://n.news.naver.com/mnews/article/008/0005149130?sid=101)\n",
            "9. 2025-02-05 [5일 마감시황 코스피 美中 관세 협상 기대에 2500선 회복](https://www.newsworks.co.kr/news/articleView.html?idxno=783259)\n",
            "10. 2025-02-05 [마켓뷰 관세 우려 코스피 샘 올트먼 효과 덕에 11 상승 마감](https://n.news.naver.com/mnews/article/366/0001051480?sid=101)\n",
            "\n",
            "최근 7일간 '나인테크(267320)' 관련 뉴스:\n",
            "1. 2025-02-06 [차세대 반도체 패키징 기술 유리기판 부상국내 기업들 경쟁 본격화](https://www.newspim.com/news/view/20250205000470)\n",
            "2. 2025-02-05 [에스테크엠 첨단 제조 기술로 글로벌 시장 공략 가속화](https://n.news.naver.com/mnews/article/030/0003281078?sid=101)\n",
            "3. 2025-02-04 [펨트론 주가 덩실덩실외국인 대량매수 눈길](https://www.pinpointnews.co.kr/news/articleView.html?idxno=317969)\n",
            "4. 2025-02-03 [나인테크 FOPLP유리기판용 습식 공정 장비 개발](http://www.thelec.kr/news/articleView.html?idxno=32649)\n",
            "5. 2025-02-03 [나인테크 FOPLP 및 유리기판용 장비 개발 완료 생산 설비 증설 검토](https://www.widedaily.com/news/articleView.html?idxno=258122)\n",
            "6. 2025-02-03 [세라젬클리니컬 세계 최초 침대형 의료기기로 장관상 수상 外](https://www.the-stock.kr/news/articleView.html?idxno=30071)\n",
            "7. 2025-02-03 [한국ANKOR유전GRT바이브컴퍼니 등 5종목 상한가 디젠스한국패러랠](https://www.yeongnam.com/web/view.php?key=20250203027535743)\n",
            "8. 2025-02-03 [오늘의 코스닥  2월 3일 금일 상승주 TOP 10 1위 바이브컴퍼니](http://www.newsbrite.net/news/articleView.html?idxno=187949)\n",
            "9. 2025-02-03 [나인테크 주가 16 급등유리기판 장비 테스트 완료](https://www.yeongnam.com/web/view.php?key=20250203021445727)\n",
            "10. 2025-02-03 [나인테크 주가 함박웃음 유리기판 적용 습식 공정 장비 주목](https://www.pinpointnews.co.kr/news/articleView.html?idxno=317729)\n",
            "\n",
            "최근 7일간 '카카오페이(377300)' 관련 뉴스:\n",
            "1. 2025-02-06 [11번가 원데이 빅딜 론칭매주 목요일 브랜드 1곳 할인](https://n.news.naver.com/mnews/article/119/0002920340?sid=101)\n",
            "2. 2025-02-06 [올해 밸런타인데이 준비핑크빛 무드 호텔부터 가성비 좋은 편의점까](https://n.news.naver.com/mnews/article/025/0003418979?sid=103)\n",
            "3. 2025-02-06 [작년 국내주식 거래 13해외주식 39국장 탈출 러시 여파](https://www.getnews.co.kr/news/articleView.html?idxno=805543)\n",
            "4. 2025-02-06 [매주 목요일 집중 할인 11번가 원데이 빅딜 선봬](https://n.news.naver.com/mnews/article/003/0013049768?sid=101)\n",
            "5. 2025-02-06 [국장 탈출 러시지난해 국내주식 거래 13 감소](https://www.cstimes.com/news/articleView.html?idxno=631661)\n",
            "6. 2025-02-06 [11번가 매주 목요일 빅브랜드 상품을 파격가에원데이 빅딜](https://n.news.naver.com/mnews/article/001/0015194573?sid=101)\n",
            "7. 2025-02-06 [매주 인기브랜드 초강력 할인 11번가 원데이 빅딜 선봬](https://n.news.naver.com/mnews/article/018/0005937399?sid=101)\n",
            "8. 2025-02-06 [매주 Big 브랜드 Big 세일11번가 원데이 빅딜 프로모션](https://www.newsquest.co.kr/news/articleView.html?idxno=239112)\n",
            "9. 2025-02-06 [국장 탈출 러시작년 국내주식 거래 13](https://n.news.naver.com/mnews/article/018/0005937378?sid=101)\n",
            "10. 2025-02-06 [농협유통 전통 장 담그기 행사 진행 메주천일염 할인 판매](https://www.pinpointnews.co.kr/news/articleView.html?idxno=318600)\n",
            "\n",
            "최근 7일간 '자화전자(033240)' 관련 뉴스:\n",
            "1. 2025-02-04 [모베이스 주가 활짝외국인 15거래일 폭풍매도는 부담되네](https://www.pinpointnews.co.kr/news/articleView.html?idxno=318092)\n",
            "2. 2025-02-03 [오늘의 코스피  2월 3일 금일 상승주 TOP 101위 한국석유](http://www.newsbrite.net/news/articleView.html?idxno=187946)\n",
            "3. 2025-02-03 [삼성전자 스마트폰 상장기업 브랜드평판 2월 빅데이터 분석 1위](http://www.thebigdata.co.kr/view.php?ud=20250203050208217907d270612f_23)\n",
            "4. 2025-02-03 [스마트폰 상장기업 2월 브랜드평판 삼성전자 삼성SDI LG디스플레이](https://www.energy-news.co.kr/news/articleView.html?idxno=210237)\n",
            "5. 2025-02-03 [스마트폰 상장기업 2025년 2월 브랜드평판 1위 삼성전자 2위 삼성SDI](https://www.thefairnews.co.kr/news/articleView.html?idxno=40599)\n",
            "6. 2025-02-03 [브랜드평판 삼성전자 스마트폰 상장기업 1월 1위삼성SDILG디스](https://www.enetnews.co.kr/news/articleView.html?idxno=34314)\n",
            "7. 2025-02-03 [스마트폰 상장기업 브랜드평판 2월 1위 삼성전자 2위 삼성SDI 3위 LG디스](https://www.pinpointnews.co.kr/news/articleView.html?idxno=317528)\n",
            "8. 2025-02-01 [삼성전기 4분기 실적 컨센서스 하회 비수기와 일회성 비용 영향](https://www.pinpointnews.co.kr/news/articleView.html?idxno=317369)\n",
            "9. 2025-01-30 [LG이노텍 4분기 실적 혹한기 속 부진 목표주가 20만 원 유지](https://www.pinpointnews.co.kr/news/articleView.html?idxno=316928)\n",
            "\n",
            "최근 7일간 '인스코비(006490)' 관련 뉴스:\n",
            "1. 2025-02-05 [주식마감기사 로봇 관련주 강세 클로봇 애드바이오텍 등 급등](https://www.ggilbo.com/news/articleView.html?idxno=1072347)\n",
            "2. 2025-02-05 [급등주 인스코비 2792 강세 마감](https://www.jeonmae.co.kr/news/articleView.html?idxno=1116598)\n",
            "3. 2025-02-05 [AI 수혜주인터넷 방송 플랫폼 SOOP 장중 상한가 훨훨](http://www.g-enews.com/ko-kr/news/article/news_all/20250205161458229c5fa75ef86_1/article.html)\n",
            "4. 2025-02-05 [외인 이틀 연속 순매수코스피 250927로 마감 투자360](https://n.news.naver.com/mnews/article/016/0002424420?sid=101)\n",
            "5. 2025-02-05 [오늘의 코스피  2월 5일 상승주 TOP 10 1위 인스코비](http://www.newsbrite.net/news/articleView.html?idxno=188018)\n",
            "6. 2025-02-05 [포스코DX 주가 휘파람 영업이익 등 바닥 지나고 있다](https://www.pinpointnews.co.kr/news/articleView.html?idxno=318470)\n",
            "7. 2025-02-05 [인스코비 주가 27대 급등 웃음꽃](https://www.ggilbo.com/news/articleView.html?idxno=1072321)\n",
            "8. 2025-02-05 [애드바이오텍클로봇 상한가 해성에어로보틱스삼현아이윈플러스](https://www.yeongnam.com/web/view.php?key=20250205027045912)\n",
            "9. 2025-02-05 [인스코비 28 급등올릭스안트로젠강스템바이오텍 등 탈모치료 관](https://www.yeongnam.com/web/view.php?key=20250205027285903)\n",
            "10. 2025-02-05 [올릭스 주가 승승장구 하는데기관 대량매물은 찬바람](https://www.pinpointnews.co.kr/news/articleView.html?idxno=318420)\n",
            "\n",
            "최근 7일간 '와이팜(332570)' 관련 뉴스:\n",
            "1. 2025-02-05 [레인보우로보틱스 나비효과로봇株 수익률 상위 싹쓸이](https://n.news.naver.com/mnews/article/018/0005937111?sid=101)\n",
            "2. 2025-02-04 [와이팜 매출 성장과 순이익 흑자 전환재무제표 분석](https://www.stardailynews.co.kr/news/articleView.html?idxno=472531)\n",
            "3. 2025-02-04 [모베이스 주가 활짝외국인 15거래일 폭풍매도는 부담되네](https://www.pinpointnews.co.kr/news/articleView.html?idxno=318092)\n",
            "4. 2025-02-04 [제주반도체 주가 휘파람 여야정협의체 반도체법 논의 주목](https://www.pinpointnews.co.kr/news/articleView.html?idxno=317992)\n",
            "5. 2025-02-03 [주식마감기사 동해 최대 51억 배럴 추가 매장 가능성에 한국석유 상한](https://www.ggilbo.com/news/articleView.html?idxno=1071806)\n",
            "6. 2025-02-03 [이달해 달달한10분 美 사이버보안 뚫은 딥시크 MS와 AI 사이버보안](https://news.mtn.co.kr/news-detail/2025020315104892430)\n",
            "7. 2025-02-03 [N2 모닝 경제 브리핑2월 3일 美 증시 트럼프 관세 발표 여파 후 하락](https://www.news2day.co.kr/article/20250203500006)\n",
            "8. 2025-02-03 [스마트폰 상장기업 브랜드평판 2월 1위 삼성전자 2위 삼성SDI 3위 LG디스](https://www.pinpointnews.co.kr/news/articleView.html?idxno=317528)\n",
            "9. 2025-02-01 [리턴즈 고래 삼총사 한화엔진 한글과컴퓨터 RF시스템즈 라온테크](https://news.mtn.co.kr/news-detail/2025013118100916323)\n",
            "10. 2025-01-31 [피델릭스 주가 거침없은 고공행진딥시크 AI 모델 시장에 지각변동](https://www.pinpointnews.co.kr/news/articleView.html?idxno=317283)\n",
            "\n",
            "최근 7일간 '엑스게이트(356680)' 관련 뉴스:\n",
            "1. 2025-02-06 [2월 5일 주식시장 주요공시](https://www.nbnews.kr/news/articleView.html?idxno=104212)\n",
            "2. 2025-02-05 [주식마감기사 로봇 관련주 강세 클로봇 애드바이오텍 등 급등](https://www.ggilbo.com/news/articleView.html?idxno=1072347)\n",
            "3. 2025-02-05 [엑스게이트 작년 영업익 35억전년比 15 ](https://n.news.naver.com/mnews/article/277/0005542076?sid=101)\n",
            "4. 2025-02-05 [엑스게이트 작년 영업이익 35억전년比 149](https://n.news.naver.com/mnews/article/018/0005937180?sid=101)\n",
            "5. 2025-02-05 [이재상의 종가 공략 오늘의 종가 공략주 BEST 케이엔알시스템](https://news.mtn.co.kr/news-detail/2025020515462175753)\n",
            "6. 2025-02-05 [오늘장 키워드 TOP7 삼성전자양자컴LG CNS의료AI](https://news.dealsitetv.com/articles/150522)\n",
            "7. 2025-02-05 [부자들의 숨은 전략 아이언디바이스 vs 비에이치아이내일의 부자 종](https://news.mtn.co.kr/news-detail/2025020506323587377)\n",
            "8. 2025-02-05 [출근길 포인트 오픈AI 올트먼소프트뱅크 손정의 한국서 광폭행보](https://www.pointdaily.co.kr/news/articleView.html?idxno=232728)\n",
            "9. 2025-02-05 [관세폭탄 이어 양자컴퓨팅 미중 전면전 뉴욕증시 리게티 아이온큐](http://www.g-enews.com/ko-kr/news/article/news_all/2025020413124590054a01bf698f_1/article.html)\n",
            "10. 2025-02-05 [속보 뉴욕증시 중국 관련주 날벼락 트럼프 관세폭탄 끝내 미중 전](http://www.g-enews.com/ko-kr/news/article/news_all/202502031717042254a01bf698f_1/article.html)\n",
            "\n",
            "최근 7일간 '피앤에스미캐닉스(460940)' 관련 뉴스:\n",
            "1. 2025-02-06 [로봇사업 기대株 피앤에스미캐닉스 사우디멕시코 진출 본격화](https://dealsite.co.kr/articles/135797)\n",
            "2. 2025-02-05 [애드바이오텍클로봇 상한가 해성에어로보틱스삼현아이윈플러스](https://www.yeongnam.com/web/view.php?key=20250205027045912)\n",
            "3. 2025-02-05 [피앤에스미캐닉스 주가 함박웃음 워크라이트 기존 재활 로봇 한계](https://www.pinpointnews.co.kr/news/articleView.html?idxno=318466)\n",
            "4. 2025-02-05 [이달해 달달한10분 샘 올트먼 방한의 이유 로봇 레인보우로보 신](https://news.mtn.co.kr/news-detail/2025020513413070856)\n",
            "5. 2025-02-05 [피앤에스미캐닉스 세계 유일 3Joint 인간형 로봇 설계 기술 개발 성공](http://www.globalepic.co.kr/view.php?ud=202502051243593468abe7dc9896_29)\n",
            "6. 2025-02-05 [클로봇솔트룩스고영씨메스오브젠피앤에스미캐닉스 급등 지](https://www.yeongnam.com/web/view.php?key=20250205025125868)\n",
            "7. 2025-02-04 [식어버린 열기제약바이오 상장 공모가 뚝](https://www.dailypharm.com/Users/News/NewsView.html?ID=320081&REFERER=NP)\n",
            "8. 2025-02-04 [오늘의 증시리포트 일진하이솔루스피앤에스미캐닉스대덕전자 등](https://www.etoday.co.kr/news/view/2441956)\n",
            "9. 2025-02-03 [듀켐바이오 주가 파죽지세 치매환자 급증에 핵의학 영상 진단 수요 ](https://www.pinpointnews.co.kr/news/articleView.html?idxno=317769)\n",
            "10. 2025-02-01 [피앤에스미캐닉스 주가 들썩휴머노이드 로봇 기술력 바탕 글로벌 시](https://www.pinpointnews.co.kr/news/articleView.html?idxno=317390)\n",
            "\n",
            "최근 7일간 '카카오(035720)' 관련 뉴스:\n",
            "1. 2025-02-06 [11번가 원데이 빅딜 론칭매주 목요일 브랜드 1곳 할인](https://n.news.naver.com/mnews/article/119/0002920340?sid=101)\n",
            "2. 2025-02-06 [기업 정보는 물론 국가 기밀까지 빼갈수도정부도 기업도 中 딥](https://www.ceoscoredaily.com/page/view/2025020608500588296)\n",
            "3. 2025-02-06 [우리 정부기관 잇따라 딥스크 차단에 총력개인정보 유출 우려](http://www.ftoday.co.kr/news/articleView.html?idxno=336565)\n",
            "4. 2025-02-06 [웹툰 원작 lt그래서 오늘도 삽니다gt 숏폼 드라마로](https://m.entertain.naver.com/article/438/0000070507)\n",
            "5. 2025-02-06 [지그재그 당일배송 충청권까지 확대천안아산까지](https://n.news.naver.com/mnews/article/629/0000362031?sid=101)\n",
            "6. 2025-02-06 [아산 외암민속마을 정월대보름 행사 풍성](https://n.news.naver.com/mnews/article/079/0003988627?sid=102)\n",
            "7. 2025-02-06 [단독 롯데웰푸드 월드콘가나마일드 등 제과아이스크림 가격 평균](https://biz.newdaily.co.kr/site/data/html/2025/02/06/2025020600037.html)\n",
            "8. 2025-02-06 [숏폼 딥시크 쓰지마 정부 기업들 줄차단 왜](http://www.newsprime.co.kr/news/article.html?no=673329)\n",
            "9. 2025-02-06 [국방부외교부산업부카카오LG유플러스 딥시크 사용 금지](https://www.cstimes.com/news/articleView.html?idxno=631664)\n",
            "10. 2025-02-06 [국민의힘 권영세권성동 제주항공 유가족들과 면담](https://n.news.naver.com/mnews/article/079/0003988623?sid=100)\n",
            "\n",
            "최근 7일간 '아이케이세미콘(149010)' 관련 뉴스:\n",
            "최근 7일간 관련 뉴스가 없습니다.\n",
            "\n",
            "최근 7일간 '코어라인소프트(384470)' 관련 뉴스:\n",
            "1. 2025-02-06 [코어라인소프트 원격진단 시장 공략 가속화](http://www.bosa.co.kr/news/articleView.html?idxno=2241453)\n",
            "2. 2025-02-05 [코어라인소프트 AI 원격진단 시장 공략 가속화](https://www.aitimes.com/news/articleView.html?idxno=167716)\n",
            "3. 2025-02-05 [외인 이틀 연속 순매수코스피 250927로 마감 투자360](https://n.news.naver.com/mnews/article/016/0002424420?sid=101)\n",
            "4. 2025-02-05 [AI 의료에 큰영향 올트먼의 예측한국기업들 수준은](https://www.widedaily.com/news/articleView.html?idxno=258353)\n",
            "5. 2025-02-05 [코어라인소프트 글로벌 원격진단 시장 공략 강화 AI SW 성능 입증](https://www.healthinnews.co.kr/view.php?ud=2025020515314422686aa9cc43d0_48)\n",
            "6. 2025-02-05 [글로벌 원격 진단시장 휩쓰는 이 기업비결은 의료AI](https://www.widedaily.com/news/articleView.html?idxno=258340)\n",
            "7. 2025-02-05 [오늘의 장바구니 롯데마트현대백화점아모레퍼시픽롯데호텔 외](http://www.newsprime.co.kr/news/article.html?no=673242)\n",
            "8. 2025-02-05 [글로벌 원격 진단시장 휩쓰는 이 기업비결은 의료AI](https://n.news.naver.com/mnews/article/003/0013048818?sid=102)\n",
            "9. 2025-02-05 [제이엘케이 주가 두둥실외국인은 12만주 이상 줍줍](https://www.pinpointnews.co.kr/news/articleView.html?idxno=318426)\n",
            "10. 2025-02-05 [AI 의료에 큰영향 올트먼의 예측한국기업들 수준은](https://n.news.naver.com/mnews/article/003/0013048739?sid=102)\n",
            "\n",
            "최근 7일간 '디티앤씨알오(383930)' 관련 뉴스:\n",
            "1. 2025-02-04 [디티앤씨알오 올해 약동력학센터 가동 눈앞글로벌 시장 공략 속도](https://n.news.naver.com/mnews/article/008/0005148560?sid=101)\n",
            "2. 2025-02-04 [에스에이티이엔지바이오로그디바이스파인텍 등 5종목 상한가 아남](https://www.yeongnam.com/web/view.php?key=20250204026155817)\n",
            "3. 2025-02-02 [아이빔테크놀로지 주가 휘파람암 수술 중 실시간 잔존 암 조직 검사](https://www.pinpointnews.co.kr/news/articleView.html?idxno=317480)\n",
            "4. 2025-01-30 [CG인바이츠 주가 싱글벙글 디지털 헬스케어 글로벌 진출 신호탄 쏘](https://www.pinpointnews.co.kr/news/articleView.html?idxno=316995)\n",
            "\n",
            "최근 7일간 '브레인즈컴퍼니(099390)' 관련 뉴스:\n",
            "1. 2025-02-05 [클로봇솔트룩스고영씨메스오브젠피앤에스미캐닉스 급등 지](https://www.yeongnam.com/web/view.php?key=20250205025125868)\n",
            "2. 2025-02-05 [클로봇 주가 파죽지세 로봇 자율주행 분야 인공지능 중요성 부각](https://www.pinpointnews.co.kr/news/articleView.html?idxno=318343)\n",
            "3. 2025-02-05 [솔트룩스 주가 룰루랄라AI 루시아LUXIA 공개로 실적개선 훈풍](https://www.pinpointnews.co.kr/news/articleView.html?idxno=318320)\n",
            "4. 2025-02-04 [코난테크놀로지 주가 기세등등 AI 동시통역 솔루션인 코난 챗봇 플러](https://www.pinpointnews.co.kr/news/articleView.html?idxno=318040)\n",
            "5. 2025-02-04 [비큐AI 주가 고공행진 AI 데이터 통합 플랫폼 뛰어난 기술력 부각](https://www.pinpointnews.co.kr/news/articleView.html?idxno=317980)\n",
            "6. 2025-02-03 [오픈AI 창업자 한국 방문에 관련주 급등 바이컴퍼니 상한가](https://n.news.naver.com/mnews/article/417/0001055361?sid=101)\n",
            "7. 2025-02-03 [바이브컴퍼니 주가 더 내달리나AI 판독 시스템 구축 사업이 성능평가](https://www.pinpointnews.co.kr/news/articleView.html?idxno=317753)\n",
            "8. 2025-02-03 [위세아이텍 주가 덩실덩실AI빅데이터 SW 공공 시장 점유율 1위 기록](https://www.pinpointnews.co.kr/news/articleView.html?idxno=317722)\n",
            "9. 2025-02-03 [인스웨이브시스템즈 주가 활짝 UI UX 개발 플랫폼 WebSquare5 시장서](https://www.pinpointnews.co.kr/news/articleView.html?idxno=317677)\n",
            "10. 2025-02-02 [코난테크놀로지 주가 고공행진중국 AI 스타트업 딥시크 고성능 AI 모](https://www.pinpointnews.co.kr/news/articleView.html?idxno=317459)\n",
            "\n",
            "최근 7일간 '이스트소프트(047560)' 관련 뉴스:\n",
            "1. 2025-02-05 [오늘의 테마 로봇 VS AI 소프트웨어](https://news.mtn.co.kr/news-detail/2025020517274635475)\n",
            "2. 2025-02-05 [양영철 JDC 이사장 헬스케어타운휴양형 주거단지 재시동제주 혁신](https://n.news.naver.com/mnews/article/011/0004447122?sid=101)\n",
            "3. 2025-02-05 [주식 초고수는 지금 오픈AI 제휴 체결한 카카오 잡아라순매수 1위](https://n.news.naver.com/mnews/article/011/0004446911?sid=101)\n",
            "4. 2025-02-04 [bnTV 싼맛 딥시크 등장 AI 주도주 대전환](http://www.boannews.com/media/view.asp?idx=135831&kind=)\n",
            "5. 2025-02-04 [엑토즈소프트 주가 다시 기지개액션 RPG 라테일 2차 각성 공개 두](https://www.pinpointnews.co.kr/news/articleView.html?idxno=318046)\n",
            "6. 2025-02-04 [라온시큐어 주가 달아 오를까모바일 백신 앱 라온 시큐어 시큐리티](https://www.pinpointnews.co.kr/news/articleView.html?idxno=318030)\n",
            "7. 2025-02-04 [하나증권 샘 올트먼 방한에 AI 관련주 수혜 SK하이닉스삼성전자 주목](https://www.businesspost.co.kr/BP?command=article_view&num=382027)\n",
            "8. 2025-02-03 [마감시황 코스피 美 관세 전쟁에 2450선 후퇴반도체株 와르르](https://www.news2day.co.kr/article/20250203500216)\n",
            "9. 2025-02-03 [이스트소프트 주가 활짝 앨런 퍼플렉시티 대항마로 부각](https://www.pinpointnews.co.kr/news/articleView.html?idxno=317777)\n",
            "10. 2025-02-03 [플리토 딥시크 등장에 25 강세韓 AI 상승 랠리 기대](https://www.kfenews.co.kr/news/articleView.html?idxno=629262)\n"
          ]
        },
        {
          "output_type": "display_data",
          "data": {
            "text/plain": [
              "<IPython.core.display.Markdown object>"
            ],
            "text/markdown": "\n최근 7일간 '에스에이티이엔지(351320)' 관련 뉴스: (최대 10개):\n\n1. [[급등락주 짚어보기] 에스에이티이엔지, 최대주주 변경 기대에 이틀 연속 上 - 이투데이](https://news.google.com/rss/articles/CBMiVEFVX3lxTE91RGoxUndLdWJpNmhQaEZrNzJMZjBZQnFWODBxYzQ5VVd5LUVfejZGcm51SlZhaUZfZUtLUmJUOF9sSGtuZl96ZXl4YXBqZG9aVi1xQw?oc=5)\n\n2. [에스에이티이엔지, 상한가 직행 배경은? - 영남일보](https://news.google.com/rss/articles/CBMia0FVX3lxTE5jS0M5Z1RoMWQ1S0hCbzZwbXRvcEx4bTYzd2NIYmRwQXV1QzNvaUFsSElyYlFjSUV2OWh4c0h3YUE3RXdEWDdFOVpuTGFBSlNaQnIybHJYMTR2enRpY1NNc1VFa2VRV1hPZmlj?oc=5)\n\n3. [[에스에이티이엔지 M&A] 나노캠텍 ‘주가조작 세력’의 귀환① - 녹색경제신문](https://news.google.com/rss/articles/CBMiaEFVX3lxTE8weDJBazdBQnhSYktQdV9ySU5rSXM1el8zNFh2SWZBdlpzakRpSUlsTXAyNGRBcXZsRUtaS0F6RWFvV0U3X2VzS2pHRk1KMVBEd3RXLU9Yb0R6ZExFUzNhNi1XdkpNSWRQ?oc=5)\n\n4. [[특징주] 에스에이티이엔지, 부동산개발업체에 매각… ‘上’ - 조선비즈 - 조선비즈](https://news.google.com/rss/articles/CBMihwFBVV95cUxPZHZOWEFBbi14bmNqMGVObWk2d0wwZFJDVHdDUUhTM3F2SXZ0bkt5RGlSR0t1a2FCcVVieWg0RkFmbGxDc2cydlJOQzhKbGlaVW80MVNPM0Z5VGc5VHhucmJPYm04SVQ1QlE5N0tCQVFJU2k4WFA1RGc5aC1rZElLd3hfQUtVLUnSAZsBQVVfeXFMT3ZNbXBzRmJxa3VGMDZuN2JIOEl0Nk5ZSm9UcDJsM0JUdHpCSTFZSWxBcFdKS0NvVlBKbUVDRnJXOS1XVHhvc2dDa0ZTcV9peTJpSk9QcThWcmo5NU5TbHVXbWVyd0ExUVZ2VGlEY3FKYVlmcWxfc2J2T2pHMnVTN0VEUDdySHlUUVdJUmZVT3k4bm9BbTF5RnNvSG8?oc=5)\n\n5. [[급등주] 에스에이티이엔지, +30.00% 상한가 기록 - 전국매일신문](https://news.google.com/rss/articles/CBMibkFVX3lxTE8tNGhLQWN6TXJSa2FhQXdBWEwtOVM5NEcwdVdWRFZmMzNHS1BESlJ6cDNPRDhlZnppWmQzcnFNYllXSGQ1b2Y4RzdhWXZSWVpwQmd4Sjd0YWJsUmpSeTlXRVdaWVdWUjRrdzdrTlVB?oc=5)\n\n6. [[특징주] 에스에이티이엔지, 최대주주 변경 소식에 '상한가' - 서울와이어](https://news.google.com/rss/articles/CBMibEFVX3lxTE5tT1BBOGxldElRb3B5Qi1UdnU2aWprS2RuZzRKZy1NY2FsOHZVSEczeGhXUkxiaXhscHFxVFBmLXZnNk5GTEVpY1NMQy1RVXpQYjR2dlVDV2VycUtnSnh1czlXYVd4M3Jtc0JkLQ?oc=5)\n\n7. [[급등락주 짚어보기] 에스에이티이엔지, 최대주주 변경 기대에 이틀 연속 上 - MSN](https://news.google.com/rss/articles/CBMi5gRBVV95cUxQV1hfLXRORUJib1U1OU4waVBSRDNGVzZHY2ZYQ0ZiTXNBSTdXRU1jeUF1UjNwSU54cEFJVU5KYWhGQU5EYkdBc3RsR1UtekJJRE1TQXlCVkU3dkl3OUtMWDNMS1N2NHRpd0RSQ0hzSEJfcnBfUU9fay1STFZtcXFjNTU3WTVaN0dBZmloMzdkT1lnUVhNeDFMMGdxUW9aSUdKZWYzWlF3SWctVDQ4aDBzMjE3RkZjeFhlQnlHY3FOc2hxNDlWekhLNFQzb2xRZWxsRVNnb1Z6MlZRemstMmh6T0ZrNzhmMEUwMW44Yk1HWVRPZDJBSG1nMGszNGlycVR6QVJqVnRray1tR2hiUHNoNkEwQ09JZHlOMlI3VXdMbWpuYmZVU3VmZE1SQS05Q0ZyTDEyanNCQ3A2cEdqRnFNMmM0UGw3UUYtRng2cy1SNkdUUVF2dUR0UU5zR01vS3pWLTE0S25ya193eVoyeUxsUG14Q2FIWHVJbTRVOFcxR2ttRXU2YkdpUEhjVEY5U2FmcGhqQWk3Y3l3SmhPMGd5VVpoRjRWTjY4WUptLXdlS3Nod0JSU2JySEZLckk1SmV3RVJiSW9rSTJKWU5vQ0EtcnZ4TlhUQWxTU2lDc19HanJ3U2hiSnU2MHlQRE5CZDZhWWdKSjhjWTVLWEhrYndIUlhCT0cycWFOR25nQnpsRzVmTUlYLUJHSWxpV1BJUkpKOWpkWXNLTzh3OXIzT2NhY3NFVGYxSE5mQTdIOWRTV3M1UGVPalJjQ200Z292VnhhNWsxYnZmUkxCZTVZUTNMWUhlcWtiZw?oc=5)\n\n8. [에스에이티이엔지, 300억 규모 전환사채 발행 결정 - 이데일리](https://news.google.com/rss/articles/CBMigAFBVV95cUxOdmJyMFBwNXFtZHREU200bTVTV3NhSFMxZk9TZEhnZkZ3ajRWX01OZHZfbTFrV2Nxa2hJVFZrdmpuWGl2RjVqYzRpMDBfbVNpejVudU9RV3dLZW5aem5ONHpIV1RSb1RudHM1X3g0RjlJNXlQWUc0VG1qNURVMWY2Tw?oc=5)\n\n9. [에스에이티이엔지, 자금조달·최대주주 변경 기대감에 2연속 上 - 동양뉴스](https://news.google.com/rss/articles/CBMiYEFVX3lxTE5JMFVhOFdPdll6OW4xVXh2OTdUaGdlVzJmQWRSTkQtczgtOHJiRkZ1Zng4UDh3Ny0tRHZYUS05NkduUkVVa29pWVNmbC0xWVN2MU4wcElfaE0xY0o0cEswdQ?oc=5)\n\n10. ['300억 규모 전환사채 발행' 에스에이티이엔지 주가 29% 상한가 - 국제뉴스](https://news.google.com/rss/articles/CBMibkFVX3lxTE5GUlk3SmlFd1lVSXJXTGdvaTlUOGM5ZFZlVlFwaWQ0LUZocl9aVHM1eEFWRTd0SlZoSXB0Q3FoYkZFbWVpZDRkc01hMUtCVl9SdGlialpuUzRzNXlhVlZidTFDdV9pSWY0Wm1ybFN3?oc=5)\n\n"
          },
          "metadata": {}
        },
        {
          "output_type": "display_data",
          "data": {
            "text/plain": [
              "<IPython.core.display.Markdown object>"
            ],
            "text/markdown": "\n최근 7일간 '바이브컴퍼니(301300)' 관련 뉴스: (최대 10개):\n\n1. [바이브컴퍼니 \"멀티모달 트렌드 분석으로 해외 진출 지원\" - AI타임스](https://news.google.com/rss/articles/CBMiakFVX3lxTFBPaUt3bEw1cXlPemNCdFplYm9QTlh5VXNUX3VOSEVPbmQ1QTZ5a1RoU3A5dUJsRU56MmRmVHVEWDBnVGM4MDRXb0hBczM5ODloYU9BWnRVSW9CUzlPbW1qVHM1ci1UTEJrRFE?oc=5)\n\n2. [[생생한 주식쇼 생쇼] AI·로봇 강세 지속…바이브컴퍼니(301300) 신규 편입 - 매일경제TV](https://news.google.com/rss/articles/CBMiaEFVX3lxTE03R19wUm4yR2s5MXR0NDdHWlRnbEtOTl9DOWpJNkVIbkdQTG13WmUwMjlzUVlfbm5XcWdXVjFsU0Jkd2xiaUttYVVKTW0xWGhoM3ZKSldFYTNqR0FEWllxMW1Zd2dzbHlX?oc=5)\n\n3. [바이브컴퍼니, 멀티모달 AI 기반 ＇GPT 프로파일링＇ 통해 글로벌 리서치 시장 공략 - 한국경제TV](https://news.google.com/rss/articles/CBMid0FVX3lxTE5COFRzdHBMeS1pbjBrZF9TNFUzd041dnlfemdSNWtDUUpENFZzMUFXUVIzempKNVN6eWpvQ0ZJbF9nbXQ0RDVOd1I4bkdQZHRYV041M2tGUlcxZXBtRF9nZEFOcHV1aE5tWVBDWFROeGZFb1liREpv?oc=5)\n\n4. [\"AI 관련주 더 주목 받는다\"...바이브컴퍼니 주가 29% 상한가 터치 - 국제뉴스](https://news.google.com/rss/articles/CBMibkFVX3lxTE1qZHFVcnJLdi1IcG1tY2lmTGRmaXVfRENpTHZRMEJJdVFiMzIwLWJVck5WckxjTkNNdkp3SW4zZElhYWp6UUVwcm5CRDFQTDRVV1V0MEV1X0lLaEVqa1NoV2RnUzFRSGxpZmFVTFdn?oc=5)\n\n5. [바이브컴퍼니, 한국석유 등… 오늘 추천 종목은 - 아시아경제](https://news.google.com/rss/articles/CBMiYEFVX3lxTE01VFJFdzFPV0JOVGExbVdpQ2RpRnhBWkJMM3NudzZvci1CcGx2X3NYT0Z1OWJNazVFSXJ6MkVZcThIaXVHU2dxZUdJX2hNWkJyR3dZajJDMXZaMXFHNlNHNg?oc=5)\n\n6. [바이브컴퍼니, 상한가 진입.. +29.97% ↑ - 서울경제신문](https://news.google.com/rss/articles/CBMiV0FVX3lxTE5zTGVrdFpmb1gtZWpwSklBbkxDUG5PZnRZeUU0ZWhTQnNEM19RUkpMZzNwOG1sOG1NYU1pZFI2MEExTlpvSG9sOHhrRmZFUnRvdG5mbXhyQQ?oc=5)\n\n7. [바이브컴퍼니 주가 더 내달리나...AI 판독 시스템 구축 사업이 성능평가 통과 실적개선 '솔솔' - 핀포인트뉴스](https://news.google.com/rss/articles/CBMic0FVX3lxTE1pa3pTQmFEc251T3Vub01RWVkyaktWOWZrYkpQcFBTOHBlVDI4Z2tHNmFnVW95OWFxT0xNamVuS2JhaWtBSU5WSHp3NVZCQy04X0lWYWFPMDg2aEJkVU83TVBDSUI4TGJOWHlURTI0WlZKcjTSAXdBVV95cUxPZWtiNHJTSEVzRklmSURid0l6M1lLX2JoSUpObThTeFJwM1Y3TWgtcFVBak9aazdwU2ZNOXU0R3hiY1l3ek5obG8zWC1sTlNUVUtXZW9Sc095QUhZN0xodWJyYldrbVQ1cVJpMGxpU3BnX0ZBVDd6TQ?oc=5)\n\n8. [바이브컴퍼니, +8.80% VI 발동 - 조선비즈 - 조선비즈](https://news.google.com/rss/articles/CBMigwFBVV95cUxQb0xDcmNXMUpkTnhWV29Nb3diNDdNdW5Kb2RqWjlKN2xsaU05VE4xUDV5Z3RoUzZ1ZXNvWE4xVmJKMFhCRm9URVlJSFVvLVdpX1RlcjJDZnZFamQ2U0dINW5aWU5aTE5LTmFPVGpmMTR3VmhsSWM4NDk0akVwN1h3c3dKa9IBlwFBVV95cUxONVZnMlVFeFBOWURPdV9xMGhSRWQ3SUNncmxseXdDdHRpYzl1TUhmWnF2V251WHZTREVLcThfR09mRDBwWC1VQkdpdHh6QWZxWlpERmwwUGg2Um5EalZYYkVUQTRscURBQnM0YkN2dk02WXU0RHpuSWtJOXBYZlBnODUyVzJNUEJETzA2bEtKbk5jcV9oUWpV?oc=5)\n\n9. [[더벨]바이브컴퍼니, 'GPT 프로파일링' 공개 - 머니투데이](https://news.google.com/rss/articles/CBMiZkFVX3lxTE5oamN3SWV1emF5em5QX3k5NVlEMWRBMEgyMFRCbnBHanQzXzF4MkNfSEZJU0ZiUXl3Qk42NnRyMjhIcmdtQU82YWV0MEd4M2dhbXZEcXhQVUgxS3dqT0NWMkwydWMwQdIBbkFVX3lxTE8wN1JhTXlVSV82LVhKWDlpZWhxb2xubEFKXzVFbFQ5cGhGX1UtcmM4aFNONWZZb1ZRZnlVQ2d0Nk5YbHl6dmh2NXF6WUNiRlU3WGtidU5GWlhJRFFXbDNoRzhESGNHQjRTZmFrNXZ3?oc=5)\n\n10. [특징주, 바이브컴퍼니-지능형로봇/인공지능(AI) 테마 상승세에 7.97% ↑ - MK빌리어드뉴스](https://news.google.com/rss/articles/CBMiU0FVX3lxTFBOY2RwMlNhUFVzZHI2VVY0b1FQTC1sSEVxdzN0b1paeGxzWk0wS013OTZxUkVCRzJ5RTlkV0tsWGlmVnVTTl9RQUMwbE1xeW9ZUk80?oc=5)\n\n"
          },
          "metadata": {}
        },
        {
          "output_type": "display_data",
          "data": {
            "text/plain": [
              "<IPython.core.display.Markdown object>"
            ],
            "text/markdown": "\n최근 7일간 '플리토(300080)' 관련 뉴스: (최대 10개):\n\n1. [플리토, 광주은행 8개 지점에 'AI 기반 다국어 통번역 시스템' 공급 - AI타임스](https://news.google.com/rss/articles/CBMiakFVX3lxTE9fSzhKMnV1MTAtT1ZWWWxnc3dCeE9yTUJEQ2FPMy1wMXFWMnBlY3dnVzFvbDlsQ3hacDk0VXhuSGNfX2pmSERDLUt2TWJ4dWVfWWlFTVFlS1lYdGtWSmYxUUhXWEVvX3RVQkE?oc=5)\n\n2. [플리토, 광주은행 8개 지점에 'AI 기반 다국어 통번역 시스템' 공급 - 아시아경제](https://news.google.com/rss/articles/CBMiYEFVX3lxTE5yTXJ0VHdiR2Eya3ZkdG14TzdaWWtfTlh3cTVQQnlhb2Z5VUJFM1pQVURKRGJ5U0JsRHltNk95WjBNVzBVRDJMbWlpS0xGSXI3blhoWk9KeDd2TllrOVNHVw?oc=5)\n\n3. [[단야선생 일도양단] 플리토, 팔란티어 따라서 AI 대세주 등극할까? - 딜사이트](https://news.google.com/rss/articles/CBMiWEFVX3lxTE9Sd3Zkd2FFWnBOeDktcTEwdDNBUUp6Z3RFWDlxTmJCTFNNMW5wenNIMWh1eWxaRTNvNmJ0M3RlVm1KSWZ1TlYtTno0Wk1NSlBURTFWckdNTkM?oc=5)\n\n4. [[인터뷰] “영어로 말하면 1초만에 한글로” 플리토의 실시간 음성 번역 기술 비결 - 바이라인네트워크](https://news.google.com/rss/articles/CBMiT0FVX3lxTE5PZjhzX1dZR1FmSFF5YzFvZXI5QUNQTC05V1JrN0E2WEFqSC1WZDN3UHA4WG9uYnphYXdZdEJHZXNoSjQtRHhwV3FZcHFHYjQ?oc=5)\n\n5. [플리토, 광주은행 8개 지점에 'AI 기반 다국어 통번역 시스템' 공급 - 네이트 뉴스](https://news.google.com/rss/articles/CBMiU0FVX3lxTE15ZlR2QkNxUlh6Y1RkSWk2cWpDSVFvWUJjOTBMZFQ4VmUtemNRZmlVdzljY2NZbkRBOWlrcDAySzQ0SHlkWWN2RnRtcVJJZHdvSkZj?oc=5)\n\n6. [특징주, 플리토-AI 챗봇(챗GPT 등) 테마 상승세에 5.36% ↑ - 매일경제](https://news.google.com/rss/articles/CBMiUkFVX3lxTE1idzlwREl6VVZ2aXZlUDgtcnQ1ODk2c0tNc2d4SHdTeExZWGRZSnlSWEhNbUs0ck1wRE9mYWNVSWpVUmpXZ2lhRXVhM0VGZUVoRkE?oc=5)\n\n7. [플리토·와이즈넛·인스웨이브시스템즈·이스트소프트 등 인공지능(AI)챗봇 관련株 강세 - 영남일보](https://news.google.com/rss/articles/CBMia0FVX3lxTE9nOWlhbmpIRHpwWlpQV25BY3JtUlo3eS1DbXRZUzg2eUl6cUozZThJMGZBXzRxMWVTWXFyVGFGMmFGVGVZTldVSEdjREstMk1zYm5SSVVwWkdqSFp4Wk0tMmhZd25XeThFOW1R?oc=5)\n\n8. ['딥시크 출시에 전세계 들썩'...플리토 주가 21% 급등 배경은? - 국제뉴스](https://news.google.com/rss/articles/CBMibkFVX3lxTFBraWNNdVl0YVZ4ZGtxXzFCNUdMYjRTMDBrTjhJenVjdTFTRFEzRlVuVmdQd3ZvSEpNazJRdzlmUlI1b0JMWUZoWWE2YXlvdW9OXzE1Z2tvTnF4NUR5MjZLcGtiUldDd2NVM3ZTem9n?oc=5)\n\n9. [광주은행, 플리토 AI 다국어 통번역 시스템 도입 - 플래텀](https://news.google.com/rss/articles/CBMiSEFVX3lxTE9vSUVhM19WdklUX3lZM29zb3JxYU9oX0ktWjFsVXUyVUFEd0dVcFhyVVJHSEFsYVRaOW85WHR3elQtV0ZhN2FpUg?oc=5)\n\n10. [[급등주] 플리토, +29.91% 상한가 마감 - 전국매일신문](https://news.google.com/rss/articles/CBMibkFVX3lxTE0yWWUxMWpBRXFDa1BNa0lzNF95dEZpQUNNQXFkeWdJaFpoUzlyVjc3RWl0eUk1NEdpdm1UMnZIbG53aUhaOXdIUkNwczQxMzZxcW13OVI3OHhrT21LdVJOZzhiYjNETUZqWlJQYWJR?oc=5)\n\n"
          },
          "metadata": {}
        },
        {
          "output_type": "display_data",
          "data": {
            "text/plain": [
              "<IPython.core.display.Markdown object>"
            ],
            "text/markdown": "\n최근 7일간 'GRT(900290)' 관련 뉴스: (최대 10개):\n\n1. ['딥시크 관련주 주목' GRT 주가 장초반 29% 상한가 터치 - 국제뉴스](https://news.google.com/rss/articles/CBMibkFVX3lxTE40Yjd3anI3ckNuWmk4dWlKQzB3bC1tbVBkQW5MUGZXRHcycXIzcW5PZUptcC1kUnE5N21zWkxnR08wZW90aXhjblpadlV3WC1XOG9lZmN1bmZNcEY0c2FrN0RMVDdzQmZTdW1mSXN3?oc=5)\n\n2. [[특징주] “中 딥시크 수혜주?”… 엠케이전자·GRT ‘上’ - 조선비즈 - 조선비즈](https://news.google.com/rss/articles/CBMihwFBVV95cUxNZ1V0TmpSQVdxcG0zMVotY2FubHVkSVZvdG1XMmo2MDVwRW1JUlJSWGdFTnp2Z3V1eDR0ZUZxRk9mR0t6TWQzNG03OTd5Wk1uUmFfeDRBcEVDUk9OY21hdDYyY01DNVpiVlJGOTV4c0NnZ25xSjhKa3FuZWV2R085bndYR3NzY2_SAZsBQVVfeXFMUFNxclZ3UjlILUktV2dWNGRBWFZoR21NUEVhQlhISG1VSE5YQ1UzYW1SdG1wLXRBVXBNV0tBX05aMlgyWUxtel9RYVlsajRKRHRuVjl6emJrRVVlQWtDeEgzS1VuczlCZVdiVDc2anVIUDVKZ0lCUVdJRWRtQzNrY0l3eDNDaklJVHpvNjNqRmRCSGthUFg5MU9mYWc?oc=5)\n\n3. [GRT·엠케이전자 상한가 직행, 딥시크 수혜? - 영남일보](https://news.google.com/rss/articles/CBMia0FVX3lxTE1TLUl3cVpGcGdmb2phdHJUTTRDUjZRZmN2SE9OZTQwU3NiWlRqQmNkTHBIVHpxczl3VzhZblc4ZXM3dk4zUmdFMnVTZGNoWWQwekpQZThjQUJIbXNmVlVfejU1U1l2dW5xQWYw?oc=5)\n\n4. ['딥시크 수혜주' 강세…GRT, 이틀 연속 '上'[핫종목] - 뉴스1](https://news.google.com/rss/articles/CBMiX0FVX3lxTFB1UkI5a3J0c3pCbEl6TXVCSGhCOV8xWjExNG9EeENSZU9WSWRjTm1YNm1fZzFueXZ5OUxiQzIyZEpBODFGc014OEh0eHdYb0FxX19KZmlYOEExS1ZKZ0tR?oc=5)\n\n5. [[N2 증시 풍향계] GRT·에스에이티이엔지 '상한가'…삼양엔씨켐·유니온머티리얼·나인테크 '급등' - 뉴스투데이](https://news.google.com/rss/articles/CBMifEFVX3lxTFBpc05SWTVaS3FHd1NOMFNkVFZVWUlTZVAwUEZiQkdCNjN2TDdiT182ZmtIa0w1Q1FRTm1zVllXSGpOaVNXWjJVem1IcDFsenVtbnpJbnRBR18wTXloUDk0c0M0c2tzSTFyZkJXZzh3UE1kT2JpQ2tIcm5vWWw?oc=5)\n\n6. [GRT, 상한가 진입.. +29.96% ↑ - 서울경제신문](https://news.google.com/rss/articles/CBMiVkFVX3lxTFBYbWJ5bTM3UkdOd0FDaE9rSE9tMkdidzYwemZIT2ZkbmlFeUJBUEx3czV5M0FEQW5uYVJUWUYwX1hZNkFoLWUzZW1MMHFRWXoxemhWdFpR?oc=5)\n\n7. [[특징주]GRT, 딥시크 수혜 기대감에 2거래일 연속 '상한가' - 데일리한국](https://news.google.com/rss/articles/CBMib0FVX3lxTFAxcEhjVUplZERaclZ6b3E3R0VEcnl4RTV5OWRwYlJzZndweVd4VnBRYUZ6aUVrRzlRSVNTUF9DdDRkc1l4NXFiaEhOa2FGQWJVOGRMbUc4Q2RNNXVlM2htRDhUdFBDSlQzMWQ5TjE2VdIBc0FVX3lxTE1nekoyal8zR2tDUE5jWEs4Wl91TlluVXNuQTF6ajNWUU0tNEd6RU03ZTdReUtYTzNEZW0xX3FWcWRaNkdkRXp0V1VtNWQ5YXBtUU1wNGVicWEwUV92RVNYSEQyQnRvQTFSUDZhOHBMR3hSZWc?oc=5)\n\n8. [딥시크 관련주 강세 지속…GRT '상한가' - 뉴시스](https://news.google.com/rss/articles/CBMiYEFVX3lxTFBmb3N3aFh4RG92UFhzeDFiakhfUEk1T2JEUjNoelNsUzVxY2lPRkE0eGQ2TXkzMEZJeVc5Rllxc0VlSlgxRGZjejE5RDcwOHNqSFhLdnJRZ1NRdVNfSllpbdIBeEFVX3lxTE5BRHJTZUhWaElOQ0ZrSTkwWWZfZ2lJRGo3QXItTmgzMmlfMVFveTFEc0dhdE1zOUFIYlNVWEVNS1ZEZW5USlVKWk5SM3NFcHQxQURIZ2ZoLU5mUGhsUkNNZTRadi1DeEw3bHNSVnN6d295RllUOG9sRQ?oc=5)\n\n9. [GRT, 전날 이어 2거래일 연속 상한가…5500원선 재돌파 - 이코노뉴스](https://news.google.com/rss/articles/CBMib0FVX3lxTE1XcVRnTHg3T1A3VGw5V1FfWWRPUHpaNnIyeW9yREstY2gxNi1zVG1oWG5FVGNIVE1uNW9zY2ZtSUFYZlVsWGtjYVl1S25JV0VuaXZoSXZHNGM4TkNQRFRIRGRNbnBlQ0JSWDRTa2xxaw?oc=5)\n\n10. [딥시크 수혜 기대감에…중국 반도체 테마주 '급등' - 한국경제](https://news.google.com/rss/articles/CBMiWkFVX3lxTFBsbnVtOXczSDJGckR4dXVZcEVUQk5jMmxrVm1wX2s3ajhzSVZpMDg5cU9zbEpraU1KaUV3ZEg1M1gwV3JVQ3FLcW1ObG5GUlJlZms1WFZXcDBpd9IBVEFVX3lxTE1mdEtDcnNBNjU0YW1hUEY0bnp1cVNUT3ExMUREdW5aTUR2Mk1FeERGdk9uNnVTcUlKblJscW5aZDR0c2M0RGVZcHJfVXgzQm1RLUI3NA?oc=5)\n\n"
          },
          "metadata": {}
        },
        {
          "output_type": "display_data",
          "data": {
            "text/plain": [
              "<IPython.core.display.Markdown object>"
            ],
            "text/markdown": "\n최근 7일간 '진양화학(051630)' 관련 뉴스: (최대 10개):\n\n1. [진양화학, +8.39% 52주 신고가 - 조선비즈 - 조선비즈](https://news.google.com/rss/articles/CBMigwFBVV95cUxNMjctaklIOXhyaWdfM2ZKeVM0ME9kOHVNVGJHc1M1WmdDem9IVHhGd1VFblM4WWktRnpyeldHZWlxbmctVExGM0V6STZXczBINlhWX0JfNEtJTmhqZ2I3eUlwMV9pQ2ZiQzBtXzFwV3JaLUZScHZRVGRtUTNZNUR4WDdXRdIBlwFBVV95cUxNX3otYmR0VE1iNURRdUt2ZnhFOUdOeXdFbm5MMDF3QTB1SllKVk42OTJlZEw2RVZTTWxWOGUzb3RsZ3pSZHgzN1JvZ1JmeTkxbXdLUE5XVWNXS0g0ZWFvRDBkV0xIS09UWk9ZQU5pZGQyMWtrc0E3NHdCSjZybVo2WV92QW5zMms3ZFVTNFIzMzhMbmtyRkVz?oc=5)\n\n2. [진양화학, 하락 벗어나 28% 급등…4600원선 회복 - 이코노뉴스](https://news.google.com/rss/articles/CBMib0FVX3lxTE50N3JYaWtvQkN0T2ZJdjAtTXZoY04yOEtacUk2ZVBSZ3hHTmFsc0lCcHcyelhUeGcxc0VHTGlZUEJQYnJNbkNXVnFQR3JLeEZ5NWIwXzBjQ184aHVDaUg5RG5mYkV1UXBkOTFpZzJPcw?oc=5)\n\n3. [진양화학(KRX:051630), 주가가 44% 상승한 가운데 완만한 성장이 장벽이 될 수 없다. - simplywall.st](https://news.google.com/rss/articles/CBMisgFBVV95cUxPMTJSY0MyWWtKVkRlMjFwYVE0b21vU3ZCMTkwMFpzTVNzRjBJOGNSekhVX2NxanNpa09uNXpwdXp2RUx4UWJNdUZQRDdSVmlkZTFkOTFjT0JnXzd3TXVmUnJPS3UzMGdxRWIwX3A1SV83YnV0U3JxUVhmMFl5SkpLdFViREcwd0x2RmtrSzFTZmdPUUVlemVnVXBHYm1PNGtsaUROa1k0SHlEdThfbUZoSklR0gG3AUFVX3lxTE5hQ2xZZXRJNGxZR3JsbnpaWEFUc2E4RVJRUlJVLTgxU0I4azdVYzgxaU5hU3VsMUJHQ28zRUFLWUtEYUlpa3dtSU04ekwybGlLMDdHeV9PNW5vVWd6TE01bVNYSnVTcVB6VmloVlA4SFg3WjNVclM3TFlhSTBDak1nNWpYT3gyNWo5Mi1NM19kRjFPU2k2cENJaFJLVjlJTW8zTFAzM1dNRHVmd2dUQ2ZTRWZfSER0cw?oc=5)\n\n4. [[오늘의 코스피 · 1월31일] 금일 상승주 TOP 10… 1위 '진양화학' - 뉴스브라이트](https://news.google.com/rss/articles/CBMibEFVX3lxTE9SWkh5RmlyWTk4Q3cxX1VPRW5PcDFYUGdkWlhqSEMxVjVseTc1QzBDaTNZb0ZtcEhsQmdvamROTlQ2SU85Q0xjWi11Z3RHd2hyZXFwMndpU25odWd6cG5xcWFhZ05BRnNja1lBeA?oc=5)\n\n5. [엠케이전자·플리토·라온테크 등 5종목 상한가, 진양화학·코난테크놀로지·에스피시스템스·진양산업 등 큰 폭 상승 마감 - 영남일보](https://news.google.com/rss/articles/CBMia0FVX3lxTE1jVklIUDRMaXBGcHRmX0tDbENnZ3l3VktnaEtyMHBHS3VCYjRVWDFlNXlyN1lxQ3lON2JvV2hsN3N2TlhQUGxkaTlFNWMxTnBvNV9Mc3BXQ0FXSXBDcTIxaThJTmxuQ3JLTW1Z?oc=5)\n\n6. [㈜진양, 경남적십자 ESG실천기업 63호 - 경남연합일보](https://news.google.com/rss/articles/CBMia0FVX3lxTE9tWlA5VlpZYXhQMHdCemRuZlZUTlZ3MXhpM3pLazVnYTlNb0lXMDBrRHhTNHViOVpBOTdaNnZ0NjNUOGE0dTBkR0R5SWxMeWhtWllDd25mNjU3LW1zQzFDalRqZV9MRldGaVRZ0gFvQVVfeXFMTXQyVEpORlhrN29SZzlYbHBHWkJlbGdydDdmZG5XQnhQR0ZIYmZrQm1xSUs2THNPN0lSbVN2d09DejFDblJNY1BOVm5YdDhnbUdDSGJQYndNcE1xNFlFRE1wYkQwZWhPQzk3UUtGN2hz?oc=5)\n\n7. [AI매매신호특징주 - iMBC 매수, 엠케이전자 매도 - 한국경제](https://news.google.com/rss/articles/CBMiWkFVX3lxTE1BOHEtblI4YWNxamhOaXFGMjNnWnBVRzI3OHJpS2dhcmhyaEp2M1BFTUVuNDNkVFlaX2dTNlJZajZIMjJPMUVUQ1BTaWJWSkNHenpUTVF1U2k2UdIBVEFVX3lxTE5LYXZoT3ZOM3liOEhoZkEwV1lCbVhFVGJGaXB3aGhpb2c4OThQZjVGcTA5anpvX3RzcDdxNkJYemJjbUktWEhPbnpPNThtbDVBbVZFNw?oc=5)\n\n8. [진양화학, +12.64% VI 발동 - 조선비즈 - 조선비즈](https://news.google.com/rss/articles/CBMigwFBVV95cUxNalpwUEZQaEJXRnFkblZhRDRYT0RSamZvSWRjdE5BVnRhTHpLQ0xVSWhfck1LQ2dzRGRYMDlWMzQySkNFZ2lkU3hlaW5xUnRLaThhOXRWZy1mck9lWE5SbWNTMHFVVnF0R0pDcDhQUVFzWDhhYnpxcXhRaloyODd1U2JVUdIBlwFBVV95cUxPNHRlSlNlRENaLW9YYUMxU0ZNQkRqQzFDQVVmRVVNbE8zVUIwWFFXTFF6cndoeklsLVlXMWdBZDI3aFNaWGRMMHctanRLZ1czSHVwb18xYXFSb2pqaHNLSXYtQjdrZ0xxQTRMcjFnbHZUVnpGTjVpaGdoT0Q0b0hEdUM1blFvMEw2R1VQU2RtUm1tN1BnNzlv?oc=5)\n\n9. [52주 신고가 - 코스피 - 조선비즈 - 조선비즈](https://news.google.com/rss/articles/CBMigwFBVV95cUxPbU1oMkF2TkVQbi1PbnRVdmNlN2M0UEU4X3JobmJlVEV5RG1sWDRHT0VXcDJ5VjVGbzRQLXNDcjlBMDBXcElTRVUwUXV3ZVpLYWNzMWlkdkVjUmxKUm5TLXp4eXdrNUxrcDIwbVlWSkd0UjRldml0VDdUeFVZQjNQYXZrQdIBlwFBVV95cUxNMWJ6eTI0MGFIanA2UVMxS0hqamE1UWF2aGVpSU9hVVA4N1d2TjVlNm56d0xKdm80bm4wSnJQUUp6OS1ob2Z2aEV2Qlp6OHZIZGQ3WTRSYy1VQ19xd3U3SmNLLVQyRC1xYzZkbkZDUGFrVnhMY2lETVlYX0lNcDkxekJmUmVEWHNBdFN0a2ZUdGMtTndVU1Z3?oc=5)\n\n"
          },
          "metadata": {}
        },
        {
          "output_type": "display_data",
          "data": {
            "text/plain": [
              "<IPython.core.display.Markdown object>"
            ],
            "text/markdown": "\n최근 7일간 '레인보우로보틱스(277810)' 관련 뉴스: (최대 10개):\n\n1. [삼성전자 휴머노이드 개발 본격화에…레인보우로보틱스 신고가[핫종목] - 뉴스1](https://news.google.com/rss/articles/CBMiX0FVX3lxTFBJN1hFTTBYV0d3eEx3V2NnUmN4MVhMSmpFTEI5N2Q2NG5tOXNDWENQUFIyNU5MZGdxNjNHa1BMczlCN3ZkWDFUdFNkb3EzejBaTkJYX0htX1I3dE1HOUpJ?oc=5)\n\n2. [이롭, 레인보우로보틱스와 협력 ‘복강경 담낭 절제 수술 전임상시험’ 성공 - 매일경제](https://news.google.com/rss/articles/CBMiVkFVX3lxTE9pY19oOFRobEhWelpuUml0OWtkckFuOWkwUVU0XzRhVUdPa1RESFlSblRNbDdieTU0RnM3R0NhaFIxVGt6VXpkQWFKd1VGb2NQUWhmdFFB?oc=5)\n\n3. [삼성전자 \"레인보우로보틱스와 휴머노이드 로봇 개발 가속화 것\" - ZD넷 코리아](https://news.google.com/rss/articles/CBMiVkFVX3lxTE1oSWF1ckdFWFZsR0dJUFhyWlN6bldIeHBwS3lPcVE3R1VSdWVkRm9zMDd6TE1zUGY4bUNXZ2NxQ3I3Y1JpY0UxSEF4UlFqcHpVZkxXODFR?oc=5)\n\n4. [[특징주] ‘삼성전자와 로봇개발’ 레인보우로보틱스, 1년 내 최고가 경신 - 조선비즈 - 조선비즈](https://news.google.com/rss/articles/CBMiiAFBVV95cUxNbThCT0JnMUxjNnA2blZnYzhDXy0tNjhvVFd5QU1XelM3UTZkZ01iVlp2OVMyVDUwRHJCZkxJelRUbnQ5NnI1WWp0VkMycEJ4cHNSa2RFWGFZYWdFZW1FQ1p5V19xVzJYM0tZbmowWVJYWDBFUElFT3Z0emtmZmxGVlNrZktwaEgt0gGcAUFVX3lxTFBKUnpKS2drck5UMmtPNjNoRkozOWE2ckdXTkoxbHdyZUVSbWZSVmRQdFpjU0lWREdTc1F4YzQxZ1dvRVNnZmRnREg2dFNFRlpmV0Rib3dhTnhyVmZiUnV3TE1JLXdGUklSX0JpdDcyekxsbXNaUXhYbHVHY3dyVTZGbkZ4RFNsTnd3V0M2cDRkSngzallqeHdPd1hEcg?oc=5)\n\n5. [코스닥...레인보우로보틱스 · 클로봇 · 삼천당제약 '급등' - 초이스경제](https://news.google.com/rss/articles/CBMib0FVX3lxTFBCX0w1SU5DbU1NY0xqZ2VoUDdJNUNTWU9fOWVKbkFLclNGMFhTN25hQVZxQU5McWxzSWowdlZ2WEVRakg0ekNYbTNybVJqUExkM19KUjFMZ3g2c3ZGOG5ITTYtYmpMSmR0blJwNy1BY9IBc0FVX3lxTFA5X05HRHo1ek9mNjNpS2xDOE9sZ29JVUFBUXFiXzg5Wm1vcUJlT3lhVzVDa0lzaEtMUEtxOG1FTTlscHBOTC1GcmppU3FWcUY3WUlvMDRkb0R0OUFZbVlXSDFxS2tqcklFTzQzbEdvak96VXc?oc=5)\n\n6. [“이건 진짜 미쳤다” 천만원 넣었으면 4억됐다…역대급 폭발 ‘난리’ - 헤럴드경제](https://news.google.com/rss/articles/CBMiVkFVX3lxTE40dzZ6bXVIN3hQYkphcXM4R0thelNIWGgzd09qLVB6SjBUdGJWQ2dtNTVrZk0yOXBBOUJ4ZWVTTFowLXd1Rm1ldDhXMHR0aHg4QVdZdi13?oc=5)\n\n7. [이롭·레인보우로보틱스, 수술 보조 로봇 활용 ‘복강경 담낭 절제 수술 전임상시험’ 성공 - 인더스트리뉴스](https://news.google.com/rss/articles/CBMickFVX3lxTE1HNDVNUTFWRUQzWWR6dXNPTlhVZGFGNlhWY1RqanVNX3djbW5tNHl2VzVxaV85M0F4dElqWEI3Znp1VUlfekdFQWhZSmR3RmdxV1Rkak0wNjczRlJSTU9zQktGSGY0aXh3UHN0SGREbE5rdw?oc=5)\n\n8. [코스닥, 개인과 외인 매수에 상승 마감...삼천당제약, 레인보우로보틱스 상승 VS HLB, 클래시스 하락 - 이코노뉴스](https://news.google.com/rss/articles/CBMib0FVX3lxTE5zOGg2WVNQZm92bFhDbEZ6RzdtWHlmVXJVT2JZa0JtV1BjMmxyLUlaTk10QjkzMDlyWk5EZExIaGZUMnFFUGhLN2JRNUhiRWtXNXVTblRkaE1JVHV4bmdnbmhST0FnQTFwREp3VkItZw?oc=5)\n\n9. [AI와 '찰떡궁합'…\"대박이네\" 외국인 1400억 쓸어담은 종목 - 한국경제](https://news.google.com/rss/articles/CBMiWkFVX3lxTE9JZXRTZDhBVVNxUzFyX1IyT2owRkRqZGxNVnNyYmZUdWxLWjJYUG9BSTVBb3VXNW9ZZGRSZFoyTGtZNDQtNE1hOHJlRHpYRlNOYjJXOVNVSzJHUdIBVEFVX3lxTE1ENVMtOEJXQVNJU2E2TzhEUjdkWnNHWjdNekRVT2xVcnc1Nm5sSVZBbUJoTXJsZFQzR0VZcjVULURLM21VeWU1YXVLNXFkaTl4b05MdQ?oc=5)\n\n10. [[급등주] 레인보우로보틱스, +3.34% 상승 마감 - 전국매일신문](https://news.google.com/rss/articles/CBMibkFVX3lxTE8xS29heDhJUm5xMjdfaWlpS2R3U0w2UmNjZmlMcEFqM1lCckdfVnR1ZG83dERQamN4R3ZMM2x4LWo1TDBRVW9PN2tPbUstblE0X0x5S0pOcVIzcWFkT3Jfcmk1TmtzeERYRVF5UE5B?oc=5)\n\n"
          },
          "metadata": {}
        },
        {
          "output_type": "display_data",
          "data": {
            "text/plain": [
              "<IPython.core.display.Markdown object>"
            ],
            "text/markdown": "\n최근 7일간 '에이원알폼(234070)' 관련 뉴스: (최대 10개):\n\n1. [[1월 31일 코넥스 시황] 코넥스 일일 거래대금 20억 원 돌파… 엔솔바이오사이언스, 전환가액 하향 조정 및 주가 상한가 기록 - MSN](https://news.google.com/rss/articles/CBMirAZBVV95cUxQYmp1SDRxM2hGaV9nNjdSdkZfY25GcUxEVHRxX19TT1lDR3g1NU5jWlBxSU43aTl2LXBrSzBNZ2Yxc29kaVI5WkQwVm5leWZFX0VJTmRYaUl0aW8wRWMzS3ItZ2tWVndTYkVmbDlMdTAxNE5oSm4xaVdhM3lOa3RTbnJwSV9GZzNPRkd5WXdCUEpqTmtNTlJaMVJ2OVR6LWEtSzRWVi1sbmtiWlV6RlY5SUkweHZrWHgzandhU3pXeUd3NDE2QXBPNmZqcVI1bjBmamxDSXdVenFMdTdIbWJIamxXT055ZlhJVkMybnIxLUJpN25FbDRKa29HLU1leWFzUnRQUFlMQ3U2VHJadzBFdjRnT01PUXNRSUpEdWZ5WldWZ3NJOEY4Sm9odzJtRTJVcThTOF85MDlxajd3cDNPdGszSkxkSVFFQmRfN0tfLXJjZENWSlF4Qy1XUnZWMWVhNUFHVy04VjZPV3ROdUoxWXktNXJzWGMybHNtRzFMR1VoeVJocXUyeTl4YmgyZW80WmFOWGFVdDIzelBfMDBuSmtuS29oMHIwMnFoa05GZWNhQXFXdzc4X1hOQ0lfNEpZOWlPSk45aWxvTlJSdDRENmJkNGhNaFVOUWxfVlFzQks2SnlpdlZOdTlhM1p5NTVMNDlLekU1N25rWkVMcElXZWFkaElnZXdLTi1uWXZ0dWlQVU04UlZEdXo3TTh3RTA5dEN0MG5fVFBSdWs4QUMwZWVRbjQ4Q3kwUTNVTE4yWGU4VHlITXpCMUVGdEJCRFUwODI0Y1J3S1ZHblRuOEJSU2VOeTFQeGlXX1pqSTdGNmhLNXpnZDRpQk8xT2NMQTJuYzUtLThGTmRiUDdycnZnRkMwQndXTmhsWk4tUmp6N2pUY09SNHROeF8za1ZPaE5VUllmQnlWbk9qQk9jaUszaDF6VXN3Q3ZTOXRUUGV4SU1WMDc5blRYR0diemNGbjR3b0t5bnZ6U1NYQW1fY1V5cVB4ekIyR3RTYl9WdWI0MnpxMTlpNzcwbzNPcEUwa0lqUWFHV2FvbGhXWWc0bXh5N1BwaDUyNDMyYXJ2VA?oc=5)\n\n"
          },
          "metadata": {}
        },
        {
          "output_type": "display_data",
          "data": {
            "text/plain": [
              "<IPython.core.display.Markdown object>"
            ],
            "text/markdown": "\n최근 7일간 '엔솔바이오사이언스(140610)' 관련 뉴스: (최대 10개):\n\n1. [엔솔바이오사이언스 \"진정세\"...한달만에 두 배 뛰어 - 프리스탁뉴스](https://news.google.com/rss/articles/CBMibkFVX3lxTE5FbEtmYWR0X3FQS1dEQjJxVkU3bkVkZEotXzdHS1JQbGtoT2M2NjVHV2hkUWhZX1YydVhPaEdTZmZ6X2ttRHJKWXZPeGJSV3QtbTZvX0xjSFlSdkh4ZnoyWW5IYUFsZzh4NnNRZTBn?oc=5)\n\n2. [엔솔바이오사이언스 사흘째 \"최고가\"...코넥스 자금 83% 몰려 - 프리스탁뉴스](https://news.google.com/rss/articles/CBMibkFVX3lxTE5qYl9pbHNXeUtTYWR4MXIxUzMxeDRMUWpQdUZEMEJzMUlQQ3hxMXFnNEszWWl4UnJpZjktWDJ6NERMU3RudDMzRUhKODRkYW44aVVSR1FFbDgxSG9YZ3FUSk9XdnpkRnJPdmx5anFB?oc=5)\n\n3. [엔솔바이오사이언스, 일주일째 뛰며 코넥스 자금 84% 끌어모아 - 프리스탁뉴스](https://news.google.com/rss/articles/CBMibkFVX3lxTE40ZUxVOVlPLVQ1Vm8yd0pWZERWRDBRdmRUZENCUklsRzBIMExTTmI1b1Bibm9JQzEyb1dMNk8ydXU2anZQQV9zc3ZWTU1LVnZpOUYzT01oRHEwakc3TFR0dVhSRDFZZzh0NGY5VW13?oc=5)\n\n4. [엔솔바이오사이언스, 일주일간 +55%...1년만에 10배 - 프리스탁뉴스](https://news.google.com/rss/articles/CBMibkFVX3lxTE9rZ3d5ck1PNElVRkZfYWs0Ni1KR3VvaTB6OFBpX0FxVmNMN2d5c2txV2JOcF9oLURFWkdDMFFZMW9FdkR1Vkl0eFZsSVhqU3M4aEN0Z0l4RFNiQTZZZWZCY05HaHhXRWt6d2FQb21R?oc=5)\n\n5. [엔솔바이오사이언스 10배 뛰었는데...걱정되는 이유는! - 프리스탁뉴스](https://news.google.com/rss/articles/CBMibkFVX3lxTFBnOElZWG5aemV2MkYzdm5MZ19kaUx4NXpWZW5rX0RjVnh4WVBSQktsMWJlZF9QMDFEaEJKTWdhRUp1bHRuaEtzM3BSaTVjSTY4ZEMzUDcwQkNmb1U4SV85bUJra1BrU2tFR1NXM2pn?oc=5)\n\n6. [[코넥스시황] 엔솔바이오사이언스 닷새 오르막에 상한가 - 프리스탁뉴스](https://news.google.com/rss/articles/CBMibkFVX3lxTE9ycDJFNFlEUE5MaXFuM21McF8yYkpTSGdXSU1sdVcyZENvUlcyLWFjSzJzX1VYV0dULVZRd3pIdi1wcDBySzF1cGxCN1JiY0xkTXBBckg5Q1VCVTh6LTBKRlFQMzl6T3k2SHlHaE53?oc=5)\n\n7. [[코넥스시황] 엔솔바이오사이언스 +13.59%...투자 자금 \"몰빵\" - 프리스탁뉴스](https://news.google.com/rss/articles/CBMibkFVX3lxTE94WjNrUWRQVTRHd21Xc1VwU2pDLXc5am16eGdwdGNtM3dXUGFnTnF0U2dhbmNwMGpMN0lEdjRTWmVNXzgwNy1TdXJPb2UtaGZSV0tUeUxkQ0YwNEk2SXBydlRSeW9BcEN6YURtOU5R?oc=5)\n\n"
          },
          "metadata": {}
        },
        {
          "output_type": "display_data",
          "data": {
            "text/plain": [
              "<IPython.core.display.Markdown object>"
            ],
            "text/markdown": "\n최근 7일간 '루트락(253610)' 관련 뉴스: (최대 10개):\n\n1. [아스테라시스 주가 휘파람...여전한 인기 배우 '하지원 효과' 톡톡 - 핀포인트뉴스](https://news.google.com/rss/articles/CBMic0FVX3lxTFBmQ0hxXzN4MnRhaXZ4bl9RRWJsV01SVXJMUVlOUjJZM0IzR1ctQ1QtenFqeTJ2LVN2Z0tIaENTcGFvNXd3VDhNUFFFY1d4c08zUXk2U0xWamx6QjBrUW9pcThXY3hMUGZiWHd3Zk56a2psSG_SAXdBVV95cUxNbnhaZDBXQUF0ZWZZaHdUbFZkeFFoUWtWaW1QdTlaZmFkaFNFVU5mUzNlN2pfSUlZSTY2ZndGV29VN1N4UHNad0tVX1ZpZlZlMmZYbkh1NTNDUDM5b05KZjRGQUNoSExyYXdDVk1Kb1Rra2g5aUxTdw?oc=5)\n\n"
          },
          "metadata": {}
        },
        {
          "output_type": "display_data",
          "data": {
            "text/plain": [
              "<IPython.core.display.Markdown object>"
            ],
            "text/markdown": "\n최근 7일간 '한국무브넥스(010100)' 관련 뉴스: (최대 10개):\n\n1. [한국무브넥스, 5거래일 연속 상승에 25% 급등…52주 최고가 - 이코노뉴스](https://news.google.com/rss/articles/CBMib0FVX3lxTFBfYmZscFRvcXA5Y0t3UTRDM2oxWmVhTUZGMkRrZ3RqN0dGQ3ZyTjcydURqOUdNc3JWWHNKS0dLdVNDT1lLbTdXZ2x3Yy1RbF8zUDVRUk9qUy1FUFpTNkNZc3FjM3hwTFczelYzVXdRbw?oc=5)\n\n2. [[투자원정대 동행] 솔트룩스 vs 한국무브넥스 vs 에브리봇, 공략법은? - 머니투데이방송MTN](https://news.google.com/rss/articles/CBMiZEFVX3lxTE5uQUsxcHlWZ3Q1LW4xMlotV1UwOWdTRXZ4Y3RnUjRBcmdVaVB4YU1iRG5rZkhBdGN0elJCRlZBa1pRd1AzZTN2MXBvemVISTBOcVdHWnhyQndhaFNuOWRpQmNpUEY?oc=5)\n\n3. ['한국무브넥스' 52주 신고가 경신, 최근 3일간 기관 대량 순매수 - 네이트 뉴스](https://news.google.com/rss/articles/CBMiU0FVX3lxTE5qM3Jxc2E4RTRLaUVveVBubFZ5QXFSc2JYejRkTGQzVGVLYXZlN184eG9oVHM4UTFYSktmczM1bjVydmR6S1BSMjYxanFHdFpUOGZZ?oc=5)\n\n4. [[특징주] '보스턴다이내믹스 부품 공급설' 한국무브넥스, '환골탈태' 가능할까? - 아시아타임즈](https://news.google.com/rss/articles/CBMiXkFVX3lxTFBTRGxmeFhqaEpkMmt5SmV1QlVkZ0s2bGFWNE9CTkVUMXNyUDcwbFBydDlLX3UwT0cxd0J3MG42WThFX3FqQ2tsdkpHWHVXUXdsVjQ3VFlVb0gtNVRzR0E?oc=5)\n\n5. [한국무브넥스, +8.41% 52주 신고가 - 조선비즈 - 조선비즈](https://news.google.com/rss/articles/CBMigwFBVV95cUxPSGtWMElPM0hJZ25RWmhFdU9JWlJTY04xeXU2NnJPVF9jVjZXa3dFaE9XdnFoWWstbXlkeE4tRGg0UU9ta0d6VjRaWjYzZmNLNDZrWXJHOVlnenVSZnYyTEt6NFVJTjZObVpuZEpIazJsTkJXbDZ6Mk9yRExWUERyS0J6a9IBlwFBVV95cUxOM1ZqSS1xWGVnYUNCTHJqU3cyTmRpREtLam93VDREcllmN1RIb25BX2ZoMUM2QkNhdUJnOEp2Q013Y0xMTDJoNGhwak50MnVVQ0pQSjNHdm9zcWV0SjFEa2J3M3E1NFhXS1h2Tm9aeUwwa2o4cnNfdDVuYzgxM0lfYXlycVM5aF9UOWI0UTU2SFFEanNVYjBF?oc=5)\n\n6. ['한국무브넥스' 52주 신고가 경신, 최근 3일간 기관 대량 순매수 - MSN](https://news.google.com/rss/articles/CBMigANBVV95cUxOMGxEVnpLQ21wUjM3RHFFczZNWXdIRURaMGlwaTkxaXRSUnBQZm1CWlRWMmVzQ09hR1hEQWFyVkRTSkpIV1NtTi1OY2lkb3RoUE1JLV9KTGFjdlhSOFUyMlZQV0tza0VkN0hhRFNTUHBUQzhPOUJnSlJIY05CdFBkQzE2cUtUbGFBek1fc2VSRkVRRE1vbVIxTkhyZzdlbzhDZmtzcEhfcjhSZjVwZkU3ekhxMFlyT3FFSmRCVXNTRFpYQWczam5qbTBHRW90M1ZJa2xoWlJGZ1JNdUxFUWd0TXNuU0h5MlN1d1k0SmJ6RXhpVXFuTUliTDQ5UmZETkJXbHI5TTdwTC1ST2I3UzdtUFFNcXp1aXEzLTdEWV9vUDJOQk5MSjZGZXAtZHh2ajdIc0F5YlJsVEFQZDc0dS02eFJ0LTFjWU8tS0pHUnhVVVZFa0RIQWlqQkltaHVxZUxRYlpSRG5fUk10X1ZnaFFHUkNIbGlFSzRiYThFbkdrUEY?oc=5)\n\n7. [한국무브넥스, 20%대 상승…연일 강세 배경? - 영남일보](https://news.google.com/rss/articles/CBMia0FVX3lxTE9KQkUtUlRLbUNGdmRCcWVzakEtVkJZZVI3czc0Q0s1WENDWkpFOXkwbFRwOExSalc3OEJxZzRzN2xMb1F3ZnN5R196NUJWZjFmRkxmVV9hVFBKLU51NDFMODgwamtjTGlaNTdn?oc=5)\n\n8. [한국무브넥스 오후 강세..유레카 수익률 39.3% 달성 - 한국경제](https://news.google.com/rss/articles/CBMiWkFVX3lxTE9fYVhsUl9Ba2g2MHk0VUtNMGlWQWo3anRadkVVMVF5OWxRejZpVUdFdlRhMHFrcDdjSnhwa0NSSGZhWFhtLWxmUGVWQ21yeHQ4MDRiOERxLWtWUdIBVEFVX3lxTFAyVGJjOW5Bc0ZCeFNPY0ZrNUV0X0lyYUcwNUJRUjcwR000aVlRaWh6ZlVMZDZ4ZFV1VVB5X0hMMVlZYWcwdjQ5SFczbmszN0dwSTZ3Vg?oc=5)\n\n9. [한국무브넥스, 상한가 진입.. +29.84% ↑ - 서울경제신문](https://news.google.com/rss/articles/CBMiVkFVX3lxTE1BMXZTOEpmRWlRMldJV1Ixd2wzcVhJYmpydVVPaHBrUDQ0eW9HMzkwaDl6Z19ZYWlOZVVydlpjZ3VuY1NfY3FTQ1czS21Gam5TSDNPRy13?oc=5)\n\n10. [[특징주] 한국무브넥스, 현대차그룹 로봇 ‘보스턴다이내믹스’ 납품 소식에 상한가 급등세 지속 - 와이드경제](https://news.google.com/rss/articles/CBMibEFVX3lxTFA5cjVlUEZ1SzMyTFMzN3FaYWpwU1U0Y296WXBEdkx3R3hIZV8xcE8zN19tTmJ5OTk4bU5VMzdwWVZZT09FUlNaaFF1WklkUnJmdkZtNWkyaWk1ek9Uc3JjZkJ4bVM0Q0Z2TmN6ag?oc=5)\n\n"
          },
          "metadata": {}
        },
        {
          "output_type": "display_data",
          "data": {
            "text/plain": [
              "<IPython.core.display.Markdown object>"
            ],
            "text/markdown": "\n최근 7일간 'SOOP(067160)' 관련 뉴스: (최대 10개):\n\n1. [SOOP 주가 상한가 '터치'…생성형 AI 활용 기대감↑ - 중앙이코노미뉴스](https://news.google.com/rss/articles/CBMicEFVX3lxTE03eFI2WWVuX2ZnQWlqRk14SFJidGNFekItc2ZTYzhvVl91YkNwakp5LVR3TFpYTVFYWlg5TUxjVlNaTVVERlBCS2JSbldGUXZFMkJxeHp3dDNDRFZkZU94NXJPLTdfTDNNVk9ob1VLejk?oc=5)\n\n2. [SOOP '선택과 집중'…프리콩·오픈스튜디오 해외법인 정리 - ZUM 뉴스](https://news.google.com/rss/articles/CBMiT0FVX3lxTFBZb25vbjgwaEs1V2RNWjdpT0FHajN2blRiQnNlUy1zcnN6WVdkUFRZalB1aE9BWi02al9Ial9mY1ZZcjVZV3FMRnFCT01leFk?oc=5)\n\n3. ['한갱은 핫했다!' SOOP, 글로벌 전략 변경에 사흘새 44% 폭등 - 스마트투데이](https://news.google.com/rss/articles/CBMib0FVX3lxTE9LcUljbGxoQ0VkdlRodllaVno5aHJuNFZmR2dPWS1yNFdjcEcyY0hoV1BwNXJ3RTEwejRSa21KRHRNTkFZb3Z5cUZDV29xVFZPR2dQWW9ZNGJxeUsxejE2Vl9qY0pqZUg5MXFBX1gxcw?oc=5)\n\n4. [하나증권 \"SOOP, 전략 변화 효과…글로벌 트래픽 확보 핵심\" - 네이트 뉴스](https://news.google.com/rss/articles/CBMiU0FVX3lxTE9EV0liUXlNaWZ3ZUw4c2VmbUtfSFBNNXp3bUtEbUpCcDhDWlNicW0yenE3UTFJeDR6ejdVbkFSOUo1RXBnbzZGWXJXM2pOTzdhcXg4?oc=5)\n\n5. [SOOP 주가 급등 왜?…후원경제 성장 꾸준 - 일코노미뉴스](https://news.google.com/rss/articles/CBMib0FVX3lxTE95T29tZk9MSER6SWpFdHl1M2djVC1lUmFzdU9lZWZUWjByV3RqMWFYV2FhWVNueXN3Y09xemdsNGRGcnBJZXRza091RHpyVlhXMzBzU2N6N0N0R2lCQWZCYmY0d2JZeG8teENNbldlZ9IBc0FVX3lxTFA4cnUzczQ2Y0ppdzNmbnB2b0pVTlFPOG1YSlJqNzEtdlNnSXBFM203NFFCWGtmOGZQRk1tWjRtUGNhU1B2MXE3WW1MNENSTFk1R2kzcFc4dldzMHdUNzJBNHdNekFTcVN3dzROTElwZklyY3c?oc=5)\n\n6. [SOOP, 글로벌 서비스 성장 가능성 확인-삼성 By 인포스탁데일리 - Investing.com](https://news.google.com/rss/articles/CBMicEFVX3lxTE0tRVVjUW1kcUR1QzcxTFFmSDd2SmJqVk5WVVhDT3dtTjlNVHcwNG5oYUZFUzNQcnlfWVFqT1pkajRJbWpaYm1oYXN2UWtOZXFSdUROc0Y3ci1LRXJzMS0teW9CZkU3NUd3ZmRZOW5COWk?oc=5)\n\n7. [SOOP 주가 급등세...글로벌 기대감으로 상한가 찍었다 - 테크M](https://news.google.com/rss/articles/CBMiZkFVX3lxTE5waHFQUVI2WU02U0VJMVl4YzJNTjZVaFY0ajJFcGxXX2ZfTTJ2cUxSOXNLT3RyY1FwTmotOTRjNUlvc2RyX1RvRU1yX210cnhSS3NQUlI0YWoyRkZUY2o3Z1Yxd0Jld9IBakFVX3lxTE1Cc3o2XzBqMmg5UTFoM2RGRXZvMnF4MDZPcnpFcEp4YXppQlB1R0d3WlBUbmgtSGRqRUt5T0kxQ0EtQXpWOW1sREJYOE45RlZJNnFWMnJyR29pTWFRNGNRa1JFb1NoSmZ6cnc?oc=5)\n\n8. [SOOP, 급등 배경?…NAVER·카카오·더존비즈온 등 인터넷株 일제히 상승 - 영남일보](https://news.google.com/rss/articles/CBMia0FVX3lxTE0tbXludmRIeGV3NHFBc080SXJjdXk3LVBsMXg4R0lFSmFqUkVnUF9aZTA3MjZVd1NtU1FpUFd4d01SeVNsLWZOMW5pQU5rM3BCRzhZOFZibUhtZjJBa25CX2lwVEc4a0FFYUlN?oc=5)\n\n9. [\"트위치 철수 효과 끝났나\"…치지직에 밀린 SOOP 내리막길 [진영기의 찐개미 찐투자] - 한국경제](https://news.google.com/rss/articles/CBMiWkFVX3lxTE9NUU8tZ0pQdzdHRkVsUGdZN0FWU2k3SlU4dlV6a1R4YlRvNTJRRXdBSGxUTnFUUVhOMHNOSTdtTDI4S1BkdXRkV3B1NWdQMmUyWDRuSkh0aGZ2Z9IBVEFVX3lxTE1vaUxzdlVsTnV1ejFGZFlhYWxINzUxcVE1c1hscy1JRmZka2VyR2NYakJ1YzRzNDcxWlBUQzJwcy1kelpWR1VZYS1mX0xaeWNtQTlHZA?oc=5)\n\n10. [SOOP 주가 올해 첫 10만원 돌파…16%↑ - CBC뉴스](https://news.google.com/rss/articles/CBMiaEFVX3lxTE1FbnZhUmhVQW9CdmVpZkFGektCVllxYzZTdmE4UkZsRVpmWGczRlRmTkRYUGhwdVZNeHdmcjNIMU04UC0wdlJXcXpZMnZSZ1ZYLU5lRWlKbS15QVdsNWMwSzRDOHNadVpT?oc=5)\n\n"
          },
          "metadata": {}
        },
        {
          "output_type": "display_data",
          "data": {
            "text/plain": [
              "<IPython.core.display.Markdown object>"
            ],
            "text/markdown": "\n최근 7일간 '카페24(042000)' 관련 뉴스: (최대 10개):\n\n1. [유튜브 쇼핑 시대…카페24, 52주 신고가 이유있네 - 아시아경제](https://news.google.com/rss/articles/CBMiYEFVX3lxTFBaNTAwWEFoR1ItYXU5NWlmYi1hUTg4Mms1WHlYQzdTM0NDdDV3cXdmT2tfVElnMHZJNG4zdVYwYllDZzNWS0NTdXZ5c1VNbDFGUU9TSHFPRm9yaWlJVUZObQ?oc=5)\n\n2. [[클릭 e종목]“카페24, 유튜브 쇼핑 기대감 유효” - 아시아경제](https://news.google.com/rss/articles/CBMiYEFVX3lxTE00YlRUY2dYVW44VTJUM0tlc1MzVjRjaXZpNXBlYy1GQnJwWEd0V0pySWJHakxaSl9xM25Vd3E3YlZxTWF3Tmpjbll6Z0VPVXJjTTdlY2JadDVZbEhRYlJWWg?oc=5)\n\n3. [05일, 외국인 코스닥에서 삼천당제약(+21.69%), 카페24(+3.69%) 등 순매수 - 한국경제](https://news.google.com/rss/articles/CBMiWkFVX3lxTFBYT1ZibzZ0Y0hfbVhTZzMtV3RGWC1zN2RON1dMM25ZQXVYZjNlOVJfdG13WnZuX3hBVTFFM0hIUDl2bTFnTml0bFFwejNTX3lmM05DU043eHJkd9IBVEFVX3lxTE41c2RmU0F6NFRmNi1CMENNN1JsVHZNMnhYUldWSXo2NDhKdWxaNTdDS1RWTzVXRVQxcURlcG80X3VCcFNRVlA2UFJPTGRuLXhVektzVA?oc=5)\n\n4. [유튜브 쇼핑 시대…카페24, 52주 신고가 이유있네 - 네이트 뉴스](https://news.google.com/rss/articles/CBMiU0FVX3lxTFAzYVgxOE1KeHNxMmdveXNzaUxpYThBZWVOMk1UdExUalk1OUNZdkliUWpJV0NNeElPWWZEeEN1UF8yQjdKSE1tSEdfdDE1V2pabXZ3?oc=5)\n\n5. [[MK시그널] 카페24, 유튜브 통한 컨텐츠커머스 시장 성장에 주가 상승세... MK시그널 추천 후 상승률 39.73% 기록 - 매일경제](https://news.google.com/rss/articles/CBMiUkFVX3lxTE13cFNOZldCbDY4S1phTERCZmZMMk5sN2Q1ZG4xclJEUl9LbU5PMHNxWTM5bzJ6dFN3eWdTODFkYWR5NzJqTzd1ZVFoR1NqZURoU2c?oc=5)\n\n6. [카페24, 전날 이어 10% 급등…4만5000원선 재돌파 - 이코노뉴스](https://news.google.com/rss/articles/CBMib0FVX3lxTE52TS1hc3JaTEt3Q3VhOS1rdERJN1RzMm94TEFqOHJvaTNWYk11VjJYMklJVWM4NUt0WDJXVVFybFhlR19VT1ZZbmdsdWNIY185eE54OGd0YUVLUGY0eXZOb0xGcW5POFRwa0M2T3ZTdw?oc=5)\n\n7. [[생생한 주식쇼 생쇼] 카페24(042000), 유튜브 쇼핑 성장 기대…신고가 돌파 도전 - 매일경제TV](https://news.google.com/rss/articles/CBMiaEFVX3lxTE9xRG9QbmYyeWJucWNreEUxRjF4LURMZUl6anRmRGRIZnhsamRtdWdoX1FTeDNuRTEzSnI2X1BTcnpCRGlMNmJDRjZwQ0I0LUI0RFVHRkVCWFBSMzRBOThuWGVXazNyc0s0?oc=5)\n\n8. [코스닥...알테오젠 · 레인보우로보틱스 · 루닛 · 카페24 '껑충' - 초이스경제](https://news.google.com/rss/articles/CBMib0FVX3lxTFB2X01ackxuME9iYUhCdXJaVGc5QkpRT0h4Tk54UkRNelRnWTlUcjEwMlVOTkM0a0lmbjRXRk5uX3ZoR21OTlo0aUVnTGREcHFVRXlCU0lZXzhoSE9OMG80MnBfVUlIb3NSR05ldnpLc9IBc0FVX3lxTE1xTjRrOWRzaGoxMGNZUU5iVHdMREJFem1vc3dVTU9GbmNhX2p0THR4b2dvVnZjalllNDdFLWY0YUlKS0g4LUNkTmJHSFRfTzFRaVFYZjA2UWo4dUhCNjB3cmpXck1iR2NyQ3BvZjZRUzVEclk?oc=5)\n\n9. ['카페24' 52주 신고가 경신, 외국인 7일 연속 순매수(92.9만주) - 한국경제](https://news.google.com/rss/articles/CBMiWkFVX3lxTE81bVU1aGtsblplejZBT3RCTkY3RExsWTZZYWVjMGJIWG02X2tqOVNpYmM5T1NhNmFXYmJKZEg3U2lkZHJ5T2lzdmpXNWRTOHNyYXlYQ01GQkV6d9IBVEFVX3lxTE1qY2dfTVE3dzJFQmRScDlrNXd6NHZaLXNvNFdMTmd5WmxSNnhzb1UxdGN0bnpZbDJKaHd1UjcxZm42cWk2QWQwZ1ZQU3NIcHVOeVNleA?oc=5)\n\n10. [카페24, 3거래일 연속 상승에 14% 급등…5만3000원선 재돌파 - 이코노뉴스](https://news.google.com/rss/articles/CBMib0FVX3lxTE1pOHJKRUpBNG9HMG43VFpla1BHNDJjWnk1bmQ4bkh1T1Z2ZzRzdS0xVFVHSzFKZmtnenNaa1VPZWNOamtuelJ4OXFlcWRlOVBZMGI2X0EtNVpkT3dFQkg3WjRBWUJmTHV6QzFCNFVvUQ?oc=5)\n\n"
          },
          "metadata": {}
        },
        {
          "output_type": "display_data",
          "data": {
            "text/plain": [
              "<IPython.core.display.Markdown object>"
            ],
            "text/markdown": "\n최근 7일간 '솔트룩스(304100)' 관련 뉴스: (최대 10개):\n\n1. [솔트룩스, '루시아 2.5' 13일 공개...\"오픈 소스로 제공\" - AI타임스](https://news.google.com/rss/articles/CBMiakFVX3lxTFA1NllfNFp2X2RNN2twTnNlVGpqdkgtazhYWVRlM2FPcUZ2THNpdE5lUWloUzlLdUZLZ2dzNWNXUV9OeGJHTjRydUJ6UGF3S2xTT0t1cDFFUXB4SkVWY1ZwREJjMEpNOENzQ2c?oc=5)\n\n2. [[투자원정대 동행] 솔트룩스 vs 한국무브넥스 vs 에브리봇, 공략법은? - 머니투데이방송MTN](https://news.google.com/rss/articles/CBMiZEFVX3lxTE5uQUsxcHlWZ3Q1LW4xMlotV1UwOWdTRXZ4Y3RnUjRBcmdVaVB4YU1iRG5rZkhBdGN0elJCRlZBa1pRd1AzZTN2MXBvemVISTBOcVdHWnhyQndhaFNuOWRpQmNpUEY?oc=5)\n\n3. [[강세 토픽] 클라우드 컴퓨팅 테마, 솔트룩스 +13.96%, 더존비즈온 +8.62% - 조선비즈 - 조선비즈](https://news.google.com/rss/articles/CBMigwFBVV95cUxOTzd3cGpUeTZHSW9LRWt2YWEteUhaa0pVUXFaUWZMMXRvX0RHamxUaFRiUEswMFU3b0tPb2dxSldMVm5FcFl6YjV1WHV3NXBCNFVvZzZ4OEc1YTMxYnNfXy1CNHdLUW8xRk9rdG4yVzZkLWhneTEtVFFWeEtwYU14SXM4VdIBlwFBVV95cUxPSGJyby16Vk5QdjdPYjh3aGRfWkotR2Q4QUFDUTF5NGtHbTR5VGc5MlBlOEVoTUdYMHAzQmpUUG9la0hvMlN3aktJVm5DSi1PcnBueXJld3d5YkVLWVg0aDZ1dW0xSHNlNjNjdXo1RkgzX0JrVjdkRnVyQ2FaT0dIQmVzRDlIem41TDBkRmxiUUZQYXJReklj?oc=5)\n\n4. [특징주, 솔트룩스-AI 챗봇(챗GPT 등) 테마 상승세에 14.13% ↑ - 매일경제](https://news.google.com/rss/articles/CBMiUkFVX3lxTE9lV0ZhTXl6amRJWDNRSHRUSWwtV3JtMmhEQlJObFh2TkJPOUN3ZUFfcVltSFlBbXJXY0M4WERGTGxzUGFKUm1PMC11eUliUFE1UlE?oc=5)\n\n5. [솔트룩스 “딥시크 대응할 오픈 모델·에이전트 무상 제공” - 테크월드 뉴스](https://news.google.com/rss/articles/CBMiaEFVX3lxTFAyanUyX015SjRUZEJkN2dlVXVqYlN4cU9tT0g3SFlQZmdNb3llTC1vN1ZOanhuT2pqLTZXcWpHd19rR19mZEZyY2ZtR3pDcTh0RzNzSnlKanF4TjRyWnVpZlFQelVpRjhB?oc=5)\n\n6. [솔트룩스, 딥시크 대응할 오픈 모델 및 에이전트 무상 제공 - 인공지능신문](https://news.google.com/rss/articles/CBMiZ0FVX3lxTE8weWxVbDFLVHZHZnRLZHBHNGZlSlVWLWZOWmd6TlBQSGxwTHctanozVVpwY2p1dWJCeVF3a2hZdTdqU3NFZHl2aWZncFZMS1k0LU5ISjltcEkwaENNRWpXcnpTdHdpY2c?oc=5)\n\n7. [[특징주] NAVER·솔트룩스 신고가···AI 서비스 시장 확대 기대감 영향 - 서울파이낸스](https://news.google.com/rss/articles/CBMiakFVX3lxTE9hSWpia05TRVpPTkRfdExoTkFZUkEwc25EdGptVzdMSjVTdkstTWxFbExocDI3M2F1WEI5LTd2OG1kQW5vYzJHS3RMQS1ZTklNNk5hT0NoZWhQVG9jRFh0QnBVMlVxV2ZMcUE?oc=5)\n\n8. [솔트룩스 그룹, 오픈 모델 및 에이전트 무상 제공…딥시크 대응 나서 - 이코노미스트](https://news.google.com/rss/articles/CBMiYkFVX3lxTE16em90YkFLTmFtX3B4T0FPZW5DSjJENGdQTTd3QzlvV0xub2tyeVNwanR1MU9laWVnRE9vaEVmcjdfN3FIc3Z6UURpZEszSlB4YUY1Q25lRmFRX1RtaVBTUFh3?oc=5)\n\n9. [\"딥시크·챗GPT에 대항\"…국내 AI기업 솔트룩스, 이목 집중 - 데일리임팩트](https://news.google.com/rss/articles/CBMiVkFVX3lxTE1XNk13X1VPVTFhR3R4azZGdFgyMVd2MXVUTU5odjdCeDlTMUVtWVVrQWQ5OU1HazlienhwNTlsd0FiWVpKbkF1V0h2Z2dLU1hZbXBKbVRn?oc=5)\n\n10. [솔트룩스, '딥시크·챗GPT 대항마' 꺼낸다…'루시아2.5' 무상 제공으로 'AI 주권' 확보 - 프라임경제](https://news.google.com/rss/articles/CBMiY0FVX3lxTE1KTzFfLXVzMVlRVlFudVlSb1V4RExsQ0kwVl9ETnBHVVdIdXFlWkdJYkpFbnBPa0lFNV9ZbkQwNmJmcUc3ak9vU1FCcmhJeDVPQjNWZmQ4UXROcXktR19NUUxmOA?oc=5)\n\n"
          },
          "metadata": {}
        },
        {
          "output_type": "display_data",
          "data": {
            "text/plain": [
              "<IPython.core.display.Markdown object>"
            ],
            "text/markdown": "\n최근 7일간 '토마토시스템(393210)' 관련 뉴스: (최대 10개):\n\n1. [토마토시스템, 하락 벗어나 상한가…5200원선 회복 - 이코노뉴스](https://news.google.com/rss/articles/CBMib0FVX3lxTFBIU0FMTzNaZHVBVkpPLVNyczFYeU9WUHVSOXp6YkQ5Qkp0Q2VLRU9OUHF6cXZfVnAzTVlZRWZ0UVhMR19rdW9HamFxUEZFdFVqelc0WHU1WFlVLU85eUJzS1pBeDE0Tm50Q3RDYnJKSQ?oc=5)\n\n2. [셀바스헬스케어·토마토시스템·온코크로스 등 의료AI株 ‘껑충’…올트먼 호재? - 영남일보](https://news.google.com/rss/articles/CBMia0FVX3lxTE41SHZhdnVsUGpaMEpieEJnRGhucEFBZFNiMnpHUHN4S1B4MUs4VTZRV1JYVVQxQmFkMTRtZFM3QllKZDZDQVNjSEc2WEI5SWFBVzZMdDdZMWM0dExHZk52WERDQW5tdXRXVjdV?oc=5)\n\n3. [[특징주] 토마토시스템, 샘울트먼 의료 GPT 개발 검토… 미 AI 원격 의료 보험청 승인 부각 - 머니S - 머니S](https://news.google.com/rss/articles/CBMiYkFVX3lxTE43NXUxbUZKakl1LVlvbU85VVdXbmpWdW5TdlRNMFF4RllQam9PSEtxU2ZoX243U1lVUHM1RGhTMW1MT2lrUUl0cENGVmlhSVVDTTc1YUJHTk0wX1lkTDNxR09n0gFkQVVfeXFMTUZVRXpHV3hadk5ZeEZQUkJDOXJKaU9NZEdUSWc5ZjVDN25PQk4zY2x6dzZSZWdHQm5ER3R1TnRHZjhJVWRRZk9yWjd2bG5vMEh5Mk8zOWtPSS10T195MUxyOTJMMA?oc=5)\n\n4. [토마토시스템, 상한가 진입.. +29.94% ↑ - 서울경제신문](https://news.google.com/rss/articles/CBMiVkFVX3lxTE9JZWN6VFI4dERoNVFvNEJzOW9SSlZZS2R6a0lYdkM5MzgtamZOOEwwZ3R6VUVubXpfbUd5a3lpZy1OMzd0R0FvYUkxaHlmTEdJZDFWUGN3?oc=5)\n\n5. [토마토시스템, +18.16% VI 발동 - 조선비즈 - 조선비즈](https://news.google.com/rss/articles/CBMigwFBVV95cUxOSkNGWk9aZkl3alFIWWhLNWtGYkRzQnZaMXphLU5BT21CNFVaZTB5aDU5WmVwNlRCWHY0aGRJbExKZW9xRk11RHlNd0NHTVFhOGhtaXZMV1FGMkdYeE9QTXBRa0MwYnB3X1VoeEI2cTE1RHNzMjg2UXplNldyR3p3QjRLWdIBlwFBVV95cUxQVjZSVmdBZGl3Undaa3YtMVJJczEwQWNaZTdNTmJrV0w0TFFuUGQtS1FOQUVCSXNsc09NdF80ZWY5OHl5Zm1fVE15MkpEX1dTZklMNnFRWVN4dnpFUDJxZmtxcTJsemJPYVNTNTRGS1VyMk14Z0ZFM3F2TlVXOTE3ZF8wSVdSODFCRWVISFZxWGphRk5UMkRR?oc=5)\n\n6. [[특징주] 토마토시스템 상한가, 샘 올트먼 \"AI 파트너 찾으러 한국 방문\"...韓·美 AI 동맹 시사 - MSN](https://news.google.com/rss/articles/CBMi9ANBVV95cUxQa3FRLUZVandzeEVyWFd1M3hHWTJDZnlWZFhDRTh4Tnpmb0dVeHF6cVdwRjBMS295dkQyS0FRNUFOdDRMaFUxVy1HeGgwTnAzMlE4amJUd1dzcWNOa1pkb21WSGg1cGtKQWdTbTd3Y1JMOFZNaFpFc1VoRWoyT0FzYmk1RVNOeE9LaTlTR29NUWE0VGdablFSQnpJSTFacHhjcWE2OFlDenlXT0M1Qkc1U0p2SnFKdXJBX1IxUjh0RVlSVkhEUmkyYTZDaXFFYWxTRDk2NDI5SXdoOWVEbk44b2I1RmVRRGJpbTA1ZWRVWUZhVEh0QkJvRzZFQTRGbzIteTE4YjJrNzNVaEhUWThJbFFRVHhpOHE2VDc1RmdNU0ZINmlvYk0yblViOC12Q0FJa3p6RFFxT3hadmtiRVdjOFd3ZjM2a2FxVHFrVlVmMmRjV3dYWDZFd1lJQ1RQSmZPVlpObFhnWVJrbVdrZ1VGWGE0NUNCYkV3S1JLWHFTaWQ2dEs0YlFaVVdfQkx1empiS19uckwyV05XRW1HcFU3Uk5hMDNzaVFKN01iQ2ZUT3lHUlBZYXpIelVlQkdfaHZFeHRsa2tGTXZWWGw1Tk1KNml0cTFGcWhveks4alFJdXZxTENJUF9Id09NVkc0M1B5Q05DUA?oc=5)\n\n7. [파인텍, 토마토시스템 등… 오늘 추천 종목은 - 아시아경제](https://news.google.com/rss/articles/CBMiYEFVX3lxTFBNbldsYXRJckZZZVJqdDVORGFEczVSdFVnYm9BbWVINEktZk9RMDBTdWExeTV1UWg3dlRBYjFVVEpaaHNUWXk0OS1nZ2J2WHU0NkdaNjRpQlptbWNFajNTcw?oc=5)\n\n8. [오후 이슈 [의료AI] : 토마토시스템, 딥노이드, 셀바스헬스케어, 온코크로스, 코어라인소프트 - 파이낸셜뉴스](https://news.google.com/rss/articles/CBMiWkFVX3lxTE9uak8yWm94Zy1KMm1GS0gwaTFaUmltVHVWb0RodHZiWVhBSDctTlkzeEdUV3JxUFdDWDJER3d5cnpZTzhlQ0lRQXlGX21pTXZ6NC1GUEhlR0dHUQ?oc=5)\n\n9. [[상한가 종목] 토마토시스템-대한광통신 이어 파인텍-바이오로그디바이스 등 상한가 마감 - 이코노뉴스](https://news.google.com/rss/articles/CBMib0FVX3lxTE1CZjRRTGtuUzFENWc0dVRQUkNfeTAtR3Y1dnlMRU5KbkJzYVJOendVS3FkS251WW1fNkFiNDE1eEo4Y29TZ3hhWHRvbW5zR21NOWhpam1TYjR3TXpVT1VtOXgzcmswOWh3R2VTaTl1cw?oc=5)\n\n10. [[특징주] 토마토시스템 급등, 韓美 \"AI 오작교 샘 올트먼\" 국내 AI 기업들 대거 투입될까 - MSN](https://news.google.com/rss/articles/CBMi5wNBVV95cUxQVXkybHpEWGdyTzhEZ3U0amhNRW92bG14RjhBT09NUzlSRmZkMUdwTFNtd0Q1bTIzNFJDU2k1NWx0SmRFSTFuLTNQNUJFTGtJa21yLTZWVmVVWWRncHFVMzZQVlI2cEhRNlcwcEVsMmpDcUFCVWlMZ1BaX1M0OHpYeV9HVHFycnhtXzY4aG96X3U1dHBZclpvV0Q2NFI5YjlqcC1yMG1JU3ZHUzZVTTR0V2R4WnE2dnJlNXVuQzRJbldiNnYyTlpJdzJRM2J5THBSOW15WDdfYmpLM1VpUVFKMjFNT3NjMktKTzBjcnFQZFhtWTU1eUFESlRaOEJBbnlCOVlGTVhWdnQ0LWpuOVZmQVREZTJPTUtfZ09GY2l6b2xWdXdTSEl2dGxmeUEyOGoxVUcwZE92SmQ4ZjVpRzhhQmktdy14RC1mcXVkXzNQeUxmTWlJeG5XaXpKNGZoM1JoS0h4YldST2NiN285cjNnYnVqd1k3eTMwUy1ZblMtMnlYemZnNEZOclZkcmpBaFNraTI5bnBrQk1ZLXM5eEtPYWxzM1ZZUlgxdUswZXZQUkVlcEE1b0diVGZxZURuZVQ1WmkxRnBwV05sX0VYRXlUbWlxWkpLMU5KVzNxVENuNVJ4LVowSV9n?oc=5)\n\n"
          },
          "metadata": {}
        },
        {
          "output_type": "display_data",
          "data": {
            "text/plain": [
              "<IPython.core.display.Markdown object>"
            ],
            "text/markdown": "\n최근 7일간 '피델릭스(032580)' 관련 뉴스: (최대 10개):\n\n1. [피델릭스, +5.68% 상승폭 확대 - 조선비즈 - 조선비즈](https://news.google.com/rss/articles/CBMigwFBVV95cUxNejIyRGItckF2VTJ4Tl9WTDJLYXRjdi1QV2xMd0ZWekxIRk1pM3dKNER5RnJFd0RoMzZBanlDLVJ4eFByVFpXM1R2YmxvUzFHdzg1NEI5MWg2b1hwUzVzdXpSWThEY2tCaUp2aWlFLXhrYWVnSV9fNzRta2R5QU5FY3d6Z9IBlwFBVV95cUxQOVQxVUJVMUpqeDVxSmZ3TV9ZaHZCOHRuZS1yVHNqTmpiQ3d4ZnB1WVJzWGpzUGNzcmRIODE1NWNzMXA5TG1jN2c2VThmUTh3VHZVSm9wVHg0N3pEa2tZT05YVjRuakdoZlNEWE1IQXhsWlpJZ0ZLdy1xc0JvT0RuN0xTeFh4TDdYZ0hWaF9FWXdHMHlWbGhR?oc=5)\n\n2. [[특징주] 피델릭스, 딥시크 수혜주 부각에 9%대 급등 - 서울와이어](https://news.google.com/rss/articles/CBMia0FVX3lxTE5KQmczZ3JkUV90VTdma0lDUkNtWjIzQjhJSUlDblZ5VW53Z0NhYnFjazB4VXp5RjNNRkFvQ0ZCajY2NmdVVkFFeFR6S0NwNjNCSUZWbHZYaVF1cDQ5UkNkQjEyTUlhc0tkUWpF?oc=5)\n\n3. [전일 시간외급등주, 애드바이오텍 10.0%, 피델릭스 10.0% 등 - 한국경제](https://news.google.com/rss/articles/CBMiWkFVX3lxTE9qbzRfZFBnY29xa3p0Ry1JYzRWSGlFRHhuUkcybkFKLXM4Zk4xVjdWMDBrNlk5ekcybFVURVhEMDVOUmNrcWc0U2ZGcnJnNDZrWFVZVzY4Q1hIQdIBVEFVX3lxTFBTVVVTc18xckMzMEZkekZtNnE3VjRPYkhrNDJ2b2ptaktkZ1A0MkFEQVpRdTlPLW1Jd25FZ2FUMUoyc0RDTFNaci0zTkdSVkNYejNwRA?oc=5)\n\n4. [피델릭스, GRT, 삼현 등… 오늘 추천 종목은 - 아시아경제](https://news.google.com/rss/articles/CBMiX0FVX3lxTE5sZWxrYUtmcldUSUxqWXROWXpJY2FFYU1fWkFxLUp1RDVXQnJXOGRNY3ZjZkNSYXVEYVdYM0xPbTFlTm5FWk03Y2ZWSlhGNjBLeDgxb2VZUmM5OEptNkFJ?oc=5)\n\n5. [피델릭스, 0.00% VI 발동 - 조선비즈 - 조선비즈](https://news.google.com/rss/articles/CBMigwFBVV95cUxPVEgxRlRGUkVpTXV4Sll3TUs3RncxS19taGJUUGg0TkdjVHNFbG9hR0MwMUYtQXRwelpwcHVlWE1JR0g2SnI2WkNia1J1RGRrRVRJUUhXRWJlY2dESGc4c0pRa2dfYkVzTUxWc0VaTjNnbGE0T25ITHlqODR1TjYwSkVnZ9IBlwFBVV95cUxON3R6UTUycWJfZXoyZ3pRbWNNeWZkUm5vS19tTXI3NFpScEs1WHdTcVBaOFFYbk8tdDlET3FENE1leG1uVm1oajFSRjVxTWtCbEFzS1hEbTgwRGxEcFJUX09kaU5CNnlJOVVzbWRvX0w0VG1sUzJfelFOTjZ1bF94OVBZUElLOTFDa0h1WlhWaWpJaW5wUTY0?oc=5)\n\n6. [피델릭스, +12.47% 상승폭 확대 - 조선비즈 - 조선비즈](https://news.google.com/rss/articles/CBMigwFBVV95cUxPV1VQTjRMbHFkRzBFMmJYaVQ0TF9QbFBtX1ZzMzdBU1NXWVdSeTg5eWk1V3VEWjJ0VG5JOEtQRllDQTVkZi0yVjZLU1J5S3RsbG9uak5lejk4bEQ2Mm9zT0Q4RVNBY2NiUnhkUWdPbnpJQ3JXMWR4TUlvNU40b0JyVHpYSdIBlwFBVV95cUxPNFhGel90b2FJdkh3UjBkMU4yM0g0dE9tUFVNcDVwMlB5N241b0pMY0YwTm5KVllIODd6aU42NEhaUXYzbHdTVm1sS1pDSzNZSFZUVEFiTnQ0bTVqVkNoaFoxa3BpY1I1dzBTSmdLYlBNS1BsZXF5YmtMZzVRMU5hTGp6ejUtMG9kLWdNQ3hoTDF1VExoYkpv?oc=5)\n\n7. [피델릭스, +11.69% VI 발동 - 조선비즈 - 조선비즈](https://news.google.com/rss/articles/CBMigwFBVV95cUxQVlhKRTYyUDZwU3dzUFRnNEYwcjBOX2dTVmM3aHpNaWo5S1pURzlOaUlGZHJEQlNFYVVrLXQ1RWZUWGNvX2owOUlhRXJwZEltUExoVk9GYlpVM1NKR29HSWlQMmNOOTdTVlVWUmwzSXE4aGVzQV8wM3FqUk5kcUEyNnlZTdIBlwFBVV95cUxOV0ZKc0IwNXdnVmdyY3dVTC1RSnc0dGJzT1FfS1BfVGRSa0p0QURJN0ZDcGVSQjgxUjdpNnNSM1RRSm5TQnh6dTVXZmFGejlkUDBPY2ZycG5MNnhnWE1BR0R4NFIwSXdicXlxVEZsb190dXI0RTBOV3BDWkdvSXpCT1FwUmtVTE9ybXhUYUhQSS03X1otZkVv?oc=5)\n\n8. [[특징주] 피델릭스, 화웨이·텐센트 이어 MS·AWS도 딥시크 쓴다…글로벌 AI 게임체인저 부상에 수혜감 증폭 - 프라임경제](https://news.google.com/rss/articles/CBMibEFVX3lxTE5nWVJrTURqblZyQ29FOGw3YTR3NUo3UDV3dWZZcW4wdFZBNVkyU3pSVUR3bURTYzEzek1HdExyLXByQ0s4OVJwOFZtSmU1Vk1tTGIyR3JpbndYM2FBQnd1VThKNG96TkFQcDFSSA?oc=5)\n\n9. [피델릭스, 3거래일 연속 상승에 10% 급등…1700원선 재돌파 - 이코노뉴스](https://news.google.com/rss/articles/CBMib0FVX3lxTFBsZ2FtVm1VaW96R0Q1WEJIMGxfQk1iOHpMQlNvbXE4TEJteFRMM2hpM1RoVG9TYVJJT0I0VTBicXdJWmY1M2pnc2Z6TXN4NU1IZVZFV2hjS0hQRTh1Tzdtamx4Zll5TWtMWDRoNUtRZw?oc=5)\n\n10. [피델릭스, 지난해 영업손실 43억…전년비 적자전환 - 이데일리](https://news.google.com/rss/articles/CBMigAFBVV95cUxPRzRWcVNkdnc5dDAyejM0X29DX1hUbm9Wby1IWllDUmxkSW1LMzJ3ZVAtSU5jMTlEeHAwajZJaExkOXNsRjNUeXhMZUtDU3dzcDZfaUtEVHlPcWdBcjZTRWcxMWhBV2RfbFFudXlkV01zMjllRS0ydHlMekRCWWN3aA?oc=5)\n\n"
          },
          "metadata": {}
        },
        {
          "output_type": "display_data",
          "data": {
            "text/plain": [
              "<IPython.core.display.Markdown object>"
            ],
            "text/markdown": "\n최근 7일간 '인스웨이브시스템즈(450520)' 관련 뉴스: (최대 10개):\n\n1. [인스웨이브시스템즈 주가 '활짝'... UI UX 개발 플랫폼 WebSquare5 시장서 호평 - 핀포인트뉴스](https://news.google.com/rss/articles/CBMic0FVX3lxTFAtaU9IQXJQWVBkNURRUFhseUhmMVN6LU01UDRkV1o2azlpVnFsRldZX2p1QnI3Y3FubVQ0QlpYc3JiVUJDYjVqZU40TVRlRWlpaXJkRGx6empsM3NObWZQRy1BUEhpcUstMDgycUdaVVhNZ1nSAXdBVV95cUxObVVsM0lJdjd4MWN2SWR5ZG1mWVEyTjl2YUR4TVZ0UW1XYjh4TTFOcVdDcS03V3ZEbFI2OFVxalBUTWpub2VXQmJ3OGtIY3gzMTltY1pQQVNlbE11SFI4cDRxbzRaRXRTcWV3dWtKQ0paUExBdXdlMA?oc=5)\n\n2. [[이달해 달달한10분] 딥시크 쇼크? '인스웨이브시스템즈'에게는 기회! \"신고가 행진은 이제부터\" - 머니투데이방송MTN](https://news.google.com/rss/articles/CBMiZEFVX3lxTE5yb3NCdjFQSVA2dzczR050MzJNbDlBdTdTY2VFRW1jY1ZpdnJHU05keDQ5UE44a0t3NXY0bUliX1dxd2lndzkydmZpSk9Ia0RTTGlkanhIZU8yLWhxNmc0VXRIUTU?oc=5)\n\n3. [인스웨이브시스템즈(코스닥:450520)의 32% 가격 상승은 실적과 맞지 않는다. - simplywall.st](https://news.google.com/rss/articles/CBMipgFBVV95cUxPcjVrZEJzSzlDUFJldk53OFF6UEIxS3Q2eGZEZTR4d3ZmSHZVZVNyZ2dNbUx6UW5sOTFndlRHTmhsczFkenFNZUR2YWtVUXVjN1RXT2ZiWV9JM1BvdkNHTW92bjY5RTZKX3VNRDk0LW4tLUdPbjgybmEyOVJWTmZPYllRUVVveGw2TkZ5cWQ4Szk3U2lwcG9hb2l2Ulhhd1NHMHFsRUJn0gGrAUFVX3lxTFBreGRPdF9GajBkT3EyZUdLdzJVVDUwMExZZDhaYnFpckViZXVsaEh1Tm5LTFdQN3drRFQtTXV4UHhLbHRQZzg5OG94UkNSdW9Zam1OQ2tmVlB4UDFBVFZxRVlOTUdpWFJreTMxVVFGaDJ5ZUY0VmxETzNLbVFuMDEzakp5SVRteHFuMV9wNTRQNmsyR3hKOU9heEhLcS10a1NJbERjUERZT1d3Yw?oc=5)\n\n4. [[이달해 달달한10분] 딥시크 쇼크? '인스웨이브시스템즈'에게는 기회! \"신고가 행진은 이제부터\" - 네이트 뉴스](https://news.google.com/rss/articles/CBMiU0FVX3lxTE9zeUdKVzlOQnV4UzQ3UUZhV1l1WlhRWXhKQXpSajNTRGRoOTBnbDBpOXJ5UHlaRkU0X0k0eFAwNHVZQlBtTUFVZjlNRlY0YjlpVl84?oc=5)\n\n5. [인스웨이브시스템즈, +5.47% 상승폭 확대 - 조선비즈 - 조선비즈](https://news.google.com/rss/articles/CBMigwFBVV95cUxOMzNRSUZ1NFNVdk04a1oybWhIMWxjTmRUbTc3SUtSUWs5VXlHSTNiNDlBTzNONDZEZks2RktFZDBPWWhVYXVabGViVEJQc21mcDAteVRUSnhYVmZXLTBjcXZldDBjUEtwR05VTkQyb1NMSk5XZHFiNEQ0eEVxaGhEeEo5MNIBlwFBVV95cUxQQWZfTGVJTjhxT1IyQnMxaE96X0l6b0lfMHBDUXNaQ1F0Sk9VQUl4blE0VDlSNjhuZ1RmbEdoWFE2bnRPTF9XM1dQMWpEYnFCTDQ3VWItM2kxTk95ZU95SVd6cS15NXVqMG1OTEs0UC1McWxBUjV5YUhCWGhqNnU3c0lZOWpGdG1pbTllZEtnS0VRYllSYUZF?oc=5)\n\n6. [[이달해 달달한10분] 딥시크 쇼크? '인스웨이브시스템즈'에게는 기회! \"신고가 행진은 이제부터\" - 머니투데이](https://news.google.com/rss/articles/CBMiZkFVX3lxTE5kYlRZd1pqMGx1VWFScDhGSkhXSWVWZURuN2pMMjB1Tm5ZSGRyZVpiSVFZYXBPeG5yTFYtQmN5dXZ6MXo3SDdiZ3FjYUprVHoydHZEd05pY2ZzZkpWMjhRNXJrcHdnd9IBbkFVX3lxTE1iZExrSHpSYlhEdHFlRTcwOGVHZWs5RWhIYS1FVHdPdG1qZnZIaEZzc0xZOWZOZ01tbVpMSE9iVEhRMG1BNmw2NGx3aFY1RzBSblkzbWtDZTFIWGNOb0Q4enFvMWstUnl2RjcxdFB3?oc=5)\n\n7. [플리토·인스웨이브시스템즈·바이브컴퍼니 등 AI쳇봇 관련주 ‘들썩’…딥시크 호재? - 영남일보](https://news.google.com/rss/articles/CBMia0FVX3lxTE40NG1KbnA3Ym1lS0J6bUxZaFJIZU5JUXdnRVpORTg3dU5GZlJWQmNZRVM5T0JJQzN3aDVUX3ZPRWktQTNSemxXUXVDTXdGUlhhckhNOE1RN1JWbXZoRTBBLXB6cm81VzZseDZ3?oc=5)\n\n8. [오전 이슈 [AI S/W] : 인스웨이브시스템즈, 플리토, 마음AI, 바이브컴퍼니, 오브젠 - 파이낸셜뉴스](https://news.google.com/rss/articles/CBMiWkFVX3lxTE1OOTFPNHNwTm1fVG51WXZuVVoxOGxsRk9VQk1qa1ZhQjJZd1FkTjNNSVNxa0VXaFFIV21HOTl5bXV4cHVhRjBHdjdKZnFWVm5RRDVxNjJoYkQ4dw?oc=5)\n\n9. [인스웨이브시스템즈, +1.08% 상승폭 확대 - 조선비즈 - 조선비즈](https://news.google.com/rss/articles/CBMigwFBVV95cUxPcTM1dUcyN2pVWHVYdlEwMVZVMFd2TVp3WUo5VHV0UjBIZUpDOXNzY3ZPcFhxR0JfajlRSFViY2JYUU9RMzVRbXlKY1RfWWpBVnAwSkxxd0Foai1SMG1QOGtraF94dkVtUmxZX0xxUjR1ckRhWE9UT3BFRHMzNjg2eXVXRdIBlwFBVV95cUxPZUdmdkdENVRSOVp4N09lVmZkamFwS3RRYzI5VXJac2JHTVNVN0dVMTBzY1VfdVExMUR4RTNJUE1KVGU1amJGYy05Mi1IejNnZVFPdHVCRWFIVDFBZFF6a1NhREItVlJNcmJIeHN5UV9TTHd6V05vNEU1eWVBOC1iT0hHUEQ5SkwwV1NqNThVNnlHWGxIeVlZ?oc=5)\n\n10. [플리토·와이즈넛·인스웨이브시스템즈·이스트소프트 등 인공지능(AI)챗봇 관련株 강세 - 영남일보](https://news.google.com/rss/articles/CBMia0FVX3lxTE9nOWlhbmpIRHpwWlpQV25BY3JtUlo3eS1DbXRZUzg2eUl6cUozZThJMGZBXzRxMWVTWXFyVGFGMmFGVGVZTldVSEdjREstMk1zYm5SSVVwWkdqSFp4Wk0tMmhZd25XeThFOW1R?oc=5)\n\n"
          },
          "metadata": {}
        },
        {
          "output_type": "display_data",
          "data": {
            "text/plain": [
              "<IPython.core.display.Markdown object>"
            ],
            "text/markdown": "\n최근 7일간 '코난테크놀로지(402030)' 관련 뉴스: (최대 10개):\n\n1. [[이수연의 TOP10] 한국의 팔란티어로 떠오른 코난테크놀로지 지금 매수 기회? - 머니투데이방송MTN](https://news.google.com/rss/articles/CBMiZEFVX3lxTE1KMEVMVXJrbW1FU0txUnJRREJwTEhIQnh2MDJndElmR2tRTEk0dXdoeWpyaFEzel9GVDYtbWZnSm9DTDFwLXJpdkx5U1hTMTk0eTNoc0d4UG5WTXRxZnRUbUlXSGQ?oc=5)\n\n2. [한림대의료원-코난테크놀로지 ‘AI 기반 플랫폼 구축’ 사업 계약 - 이코노믹리뷰](https://news.google.com/rss/articles/CBMibEFVX3lxTE9IUkt6U0E1Q3psemlsdUVpempFSHhFZkU1VHhyemlma1g2ckRCaTJtUmRzQTltS1VXT3EwSEFXTEtObnE4aW5la19aX3VXeEF1MWplenFFZnRhYVNaSFJjVFl0bjdJQkZ3Q2hCNA?oc=5)\n\n3. [특징주, 코난테크놀로지-AI 챗봇(챗GPT 등) 테마 상승세에 5.85% ↑ - 매일경제](https://news.google.com/rss/articles/CBMiUkFVX3lxTE5RRDhveFJzQzMzMDRCVGJhZGZ3WUJjT0NGdzdhWnpnQjRvdVk2QVVfU3FDYnRQVHZPVlNQUUl1VDR4V3JFNU1qSjJFUjdONUFuUWc?oc=5)\n\n4. [코난테크놀로지, 의료 AI 개발한다…한림대의료원과 '맞손' - 뉴시스](https://news.google.com/rss/articles/CBMiYEFVX3lxTE5LX2x5LU5pblp1QkExaTdxX2g0UWxpQTVWWVNiZXg1US1LR0RHR3JvWUVQcnBpV1BQeGluN3JOblI0cm1EcEFRbTMxRFB1UkZWRXg1QUtwTmo2T0dqV0paQtIBeEFVX3lxTFBycnR6eGlNeVp0bUQyZzdEUXZxN2drNFBDTUxyb25ITldLaWdMS24zXzhyVGh6SEV3cXNxYjdHUUNyMHFpNE8xOXQzRkhTV2kwakVpUzkxRGx1VEF6M2VYTlB0aVZ1QTBydEF3VVprd1dCYXV6UTR1Rg?oc=5)\n\n5. [코난테크놀로지, 한림대 의료원과 의료 특화 초거대 LLM 선봬 - 네이트 뉴스](https://news.google.com/rss/articles/CBMiU0FVX3lxTE5LNHBvVktxUURRYW9PWklOSTR0VnVDU1pneG0tTFZoSEd0R3AtR3dDT2ZVeTRXcTR1cWJwUTZLN3hTZF9ucDg3amVMUU1CekpVa2pn?oc=5)\n\n6. [코난테크놀로지, 생성형 AI 기반 의료 분야 특화 LLM 선보인다 - 네이트 뉴스](https://news.google.com/rss/articles/CBMiU0FVX3lxTE9ucmVmTXF1WFk5UUZrWkFsWnF6Zkhka1dUX0hIVkQ1a0dIeDdBZmplbl90UkNVSTQyR05pQl9MN1dCZzFzNV8zOVgwSjduWU9jYXdB?oc=5)\n\n7. [코난테크놀로지, '코난 챗봇 플러스'로 AI 통역 서비스 확장 - 헬로티 – 매일 만나는 첨단 산업, IT 소식](https://news.google.com/rss/articles/CBMiXkFVX3lxTE03RzNuNDZVblNNRmVaTHJfS1RxRVNQbmszeml1OFBDS3hMMXpaZVVmVjlKZWhNcHJrM0gxb0dWZU96SHROVzJVNmZjS2hxUE9WQ29ZNFFtQVhvUE1xX2c?oc=5)\n\n8. [[이수연의 TOP10] 한국의 팔란티어로 떠오른 코난테크놀로지 지금 매수 기회? - 머니투데이](https://news.google.com/rss/articles/CBMiZkFVX3lxTE5ybG5IZW1hc2R1YWdOZF9XelBEbnFON091VXpGMUx0ZFM2enpUV0R4d3o3Wlk2SmtfM0lnMm5CVnhDSWVpNUNadlRpakQ0YUg4b2UydlJPYzNCRHZPaWpYYlhvT3M3Zw?oc=5)\n\n9. [코난테크놀로지, 생성형 AI 기반 의료 LLM 선보인다 - 전자신문](https://news.google.com/rss/articles/CBMiTkFVX3lxTE5YSGZkM1RmenRQTUNYbG1lSmd0d21KVW93Wnktb00yLTVJVDZYMnB1R0wyaWdiLVM2TXpqT3Ruak1qcTRINkpxSlFSTU14dw?oc=5)\n\n10. [코난테크놀로지, 'AI 동시 통역' 서비스 이달 출시 - 아이뉴스24](https://news.google.com/rss/articles/CBMiTEFVX3lxTE1MdFBDYk5Wcmw5TkUzdUhRalhGYnlfc0RnMnotMEx1Y29vX05XQlBhRS12YkxtbUJpTTRDRGdMeDFzTi1LVl9MUVlNOHM?oc=5)\n\n"
          },
          "metadata": {}
        },
        {
          "output_type": "display_data",
          "data": {
            "text/plain": [
              "<IPython.core.display.Markdown object>"
            ],
            "text/markdown": "\n최근 7일간 '온코크로스(382150)' 관련 뉴스: (최대 10개):\n\n1. [셀바스헬스케어·토마토시스템·온코크로스 등 의료AI株 ‘껑충’…올트먼 호재? - 영남일보](https://news.google.com/rss/articles/CBMia0FVX3lxTE41SHZhdnVsUGpaMEpieEJnRGhucEFBZFNiMnpHUHN4S1B4MUs4VTZRV1JYVVQxQmFkMTRtZFM3QllKZDZDQVNjSEc2WEI5SWFBVzZMdDdZMWM0dExHZk52WERDQW5tdXRXVjdV?oc=5)\n\n2. [인벤티지랩, 큐라티스 인수…‘딥시크’ 불똥 맞은 파미셀[바이오맥짚기] - 이데일리](https://news.google.com/rss/articles/CBMigAFBVV95cUxPQ05ycWNDOFVlckNaQi1zVG1iN0pSRzdFcGRpeFNWWWZ1OXl1aDM5RjNXZW1tMnpxb2JVdXlnUXlQYnVKYzl1d2FPYlpnbUh3WFdnajIwbkdaNUZkcGktS2ZNdGZwQWdVRUJzQnJxSjBtdC1RZ21XbThFaW85c21fdA?oc=5)\n\n3. [[생생한 주식쇼 생쇼] AI·신약 개발주 강세…온코크로스(382150) 신규 편입 - 매일경제TV](https://news.google.com/rss/articles/CBMiaEFVX3lxTE5kdjZIa2xwQjMtd1NqOGtYWm8xaF9fTjFneGZienFacHNHT0dhZHNXcFZocElCU2oxdFBNZXBWZEthdXdrUXQ2bnFXNWhZZXk2SmRiSFpLaWhnOE1hdlBvbjJTYmFvYkQ0?oc=5)\n\n4. [AI매매신호특징주 - iMBC 매수, 엠케이전자 매도 - 한국경제](https://news.google.com/rss/articles/CBMiWkFVX3lxTE1BOHEtblI4YWNxamhOaXFGMjNnWnBVRzI3OHJpS2dhcmhyaEp2M1BFTUVuNDNkVFlaX2dTNlJZajZIMjJPMUVUQ1BTaWJWSkNHenpUTVF1U2k2UdIBVEFVX3lxTE5LYXZoT3ZOM3liOEhoZkEwV1lCbVhFVGJGaXB3aGhpb2c4OThQZjVGcTA5anpvX3RzcDdxNkJYemJjbUktWEhPbnpPNThtbDVBbVZFNw?oc=5)\n\n5. [온코크로스 주가 불기둥...질병과 치료제 최적 매칭 AI 플랫폼 'RAPTOR AI' 개발 주목 - 핀포인트뉴스](https://news.google.com/rss/articles/CBMic0FVX3lxTE9xMkhiSEVib0UtN21VdVplYlBLRDNYZlAwMGFLS2poQnBYV3h1b0k1T014OWF3d3RpS2s3SUZpclVod2RtZ2tBYzJCZFd0WDVqNElfOXFMUERmZ0V0Wi1ycENmcXpEVFRsNzNvQmlMMjZ1WTDSAXdBVV95cUxOMVp3Y0pBMUx0TkFBdmNNMlFVcDNUYjBWUlkxRnM1NHhJQjNjMVhFRlM4ZjZRamVSZWZwNmlaekMxNndaamxsbmZnUVh0THdPR3JFUk4tT1hEZGVXRm13Q2NoeE03cWdyOXZQaHZnM1dPU3JDNXpJNA?oc=5)\n\n6. [온코크로스, +3.61% 상승폭 확대 - 조선비즈 - 조선비즈](https://news.google.com/rss/articles/CBMigwFBVV95cUxPM0pQUGhleU95OVlXSHhQVzFmcXJWZ19OR1l6R3hxS3dtQU5GMmcxVmJtTkcyUU5nYmllRW1OOThSbFhOUHFYaF8zSktEYWVQUWUzSnpHeEJVR21iWWlXaVB6dXpteUdQZjlTNlNDbHNTUzJsMTNtVm0zTUFyOGJFcWhQRdIBlwFBVV95cUxQXzRkZ1lGUjYwVGpJN0dZMTRjV01YYllRcVNnd2VQbnB2Rjc2bG1vNWwwNl9ubWluM29Ib3FEbmN6d1ZHbWZxMV9Va0o4cFlOZFdDaXppd3NyLXpHY3ZhSWstU25UT3ZReXRnLXNTUmcyQWMzZkp2VkhwdUt0eTVzamg1bHd5UnNHNDR4aGczT05JREQ4SF9r?oc=5)\n\n7. [온코크로스, +8.88% 상승폭 확대 - 조선비즈 - 조선비즈](https://news.google.com/rss/articles/CBMigwFBVV95cUxPaUo4Z1RMbHBPUnBqQjdXXy02N2w3YlJKOFBLcUJoNmowcTJVdWk5b0VyR25HUVF6eXRXTWwydTlsQ0Jvbnp4anRvb1pRZ3NLWkV5WFBGRWtpSGhWU3hzUUNaekJQdThZekFmMmVRbWE1cUdMTU1YS2plZmdVUWNyX2JKVdIBlwFBVV95cUxPQ2s4NU9tTTRwUktyWVczUEtlYkh3NEE3aXhLNkk2bl9NdjI3dFk0TXdFQzBpbEh4ay05RFA5WWZXNmR5aXQ4RjRXQ0gyOHdmejQ1VEhrREdiNjZtdGREeXl6NDlDc1lYakJ0S2lBMzNvbmN3UWlvS2ctSy04WWF0eldxQmVGWmRUX3Z1YVpmbGxiX0dLOVlB?oc=5)\n\n8. [온코크로스, +18.42% VI 발동 - 조선비즈 - 조선비즈](https://news.google.com/rss/articles/CBMigwFBVV95cUxOTmFVTi1tSXMzcy00ekZ1UnoycEwzZ3VxSDBwVTRySWwweVRubVpoMFdtQV94S1h4QUp0R3l4THlKRDVBUktqcnZkZ2VMYjQ1ZTNtUno3NUlHZWZhLVFXeE9ldVJTbXpqRXZDNFVKTGJ0X2NGbkItOTlvbDJnR2lKck1xd9IBlwFBVV95cUxONGRFRDdjNGdPeTJjbjZHRXNTMHVyVnpNcmJ5UXFSV05mRjFyV2dnMkRjYnFxS2w0cERrcEpCMnZXTXk5Yk4yczltWWtHTm1udzFHaGNBLVpwaTVyTG5xdnl5QUNwYkl2aFlEak5odXNaZFdodjEyMWJJSGpsOU56bTQ5WVZoT1FScDF4aUFQdFBFMkdUNVBF?oc=5)\n\n"
          },
          "metadata": {}
        },
        {
          "output_type": "display_data",
          "data": {
            "text/plain": [
              "<IPython.core.display.Markdown object>"
            ],
            "text/markdown": "\n최근 7일간 '엠케이전자(033160)' 관련 뉴스: (최대 10개):\n\n1. [차정훈 회장 겨냥한 국세청...한토신·엠케이전자 고강도 세무조사 - 뉴스워커](https://news.google.com/rss/articles/CBMib0FVX3lxTE9UaTdXZF84NjhHWk44RHVCYi1vSzNjeHVwYXlrWFJuRFY4bDFaQWp3RFhoeXlhN2IzUWVSSUVoMkU2TjlqdlhfVnk0M0o1M3l6SU9zYzh4LTZkTnoyUFFVWE40M0FEby0yRU1qRm5hUdIBc0FVX3lxTE94WDNvRDRTeGFlUk5rRktpdUNNTUpPUHZVVW1iUEZ2TUlJc3JaS2Zmbksyd2FrSDRSTXlycy1HWEsxMklRTkR3V0VJTjVSMnBUNUd1WjFzdlRqQ09tb003OXh4Y1NacDBQQ2pvRUZnSlNqMlE?oc=5)\n\n2. [금양·엠케이전자·대한유화 급등, PI첨단소재·천보·더블유씨피·포스코퓨처엠 등 ‘들썩’ 2차전지株 반등? - 영남일보](https://news.google.com/rss/articles/CBMia0FVX3lxTFBueVh0eGJaS2s4UVU5cnBpbV83TlZMUndVWU9XdEZPM0xhRHRfQ1AxY0hnVFZuY3M5VkxfenZRaDZyV2pYR3I4R3JzVnZBbTFjbWF0UHBOYi1FU0xtekt5dS1VSjBpX2FKMmVn?oc=5)\n\n3. [엠케이전자, 전날 이어 9% 급등…9700원선 재돌파 - 이코노뉴스](https://news.google.com/rss/articles/CBMib0FVX3lxTE5DRUtPdzJBazBrQzFDcnBGV19MM3g3blJ6bU9zQTlBaUR3ZVRtYngtc2hCbjFpVFVQMmc1X29RV3VkUDFqSmhoVEw1MWRBVmNNSExoMEYzSktsX29WVkpmMmJYMW5MWWRwb1lkZHRjTQ?oc=5)\n\n4. [AI매매신호특징주 - iMBC 매수, 엠케이전자 매도 - 한국경제](https://news.google.com/rss/articles/CBMiWkFVX3lxTE1BOHEtblI4YWNxamhOaXFGMjNnWnBVRzI3OHJpS2dhcmhyaEp2M1BFTUVuNDNkVFlaX2dTNlJZajZIMjJPMUVUQ1BTaWJWSkNHenpUTVF1U2k2UdIBVEFVX3lxTE5LYXZoT3ZOM3liOEhoZkEwV1lCbVhFVGJGaXB3aGhpb2c4OThQZjVGcTA5anpvX3RzcDdxNkJYemJjbUktWEhPbnpPNThtbDVBbVZFNw?oc=5)\n\n5. [[특징주] “中 딥시크 수혜주?”… 엠케이전자·GRT ‘上’ - 조선비즈 - 조선비즈](https://news.google.com/rss/articles/CBMihwFBVV95cUxNZ1V0TmpSQVdxcG0zMVotY2FubHVkSVZvdG1XMmo2MDVwRW1JUlJSWGdFTnp2Z3V1eDR0ZUZxRk9mR0t6TWQzNG03OTd5Wk1uUmFfeDRBcEVDUk9OY21hdDYyY01DNVpiVlJGOTV4c0NnZ25xSjhKa3FuZWV2R085bndYR3NzY2_SAZsBQVVfeXFMUFNxclZ3UjlILUktV2dWNGRBWFZoR21NUEVhQlhISG1VSE5YQ1UzYW1SdG1wLXRBVXBNV0tBX05aMlgyWUxtel9RYVlsajRKRHRuVjl6emJrRVVlQWtDeEgzS1VuczlCZVdiVDc2anVIUDVKZ0lCUVdJRWRtQzNrY0l3eDNDaklJVHpvNjNqRmRCSGthUFg5MU9mYWc?oc=5)\n\n6. [[매매의 기술] 반도체 패키지 핵심부품 생산업체 '엠케이전자' VS IP기반 멀티미디어 서비스 관련 소프트웨어 개발 '브리지텍' - 머니투데이방송MTN](https://news.google.com/rss/articles/CBMiZEFVX3lxTE9BajBxWVJsY0xyQWlsT2oxUGZiT0l1U21VSGtNeFI3ZlpEUlVIdEtaSlNPbGdXWVFWTWNVeDdzNmo1SnpsRWFXVDJSUGtGcUhaeUlPSG14MU0tMFJxbDRaSjY3WWg?oc=5)\n\n7. [엠케이전자 상한가! 삼성전자, 미국 대규모 AI 사업 스타게이트 합류? 우수 협력사 엠케이전자, 내일의 주가는? - MSN](https://news.google.com/rss/articles/CBMi-gRBVV95cUxQVmFpVVFKcnpHTS1wem4zS3A3aGUtVTVhYk1zUm9VUllLQUtzb2FxaC1qV19Dd2VYNFJjX2dBZGdSaEQ5aV9Sai1jM0syWlFWYUgxYUw5aDAzNENsN18zN2tiWk52WE1GOXdvWDBwbGFfcXR4M0RXSmFqRnhiX0lMZWlNWHRyTXRJR0VBOHZ1ekljLWdHanBhR3VYenRkTUZRMnJRdy12Xy0tdDRKOXg2LVFIYmxKMmU0a1RpOGpzNUZCMElCeU15S0pWUnAwdW5oQUJHdm5qTFZTb1ZBcTM3SjJGOFFJUmt3bGZwUEFsZU5jTWMyRjl5Y21vSHdoVjU2UTJPaDdXR0JDN25wRUJrYjdBTFNXeEhTd2JIYVR6QTk0aTA1c2VOZ29MS3F4QnRNb191VjlCc1ZYV1pOcGY4LVlfbTJ3Y3lXT2dSSTl3Znh4Q3NXdXFkekJyS1FiR3c1X3RHYi1jUE9HbVlIZ3BvNHR0NmIxa183V0RTbm1vc25hTFhjbFJ5N0lBajFKR0l0X1c1eXhBcVdUQ2VFazI1ZEtEci01Nk1sVFA1SFZaUmR2UHctcUNicGpOSk1hZDhEeUJibjhQZ1QxU21NWmdaQV9kYS16ZktvTWlQcEhZaVRFdW4tRUNLOXBOVFRWN1VHWV8tQ3MyaTdrNFlWQ0U1WEJaZEMyLUpmOEdtS0NhQ1ZTVmZhUXQtQXExT1p5a05rWU9QOS1WUmJGTVZqa0pfSEZsblFqZlJKU2xPVHlyeTlVeHptUUFfVjB3RmdoVnhCWXprd3FDN2hzbU5RMGN1NkpITTVnSGNnQ0I2VlZuVXpwZDhaQWNpczdB?oc=5)\n\n8. [[시간외 특징주] 엠케이전자 상한가, 삼성전자 \"美 대규모 AI 사업\" 스타게이트 합류하나 - 와이드경제](https://news.google.com/rss/articles/CBMibEFVX3lxTE96TTdzUHVMNmJzWnhmcWtkZU5HcUl5VjJXbmFkbXlQRzdXaGZHV1pVX2lxX3pBcG1YSXkwZUVpNWpPZGdMR0VCQnJfMURxWEhoejZXaVZFYTVoSGxvT3M4Mm9fVTJIbnlrOXFoXw?oc=5)\n\n9. [엠케이전자 주가 고공행진...중국 반도체 시장 성장에 중고 반도체 장비 사업 강화 - 핀포인트뉴스](https://news.google.com/rss/articles/CBMic0FVX3lxTE4zUmdLRlNNTmNKQWJmRGFLV0FJaThiWlFrVFV1ck5VVExZbkNwMWRoY3U0UEhQVmRWY0NJdHBRems1NFlhWTFwZGR1MHJXVzM2aFU0eHdkc1lndGlxLTY5cUw4RDJGaXJiQjNhM0l3NVpheU3SAXdBVV95cUxPWThFczlROEprMEEyVVZRYzM2eTAxQmNrOTg1UXVEcWFLcUZucXo0WGY2RkpheW5iUW1CUWY2akpyanBseGYwb3NYNDIxMHpsa3JWaXJRZkl5RnZyX3EzRzVLOFNUcDh4NEk5clo3VXI2amh1Um9hbw?oc=5)\n\n10. [엠케이전자, 급락 하루만에 7% 급등…9000원선 회복 - 이코노뉴스](https://news.google.com/rss/articles/CBMib0FVX3lxTFBSWUU3UzlxZXlub3RiTGlhX0Q3ZmNNNmRibGp6a09SOWhkNmZ4a2dLV2Q3UkpkUUowUkVEUzlwV0k1T1dOZVRZZm1ETG9jNVVodVZhcFFpZVZ0TldmZmp6MzR0MVNPRW5vYk5lSFhMUQ?oc=5)\n\n"
          },
          "metadata": {}
        },
        {
          "output_type": "display_data",
          "data": {
            "text/plain": [
              "<IPython.core.display.Markdown object>"
            ],
            "text/markdown": "\n최근 7일간 '클로봇(466100)' 관련 뉴스: (최대 10개):\n\n1. [클로봇 주가 11% 점프…공모가 넘어서나 '촉각' - CBC뉴스](https://news.google.com/rss/articles/CBMiaEFVX3lxTE9qbHhjNEk3cnIwTmJ5Ym1KQWpONk9IRjFqdHBFd3pfSGdtX0l0NFNLamVGN3Y4b3lHTmNmMVBrWV83LTROdUwwLXlqNDNqUWtmQ2tjZ29qOHl0SW1aSXJKZmxoNnhQcmVH?oc=5)\n\n2. [클로봇, 상한가 진입.. +29.95% ↑ - 서울경제신문](https://news.google.com/rss/articles/CBMiVkFVX3lxTE5hWlY2Yy1rLVVNY1g4VTJYWDRGSlF2dXN3Y0xRUExTV2gtbEVGV3JrYU8zS0k0N2pPeHp3SWJKRjExczlSX09hZ0MtZXJsa1N1bGhqalpB?oc=5)\n\n3. [클로봇, +11.85% VI 발동 - 조선비즈 - 조선비즈](https://news.google.com/rss/articles/CBMigwFBVV95cUxQNHJkXzZtcTJ4b1dYSWNLR0xjV084aVVJQkY4cExBQ21iV2c1MVZVbnZwRFQzellOTU1zTHhsMHRDY05UUlYwWVhwTDZ4QU5nZGZWczdFamlSc2tyMWY2dU5CX1lmeGxER0pncDlXQlBXNXhmRGxvNmNZd1o0VXJoeFpOY9IBlwFBVV95cUxNQllZYjEta1NuQUVBV2ZQRnZQSmF4MnpIV3lmWFV0clo4NUl4ZXd6d2pVMjFUQXlwVDBCSXY4WjJJejdoYUtYOVFyYUJTQkNBMUVPeHZkUWViT2oyLS02bFV4RkJmVHZCWHY0Skt0dU1Kc1lMd3NMaG1RcW5sUjZfT0o1emhwU09IVGpqSnJSRUxNMV96MWxZ?oc=5)\n\n4. [[특징주] 클로봇 급등, 삼성전자 '美 스타게이트 협력’으로 로봇 사업 도약하나 - 와이드경제](https://news.google.com/rss/articles/CBMibEFVX3lxTFBBUTVGaVJEY1JiWjl1NlN1clpGelE4Y0ZfSy02VVlRQWh0UkhLZmo0SWtfLXBpR1IzY1F3NHpTOF9BbzVLUVZVWmVhQlctQlc1QVNqazZJa2h4dWh4ZW1LRDR3Rkh4MDRaQVJfdA?oc=5)\n\n5. [특징주, 큐렉소-지능형로봇/인공지능(AI) 테마 상승세에 6.5% ↑ - 매일경제](https://news.google.com/rss/articles/CBMiUkFVX3lxTE5odFhWUGFXallGS3dvZDZhdUwtMUZuZmNPbjUxZjdxbEJNelhmNklnc3J6bVBzSVRCbzhFem1LdTZUVW1yc3pFekxIcXJYQVZLZ1E?oc=5)\n\n6. [[주식마감기사] 로봇 관련주 강세... 클로봇, 애드바이오텍 등 급등 - 금강일보](https://news.google.com/rss/articles/CBMiaEFVX3lxTFA4SG5BbFpSXzJEdi1lcFo5aHVOR0dqdXplVDV5RFV2a2Q5QVpjWjFYSkNYRnJfckJsQkxlcjhYOTU0eGs0b09ib2hkSXJsT2JxYUxFNk5UMGJQNUpPQ2YtanQxZ0dRY2dI?oc=5)\n\n7. [특징주, 미래컴퍼니-지능형로봇/인공지능(AI) 테마 상승세에 8.12% ↑ - 매일경제](https://news.google.com/rss/articles/CBMiUkFVX3lxTFBxYzU3c2ZuZlRSSGNIaTZKRlNDV2VCN2RlWFVTQ29vN2xDS3IzbkpvOF9xTGNpWkJ3MG5kOENpR2lhRUdHMlg4bGhZNVZvZ0xxUVE?oc=5)\n\n8. [특징주, 고영-지능형로봇/인공지능(AI) 테마 상승세에 10.22% ↑ - 매일경제](https://news.google.com/rss/articles/CBMiUkFVX3lxTE0tVWh4QkUtZlN2dmtsZkFodldkTG9qUWdHbnNEdkI4NmxmTWVXTk5zMUYwTkV1RWtkbzZpNFg4REZGNlBET0Y4WnZrVW5sZjU0THc?oc=5)\n\n9. [특징주, 유진로봇-지능형로봇/인공지능(AI) 테마 상승세에 5.52% ↑ - 매일경제](https://news.google.com/rss/articles/CBMiUkFVX3lxTE1QdlJpZ25EYUY4dnhPYUF0alBCOUt6X3dDd0hua2F4SXc0N1k3WTRIYjVRX08yaTlvNkVRWlk5RWk5bmRhaXZXdE5TeC1Mc25LOEE?oc=5)\n\n10. [특징주, 오브젠-지능형로봇/인공지능(AI) 테마 상승세에 9.69% ↑ - 매일경제](https://news.google.com/rss/articles/CBMiUkFVX3lxTE91QnZ1ZDNlMTlmcGF2eEZqRW11REp3QW5UNVhKTGhaN1lRRDVrYXhvVk1lLUZIQ3k1S2pUTjE3Q05ENjQ4cF9uOV90R2FMX3lKMnc?oc=5)\n\n"
          },
          "metadata": {}
        },
        {
          "output_type": "display_data",
          "data": {
            "text/plain": [
              "<IPython.core.display.Markdown object>"
            ],
            "text/markdown": "\n최근 7일간 '디와이디(219550)' 관련 뉴스: (최대 10개):\n\n1. [디와이디, 경영진 대거 교체 '바이오헬스케어 사업' 본격화 - 코스인코리아닷컴](https://news.google.com/rss/articles/CBMiY0FVX3lxTE9hd0pXT1pNVF9kWGgwV2ZkdF81ekJMOFpSeDlxZDFMZzJNcHd0X0Y5N05nUHlYNHlwLUhzM1ZMam5LQTMyY2hyU3pPNEZuMHJJcEpLSUxCTktYeUktb0VZSG1VRQ?oc=5)\n\n2. [디와이디, 바이오 전문가로 경영진 전면 교체... 바이오헬스사업 본격화 - 약업신문](https://news.google.com/rss/articles/CBMic0FVX3lxTE8wV0N5MzItcFJzZk1YZTVPYks3eE1SQndOUE1Dc0hqSGFadEdTVVpQenNBc2ktNjhGZU15ejZ0NzltSy1FUnM4eEpRZlVCNTZSSElrLW16b3I4Q1d1azRDczBVQVRXYUJySndkU0hFNFNndTQ?oc=5)\n\n3. [디와이디, 바이오 전문가로 경영진 전면 교체…\"바이오헬스사업 본격화\" - 이데일리](https://news.google.com/rss/articles/CBMigAFBVV95cUxNZWRoaVhCbXRScHdEWFI5YU9yUlBPUDRvQy1zU2NoN1hxRlZtbXpTOEpiUnU0YW9fUDFCVzMyT3BPN3VGYndxb19YckR6THRTbmYyMzJsdWhkeFhlRkRPV2loalFZUVNmd2NzSFo2UFB0Qmh1T3Vpd0VPNkRCVzNMOA?oc=5)\n\n4. [[인사] 디와이디, 바이오 전문가로 경영진 전면 교체 - 시장경제](https://news.google.com/rss/articles/CBMicEFVX3lxTFA0NUJfR0xRdXlEdUlGaGdyS2o4ZWY1R2RPYlV1bTdWeEp4dVFEXzE3VGRGQUo3N1BOU0VfZVVkbjhTVTJ0SFRxVWstTzl2TG4wNk9VUE43aHczRHdyMGgzcm1hY3pCWXkwdlJudklXcWk?oc=5)\n\n5. [디와이디, 경영진 교체 및 자금조달 완료... 바이오·뷰티 사업 강화 - 머니투데이](https://news.google.com/rss/articles/CBMiZkFVX3lxTFB4VXhvemhlQTB3ZzNfZlp2b3hCREZMUEdENmFjVDlzMTBzRm1fTjR6WS1zbW80WF8tVjMxRzRjQThod3FaY0pRNkpJN2ZDd3JqR1dETXFycU9IajhyNDN5aGhOcjBtQdIBbkFVX3lxTE5DQkVOYVNZdnZyLU9valFoTzltMHYwN2JocVVGQzFabGpoM0VBYk5UVHpfN0NaMDdpemhmR1A0UXVxUkhrWlAwT1VUN29sclBhTVlmakFyRENJc0dHbUxVeGlfdjRia0t4QW9ObW5R?oc=5)\n\n6. [디와이디, 바이오 전문가로 경영진 교체…바이오헬스 사업 본격화 - 뉴시스](https://news.google.com/rss/articles/CBMiYEFVX3lxTE9DYy1hbFFOWHFiY2thUHJvVGEzVmpZejV0dHF4eTRTNndhdmRrX2E1blppTVFrUEdGUHQyM2N0OHZKVTh5NnhRUmIzSGhaWUJvRmwzZUdVbnZaNEgxeHhRU9IBeEFVX3lxTE5uVlZwQ054YlJTNFNoLWxnUHVHcFdSSW4xMzU0NjRQcnVHN2pWcmdRQl9HckQtdHhkVFNYSFhGTWtickNBTjMxeU1FTmJiNjZ5NzU2X1Vic1JYRFZwUVZITTg3MzlUZWZuaXZvbjV4OEpQNjJXVUtKWA?oc=5)\n\n7. [새 주인 맞은 디와이디 주가 날라갈까...바이오 신사업 기대감 고조 - 핀포인트뉴스](https://news.google.com/rss/articles/CBMic0FVX3lxTE1MRG51NnN4SmF3eWVxOWFZaHRuUkxrUWZQUmZsTGRLVGFWTGpvVVVPZDhodGFQWUszdWFFTV93VE1lX0hqRzVwaVZBVDJLcUpBemZuekJuaVhXaV9YTDA0LUJxanZTS3FkNGlFMWRDaGlxMXPSAXdBVV95cUxPeEc5am5RZDFocXVPY09vV1lFTkd2WHRfZWFOQTdVMDhkT3NkazNRR2RXM1hmcmxZTVhCUUlSbXEycDBITlhLdWwxMjl0TEpDMk9EMG1GUEVCellvbnF2dUUtSURiazVKOVFkZG5MRXk5d0tsWHVVWQ?oc=5)\n\n8. [디와이디, 오세현·이정원·김대용 사외이사 신규 선임 - 네이트 뉴스](https://news.google.com/rss/articles/CBMiU0FVX3lxTE9QaXJyc1cxb0RsOTRFR05BMG51WlBxTjh6YTZqb3JRVC11WFpVckttOGYydnBXQVg0MWU1ZjgzaWlONjZUMHhUaFo0RnVISFR1Zl9N?oc=5)\n\n9. [디와이디, +10.33% 상승폭 확대 - 조선비즈 - 조선비즈](https://news.google.com/rss/articles/CBMigwFBVV95cUxOc1ItZnJHSi1lWTRTeXJXRHk1bFRLQkw3SUY0WEtDVHhqbV9rMXNmSm1paXhhT1M2d0c0Rjg2S2NjeW90MElIRFl1bEhTbU53dm54dk4xTHJOVVdRdmJ0bzZYdnFJMUJWSkVIQnRndUtjUDNDNHRTb0dvTzFRc2UyTXNRNNIBlwFBVV95cUxOTEtRYV9kbWRRV1o0LUJCM0Znb0JYazFKcG0yQUFzdTNyQVRqRU1WS29saHh6Ulc5YjFCSmVORXJCMXZjc2ltdlp4MDBNNFVFSEVZeXo0Vi1kQUhlYS1XSjBXZTYtbnJGc2RoRHpsOG5DbU53UHBuN19kSkpSLUxIcktGXzAyaXNkaVdfNXBxU2tjMENVdG9R?oc=5)\n\n10. [디와이디, 김영덕 대표이사 신규 선임 - 이데일리](https://news.google.com/rss/articles/CBMigAFBVV95cUxNSExxeFZsMlhLZmxlUnBvQmowVFN4UWxmUXdLc05ESE80bUEtR1p3RFdNd2Ywck1TV0N0ZHNGcDUySUFaYnRqTWItNms0ZkxQT25wRmc5UDVtbjR1RmNhcmpfQ01MSUdsaEhSWVYzM0xsNVFxbVpwamZUSWpNekcwTQ?oc=5)\n\n"
          },
          "metadata": {}
        },
        {
          "output_type": "display_data",
          "data": {
            "text/plain": [
              "<IPython.core.display.Markdown object>"
            ],
            "text/markdown": "\n최근 7일간 '라온테크(232680)' 관련 뉴스: (최대 10개):\n\n1. [라온테크, 딥시크 열풍...中 1위 장비사 '차세대 장비 전체 적용' 러브콜↑ [특징주] - 파이낸셜뉴스](https://news.google.com/rss/articles/CBMiWkFVX3lxTFBqYlhNcFpEUG5GcHpqdWRLR2pETVpCdGI3dTcyVFBvMFZ0al9NT0YzYlNUdUZveGJiR3R0ak55NHZPbmw3SzE2M012VmhsYnl0ekRTR0cyNTNqQQ?oc=5)\n\n2. [라온테크, 상한가 진입.. +29.90% ↑ - 서울경제신문](https://news.google.com/rss/articles/CBMiVkFVX3lxTE8wOUZ1ajV5TXFJd3h0bjJpSU9PWnRTd0hIMjV2aXFrZDNfMFAzbmtFX2lkNE1UYlpDMGJHUlNxVVdiWnlEMVdlb2hxYWJqbE5ZbWw3bGlR?oc=5)\n\n3. [라온테크, +13.72% VI 발동 - 조선비즈 - 조선비즈](https://news.google.com/rss/articles/CBMigwFBVV95cUxOblM0cnJwVi16X0UzZ3d1RUhUd2l2bmxfeXBXVjhxbnEzaEVyb1NPMVdpLUxkR2otM1hBUF9HbzQ5ZUZZNlZUb0REQmJRbDFmdF95QWVzRVhMd05ZSEdDVjl2VGpsQjZtVlQzM3NMWkJudzRqSFd1Yy1rMTF4cEt2bzYySdIBlwFBVV95cUxON29ORXI2UnpBc1Q0MVZQVTMzUEVhR0I5YURWLXBZZzk4RDRsZnZJbThGcFlHN2g1Sm44Z1VlWDhoaFJBRUgyMnltWTZMUEtSY2RTaGY3eHlndWhzNTF6bm1LdGpMV0kyS183WTV5MkZVU1ZqTExIa3NRTlV5QjBKNjczR1FwbndTR3F3QzBvVTgyei1qeVNr?oc=5)\n\n4. [[리턴즈 고래 삼총사] '한화엔진, 한글과컴퓨터, RF시스템즈, 라온테크'! 오늘 장 궁금종목 분석 - 머니투데이방송MTN](https://news.google.com/rss/articles/CBMiZEFVX3lxTE1lUnUyUU56bXNCQlgyczhJX0FXeE5oTFRIU0pNU2hkQUU2ZkhIRmtqRXZqWm1BdEI4cmdCTnN2Z3BKdHJVVVlWSF9hOWFadEppdm9RRDhlNTZRZTZnb1V3VXF1d0Q?oc=5)\n\n5. [엠케이전자·플리토·라온테크 등 5종목 상한가, 진양화학·코난테크놀로지·에스피시스템스·진양산업 등 큰 폭 상승 마감 - 영남일보](https://news.google.com/rss/articles/CBMia0FVX3lxTE1jVklIUDRMaXBGcHRmX0tDbENnZ3l3VktnaEtyMHBHS3VCYjRVWDFlNXlyN1lxQ3lON2JvV2hsN3N2TlhQUGxkaTlFNWMxTnBvNV9Mc3BXQ0FXSXBDcTIxaThJTmxuQ3JLTW1Z?oc=5)\n\n6. [[상한가 종목] GRT-엠케이전자 이어 플리토-라온테크 등 상한가 마감 - 이코노뉴스](https://news.google.com/rss/articles/CBMib0FVX3lxTE9YVjZHUENjSkdzYk5wQnJrX1NkMnZqdlBYRjNmVWlRWVBhSUVaZlJrS3N2VmhuVk9CcVdHbzk5WDdvYjRuSUdYYlRhcVVjUGFWTTVzX3N3Z1pnUjZNTzF2SmZBOXRnRmtGSlMyR1Y3TQ?oc=5)\n\n7. [특징주, 라온테크-로봇(산업용/협동로봇 등) 테마 상승세에 29.9% ↑ - 매일경제](https://news.google.com/rss/articles/CBMiUkFVX3lxTE1jTHZSb0k0cEtVaUVkVWxBRFNFQW1WWnJVUktZSTY4V1NhX2daVU52Y2FFSzhXOF9PcDhmWHRxWnltai12Zi1jV3FCSnhOd0NsM2c?oc=5)\n\n8. [라온테크, 매출 150억원, 영업이익 5억2000만원 /개별잠정실적 - 데일리인베스트](https://news.google.com/rss/articles/CBMia0FVX3lxTE1fTXotQVJDdHVIR3FtNDJ1NjVsdk9EVlllWFdCZ0FBRHhCQW1PSnFYNG5CV0dLOUhrRGNKRXA4WGpJT2k3ci1JaXpiR0FRYnFQTTRzRzcyQ2NrOGJlUGczZ0R5NlpRcTJMaENF0gFvQVVfeXFMTXlSQWt0dUp6bW5PTFNSZUxESTBYdGpWTnlEX2ZkanJEQlc4UDFuTmFMRGlGbF8xRFBTZ2xPZjE4WFJ6VDgzN1hUSE5DNURSaVlIRk50ODE1Sko4LThIZXBVTDJ5cG5aSzU1NHUxbkJR?oc=5)\n\n9. [레인보우로보틱스·라온테크 등 로봇株 강세...삼성전자 개발 언급 - 국제뉴스](https://news.google.com/rss/articles/CBMibkFVX3lxTE53MkdXN0hIdXo0UUQ1alRnQUZjNG1aazZabWxIYlZoQWV1a05idW94TjZvQV9BRWhIYTFIS2tMTWJtV19xMFVsOTIwMktZRURvRFN1UngydkJkQzRLUmZmZnRlNHlrMURPTnhDSEF3?oc=5)\n\n10. [[리턴즈 고래 삼총사] '한화엔진, 한글과컴퓨터, RF시스템즈, 라온테크'! 오늘 장 궁금종목 분석 - 머니투데이](https://news.google.com/rss/articles/CBMib0FVX3lxTE5iLWdBWGRJV3RUTFJ3azBKVHdIdGpZaS1SaXUwcGVwZWtQMzlObDVQS1ZUQTdDM0pxOWt6UjFlTmFqaHMycElEUUxUT0xmc0E4aFV4bmlfR1lqd2I1OF9Mby1KVWFhQ0ZWMGI4LTR6d9IBbkFVX3lxTE9ZOW5tSEMxUDRyejdzUnp0TGIycHkxZGJvdGZSYUFVV0Y0T1dMZ2g2RjVRald3c1d3YXlVdzcwajF6Y0ZkTmF2Y2JGelZUYVY3WENiS0ZPZGYxNXFSNUplWEZrNEo4bTliZHhaOE1R?oc=5)\n\n"
          },
          "metadata": {}
        },
        {
          "output_type": "display_data",
          "data": {
            "text/plain": [
              "<IPython.core.display.Markdown object>"
            ],
            "text/markdown": "\n최근 7일간 '아남전자(008700)' 관련 뉴스: (최대 10개):\n\n1. [아남전자, +2.65% 상승폭 확대 - 조선비즈 - 조선비즈](https://news.google.com/rss/articles/CBMigwFBVV95cUxQTjBRNGpSalRrWGUwbmdMbmxkS2NUc3JFN0VzVkNKTUstdVdEZ2RFY0FfT1lWMklYSTA0OWNGSndqYU0zbzJ3VldZNVpvVm8yMnVzbXh0QUZhR3d4SC04XzJrSWJxcm1VZS1Od0ZJX3lRSGRiTVNCWE9YV0NKNnZFeHp2QdIBlwFBVV95cUxPLUxNRy1jR2ZiOElYZ0JtYVU0cnF5WFJLR1l1N3JJVEhEaXMzcHVJdVJJazJhYllhemlvVWJfZ3RhbUZTSzRYUDZOLUdQTjU4cUstbWRfaDVjYTkwSW40RWNpZjhfcmRVdEVGOE9EMGp5WUdLWTZHU0RKQkVsM1NMenEyWlFtcWt2eU5Nd3FRNE9lZkIzQm9r?oc=5)\n\n2. [\"삼성전자 AI 동맹 주목\"...아남전자 주가 12%대 강세 - 국제뉴스](https://news.google.com/rss/articles/CBMibkFVX3lxTE5nZVlsUng0eWlIcl9OM3MwR0c5cGNSenFDc1hHcGI3aEpoZUc0a2tzWWU2dF9RN2k3ZWVPX2Noa1JMTDRfV0JhQVlITm9sUTdPSDVjVC1ndmx6bG1GMlFqU0N2ZGtCZ2VDRDktZ3BB?oc=5)\n\n3. [아남전자, 상한가 진입.. +29.98% ↑ - 서울경제신문](https://news.google.com/rss/articles/CBMiVkFVX3lxTE9pUlJhN3ZFSEozeXZaS1RoT3BrT2x5V0FBa2dhZ1Z0dGc0UHlGYWNjZjNWUTM5Wm5WTmpfclp0bzBLVno0UzMyclY5ODhTdEpzcHhfYmJn?oc=5)\n\n4. [아남전자, 최근 5거래일 거래량 최고치 돌파... 주가 +17.69% ↑ - 조세금융신문](https://news.google.com/rss/articles/CBMiY0FVX3lxTE1iZmNPTDJLclVxejVJd2hCNVNsbUVwTFY4bW9LTUdqR1oybHloQlNGSDZWZWlmeHlYVy0wOXdib0xNVHNvWm9EN1dYUTdhelBjNFZJYzhQY3laSGNLc2h0ZWlQQQ?oc=5)\n\n5. [아남전자, +10.15% VI 발동 - 조선비즈 - 조선비즈](https://news.google.com/rss/articles/CBMigwFBVV95cUxNUU1OMnZpWUlOUFlSbVJqNEQyYU1PeWZReXdqdWo5QTRPWEUwYzk1QTFQNlg5V1BaY3FITVJ4cEEtd2pPU19hNXZrRU5CTnNSeXAyaXRFVDgtWlNHQmxSMlN4ZXRtWEN5TEZZUEFxN1Z1NjB3REZyV2pRSEdZYktpcHd1TdIBlwFBVV95cUxPRzI3OGY2SWNIZ1F4WW5EMlg4Sk1MRjV5dm9EUW9INVFEV0tRdnpfNjYyUFF5Vk4zNGZ0eG9BRlRocjIwMVhCMlpGa2VXTnFiTmRjY3NIWGtlWlhIWlM0c3FHWm1WWnZ4V1pab2RaNjUzMmFvZFBBRVltLU9tSHhYVE9ndng2c3gweHVaUVZidXhyR1FBWjJN?oc=5)\n\n6. [아남전자, +29.98% 상한가 - 조선비즈 - 조선비즈](https://news.google.com/rss/articles/CBMigwFBVV95cUxOeWZQMXlYeEo3b0ljSHF2N281aVU3WjM4OTJ5NFRUM2M5bDhsWGdCQnJRdXNGMWRQeU5MRHhBMWxYVndCc2VqZVVFVXNYLUVWMU9NYVppVktVeDV0ZDhtZGNkcDZsa0Q1Q19IZUtmSTlQOTVzTVZ2Z1NGSWtYdVhMUlppa9IBlwFBVV95cUxPMm5mZnRKSThJZ25SLUZjcWhrY1pza0VxWVJ2YWJ5bzNuTGttSDUzOFpYZG9JV3ZFdUhUQ09zOWcyWFJmc0ROcE1QV3YxV0VaSVkxbUItYnN4RkN3NUNldHhmaEVNUzdMNUhYM3B4S0NPdkd3ZHpJTG1CLUxiYzRnM1YzUGlCRld3c3E3QTY4RnV5eUJNcUhZ?oc=5)\n\n7. [아남전자, 전날 이어 15% 급등…1700원선 재돌파 - 이코노뉴스](https://news.google.com/rss/articles/CBMib0FVX3lxTE5uNUh3UFE4MG5JdVBaZGRLM2hzT2VWOGg5S0xZeV9tZGZlRW05VERjd3lfb3RjbVJCaGs1c1Nfb2tMS25DR2tiS0lOUkVKTmYxaVpEaUhVOVBDbkU3cWhKQUhfOHZJTHp2VjhBQkdxRQ?oc=5)\n\n8. [아남전자 주가 전일 급등 이어 껑충…장중 1800원 돌파하기도 - CBC뉴스](https://news.google.com/rss/articles/CBMiaEFVX3lxTE9LSzZGbHowX043Z0ZsYml5cjk5NjluODRYZlBBdzdRd3ViQ0FteDRDYnRTS1p1bW9VWEZxd2k2QjZTcS1vWHBmaC1pYWlqMDQyeFFuZXlsSHpqZnV0LTM0Z29TTDBnam1a?oc=5)\n\n9. [[증권] 코스피 상승주 TOP 10…1위 '아남전자' - 네이트 뉴스](https://news.google.com/rss/articles/CBMiU0FVX3lxTE81UnAxRy1qR1ozRHRwenM5U2o3SmFhOVY5MHhfYjluclBYUVpNWG14TkU0UVhSTFlCX2I1WkRkaC1Jak00MDNvakxKZWZoSjdsV0VZ?oc=5)\n\n10. [[오늘의 코스피 · 2월 4일] 상승주 TOP 10… 1위 '아남전자' - 뉴스브라이트](https://news.google.com/rss/articles/CBMibEFVX3lxTE9kSV9nY0NuUVEtZzVTSGdwZ2tKYUQ4OEZONzd4RWh1UGk0ZDc4QmY2TW84UWVvTS1vSGQ3c092a05zdEVkekItanZrZVpQV3R5S1h1NTlZMDZFY2pQcE5GT0VBYmJQZnlzdWpXZQ?oc=5)\n\n"
          },
          "metadata": {}
        },
        {
          "output_type": "display_data",
          "data": {
            "text/plain": [
              "<IPython.core.display.Markdown object>"
            ],
            "text/markdown": "\n최근 7일간 '유니온(000910)' 관련 뉴스: (최대 10개):\n\n1. ['유니온' 52주 신고가 경신, 전일 외국인 대량 순매수 - 한국경제](https://news.google.com/rss/articles/CBMiWkFVX3lxTE9XWFhQLU5qV2pXVEdxdE5SY3dZM0FNVXJTWnpmd0I2SThmbS1RaFhvOHJJYXhLTktIX1ZBN0tNekxJU2hkRlg2OXhXY3RyZ1NEZTFmUXFTWklSd9IBVEFVX3lxTE5UcWUwR1dLb09ndWZrRUJCcV9GakxXSHBSQTJsdTR4cFVFZVBzemFJUExjY3dReTNrNVYyTklJamNmS2pDTWhLSEY3alpvR0FENHJhYg?oc=5)\n\n2. [유니온, +1.00% 상승폭 확대 - 조선비즈 - 조선비즈](https://news.google.com/rss/articles/CBMigwFBVV95cUxQb21rUDR5ZkFpU1pNQmRaaVVvY1VRaEsxYWhSR0NVTGhobEZHYU1OMmtqZDJWNnRLaTZCLUhQa2l2WlJscDZXdjJyVlZlMWJzVlZ0bU9ZcW8zQ3hSRVFFX1JGTk43RkFHTldGNk9QSW4tdzVFeVRXR0k2N2Y4aUhRZkVtSdIBlwFBVV95cUxPZy0xbWUzYzZfNU1GaHZpZEgyUWZ2bDd1Q2hTckFlM19hRlNaWUxXUFZadGxiWktsNmkybko5M2xyZDh4NWdTWlhUUktiS1E2YUcxd0hXaEh6Zk5XYlhhZmhmUVQyWVNXNEJXdHhZQW0yT3RpN0NGQ1VGODRLdlMyR01qdGc0aGZPRXIzTS01bkcySFdLLVlB?oc=5)\n\n3. [서울페이, 4월부터 위챗·유니온페이 연동한다 - 전자신문](https://news.google.com/rss/articles/CBMiTkFVX3lxTE5oY1owaXk0Yy1maG9DRTRNdjFDNkQ3S3NaZWVwYTdFbHJZYmtlajRUUkFieEdvaGRQclF4TnVsOE9CYTlnZHljYVhNa2RhQQ?oc=5)\n\n4. [유니온·유니온머티리얼 주가 26%대 강세 배경은? - 국제뉴스](https://news.google.com/rss/articles/CBMibkFVX3lxTE9PbmFNc3p0clp5MnpCd3ZLSkI3MmRYczRXckhEZThCLXFja0xxUzh2UVVPWGxHb082ZUhmVlk3Z2c0NnBkVVg0c0ZQUDhxbFktWWhlaGFEVmVoZi16WGpqS0JYRUJJYUhvTVFJV1RB?oc=5)\n\n5. [유니온, 장중 52주 신고가…유니온머티리얼·동국알앤에스·티플랙스·삼화전자 등 희토류 관련株 급등 - 영남일보](https://news.google.com/rss/articles/CBMia0FVX3lxTE16Sks0Q0REYXBNcjFiR01PTDVkTEFKeUJmdV9xbmxMSzZ3amNlNTMyVjhGUURPNzBrREJYWDdSVUVEdHpxZ1RFZTd0OS14c3RwVEluOFdwZWV6c0hXM1hpTEpmaE9vRUdmT2ZN?oc=5)\n\n6. [하나증권 \"미중 관세 갈등에 희토류 관련주 부각, 유니온 LS에코에너지 주목\" - 비즈니스포스트](https://news.google.com/rss/articles/CBMib0FVX3lxTE9HSVJ2OGlxaFdZd1lzanYwaWYtVEhjeExSc0YyUjg4Y1VOUWYtbVp2UjFOU2t0c2ZhRDVhZV8xYWgxYkphTTFzbDdNV0JmcEJlZ1h3YzdiYnNEZ21OelhFcENWNl85LUpYdXNmRlc1dw?oc=5)\n\n7. [방송작가유니온, 공익영상공모전 ‘너, 나, 우리 WeTube’ 온라인 시민투표 돌입...3일부터 16일까지 - 전북의소리](https://news.google.com/rss/articles/CBMiZ0FVX3lxTE5hWEtmbnc3VTFoV2plNm9lMUpDNTZEMWdxclJhTENHcnp5QXpCaDB6N0xqc2xrclBxUkNNa0FOZGFpdm9fajNISmF1UzZqRWo3Zkw1ajJVVXdpTzB5RnIzZnNhb24weWM?oc=5)\n\n8. [유니온, 급등 하루만에 9% 급락…5900원선 밑으로 - 이코노뉴스](https://news.google.com/rss/articles/CBMib0FVX3lxTE1zWFJ4WDNUUWFWWVBSYUhRaFl4ODJGazFqOUtoeU04UDBWSk5xR0F6Qklla2ZKSXVXMW1ud2JlT3B6Uy1pZFlVbXJfR2ZYbE9peFM1MmJaV0RNZ1ZtMjhiTzJFNEExQnNxT0MzdGhXbw?oc=5)\n\n9. [미중 무역 갈등 가능성에 희토류 관련주 '껑충'… 유니온 27%↑ - 머니S - 머니S](https://news.google.com/rss/articles/CBMiYkFVX3lxTFBPOC02OHlUZU5za0ZsSkFBTDliY2ZBVHAwVjktRXU4NHgzNHA2OTdMNlNOVUtvRTFmUVRVdl85ejRKNjcxMU05MGJ0LUtsTGFzZUZoUzNYeXp6YVgzYkoxZV930gFkQVVfeXFMTjlrWVJNYXRpRTRnOFktRWNiNmxTamRfOHVmd3NWVk1nSy1TMjhKRElxczFURkhJRV82YUdLY3lQbW5JNXBLcjg5dVBFbkc5dGc0QmxUaWE1aGlXWndQdmZkOTFpMw?oc=5)\n\n10. [[특징주] '유니온머티리얼, 美·中 무역 분쟁 가능성 +20%대 급등 - 전국매일신문](https://news.google.com/rss/articles/CBMibkFVX3lxTE5kSnE1THZrdUZjb2FnNEpuR2d1NzdWcklZUmpqdldDU3VMWDhkcUVtLTJhMXVnNmYwWXJxU0xPVmRtUFJ1ZmVEZ05BWF9RR08yWmZVc0x4c19XS25lTVI1OWNxODNvbDZmcFhmSXVn?oc=5)\n\n"
          },
          "metadata": {}
        },
        {
          "output_type": "display_data",
          "data": {
            "text/plain": [
              "<IPython.core.display.Markdown object>"
            ],
            "text/markdown": "\n최근 7일간 '하이젠알앤엠(160190)' 관련 뉴스: (최대 10개):\n\n1. [[로봇사업 기대株] 하이젠알앤엠, 로봇시장 개화 맞춰 준비 '착착' - 딜사이트](https://news.google.com/rss/articles/CBMiT0FVX3lxTE9mMlVrS1RvSmhMWVFvbjAtbGxsLWpiaVprcjV3MTRiNy1SdkVtQ1NnX09JYWE4MVVYX0tYNVJBWFlIeVV0bGZBM2xFV3l3T3M?oc=5)\n\n2. [올해 한국 증시 상승률 빅5는 모두 로봇주 - 조선비즈 - 조선비즈](https://news.google.com/rss/articles/CBMiiAFBVV95cUxNaWRwdC1zSHlQVzRQQVkybXpDRGZROURUSjJ4U1NRMEhsUmlOanZrUFdCQVJTdjM1eHR2bzhYX3EzT0pBak5SVzdfTE5ESG5DbDV1eWhJWFhydTQyWk85eVIwUmZZVzRMXzI4bGhJLWlMTmNGWEw0TjF0My1mSm5KMjd0YWEwWDZU0gGcAUFVX3lxTE14VzZ6MkQyUlZSOXB3cFhvVlZkY2l5QnJVbEdyam0tMW1ZSm0zZWxRenZqU1JMN1JCbl9HR3E4T2dvZ3lNTnpSOGJCRDRvbjgxZ2UwdDhLcS1LWXFiUEg2ald1V2d3M0UxdVpzSm9XSkVUOVQyUzR5TWE2b3VmY05xWkNUa1l0eTJwNjNUNzUwNXhpLVJfa09fYno5Qg?oc=5)\n\n3. [하이젠알앤엠, 3거래일 연속 상승에 7% 급등…4만1000원선 재돌파 - 이코노뉴스](https://news.google.com/rss/articles/CBMib0FVX3lxTE96c0l6VmZ4YlhYTWk1S3N6T3A1ZW1LZEFkcm5NZGllbmw0OGUxMkh1azFaYlk4eF9uNXlYV0FEOS1sck9UWjE2aWxyY3FCWHUyeGVxYlFNUWtEWG9rd0xISEZTQkhfSV9nM2NFX3N4UQ?oc=5)\n\n4. [거래소, 하이젠알앤엠 투자경고종목 지정 - 굿모닝경제](https://news.google.com/rss/articles/CBMibEFVX3lxTE1qd3lSZDdvbkxERjZlTjhJRWwxS3JEajFWWWxkWVdXdUFpeGM5YXNwd1RZaENDTjBPU0tEWXZsYzQxV1FrbjlsZnVUVlNrVlB1SnlGUTY1UTczU3QtUXBXQWlfQU1NQUM5cWlZeg?oc=5)\n\n5. [상장 7개월 만에 448% 급등··· 하이젠알앤엠, 로봇주 최대 수혜자 등극 - 뉴스웨이](https://news.google.com/rss/articles/CBMiakFVX3lxTE5zd01wbGhYbXR3WFNHZUpIZ2l3NzN6d3FPcWJGb2hPc2RWVGFWV04yTkdXQ21EWVNQN0E0YWZESERnN3lSaVpFSXNZUTBrZzc3eGFQSlVzc01vcGRSemdSbXM4MzcyQTF0VUE?oc=5)\n\n6. [코스닥...레인보우로보틱스 · 하이젠알앤엠 '껑충', 루닛 '급락' - 초이스경제](https://news.google.com/rss/articles/CBMib0FVX3lxTE82M21LUExUZFZYU0tHaXQ3SEdHQzBQcXExaHpEXzZmSFdyMjg2LXpLNXlPdGxteHljMm5rZy1OUzlRSWtOU3c4bTEtYmp0cElYbW1xTldKeHpDcnU0Qmtmd2dHVzlHQUZFdE9zR05pd9IBc0FVX3lxTE5BTU1rdGxpNjRSZ2QzbjVLY0FhWUVGX1JvM3ZlRm1oY3lhNmtFeG44YzNkc1JZUHJ1UXpleTdFbDB6NkN5cDg5cWZpaGc3NExMQ21oOXZka0FOOFN0NFhBTC1wTTY4V1Vxa1ZCZnNjcndHb0E?oc=5)\n\n7. [[특징주] 하이젠알앤엠, 로봇산업 성장 수혜 기대에 급등 - 서울와이어](https://news.google.com/rss/articles/CBMia0FVX3lxTE9penpmV01rcWFCU2lKMGZ5ajkwcjQxWnRaY2ZCOHpoT08yRFBiT3gwaGp2aS1XRVZoaFhoa3BMQVlUamFFLUJuWFJJckdiU1dUb1hBa252MVFlOTctN1JROE92MUFwbnVuRVJN?oc=5)\n\n8. [하이젠알앤엠, +2.56% 상승폭 확대 - 조선비즈 - 조선비즈](https://news.google.com/rss/articles/CBMigwFBVV95cUxOX082TGx2ZWVoM0VZMVZEVkZIZ0tFS0ZMMGd6RUdiT1VJaEdCSnE1b010VW1FQ3ptUlVtYjhhd09qYWMzajlIZm5VSldWMUQ2OGhSMEhPV1pIdHQzR0NoTTFZaUN0V01Ca2FaaXZLcWFNb1JoZjR1N0xwVHRLRF84THkyZ9IBlwFBVV95cUxOWmRod0VsQU1sSkZEbFpDeDh4dkItRHN1VG9pX1FJMndBMjlCWXc4STJxMExOaF9xeElGbUhld19ZYjRNTEQxUWNOeDdfSThQTm1jOXZJTHV1bHRfR1ZGMV9ZMEVsSU1kRklBT0lGWjEyNmwyX254d0lWSy1lbHJySHBVYmdPYXBQNEVJd2twUFpMMGFuS2tV?oc=5)\n\n9. [[특징주] 하이젠알앤엠 급등, ‘불붙은 로봇 경쟁’에 출사표 던진 韓 기업들…로봇 관련주 활활 - 와이드경제](https://news.google.com/rss/articles/CBMibEFVX3lxTE1xWUMxbTZUWGJoT2kzajM3LURZV21sQ2pSMFNNNzhqX2VTVXFfMWtDTWwyVjNEN1ItODZuTk1TaWctUEJVTTJRYXBRYmVJWWg4eDVyZjl5TVZwaDdTSktJX2daaTh0VE9tNjRtZg?oc=5)\n\n10. [하이젠알앤엠, 전날 이어 17% 급등…3만6000원선 재돌파 - 이코노뉴스](https://news.google.com/rss/articles/CBMib0FVX3lxTE1wOEp3N1ZUZTYzUzVEOUsyYkdHSUh5WDZBUmN1LW9VLWw3RllVeDhNVXZQUi1FRldwUU1DOUx5dnJQLThBaEtfZFdpMGdQcDRuTUs1YVJPUEJGa0tMcnI5NUNzckFRVjlIVTJyVjg0aw?oc=5)\n\n"
          },
          "metadata": {}
        },
        {
          "output_type": "display_data",
          "data": {
            "text/plain": [
              "<IPython.core.display.Markdown object>"
            ],
            "text/markdown": "\n최근 7일간 '올릭스(226950)' 관련 뉴스: (최대 10개):\n\n1. [올릭스, 비만·탈모 치료제 임상 데이터 확보…\"빅파마와 거래 협의중\" - 머니투데이](https://news.google.com/rss/articles/CBMiZkFVX3lxTE9GSlQyN29xVVhRdXNNdTItdkF6U1d2c1BGWHEyNFpqUEcyT3Fib19UZUpKbEFTbU9PYXI2NG8zSjRibmdBamxRc0RqMWwyTGRwa1dPMWFpMWJIUzF1Z3RqbVdSOUdMdw?oc=5)\n\n2. [인스코비, 28% 급등…올릭스·안트로젠·강스템바이오텍 등 탈모치료 관련株도 ‘들썩’ - 영남일보](https://news.google.com/rss/articles/CBMia0FVX3lxTE5XX2NBYmx3QWRGSllYY0FWb2JEZG10ZGt6aDFhME9XRndidTE2cHdlMElSN2J0Unh2RWltYklHckU2V2t3SDlKTnFYYVQ2a0VTYXhES3JkbmRRX2E2ZlpBVmo4U1dSZ3JCWXpR?oc=5)\n\n3. [올릭스 주가 승승장구 하는데...기관 대량매물은 '찬바람' - 핀포인트뉴스](https://news.google.com/rss/articles/CBMic0FVX3lxTE1LaUxLeTdvSVFCaUhDY0NHV1BRYWZQRnQ0U0VYX3VjaVl6ZWxYUHF4SGhubmdjUEY3dVdQeVZrV0hEOGszbmNEZGd1SlRERXFYZkFOQjZZU212Wk9BbXN5b3QxdFlVMVlCa1V5ZTFLUzh5ckHSAXdBVV95cUxOOGc1bGRiZ0k5WW9Hb1dCSWZ4WTI0QWVtX1ZKRlVuemJsVzhsQy1IbDNGVENXUjZhMFIyZ05XYlR1WmNqUWpPTlVIbEgyRDRZaEtZMjlmcDd5TXFSNklIVDdCN2lvRERyQWVyT0dwWmhOcVdXZ1RlVQ?oc=5)\n\n4. [올릭스, +12.34% VI 발동 - 조선비즈 - 조선비즈](https://news.google.com/rss/articles/CBMigwFBVV95cUxQdjBxemZ5ZzZNQ0V1S0lTb0tieVBGdkJxNjFmMWlDQlByZE5jY1pzUUM2eTJhZWFIeFVmejU0aU5uV09YUV9aV3RldzhkWTFtbDEtay1iZUNGNVl1V1dfaTRzN2xWcXJsR2p4Nm85blc3dXIwXzRFTjBkd21nbW5FWEQxNNIBlwFBVV95cUxPZGt3c05xSkU4di1aY05tVkFza3ZGck9mUmw4RWJDdDdXSDBqQTFHVG1rSjBadzl5ajJsVzMyekJ6Mk9TdmRSdE1fcjBQZXl1Wm0xYWpKQ04wR0dWdEl3VXAzTlRjcEJSUVJNWmxObDh0MFpCakZoMnJidnZDaV93Z3liRHltXzV6SFN5SDhSaldjWklrMHhN?oc=5)\n\n5. [전일 시간외급등주, 올릭스 10.0%, 엘디티 10.0% 등 - 한국경제](https://news.google.com/rss/articles/CBMiWkFVX3lxTE84MXZPMGFVTVVFejhvMGhUXzRhNVFhc0J6NFBWZFZIaFRJVXpsMFUxRjhvZ1laemJVUTg1cm1WdkR6eWpRSUxKajRLZzJuc1g2aXBpcmxXRThwUdIBVEFVX3lxTE1fbXdTU1FDZ2hsMUxRcy1Mb25BaUV1WnV0bDBRQmZ3M2RqeHJmeW1YbmNmR2U2UVdaZi1XM3pISWl6alBSRm4ySE1oajk0blljTHVYaw?oc=5)\n\n6. [[시간외 특징주] 올릭스 주가 급등...주력 파이프라인 기술이전 논의 순항 - 핀포인트뉴스](https://news.google.com/rss/articles/CBMic0FVX3lxTE1JR2pxYUpaeDVtcHZsYW9SV2RRS1VNVkRIc0Jzbk1vSFd4NWhpc2x6RFRNY2J1cVFETlFheUlyQ195bXJhUWJJZVhidHM0R3FkM2wzS2NMQjZRamJnbm1ybkNob0FaMUJXSXdTbjNPRk9BQ1nSAXdBVV95cUxNOFV6ZHgzWGx4aG5hdXVBbHA4OThmRW5iRUxBQXRGMTR4ZFY3VWVDdUZPbUp2cFd4cmdNWUJPSXRsQlNNUW0yS2JuWmZ4MXIxN3BhZnhpbGs2eVVyZ0t4UWpDN0NfQWhUZ01wR2VsaXRNbWpwa0Fzdw?oc=5)\n\n"
          },
          "metadata": {}
        },
        {
          "output_type": "display_data",
          "data": {
            "text/plain": [
              "<IPython.core.display.Markdown object>"
            ],
            "text/markdown": "\n최근 7일간 '듀켐바이오(176750)' 관련 뉴스: (최대 10개):\n\n1. [양 제약지수 동반 하락, 듀켐바이오 홀로 선전 - 의약뉴스](https://news.google.com/rss/articles/CBMiY0FVX3lxTE93alRMeXgzU2tNWDNfb2ZLSkd3UEFPUzNKczdabnZVT2N0eGIyN3pZSXFXaWVNN0FaTy1rVDNBR1AwTUdoSHZKaFY3c3JEMXNvRHpLQklSSlpxV256RVRJR2JRMA?oc=5)\n\n2. [듀켐바이오, +9.88% VI 발동 - 조선비즈 - 조선비즈](https://news.google.com/rss/articles/CBMigwFBVV95cUxOLTVHZVpIOUtjTEt5YXcydkxJQ1R3YVhKMjgyZEFTeEtmUldYek1ITTRhZksycUF4Rk10eXltN1UyLXV6dnNJaW1yU2IyN015XzdyQTJnSzJKTGhWbVlEOHhibzhRU01Kc2lQd0ZUODBORTdYeEVVQll4cE9jak1OOVNkQdIBlwFBVV95cUxPa2E3QVk5VWVVSkY1cEVObU5rcFFEOVpQMUJqdTZkdW5lTVNsYURVblFBNFZhNG1vUFpCQzVaMGtMaWFwZzF6Qk14NEljWU5CY3lFWk1VSkcweGhlbGt2V2VLcWRMTkFCLVlnN1N5RWstcE9rbEZhT1NSNzc4U2Y0Zm1iQ3B3VDhCNTZ0dWdUaXAxY2pVeFJN?oc=5)\n\n3. [듀켐바이오 주가 파죽지세... 치매환자 급증에 핵의학 영상 진단 수요 급증 - 핀포인트뉴스](https://news.google.com/rss/articles/CBMic0FVX3lxTE5WSkswSjVyVERYVFU3N0VJOThsN2o1VWNlbHRIdGxldm5PLVdSUTc5LTJvd0FGTnB2a0t1MGdIRjVycEp1SlpyY1BfYjFiSWprbmRFXzdYOVdmNzRKenQ2cFpxWmdMTWpLcVE5cWEybzVCMkXSAXdBVV95cUxOU255ZWRVcktxaWQ0bHBmOE1TM0JUZDl0bUtuSWZRbmUwQldsNDBES1BMRlpGdlZiMnpWOUozOVQ5eERCaEV0SHdGbERhcEh5aENXdjc3dm1TYTNwblF0NDJIcm1EbWRLTlVrWHJSdFZFamRKRGt6QQ?oc=5)\n\n"
          },
          "metadata": {}
        },
        {
          "output_type": "display_data",
          "data": {
            "text/plain": [
              "<IPython.core.display.Markdown object>"
            ],
            "text/markdown": "\n최근 7일간 '한국ANKOR유전(152550)' 관련 뉴스: (최대 10개):\n\n1. [한국ANKOR유전, 상한가 진입.. +29.83% ↑ - 서울경제신문](https://news.google.com/rss/articles/CBMiVkFVX3lxTFBUS3FfYWx2TWRDS2E1ajl3Nkw5NGpsUXZZVDNNOWFUYk1laU44U2tjUXhLRmNiMkhnUGpCWF9IUFN2MU5nYWJFOXhFdlRNRGY4eGpTcDRR?oc=5)\n\n2. [한국ANKOR유전, 0.00% VI 발동 - 조선비즈 - 조선비즈](https://news.google.com/rss/articles/CBMigwFBVV95cUxQSnVHcVh6R3NJVmVwVW01eTQxMWhBUloxNXhfcUYzZDhjTHBBa1R3VzVqRFJiUTJkVjI4dHlYOEVueGh4endkbENtYU1Zd1JXNGUxRF9lRzdvSXF0elRGRnJSX2RoMnVTZEpONENxVTc5RFBvSGFTV0RnemhFUmRFX1NLZ9IBlwFBVV95cUxOSm1MVkpidWtBWkRseG51NmwtVjZwR1k5N05Gb3ZtaC00NE4zeVpINVdLblRXRmxuQkpIMVhHTFRnZDhUUS02MnEyckdpbWxib1NLMzdHUk5OdElvSGRoRUYxMDNuX05vZWYxUlVtY091T0k4R0dHNmRiTUhrZTlZaXNLbUNKQVQ5WENoSEJiVzJUNS1kRF84?oc=5)\n\n3. [\"동해에 추가 유전 가능성\", 다시 뛰는 대왕고래 테마주 - 한국경제](https://news.google.com/rss/articles/CBMiWkFVX3lxTE5YNW1vakFQVldMa2RLUjg0UEs1TWRiakhBd1hxT2cxLUdTS3M4MTI0bUJ4bFFZM3hvcjQtVWtGZGthaDEzOTRjZkhUTFRScGJkSFltdFd3LU81Z9IBVEFVX3lxTE1HSkhfeks5X1ZlX3l6YkZ3VUF5SWh2OVN3R1d6NEtGY0loNHI0S1BKRjZ1UkZSQzF6TnprWi03VVM4YWVEWWlNc0FRVmh6Mk1ISk1RSg?oc=5)\n\n4. [한국ANKOR유전·GRT·바이브컴퍼니 등 5종목 상한가, 디젠스·한국패러랠·이루온·상보·와이즈넛 등 큰 폭 상승 마감 - 영남일보](https://news.google.com/rss/articles/CBMiY0FVX3lxTFBqUVVmd2J3czdCV3BQRkxMd1BtT0xGTWdxMEQtUU1kZ3JQbldPNDNzUzU2YzVWZjM1WE05dWtEUno0TDE1N25qNnNvMmotRTl6akJoTEZEV3kwYWYzVmVROEpWcw?oc=5)\n\n5. [한국ANKOR유전, +5.36% VI 발동 - 조선비즈 - 조선비즈](https://news.google.com/rss/articles/CBMigwFBVV95cUxNM2NSOVdycS1wQmpteGNrODJQaWQ1QV9BU215a3l5WXQ1aUo0ZTVXSTZBME1RN3NwMXBNQXdCWndkdW95NVBMbVVhUHY5MU9EMkhNcVNVcmFmdHFzTUtOSzJoLWR3c2JTOGtSM3gwWG1JQjVvZzBOV2Z3MzB4N3FUQ2VqRdIBlwFBVV95cUxOc2RyWXJsR1pDUzlBNDg2VUdKYUhpaUpJYXNBRXhOWkRCVVFxY3BXZ2V5dlpTT1hiODJjUXJwMk9EY0NoaFVsT3RLMmRWUDltTmpfRkZPOTZUUWNHR2QzTUUyUHRmdDJSN3NIaTNwTFZrUUd6ZWFFSElOZ2ZKTzIzQ3c2TXBzVlRubHNNMXpMRU00OU1XR2Rn?oc=5)\n\n6. [[오늘의 코스피 · 2월 3일] 금일 상승주 TOP 10…1위 '한국석유' - 뉴스브라이트](https://news.google.com/rss/articles/CBMibEFVX3lxTE1oMDI0RjdNMWR3MEx3QUNneU5iT1RnMlk2RG1FRUc2VHhkcW0xbGk2anZua0FWZEMzb0I1TW9jb1dEVXJvcm9ObjBsaVgteS1GOHpIQkpLX09ZWjlwWFFPTVI4TGhYS0JlR1drWg?oc=5)\n\n7. [한국ANKOR유전, +15.40% 상승폭 확대 - 조선비즈 - 조선비즈](https://news.google.com/rss/articles/CBMigwFBVV95cUxOdS1wbXVtSTBaOElwMDFibVRyYUI4blRfV1plLVl2S0h0c0RLU2ExMDVOSDdCWTBwNTYtWEFoTXItTWNCRjlxYzZGVE5rajBIR3lacS1SUUF3dklsYkFNaVJ4SFJXUmNkTkx1eUNPYVNnNjlRODZXeUl3RDcwQThMY28xQdIBlwFBVV95cUxPOHJxc0JmZWhaWjdGck9MbmZxODE5a015cV9LaGpVMFY1UE5HQWpRNDMxR25Zd1lXQXo5UDdjaWNYbjJRWF85NUFhNkozbXlHZXU3Rl9mWkJ5Wmc4ZzVtYlB6WThFcDZqRVpaLUJ4NlM2YXVPSTUtem9Gd0Q1X0lOMXJvSjR6SlR4d2NDWDViOHJSWGxfMXNJ?oc=5)\n\n8. [한국ANKOR유전, +29.83% 상한가 - 조선비즈 - 조선비즈](https://news.google.com/rss/articles/CBMigwFBVV95cUxQal84dU5SZ2lIdmt5ZWRSdU5yRW50VDkyTTMtRG1hZno5YkNaN2V0MXZjLXdoelJGVWNoanFqc0lwSmdjUXcyRFlaVkVYMGd2dFhtSmFiSGFiMjFtSnQyelB4a2RObTl2VDl6QWN5dkhKVzhoMk1wNm1EazNYS2QwdmFVRdIBlwFBVV95cUxPQllaRTkxS2wwbFpDNC1vN0lqRk5lWkVVeTJoYlpjdVREQjQyaTdNUkFIbXpPSmxZWEU1THJEWEhpa0U2a0tXVUh6bG9VLURYS3NwVVNTSjFzS2JDWktLVWpJcHRrY1dBMWxmeXl1cDlxVGZoeklmVFcweWlSMjdRN2ZmbkZUNHB3em05UW5lb0VWRWdwU3FZ?oc=5)\n\n9. [한국ANKOR유전, +4.85% 상승폭 확대 - 조선비즈 - 조선비즈](https://news.google.com/rss/articles/CBMigwFBVV95cUxPc1pkSEwwem5sZU9HNUFaVU9jSDdMcVI4NHE1SnR5YWh4cktKeUpwdnBMazdjbjBPSEU5d3NfM3FVYXNJTDJRaTNHVTJrOGFkdnFuUnFURnV0akZkbm9KMXdia1ZOLWdaYjdUUEM4MUxOOXdDcEVITmxKQ082TXZUdV85MNIBlwFBVV95cUxOVGNGX0s5RlZRaFViajV6NUhEYWZSbE1ISTBhTnV5R3g1MTVyS1NIWnBsRGhadTF3Q3N5T0xOdWQ2d21pcEI3aTR4a1JEM08zTHdJSWp1c1FsX085STVUT2JSQUU2eG9PZEJxWU9BZmVRTm1iekNiVkZUZXpVdUpvbVZNMVRNS3B6VlhSa0YtaC1WZThzSnFr?oc=5)\n\n10. [한국ANKOR유전, 0.00% VI 발동 - 조선비즈 - 조선비즈](https://news.google.com/rss/articles/CBMigwFBVV95cUxNMjJvcUZWUEVyLWFITlpHYVB4Umx3TWdLdVJ1M3NpUmhmZzIyTGhZd1EzVHRZQ2FBM3VzV3RUaEhZaEhRcm1WM0dMcTJuUjZEVFVNejVMSVFwNGNjZGphMmQ3UGxKaG12ZXV0VVptTEdWVURkczZSOUh4ZHVURThoVUdIVdIBlwFBVV95cUxQTUYwakxNV0sxZEJOamZaVEJoV2RiNEZUSjEzTXBNVEN3T3FfZFM0UWNzWVNwTWdobzR2TVpNSDdiLWhZOXR5R1VKQURJRUNSZUczbDZRMWg3RzFqZDcxVzBsZFlTMkstYVVyVzJsaEpsMFo3eVZSZWpvOF80TmJjYXQ0bUhFTm8ycTZuRTRab0VoQmQwQllN?oc=5)\n\n"
          },
          "metadata": {}
        },
        {
          "output_type": "display_data",
          "data": {
            "text/plain": [
              "<IPython.core.display.Markdown object>"
            ],
            "text/markdown": "\n최근 7일간 '풀무원(017810)' 관련 뉴스: (최대 10개):\n\n1. [풀무원재단, 교육 플랫폼 '풀무원재단 클래스룸' 오픈 - 뉴스핌](https://news.google.com/rss/articles/CBMiXEFVX3lxTFB2cFZxTENvYnFrRXJGUkxvWF8zOW50VFZvUWVJbEpuV3k1LUhSZl9TSnZQUjFuSG5FTGNsQ21LeXVQTURvZUpWWlY2LXZCZV8wa0RrTzJIUm9nWDc50gFeQVVfeXFMUENhNlYyNjFjRlV5YUQySGRZYVJNaWNoX2wtM3htM01NajNlckNRWTNodThqMUFLOVhwVHBXTkZVX080cFlYa2E4MkdPeDZOQm1BSXpGcW9NLW50Z3h0dw?oc=5)\n\n2. [풀무원, 혁신 브랜드 ‘얄피’ 신제품 ‘얄피꽉찬 고기왕만두’ 출시 - 이데일리](https://news.google.com/rss/articles/CBMigAFBVV95cUxOOElndjV1bXZsVGswTTNWTE9rQ3lFSDRRd2RXRmFQcUp4RUoxdmxweXBKMVNhVXVMLVZfQ25hMGotVzZvNEp3RkJoc0ZucE1WaVMyUEEybjM5eHhCQXV4QTZTb1lTeVNlUTl1Z0xzN1NuSFdJRy1TcXhnWHRQV3FJNg?oc=5)\n\n3. ['K푸드 열풍'에 날아오른 풀무원·오리온.. '응변창신' 전력 - StraightNews](https://news.google.com/rss/articles/CBMic0FVX3lxTE5BVTFCUnNsOWRKTXV5dFNvTThGaDNITUlRUkxGZ0VtVUFDOTA3QlJYV0FBaUVCd2REUHFPcG16ZFRqOG05ckhMOWtyOU9TTG9rRC0xdXJsZXVNVmFqd0hZUGJRbDdDU0JlYnhIcHZwb1NKN2vSAXdBVV95cUxNRVdWTDRyeXF1YjJ4aDlINFZzclp3TlJqZnNGOXY2SDJVeXJ4dFIxc2lqYmFkekxubHpzMFVyQTNFSUxBYzRPSXVyN1NOdER0ME8zVlU0ZnJTT3VDWFVaS2VvNUNoUjd1bUFObjNsRE5PQ0VfTDdENA?oc=5)\n\n4. [미국에 공장 지었던 풀무원, '매출 3조' 진입에 주가 훨훨 - 네이트 뉴스](https://news.google.com/rss/articles/CBMiU0FVX3lxTE9wWjVzZnFHUjYxRTF6Z2dsc09GTjVVeWYyY0x1bDV3aElCU1N2YThzVzdqQjhBbnZvZGRXcW1KWjgtdUMtblZhb1BqZ2laZ0JfanZJ?oc=5)\n\n5. [풀무원-공차, 이색 신메뉴 ‘세상보들 또우화’ 선봬 - 로이슈](https://news.google.com/rss/articles/CBMiekFVX3lxTE1EaWZFRWp6Snh1YmNPRFc3S1lPWlJBSGdLc09halJ6dUQyUkpnNkFXMEpsenRPRHZyTkdwbzlVb0RVRE9Xc1F5TjFXdV9VMDdHQ0RJWjZpaEtra2oxX2VRaWJkS05Gank3b1J0T1pJRldBN3hvejdSWENR?oc=5)\n\n6. [풀무원, 공차와 맞손...두유푸딩 '두화' 활용 신메뉴 출시 - 뉴스핌](https://news.google.com/rss/articles/CBMiXEFVX3lxTE5OOXkwMFpSVnhwemFVRzdjSWVLY2JldTNCc09XN3N2aUpwY2tPSm1DZUdncUZvOHB3MGpocHN4bF9WbmduS19GZUdDWXJPR0Y2YzJBMG5lT3ZyNFNw0gFeQVVfeXFMTi1xN1IzblBiYzBIdXpMX0FKN2ZuRnhuUzcyTHdhdFlzX2F6QllkVDZRNlYzdWtIbVRyWXdhWGE0dUxmTWhOS29iNlh4aXhrcUw1REN5Smlnbk5wUFdjQQ?oc=5)\n\n7. [풀무원, 공차코리아와 협업…'두화' 활용한 신메뉴 '또우화' 3종 선보여 - 뉴스1](https://news.google.com/rss/articles/CBMiX0FVX3lxTE5hcFdua25fWjZNd0tmZmlnWWk5bjhHVVZCV25kMUROTDF1aUN0UVowLUJHRklYRmdxY0gxTnQwcFlERnRaSTJWX1IzTFV6WlVJcEFQUVRUSDF5YnFuOFVv?oc=5)\n\n8. [만들자마자 동나는 '한국 음식'... \"미국서 난리났다\" 비결 뭐길래 - 이콘밍글 - 이콘밍글](https://news.google.com/rss/articles/CBMib0FVX3lxTE5CcWtJMUlzSlpoeVYtYWZWMzVGc0RBUWNJVmVSNWVXVVBzZFYtaHo3blhLbFM3YTNuUzdxd0N0RlBFTW1palE3cTNfWmRkQjk3YUpYdHhYeXVWT2h0RVEwV0hCQWVZSjdjRE9OQTdCZ9IBd0FVX3lxTE9LeDBONUU1Qnh6NHlKSmdxS211TGJYVUk0a1FxNkQxNGsxX3lvNU9leVJmMUFMbnhpX0dWeV8zZGoxc2wza1Fxd1h5eG5xZDlWeEUxcWdjV0xudTM0bXZJWTFhWTM5d1ZGUlhrVk5CYkNKaGtVVnow?oc=5)\n\n9. [3조 클럽 입성한 풀무원, 영업익 921억원…전년比 48.6%↑ - 위키리크스한국](https://news.google.com/rss/articles/CBMib0FVX3lxTFBqMlY4UlF2cTgxaTBIOXJCVk5Ec0Q2M0FaaVBocWg1MHFjemo3NThoUm9aQ0c5dHQxTnU4amQwelJOV2lFLVJQWVAxanJ0N0dqYnk3OGNyaWNWNXdHcjA0ZkNWOVBjdkdPTGF5N09IYw?oc=5)\n\n10. ['3조 클럽' 입성한 풀무원…올해도 글로벌 확대 '드라이브' - 뉴스1](https://news.google.com/rss/articles/CBMiX0FVX3lxTE1YX05MN19qZTJvVmRZYWwzX29mRTgtcl9EZHZoaHgyYWpuc0RZMVUtRmhuZTRmSFJPakhJNGFrSF9KTG1BaUYxZTZraXZKODFJb1BLTS1idHNKOV9nbkhj?oc=5)\n\n"
          },
          "metadata": {}
        },
        {
          "output_type": "display_data",
          "data": {
            "text/plain": [
              "<IPython.core.display.Markdown object>"
            ],
            "text/markdown": "\n최근 7일간 '파워풀엑스(266870)' 관련 뉴스: (최대 10개):\n\n"
          },
          "metadata": {}
        },
        {
          "output_type": "display_data",
          "data": {
            "text/plain": [
              "<IPython.core.display.Markdown object>"
            ],
            "text/markdown": "\n최근 7일간 '이앤에치(341310)' 관련 뉴스: (최대 10개):\n\n"
          },
          "metadata": {}
        },
        {
          "output_type": "display_data",
          "data": {
            "text/plain": [
              "<IPython.core.display.Markdown object>"
            ],
            "text/markdown": "\n최근 7일간 '해성에어로보틱스(059270)' 관련 뉴스: (최대 10개):\n\n1. [해성에어로보틱스, 전날 이어 15% 급등…7000원선 재돌파 - 이코노뉴스](https://news.google.com/rss/articles/CBMib0FVX3lxTE5PajdRLWo4QjZILV9JeW1oTTJPanJTTWpRaTktZFFYLUpWUERrejZDR1BKRDBLaVRzaHQ2UW5YNkxWR2RRYncwc1JwblBDX3hBQlJjZjBnU2pKNC1kTW4zUDVlaEYwRXBRazZPcm9wZw?oc=5)\n\n2. [애드바이오텍·클로봇 상한가, 해성에어로보틱스·삼현·아이윈플러스·테스·쿠콘 등 큰 폭 상승 마감 - 영남일보](https://news.google.com/rss/articles/CBMia0FVX3lxTE4zbW5BcUh3bWRQTTVIem1fdXVReDBMQUJhNnR1ZVZXVUNGTE5QempleUtHV2k5UVpIV19WZVdHaHFNNnJGMzRja0tEZzNqcS0wNTNSei10UU5QTm4tWlNNTllDYnd1VDlBWWJB?oc=5)\n\n3. [해성에어로보틱스, 상한가 진입.. +29.85% ↑ - 서울경제신문](https://news.google.com/rss/articles/CBMiVkFVX3lxTE9WQTFGWGc1azNsOGR3Q2RFNmQxcFR1M19ZNVN3eTJNTld2SFE5Wld1SDBDQXcwYTNZdDdGYTZONm9QckNyT3pBMDJGZTkyb3Y4LURKWDJB?oc=5)\n\n4. [해성에어로보틱스, +29.85% 상한가 - 조선비즈 - 조선비즈](https://news.google.com/rss/articles/CBMigwFBVV95cUxQdER0R21lVm44TEZZYjNBMmY4QTJhaFJnYnk5WkF2MXlCUmJXeVFpQ0Y1MjVKY3JoWlpGQmhtclV0a2RvTlhKVGhvMmo0M3VmV0RFcFBjRmlHdERqSFdZRktjX0ZQbFJJOHVCUXFycGNfSUg4eFlrZ0M3NS05dlE5THZCd9IBlwFBVV95cUxQSVJDU05YVU5oUUdCOU5oRmNrTEc3a0dsbnVrRVRlcGNyUlJCbm9KSjZWUUE0NHNaTzgwS0NLYXdRdWtfNGtPYWhyV2lLTFlDcHY0dXJiTmg5eWFjM09RckRmQ0hHalRoUFozOGJ5bk53bndYMndmRnM0cm9DSWNqQXAyd3VBTUVRVTkzTWZYeGtYV2x3Nll3?oc=5)\n\n5. [해성에어로보틱스 주가 17% 도약…올해 첫 7000원 넘어 - CBC뉴스](https://news.google.com/rss/articles/CBMiaEFVX3lxTE5LbkN0b29qWV8wQm9yYjR2R0JiMldDcl9WMUlZblVlYS1VVmgyMlBNS0RTRlNDU3d5MzdsZWxjYnl3OG03aHNla1huTlYyYTJhb3Vmc3V6eHUyWlJMYm5xMEgycEd3MFgy?oc=5)\n\n6. [특징주, 해성에어로보틱스-로봇(산업용/협동로봇 등) 테마 상승세에 7.79% ↑ - 매일경제](https://news.google.com/rss/articles/CBMiUkFVX3lxTE9jQThzWG5sdmNwbG1DU2FCa05uTzBFU3JtQVFOVkZPUFlnUHZ2QThTU2FkZlFvQ0JfUDB6S3JGYzFERVh6Z184YVlSdmVPbVNMb3c?oc=5)\n\n7. [해성에어로보틱스, +9.95% VI 발동 - 조선비즈 - 조선비즈](https://news.google.com/rss/articles/CBMigwFBVV95cUxNdWc0SEtYUGRDRjA1ZzZqWVVfQ25LYTRzUW1nbjlJVFYyamc5MXlwN2lhbllmbzFRd1gyQng4UDBWV0hlVGhMeEoybHdnY1pycC1MVE50amdGZ3lHNm9ac1MtdGxkaGxlQUZVZkYwX3BGeTlvNXhDMFVEUzNBdVVfOFZOZ9IBlwFBVV95cUxQODV4OENkN0VIRUJPcW92VFNRVW8zeE9mTDNQa1hKTHlGSkJfWEpCeWFfdzVWYWJ4d3d6RzlvcVNhSVY1MTFEZ2ZYZmdMaXhNLW95SHRjYU0wUkhCZ24wWFEtRG5TOWRmNWlsV0YwdFR1MmxsMXBtUWNMUGpYcHVvNGRzeEY3NmcyUGhzeFBhdjl5UHlhTTRR?oc=5)\n\n8. [해성에어로보틱스, +6.14% 상승폭 확대 - 조선비즈 - 조선비즈](https://news.google.com/rss/articles/CBMigwFBVV95cUxPYm00aXR3T0hvTzZJRFhBVEM3c29hUWtHQ3h1LWNRaXhwQ19FdzZGNWtXVTJrc1gtM205WWdFSWk1cnBrWHhuQkZBQmZzSEY3UkhOOEhFREdwN1ZmWDc0ZUkxTXV4WDgwdktKRnRHcEJxWTlrWmd5Yk55N1VrbmhpQ01YVdIBlwFBVV95cUxPOTc0NUF0Tms5b1NEcTRYMlEtdnlzVGw0UWhkX3BXWTMza0hIOUUwNzZnNUhWQWNfVlFZNTZmb05kZjA3NkpZQXlXS3QxY0U2VVhUYWkwMmc4bkhONDNtWHdQV3hrb1VCZlBVZGJHejF5aDN4Tm40ZGx5Z0NteFZfYkRwZGtaMmtUaTMxZjlicDZTeGg3ckVj?oc=5)\n\n9. [상승률 상위 50선 - 코스닥 - 조선비즈 - 조선비즈](https://news.google.com/rss/articles/CBMigwFBVV95cUxNcGpKSEdlMEtWX0tMemlMN05mSEtaWldqUmhfQnRobjZ3aUJlRzBBckVOM0tpMXJ2aDFsdzJlUHpGTEdQYmpSTEdPejVDS19YdXMtZ1hTSWtGTGlsVkFxYlFNbHhIQXB3aEpvSzdDc0lSZEo1YllOVnMyMHRBNXNSZzZGNNIBlwFBVV95cUxQeFRGMWFXSld3eHFCTU1Hc2FIVVB5cUVTZnJZbUpfR2Fya0dHZklqS3VramptNnVpVjJ1d0N5cWRRcWEwbFh0dU9FSTBOVFBaMDRqcngyQzFMNUdFWng5QVRBZE1CTXZ5Yi1wNnhOMUp4V3k5V1pSVENMZGt3Z1pfOGgtM1FFYmdEcGRwd0hhRE5RdlhkbHVR?oc=5)\n\n10. [‘레인보우로보틱스’ 나비효과?…로봇株 수익률 상위 ‘싹쓸이’ - 이데일리](https://news.google.com/rss/articles/CBMigAFBVV95cUxOWlM0RVlYTER2Ukw1dXlIczRBYTlIYUxfX0duRnhOdnctVG5aSnYwZHNFNzJXWVRqblZDRDBPT2lHeERKUV9TSXIxTEstdkoxdzJvODkzNm1RelZBYlVtWFNzMXQ1U2h0RUF0REtHN2xlYzhDTlZNR2tfQkRWSkxzVw?oc=5)\n\n"
          },
          "metadata": {}
        },
        {
          "output_type": "display_data",
          "data": {
            "text/plain": [
              "<IPython.core.display.Markdown object>"
            ],
            "text/markdown": "\n최근 7일간 '애드바이오텍(179530)' 관련 뉴스: (최대 10개):\n\n1. [[특징주] 애드바이오텍, 음식물처리기 미생물제 대형 고객사 확보 소식에 ‘上’ - 조선비즈 - 조선비즈](https://news.google.com/rss/articles/CBMihwFBVV95cUxNMjFWVS04WU9FVzRPMFNrU1hWT2JPTnh1RnpOX2czTFZnVWdWR1o0Y25zY21qd040Z2RIdTJGd1hCRFp3WFVZb21ybThhd3lzZVBSb29sTlZYT0Y5YW5vU3BjWGthUlY2TE5uajltUVRFZkRfWi0xZVQtaElWclJVY1VOQjNGZTjSAZsBQVVfeXFMT3FxdXRiWEt3QkpFR09xaFdJT1EyR3VyYVhOLVNIQklpUXhVamZJdlR0bXk3MHN5OWVhTWtiVjlCUTYzQl9sWkJTRmlTRUlDWHJuRVR2SEw1ekFkRTh2V0NkQU4zWWJYdUlOdkVLeGhRVXNKeXk3WTJUbGtCQXJHRXdrRV9wbjBXTU9ScWdiaU1Yekw5ZGJfZldxU0E?oc=5)\n\n2. [[N2 증시 풍향계] 애드바이오텍 '상한가'…'IPO 대어' LG씨엔에스, 상장 첫날 '공모가 하회' - 뉴스투데이](https://news.google.com/rss/articles/CBMiXkFVX3lxTFByWWx5U0t1ZVRWeXgyclJTZ2VRRkt6UGZoN0pmNzJkSFFDUmJYek9XWlpDMHRscVlSUW1tSkVOYmhkbXFoWEFqNXltM1lZcG80NU9wZHJnU2kwckFKckE?oc=5)\n\n3. [[파워 e종목] 애드바이오텍, 미생물제 고객사 확보로 성장동력 마련…주가 상승? - 데일리인베스트](https://news.google.com/rss/articles/CBMia0FVX3lxTE9Vd2ptZFFCZTVXTlRLUnpHS2hsM2htaHM2V2VjTGJHdVhldkxPRFZxNEtTOEVsOTF6eDZVaHh0N1BRd3NrU3NmaWRZaENTNnA4alpfUUNNQjd1TVY1V0FCeVJmdVhVNFE1b0kw0gFvQVVfeXFMT0FBanFWYmVkSGlFWGdxODFCcGdaQXNQN2doY240TktpbzdMZVFnZTFGY0p6ZnB4MDZRRkRpRGF1cHdRejZYanNvQ1dEZXdUZjRWVXEzeExLVVkxYlJWZTR6cWxwZmhwNVR4LVNFTkVz?oc=5)\n\n4. [[상한가 종목] 클로봇 이어 애드바이오텍 상한가 마감 - 이코노뉴스](https://news.google.com/rss/articles/CBMib0FVX3lxTFBuTUZTaUZNeUY5cTZJd2c0czhrWXdQN1BfSXg5VHpQWl9jNkswTjFIaFA3dTg1Z0hRWjVjamYyS2JpLUYwbDZ5ZnJkc1I4VllMUk8xS0o2T1FPM1lEYlN0bnNiTHhTTEMtdXkzSXNJMA?oc=5)\n\n5. [[급등주] 애드바이오텍, +29.97% 상한가 기록 - 전국매일신문](https://news.google.com/rss/articles/CBMibkFVX3lxTE16YVdOX05md1VlMk1SOS0xLWE0dW1ZWmVYSG40cFR5MU9VbHhjcXRkdk5yajJZVEZJUTFJVFlIRmVFUHRzc3JWbExEcEFMbUtsUm9TSWdRMGRVdkR1LWhZYk1aTFhuMWN5eVRWcldB?oc=5)\n\n6. [[급등락주 짚어보기] 애드바이오텍, 대형 가전업체 미생물제 납품 기대에 上 - 이투데이](https://news.google.com/rss/articles/CBMidEFVX3lxTFBIZVVGTmFPdERDcnpBdUlOOFZYV2RoWE9nX3IyX1dINmh1aWw0ZlBEelVTZU5teWpnU01DTGVZVXJqWTdob1gwR0wweHVGMXpYdFBpd2tLRV8xbDZfUkVkREVIcnpFZEhzR2tDaU0yWEU0MldO?oc=5)\n\n7. [애드바이오텍·클로봇 상한가, 해성에어로보틱스·삼현·아이윈플러스·테스·쿠콘 등 큰 폭 상승 마감 - 영남일보](https://news.google.com/rss/articles/CBMia0FVX3lxTE4zbW5BcUh3bWRQTTVIem1fdXVReDBMQUJhNnR1ZVZXVUNGTE5QempleUtHV2k5UVpIV19WZVdHaHFNNnJGMzRja0tEZzNqcS0wNTNSei10UU5QTm4tWlNNTllDYnd1VDlBWWJB?oc=5)\n\n8. [애드바이오텍, LG전자에 음식물처리기 '미생물제' 공급 - 딜사이트](https://news.google.com/rss/articles/CBMiT0FVX3lxTE5kUDJlemxsNzdTeXhIeUtoMjVEb1hGekgwWjVJdS1yRjZHU2pKR3lEelBkdzRhNUxic1hMNmJVVXlZTkNCcjFna0NYWTlnOFE?oc=5)\n\n9. [전일 시간외급등주, 애드바이오텍 10.0%, 피델릭스 10.0% 등 - 한국경제](https://news.google.com/rss/articles/CBMiWkFVX3lxTE9qbzRfZFBnY29xa3p0Ry1JYzRWSGlFRHhuUkcybkFKLXM4Zk4xVjdWMDBrNlk5ekcybFVURVhEMDVOUmNrcWc0U2ZGcnJnNDZrWFVZVzY4Q1hIQdIBVEFVX3lxTFBTVVVTc18xckMzMEZkekZtNnE3VjRPYkhrNDJ2b2ptaktkZ1A0MkFEQVpRdTlPLW1Jd25FZ2FUMUoyc0RDTFNaci0zTkdSVkNYejNwRA?oc=5)\n\n10. [애드바이오텍 주가 거침없는 하이킥...음식물처리기 미생물제 대형 고객사 확보에 매수 '불꽃' - 핀포인트뉴스](https://news.google.com/rss/articles/CBMic0FVX3lxTFBHUDZ3VkVtaFhiVUlGWjV3cGdyMlQ3V2RmTk1uZVJ0WkQwelZnR2ZWWjFheDdRcThGSm5uUXI2QTJuZ2lpZ2JFVTdKSTBPaU1sSHpUU3ppQURmTzdnZEhWalQxYzgwTTFpVlQ1elllMzBBY0XSAXdBVV95cUxOQ3AyME9rQkZCcW82cGFQbDlfeGFCZEhGM2J0ZkdudG9FVkZZRndJWWgxUldDM0tCZk1WUkMwelZWYVVrSm1PZ19TUW9fa1BTMGJ3QzRwalMyaW1zdnpIcTdvVFlkTmpZVHNva0w3NG4wRFhKclloOA?oc=5)\n\n"
          },
          "metadata": {}
        },
        {
          "output_type": "display_data",
          "data": {
            "text/plain": [
              "<IPython.core.display.Markdown object>"
            ],
            "text/markdown": "\n최근 7일간 '에스피시스템스(317830)' 관련 뉴스: (최대 10개):\n\n1. [에스피시스템스, 주가 20%대 급등 - 영남일보](https://news.google.com/rss/articles/CBMia0FVX3lxTFA5VlZybnBHaW13MkI1MUZhOU5EdUpnaEZfWkxSSTBRUk1BeUF0bTBVM1kxVFZkZm9rSXBmNXpaR3BDVm1BbDZtLUJiUVpoc05hb1diX0dmUGJKRER4TEpRN1ZjZ3g1YV9Gck1r?oc=5)\n\n2. [에스피시스템스 주가 폭등랠리...엔비디아와 인공지능 분야 협력 실적개선 '모락모락' - 핀포인트뉴스](https://news.google.com/rss/articles/CBMic0FVX3lxTFBtVmstZWxKNGhvbmZrRVllSVZhelZlTnBIQTNmNkp1X3lYcUtyOTlDN1E2VlpTUlNvYlRvZlFWdldwbG12bU5fV1RjRkJySXBFSUhUSnB1bl9YNktkak04VHo3TkVnS0FGOXZZbW4yN040LUnSAXdBVV95cUxPWXVMOF81d3I4ck5IYVlaMEo5dnVWdmRnY09CV3FwU3k0MnJPYjhOVmJQLW83UnlFdDBodlZLd2ZMVVRMUzg4M0dCdDR4Z085M25ldjlJSHN2Z2tiZm1jMzU5MkhGWFNDSEZFN1h1RkZkSGk4RkZtbw?oc=5)\n\n3. [AI매매신호특징주 - 셀바스AI 매수, 싸이맥스 매도 - 한국경제](https://news.google.com/rss/articles/CBMiWkFVX3lxTFBDV3VaNGxEZjB5eW5WZjB5NVpPTFcxX2lfazZGNm5vSC12ODgyRjcxbWgtSF9wZ1VpMDNLR1gyeEQ1bHVJbml1RFRNNU9KeU9DTV9NNEFKOUFnQdIBVEFVX3lxTE5uMERZNU9va3I5QVM5RVlUdDhxem8xMjU2WGlRNEFBemZXVlZybnI4YU1rd1oxNmllNGlkZTRQaTd4VVJLTHQ5WXo0QTJ4NDg4VlY5RQ?oc=5)\n\n4. [오후 이슈 [AI S/W] : 솔트룩스, 에스피시스템스, 바이브컴퍼니, 인스피언, 더존비즈온 - 파이낸셜뉴스](https://news.google.com/rss/articles/CBMiWkFVX3lxTE45MGVPMDIzaDBMMjNNdHd2NW05UllKLWM5eHR4M01wTS1zVmlGWTJNcl9YVzNVazlrMHdhNTB3bmgyUkZ4UElDNThlaks1ZkxES1cwVUJKUlhSUQ?oc=5)\n\n5. [[특징주] 에스피시스템스 급등, 레인보우로보틱스 ‘로봇개’ 삼성 사업장 투입 소식에 강세 - MSN](https://news.google.com/rss/articles/CBMijgRBVV95cUxQWXQzTWtWcDlCSTNNV09nTnlXa2dsMU90TTUxR1c4Q1RPUUt3cHBIVTNTUEhYcE1LYk8yYkM5Y0QyU0hnNnFWLXJnLWVjTzJkcFI1cEV4V2R3VFFsdlJsLWVsTWJjdzV5RXVINGtQMDhuRndSdG1OeVUtSW1fRXhzRDhiZ0RRTjJoWWhXcTZwTXZuYVpRdXp5UkVNTkhKdFJrcVJ5YjJpYUg1bnN3UW16bXBSUnZPTUpTNkhfaXp0RmVQZENHbmM1NUpSOUp1RFQ4U2huUzZZYTNpOTViX083OWExdlVQZklvbVo0b1JHRmwxeVBqbFl4STNSSzRNeDV0NTVVT3E2QTJZaGs2TmNwanFRNGFOWWNROTdfal96STRQbXh5UFVRdmR3NVZBMWxuVFVnMW95cncwM3N5VnhFTFpCRFUtVVU1RV9nMThQU0M3UGV1UW9CNDRkd0ZsV2pZZFpLSHJsNnR5VDg0M1hjd0lWU2NmSWdMNV9rcDY3ai1saVlmVkNuX3pTQ1lyeU5TT01NSTBEb1ZaaW5BMldEdGwyeVVUemM1QVdCOTdGNDMzMFBFRXJxVEN3WTE4Tjc1V3ExYmNTXzJBRUZra2lmTUxPVXNTMjU1bjA2Q3Ayb01EMmVhNC1yaTVJaTRSNmZoaWdTVmFVQ2VvQUlwNGd5MDByZmgwUF9BT2dzQnhR?oc=5)\n\n6. [에스피시스템스, +7.62% 상승폭 확대 - 조선비즈 - 조선비즈](https://news.google.com/rss/articles/CBMigwFBVV95cUxQb21ncnUzZlNhVUg1MmV6ajJPNzN3MjRtelhrRnRIaUxfT2ZCMlI4c2dpTGNiZGpuVnF0MC0xOHJlRDBRdVJMS0Q2YldSY0hCVE00ZnRNQjlnZ1lmWjZDX1JWcHJPaVR5NzZKUklMdjZqa0k1aWVVYnNDMmpQa0xyZjNoRdIBlwFBVV95cUxORFJTTkpvMHdsdW1XZlpXUjFVazNObXpiUzdoeTVPWVI5LWVYeHhESThvMTBGOTQ5TjFMa0ZhNXpOc1hCTFZGNkVuSEkzN3VQSGw2c2RNNG9VSDZrb0h4T29qQW9QM01Ta0NxMXJEbUQyMjJlMHl4ZXJSdV9YLWJaYkxnczkzRVpGT1NKR0ZBY3dfcUFMZmdZ?oc=5)\n\n7. [에스피시스템스, 상한가 진입.. +29.90% ↑ - 서울경제신문](https://news.google.com/rss/articles/CBMiX0FVX3lxTE45dEZSd2VLNmZpM01MZGIwT1B3a0xuelJYaEZPdms3aG5UWVFRVlVvNVBzYjRndUVYYjFtbWVSMUduOWxHS3BMREFqYW9CWDNpdGpWUkNyM1pwN2xYSjk4?oc=5)\n\n8. [특징주, 에스피시스템스-로봇(산업용/협동로봇 등) 테마 상승세에 14.23% ↑ - 매일경제](https://news.google.com/rss/articles/CBMiRkFVX3lxTE1tc1AtWk9jVDVLNjIyUHJ5VlZhQXdlNmg2cmsyT2pxcWpTOW1YSk51RUNpeFE3N0hON3JFLVQ4bUN0WTBJcVE?oc=5)\n\n9. [[특징주] 에스피시스템스 급등, 현대차 '스마트팩토리 본격화' 소식에 관련주 강세 - 와이드경제](https://news.google.com/rss/articles/CBMibEFVX3lxTE11R2tlSXkzM0tuQXhnRFl0Y1ctQllMQ2JSY2YxVGU0QVhRb2RpeHhoU05MWnEwWmVadnBYVUIwelBJZWZKc1hpZGc5RnEwUUtnSURLMzNJSmI1cFhyanFFSlJ6VnRMbmZlLTNINw?oc=5)\n\n10. [에스피시스템스, 현대차 ‘아틀라스’ 로봇 생산 투입… 자동화시스템 구축 - 파이낸셜뉴스](https://news.google.com/rss/articles/CBMiWkFVX3lxTE15dlhpRjFnQV9lMGtWbzFNMHE3YUdXQ3VoeUxHQUEtSlFka1dmbUtKT3c3Zk0xSjVfeGRaTlVpMHhjeGRUTDVsWWZONkRNY09UbXRxVktYUXlpZ9IBXkFVX3lxTFBtWldzanBFMjBlRC0xeHdsNlYzZFRQdFBKa2tobWNOY2RQYVBjQ0NBMzdWNXpFQVFGQVNUWG9Ob1BlUmtqT3FpNXI2eWxKaGlQOGpocVZuUk1MWHltZmc?oc=5)\n\n"
          },
          "metadata": {}
        },
        {
          "output_type": "display_data",
          "data": {
            "text/plain": [
              "<IPython.core.display.Markdown object>"
            ],
            "text/markdown": "\n최근 7일간 '딥노이드(315640)' 관련 뉴스: (최대 10개):\n\n1. [딥노이드, 딥시크 활용해 의료 최적화 AI 솔루션 개선 - 아시아경제](https://news.google.com/rss/articles/CBMiYEFVX3lxTE9nNm5CWmFWQXBqNkp5SWVIRlNBX0ZRUlp0VU9UQS1JSHN5VnppeEx5UU9CaGlhS09EOXZCVzBwbTZjVnk3U2lWMHRDQm5PSnRQTTZtV2NPcExUSzBraDduSw?oc=5)\n\n2. [[AI의료]코어라인소프트, AI 기술로 글로벌 원격진단 시장 확대 外 뷰노·딥노이드 - 글로벌경제신문](https://news.google.com/rss/articles/CBMibEFVX3lxTE8wZ09zTjhqc1FFZW9WYlN0R2NzQmZMNVlLTTNRUS1vNnpYLW9SdmJCV1Rld3h3czBaNF9VUHdBaUNxb0sxdUF1N3lTMFN2eTJNbFBsX1RvOHA2S3lvYXBWcVpfaW01SEtzSHdmctIBcEFVX3lxTE8tQUl5Sl9tWjE5LV9mRXpUSi1zMnJDYTZ5dDlSYy1CVzVwTVM0M3JtalNaZ2Y0UEdEdmZQbDg3ZXBtUy1KUVdPQ1FGdV9CUWd6UnFyTDBDT2ppLWRSWkF4N1hvZllQYktXRXBlVHA0T0o?oc=5)\n\n3. [딥노이드, '딥시크-R1' 기반으로 의료 AI 서비스 업그레이드 - AI타임스](https://news.google.com/rss/articles/CBMiakFVX3lxTFBMVnllZjhucVBOMld3REpIQlFJWkpQcHduRklaX0dkX2ZhV1JPMUxPcjVmdmZwaHdPSkhpYXZMQW0wcnlXSjNld0xidnRMRjVrekRtbldNSFV3RXJ2U0gwRXFLUHJNVDRKaXc?oc=5)\n\n4. [딥노이드, 딥시크 R1 활용 ‘딥젠’ 업그레이드...\"원격 판독문 서비스 선점\" - 라포르시안](https://news.google.com/rss/articles/CBMibkFVX3lxTE5zempJQXVNSmV6SU5CT01GbTBlclZGMkJMQzJPVjc2VGUwSTdmMTV4MklBVWxxRGdHeF9kVE5PUVVJa1pJbHJvVlJ5T2ppem12OUtndnZ6VWp3N0o3djBiNEVqbnN5OVQ5QUpaT3d3?oc=5)\n\n5. [딥노이드, '딥시크 R1'으로 자체 생성형AI 모델 업그레이드 - ZD넷 코리아](https://news.google.com/rss/articles/CBMiVkFVX3lxTE9ZVlZCckYwdi11cXBBZFFhXzhkM1BiQllrbjBDeDJ3N0NfS3VERGJtQVM4VkYyOVlxWFN3QkR3NGZfNmIzRVJ5Y1hsVTUyNTRtTU9LRkJB?oc=5)\n\n6. [딥노이드, 딥시크 R1 활용 생성형 AI 모델 '딥젠' 업그레이드 - 서울경제신문](https://news.google.com/rss/articles/CBMiXEFVX3lxTE41Q3Z1QjdaQlRFZWdjS0tQVHlXVGJiT2R3MWpHT3RGQWFKME1KM1daYktiWW93OWJFNTRlNTJqcnVDOU9rVm83eUpXcXhxTnJVcFpLeXpSSUtSNk5n0gFXQVVfeXFMTmxaZVpVZ0NLV3FZcnBXSUJpeFVGNTFPT3pGc2hOWDZKVnRVNHl2c3J6TmZIQjUyb254QnhJRjl5Z2pTdF9rbGFOOUxodUI2RFJ4YVN2OHo0?oc=5)\n\n7. [딥노이드, 딥시크로 자체 AI 모델 '딥젠' 업그레이드 - 메디게이트뉴스](https://news.google.com/rss/articles/CBMibEFVX3lxTE5TMXIyY1dHNU9IRnhMRUh3Qk9lTV8tdVFhX2hpbTduWjVHU2xkWTFqTjJSWjBvc2cyWW5hUEltWW9BZWczMWppWHBUZWw5UDJ1TWpfdWJyUEF4bzVQcnM1U3lYTS1MdXEzUWkzQw?oc=5)\n\n8. [딥노이드, 딥시크 R1 활용 인공지능 모델 업그레이드 - 이코노믹리뷰](https://news.google.com/rss/articles/CBMibEFVX3lxTFB2S3RUX1RMNWwtN3ZHb1lxS2U4aUFkNktfN1dSY21MbzZQVVgtNUxWS0wzV2RaS0JLekhVUlc3OWl0TzdUemREdHhxYXZXb2VKbHgwMXhZR19EOGl5YS1JcUQyQnRqQkFXLW9mSg?oc=5)\n\n9. [[특징주] 딥노이드, 생성형 AI 신사업으로 매출 급등 전망에 강세 - 바이오타임즈](https://news.google.com/rss/articles/CBMibEFVX3lxTE0yaXBpVzNZbDRVQ1pzT3N0bGFjeXppaWxLWlZaNHhnaTVUeE51bzNoYnNWanU0eXljRjVzZkdqTlIxOTdzdlFxMUFDNnhtTUpxTGNPMTRGSjZldDJObkx4Q3FTNXhRQm1xSkZ5Nw?oc=5)\n\n10. [딥노이드, 자체 생성형 AI 모델 딥젠에 딥시크 R1 활용 - 디지털투데이](https://news.google.com/rss/articles/CBMic0FVX3lxTE8wbTd2N2VKNmJzUi1ZOWpNWUVlYjg4cTNzaHU3bk5CUVd6RU8yNzE0UEo5Y1hkYzZDcUNNeEQ5TnRCdG5rY0lrS0gxTHZZbWREaUhDODZnM2pwYnV4LXpTWF96V1MwSEpoOUUyVnhtczI3TWs?oc=5)\n\n"
          },
          "metadata": {}
        },
        {
          "output_type": "display_data",
          "data": {
            "text/plain": [
              "<IPython.core.display.Markdown object>"
            ],
            "text/markdown": "\n최근 7일간 '샌즈랩(411080)' 관련 뉴스: (최대 10개):\n\n1. [샌즈랩, ‘악성코드 정보 예측’ 美특허 등록 - 보안뉴스](https://news.google.com/rss/articles/CBMibkFVX3lxTFBJeVdVTFBYcHJJT2tJazlLR0RiUEs2eEh1VkN1eC1lMC1XbzA0SUhfZk83SE9tSDhRVWNrc1EydDRIbUNXdWlhQ21mLW9uZXNuQUc5MEk3N1dmQnZocEVhRXZsZ3FPTUpkT0pBNGtB?oc=5)\n\n2. [샌즈랩, AI로 미래 악성코드까지 예측하는 보안 기술…美 특허 등록 - 데일리시큐](https://news.google.com/rss/articles/CBMibEFVX3lxTE9TTFJUdUJQV0psV0QzYjdpNFcwazJ5YzBxLUU2eG1LY3BrclU1TGl6bU01MjR3cjhwRlloLWZiemVUTFNmVERuV2E3LURSaFQtUkthSGhBSFRoc3lncGhXOF92TmN2MkdORXpsVw?oc=5)\n\n3. [샌즈랩, 'AI 예측 위협 대응' 차세대 기술 美 특허 등록…\"딥시크 개인정보 유출 원천 차단“ - 프라임경제](https://news.google.com/rss/articles/CBMibEFVX3lxTE5Yams1cktDQWlMRk1WM0xaeVhhNkNuZXdBZnVQUnZDeFMxVkZSQ3l2TlZwejAtTnlMQkhoWUV3Uk13eGNOYktrQjZBbnZoanNZaE5obkhTVEM4dnB2SVJuSFBveXpVcVl5Wi1kUA?oc=5)\n\n4. [샌즈랩 “AI로 미래 발생할 악성코드 예측·방어한다” - 데이터넷](https://news.google.com/rss/articles/CBMibEFVX3lxTFBjMzVtT1lkdnNJOEFXNmpYNExoRFFJUWhKeTVrOVdEekNUMUVHX2VTZEhiMHV3a3p6S2RrUzVSV05rS1dfbVo0RUtaTzBzbmNlUTEzQjJHSzRpcmJKeDFVZjlwNUpMVEplWGt3UQ?oc=5)\n\n5. [샌즈랩, AI 기반 ‘악성코드 정보 예측’ 기술 美 특허 등록 - IT Daily](https://news.google.com/rss/articles/CBMiZ0FVX3lxTFBQRVZfSWdETDhMRm9tNGRMZW1xamJwdzhVbkx0QndUT25yZ3pGZXBBWHVjMS1hNTlnTnhoMnpTWHVlaG94TDRKZWUzYTl2RDFwdHJqRV9JV2QwRU1pYnpKRlNZU1dWSFk?oc=5)\n\n6. [AI로 악성코드 예측해 선제대응, 샌즈랩 기술 美특허 등록 - 네이트 뉴스](https://news.google.com/rss/articles/CBMiU0FVX3lxTE83M2l0M1F4aTFUWmloUHowaEtQRThlWVNQdUxJeTJQNzVlYXJaQzRVSjV1eTJvUEFfMUk1NFdyRGR5dDIxYXNsOVpNYm9SMHZ1MjFr?oc=5)\n\n7. [AI로 악성코드 예측해 선제대응, 샌즈랩 기술 美특허 등록 - 머니투데이](https://news.google.com/rss/articles/CBMibkFVX3lxTE1iNHJBQi1Sa3VBNlRybXBIN3Q3SElBNWdEY2s1X0h6X0VTZ01odmNpM1I2OGZqbUF2LWVRWDVvZE9oWUhwZ3d0cFNEQlNGY0lKZXl4RXBiOEpJeHVCemNJekV2T2tseG9zUjBqYk5n0gFuQVVfeXFMTWI0ckFCLVJrdUE2VHJtcEg3dDdISUE1Z0RjazVfSHpfRVNnTWh2Y2kzUjY4ZmptQXYtZVFYNW9kT2hZSHBnd3RwU0RCU0ZjSUpleXhFcGI4Skl4dUJ6Y0l6RXZPa2x4b3NSMGpiTmc?oc=5)\n\n8. [샌즈랩, 미래 위협까지 탐지하는 기술로 美 특허 - 뉴시스](https://news.google.com/rss/articles/CBMiYEFVX3lxTE9CQVJ6V3RGZUZhZjBFZEVDdU5KOERmd1cwUnh4MUlhVmtrOWZfZ0ExWU5DSzNmeTZFYm5MYkFWbl9iYlcyajJSTFJnbGFFaVFqTm5kS3BubHhRQl9rLWdlMtIBeEFVX3lxTE14MXhONzVKNXY1UmJCV21SMWV4c2xvRlpQWXJwN1VBb1VkejdVZ1RjdFNvOFFreUZVa3NjOTExa2xUMHZkaGZTYjlnYTVhaU9SM3JJUDVrUVlNOTZ0RTlicGxqNU5OLS16ZF9PdlJLX1dQZGtwNE0yUQ?oc=5)\n\n9. [샌즈랩, 3거래일 연속 상승에 15% 급등…1만1000원선 재돌파 눈앞 - 이코노뉴스](https://news.google.com/rss/articles/CBMib0FVX3lxTE1ZSGdqWXYyY0Y3OTcyNGpMR0FKU0RPMTFXNF9aNmFaWmZ6OXJ4SVA0MXlmR1lhdlpHZlVDYkxtN3dUSjFXb1ZzLWN1dTI1dER2dEdJVTUyNTUydGtnVlE3aTl6bW5kbENWNE9XeExKRQ?oc=5)\n\n10. [샌즈랩 'AI로 미래 악성코드 예측' 기술, 미국 특허 등록 - 전자신문](https://news.google.com/rss/articles/CBMiTkFVX3lxTE5lTmlnZXFNUXlGU3R6MnhINjFsb20xRndyZVVja3I4ekR3SDZHY3VyRE91VkZBdDREcHFnSE9VanVUTUM4NkJQUEhMbXhXQQ?oc=5)\n\n"
          },
          "metadata": {}
        },
        {
          "output_type": "display_data",
          "data": {
            "text/plain": [
              "<IPython.core.display.Markdown object>"
            ],
            "text/markdown": "\n최근 7일간 '아이윈플러스(123010)' 관련 뉴스: (최대 10개):\n\n1. [[특징주]아이윈플러스, 삼성 갤럭시S25 차세대 양자암호 기술 최초 탑재…공급 이력 부각↑ - 아시아경제](https://news.google.com/rss/articles/CBMiYEFVX3lxTE5fNjZmaE9qVXpTeVV2Q2ltWjE4V3NTeVRNSWgzTzhybVhCZ0JrR1M2MEMzWXFScVF6ZHlITE5LOWJIQkxwRVNvS2J6UlU5dDE0VVdxaEJNSWdTV0dwbTFabg?oc=5)\n\n2. [아이윈플러스, 상한가 진입.. +29.94% ↑ - 서울경제신문](https://news.google.com/rss/articles/CBMiVkFVX3lxTE5pZ3JiY0Y2eTN0ZWdWWWZoNDRxcFF5NUZuWHJ4WkdZSUNOUV9yTzhUX0p2anBRUXk5RzJSZTJTNUtvRlRIaDk1S1R1dnEtUl9jU3dKYkhB?oc=5)\n\n3. [[52주 최저가] 아이윈플러스 6.4%↓, 4개 종목 장중 신저가 - 아이투자](https://news.google.com/rss/articles/CBMiW0FVX3lxTE1qbFF0cnlXVTZQUmI3M2dEaFQ4Q1JISUJsb1VfZWtOWWRLZjdxdmdwUWY2aGZjSjNXb2VuOXZnZlRsbmV4UnE1U2VCaF9rVkxPVGsxVzExVFp2OUE?oc=5)\n\n4. [애드바이오텍·클로봇 상한가, 해성에어로보틱스·삼현·아이윈플러스·테스·쿠콘 등 큰 폭 상승 마감 - 영남일보](https://news.google.com/rss/articles/CBMia0FVX3lxTE4zbW5BcUh3bWRQTTVIem1fdXVReDBMQUJhNnR1ZVZXVUNGTE5QempleUtHV2k5UVpIV19WZVdHaHFNNnJGMzRja0tEZzNqcS0wNTNSei10UU5QTm4tWlNNTllDYnd1VDlBWWJB?oc=5)\n\n5. [아이윈플러스, +11.17% VI 발동 - 조선비즈 - 조선비즈](https://news.google.com/rss/articles/CBMigwFBVV95cUxPZnA0bVFHSGFWcjNkejB5REtGSnJTRG9HNXl0Z0xHTVVaUkNyZWxLbzFmSEpfUzROXzNnOFZYYmZXd0lfNU8zZUFRVkpLUWxaWTdaMnYyWVVhM0ZmTVdWWkM0MmxXMXVXQWV1MGc3LUZmUVo2NWNlRXA0dVJYYzVqdGt6WdIBlwFBVV95cUxQNE5aNXJkSnlVNFZXN2Q2bnBwam5aTDVXVmhfSnFhdkFMYnJuXy1oQm9FTUpSaS1xQlhmaWY2R0JZNEdVU2YwbXNGSWFQeFJGZjg5eWxsQWVPV1hiRW5ObFJSZDdNUG0wYWJ4MzNyNHAwZURSaDFGbmplbDJudjM2bGFrX21zQkM2Q213OHdsaC0zTjhwTVBn?oc=5)\n\n6. [특징주, 아이윈플러스-양자암호/양자컴퓨팅 테마 상승세에 5.2% ↑ - MK빌리어드뉴스](https://news.google.com/rss/articles/CBMiU0FVX3lxTE9EaDlsYzJxbHEtMGdEelRJSW5SbXRJcktvNmlVQk5nRDBmYWJSZExWM2dOQ2hhNDRsZVN2RUZUbERPZGFXaEt1MElaQXJza3BRcmt3?oc=5)\n\n"
          },
          "metadata": {}
        },
        {
          "output_type": "display_data",
          "data": {
            "text/plain": [
              "<IPython.core.display.Markdown object>"
            ],
            "text/markdown": "\n최근 7일간 '오브젠(417860)' 관련 뉴스: (최대 10개):\n\n1. [오브젠, CRM 솔루션에 딥시크 적용 검토 기대-밸류파인더 - 이데일리](https://news.google.com/rss/articles/CBMigAFBVV95cUxNbHlEcUhMcmxpb2FieUpoN0xFVVhNN2puV0VUZmc2bF9oOHVZWEVFdjZhZnJ2ZzlNVTUtT3VJVEVYSmxRMFJoRXd5d0JJYU5LM1JQZmV4U28tRmpZNzg1bk5lQjJ3NEI0cXFsTjUtT3htdjdhcW5HUmZ4RjI0R18wcA?oc=5)\n\n2. [밸류파인더 \"오브젠, 딥시크 적용 검토…올해 실적 턴어라운드 가시화\" - 이투데이](https://news.google.com/rss/articles/CBMidEFVX3lxTFA2NDZxODZpanFxNFR2bWVUTEhVaFJzQm9rVmJ4UjNWVDRldmkxZWxMVFdITlpvVGhUbkhUOC1kMkpkTnFMTzhiM0w0WkZuSmJrV0tDQURfMngtSUR3TUhXRHlUcWItU2wtWDQ4bjFick9RbWY5?oc=5)\n\n3. [[서치 e종목] 오브젠, 자사 CRM에 딥시크 'R1' 적용 검토로 주가 동력 얻을까 - 데일리인베스트](https://news.google.com/rss/articles/CBMia0FVX3lxTE1YbWRMenhSOFVCd2JSbDhoVUIzcnBjOFNxcXJYWGIydE5fSHRHMXk5Uy1uZ204YUdwTmJ0dkgzblZMb0Q2UUNCSnZhUnlIUEpkLUZBcmVxZTBUNjJoNGJsMmxLN1hXek9JS3Bv0gFvQVVfeXFMTkV3eFk2VWRsSmpZc2J4QzQ3bEFiYURzUDZsYVR1bmQxMk1Zdl9sbzk2N0RvMEowcWJGNHNqOTlybWVfX2hvczVTczB5OEFpbkRacjM1anUzbnZvanRPZVJ0cUk5RHdMeXlHbkpvekw0?oc=5)\n\n4. [오브젠, CRM 솔루션에 '딥시크' 적용…글로벌 진출로 '마케팅 AI 에이전트' 선도한다 - 프라임경제](https://news.google.com/rss/articles/CBMiZkFVX3lxTE5ScXpQZHBNaHc0T0VBRDdTTzJwSXE3VjJnYmJLOTFBNnBjQUVzZ0l3S21KZ1BHR3ZTOUpaV201ODVPR2QzZzlvSVVTS3J0NjNyQUZ4T1hhSXUxZzZwX3hCV3ZiZ0IxQQ?oc=5)\n\n5. [클로봇·솔트룩스·고영·씨메스·오브젠·피앤에스미·캐닉스 급등, 지능형로봇 인공지능(AI)株 강세 - 영남일보](https://news.google.com/rss/articles/CBMia0FVX3lxTE5QbHNWNW1NeEZwTURqMG1vVE05d2ZLNHhWM0dNcGRYWlBRQ1VVdk5zeklER1h6eUVZUUhsTFJOS21BcHBPS0laWmNDTzMyZkRDYkxYNWZkVWZpb082cU90ZGhSTnl6WnZzNzNr?oc=5)\n\n6. [\"딥시크 수혜주?…오브젠, CRM에 딥시크 적용할 듯\"[줌인e종목] - 네이트 뉴스](https://news.google.com/rss/articles/CBMiU0FVX3lxTE90aFFrMW0zSHk3XzFsREhPWnZfcXA0QUhBNmlrUWg4WFkxdjhiaFVEeHlOM3JaaUkzV0NYQW9keDlCbmQyWU5yV1E5NDlMVmQyb0tV?oc=5)\n\n7. [특징주, 오브젠-지능형로봇/인공지능(AI) 테마 상승세에 9.69% ↑ - 매일경제](https://news.google.com/rss/articles/CBMiRkFVX3lxTE1VOHJUd09qd2lvYXNFMkdSdkQ0enc0MTZOUFVmek94UTVNdmM4RjMzZ3ZQSEZ0M1JjY19QY29PYjJGVFFIaXc?oc=5)\n\n8. [\"딥시크 수혜주?…오브젠, CRM에 딥시크 적용할 듯\"[줌인e종목] - 파이낸셜뉴스](https://news.google.com/rss/articles/CBMiWkFVX3lxTFB2Q0tTVHhYU1p1OWJGVFhtbjV2dkRiYUdUdlVfbkpMclNhMHpkcmJDNm1Ib0NLcDhZcXBTTEtqWllOVDBmN3NNbFRsa1FVdFVWajNqc29RTnFkZ9IBXkFVX3lxTFBhb255LTg4VGRtWW1zY3FnZXNLQU5ENXBjMVYzM0VoajhMQ2pNOGJqb2x6WlNIbEI1TmZZMEVtN2ZNYWVXd2FuQlZWT0w0ZXdiNVRkc0pWWl9YaXpYbUE?oc=5)\n\n9. [오브젠, +9.46% 상승폭 확대 - 조선비즈 - 조선비즈](https://news.google.com/rss/articles/CBMigwFBVV95cUxPdXR1dU53MFd1U1RreWNQVFg5aGoxUGxhcjhYdklsb2dnQS10eVZ6SkdBUEF1czRQS0N3dGxiZGVwQXh4ckc3TnY5UDVlcmJIVnI0TmhHLXNsUlBDSFFDeXo2YkJpOHJUV2lmWnRiSUdQdndpeWVLdHpXMDBOV0ZSZTJWONIBlwFBVV95cUxPX3pjMXdzNWU4N1ZaWkJnWDg2R21UMFVMNGc5Nlp4SlZoNGp1QXNRNHNLd29NYTlLdkZqbTljV3hKVEtXNjBNYmU5TlEtRlBsV09RS2gzQTZFQzh6YVI2dTd6RUsxSEFELXRtTW1zSHhfVG44Q1VtQWxwUTJjcVZlRnFoUnZjbGxDYXRpNS0tNzV1NUdQN2h3?oc=5)\n\n10. [특징주, 오브젠-지능형로봇/인공지능(AI) 테마 상승세에 8.1% ↑ - 매일경제](https://news.google.com/rss/articles/CBMiUkFVX3lxTE9GNXMxMEZtOU5PdmxBQWxlUy12eExTYzN1V01tcnNMbGRTcDZGNGxUbV9OSlNVU0tRcmllNDlaRHlJb3hKbW40R0FLQXF1aXJSR0E?oc=5)\n\n"
          },
          "metadata": {}
        },
        {
          "output_type": "display_data",
          "data": {
            "text/plain": [
              "<IPython.core.display.Markdown object>"
            ],
            "text/markdown": "\n최근 7일간 '보로노이(310210)' 관련 뉴스: (최대 10개):\n\n1. [[생생한 주식쇼 생쇼] AI 신약·의료주 순환매 지속…보로노이(310210) 신규 편입 - 매일경제TV](https://news.google.com/rss/articles/CBMiaEFVX3lxTE9DREFabXZCNWstVVRoQVU4VHZzcGNiX3ZkZDJYMlhPaXNVSjI2UlBVMV9RdG9uZExtdDNpd00taWtpaS1JVkExSndkSXRTZGw5c2stMExoWnRlMXFMd2tzaXZTZnI2Zmlx?oc=5)\n\n2. [[강세 토픽] 2025년 임상 예정 제약·바이오 테마, 보로노이 +8.19%, 유한양행 +8.07% - 조선비즈 - 조선비즈](https://news.google.com/rss/articles/CBMigwFBVV95cUxNamhkS0dKTS1UeFpSWmFYSnNNMVRxeGJ0RmVFUDJqOHVuNDBVZnZTeU5iUWRYNWdfdkVfbGFoS3U5T1hGZFRaNl8tS2g5QWNuX20wdVpTZmJkS3l6WmI1Q0hGbE94a1hHSUY3ci1EaG9yekRnZzlteVVTOXJheklSVHBIb9IBlwFBVV95cUxQZGZFTXdHV21yV21JbWFtNEo2UDNqb29YNFVVQWItSVVLRmxIWm11QTlXWFJ6WUNzR3hRRUxBTVVqdjN4QktjMVRxSjRWMzQ0cmxXaUdPeENrTS1lNVhsbWx4X3ViQ0lxTEZyNFpJcm5DZWZLRVpiNmlWaG5wcF94bDNna3BPVXNFbHlkdWZzdTd1VmF4WU1n?oc=5)\n\n3. [코스닥시장 제약지수 반등, 보로노이ㆍ올리패스 두 자릿수 ↑ - 의약뉴스](https://news.google.com/rss/articles/CBMiaEFVX3lxTE9FQUExUFJRYXpuRUxSdVc0TUN6UHdtbjIxam9zcmNpVFliQW1Eck5wTUdtUl9QcnIwSHdQZHRYT051WXhJMXF6cHEyOEJDa2lPWGpIYWhqLWFPWVRPZFAycWlfdFdqYzlx?oc=5)\n\n4. [보로노이 주가 기세등등...폐암 치료제 병용 임상 개시 주목 - 핀포인트뉴스](https://news.google.com/rss/articles/CBMic0FVX3lxTFBpTGZqZkQwNzNSdk54R1AtTnVFVE5qMUJObk9Pd2EyREhKTGR4bEZZQV9vS0V0TG81cGswU2lBTU4tT0d6cXNkWUhvVzBheWF6Ymk3VzVPdDIxNkpnQUxHWkh5WHBYSkZ4enZBMDZVSFowSVHSAXdBVV95cUxNTFhWRGViSms0WU9taEQxMmhhSXdoSVl0N2ZqR3pUbTgxcGxtMkFvVFNKVm9BTW4zTUNNWmViUHo1RTRTWndmUklkV1BKS0hJRUZQYlJEWGl4dXptVVBtbUxMdnVUMjlwODZqcUQ2TW4xRmxWU2hkUQ?oc=5)\n\n5. [[오늘의 주목주 ] '신기술 개발' 한화오션 6%대, 코스닥 보로노이 14%대 올라 - 비즈니스포스트](https://news.google.com/rss/articles/CBMib0FVX3lxTFBZVWYxZ3JTczB5VFlFS2FSMGI4VnJCNWFlNEN3MUFraFpWeFE4ejhDa0ZWckZUUXVZODBaSmliWGJfb3BPNmhNNFVxNm4zQlQtN0JaR1pKMmF1LUtaUmdLYnQzLURBOHVWcEhTM3JoRQ?oc=5)\n\n6. [기관 순매수 금액 상위 20선 - 코스닥 - 조선비즈 - 조선비즈](https://news.google.com/rss/articles/CBMigwFBVV95cUxNWnRRcGo1UlF1bmpVRlpTOUJlTWV6b0V4emJ5U05HYnlpcVdqR2dMZ2NKajBCN1M5SHQyeUlOZEhUZXUzSzBVbnFTOW9JRlg3eHQ0RG1mc0wwQ0NZakFxcU05OE1HZEVfdlVfendyNzNWS3BaeHJ3VzR1a1R3VTZWM2NITdIBlwFBVV95cUxQZ1QzdG5yWTM4LVpLS0FfY185QTQ0czZrdDZSaUFiOC1wR1dOdzAyekdNMmJHVndXMTFCa1U0X0ljLUdrNGR4WXZpd01yZC1CZHJSTEhsUzhuNzVaVC15TWZ3alc3SlhUd1d1M0VCMHM0WFJCekdFS2VXb215aXNnQ2I5VU82TmFwYVVDLUVMTWtMQ2d0ZHdV?oc=5)\n\n7. [보로노이, +11.91% VI 발동 - 조선비즈 - 조선비즈](https://news.google.com/rss/articles/CBMigwFBVV95cUxQWDZlaHRhWDdZR0xobGhyWVJlWllyR2dEeDdISUJSS2s4QzItS1BRbDNvVUxCOFFNZC1kRnZEWExyM1BBdEhqampIZFBRcHNyRGg4UUdRM1NYSFJBeG5FaWx1NGRKYXlBQXVGWGxDMml0QkZJNlJmd2VfdWJneWktYjFvSdIBlwFBVV95cUxQNzgwTG1NazVTTlZ6X2ZPSHhKeWVzcnd4UUdPYVlDM24xdU9JT1YxVWV4NWdKaUZVWkxfLWdvMVo0SUxWNkduZUNLeG4zLWVRenJCc3YxdEQ5Z0pDaXVoVlVHU2gxZzNFZkZqbXVlU051akVoZUJ1ZjJkc3JKY2pSUEpnT1dseDBLVkRhY0FyWUpPaFc3Vmdz?oc=5)\n\n8. [보로노이 김대권 대표 등 주요 임원진, “향후 기업 가치 상승 기대” - MSN](https://news.google.com/rss/articles/CBMirARBVV95cUxNMWl5LXJ1azExUG1EQ2JSZ2JIN2F1SzBqb0lVWHZsTXNieU9oWG9qMzZiUndVWEozTDMwaDV4b0hkMFVlSUdTcm9vdl83ZkFWRjREU191Y3VUbGNoOGptaG5vQWhNMUc0NEx2OWlFc1F5SVd3MGZQVXFDeElTd1RsWkthdmRLSW1MLTJFdi1QNUE2dUxIRm9DOExfbmxFN09kVjlHRzdQOGk4eW1jYWViV2lZZ2RQdjVWZGUxejdON0ZtUXplTmdVTk5Tc09xVjM0aUEyMFdyV3JQVmZDNWs5RmpwX0JoNS1sdjdRM3FZeXc5UlZ1MDBXWXJZSV9CRGRSaE9QeUVhSU5lYzJlaHhIR3lQYXlHOG9PWUtERFpuWnlObGNXR1JsMUJLVTl0VEFzZHJuei10c3NjeWI4RVFCcU1SZms5V25Fc08xNDRKX3JZYktMZGQyaGkxelcwa2JuWHB0RE5tM0o2U0NQRklxaFg1QlRFTXVnU3cxWDhMZWdEVU92TXliYS01NTRmWXBKUHlOT2JIVm5MZXBDalhjQUdacmhJaGYyc1prWUg3Vldjekh1dWY5OTNGS2FBdjNHMjhyUklBZWxwSmY0SHNQbG5yN1N6Uy1VYzVnd2ExZlNKUENva2M0Yk12c0hMN2xrSjZQenYzNXZ5WHlBRm1rU3I0NDZublZqUnBwNDZUdmtfTFRGbVJIUE5ESkp3SlNGN19EVDc1VDNYOHBW?oc=5)\n\n"
          },
          "metadata": {}
        },
        {
          "output_type": "display_data",
          "data": {
            "text/plain": [
              "<IPython.core.display.Markdown object>"
            ],
            "text/markdown": "\n최근 7일간 '에스비비테크(389500)' 관련 뉴스: (최대 10개):\n\n1. [[로봇사업 기대株] 에스비비테크, 로봇 감속기 국산화 선도 - 딜사이트](https://news.google.com/rss/articles/CBMiT0FVX3lxTFBBRUZycjRpM3dKaE9jQmpKYVhRX3JtUlVTMjVMTGFybE5JamE1dmN1TFFkVm5aU18tMVRoWEZDNFdVVFlwQzZxUUJ5Tm9leGM?oc=5)\n\n2. [특징주, 에스비비테크-로봇(산업용/협동로봇 등) 테마 상승세에 5.07% ↑ - 매일경제](https://news.google.com/rss/articles/CBMiUkFVX3lxTE8zTVQtMm1OMjBKaFhSVERBaFp1WWtwVGhvdF9VSWc2VWFoNjJLd0hQS2JnbTY2QVVTZXlmV0pWeVk5SXdJcEk1OGx4MXU1cWVMOWc?oc=5)\n\n3. [[강세 토픽] 제조용 로봇 (스마트팩토리) 테마, 에스피지 +10.55%, 에스비비테크 +7.61% - 조선비즈 - 조선비즈](https://news.google.com/rss/articles/CBMigwFBVV95cUxNTVNjc3B1ZDZmazBsWUhrYlJRQWphVVJHMU9zSk5yR1RwRF9jUVgxNEl2S0ItQWtpZDFpMkxpU2o1ZEEzeDRwVkpkcG9WN25tQUYxUHpmSHBPRWhsUVNsdzZWRWxaZ1Jid1NfRHAxUjN6Tkpaa2Q3ZzluaS0zTTFjR2dCa9IBlwFBVV95cUxOVzJ4aGR5YzRNRldHWElCMUhOdlVHc2tWNmUxcGRlSkE4Nk5lMzVTc3Rkek1DWnJlaFlTTTY2UmxMaERwalpDM3pLcmpyQi1hWXRPMDVMZDBZdzQwSEV6QUNraW9sZXlENGRWdHl6NWxEMU1kV2dPOHlqcGNacUgzWHJORlE3UTIwN28zYmowUEszUF9VTVdF?oc=5)\n\n4. [에스비비테크, +9.90% VI 발동 - 조선비즈 - 조선비즈](https://news.google.com/rss/articles/CBMigwFBVV95cUxObjAxRUt4WkthVzhWaWRDdW1DUnNsYTVMbzZodWt0VkJaWkNfbzd5UGtVejlNRGlLb0FyNWtPZDZ0VFQ2LXFPQlJVRmZTY1JsQlZ3UktSODltMkxTVHBRQTFKZ01BYXQ5aWlFMDlkN04yaVF4Z0k3NlhVbmpfeFZnV2Rkd9IBlwFBVV95cUxNQjV2QjNyVkNZdUZGQ241c29qLTdWVmdDZVlqQTkwRkpmMDB2WG13VkFoMnp5Mk5vOXY2RjZpRXVSRlc4eFQyN2RzVm9CYXgwUE9teW5iZk5rVkg2OWM2WXpNWThTRGV0b253bGoxSmphNUlENjUzaExndW9hNjE0WXI0Y0RfVEkzT1N1dVU2NjFXR0RnLTVn?oc=5)\n\n5. [특징주, 에스비비테크-로봇(산업용/협동로봇 등) 테마 상승세에 7.1% ↑ - 매일경제](https://news.google.com/rss/articles/CBMiUkFVX3lxTE1fUlBtSlNPOWswdHFMS2FMc1g3eFZFVUZuemZZZ21UR2xrbUoyaDRPMHRaOUJMZEtrdUpla0dza25mQUdTekxkTF9zQkpKVEpkeFE?oc=5)\n\n6. [[로봇사업 기대株] 에스비비테크, 로봇 감속기 국산화 선도 - 딜사이트](https://news.google.com/rss/articles/CBMiWEFVX3lxTE1tZDZnMDA0RDhBenpsZ0Z6bVNWQmNIbzB0dXFtT3l2bDdfUUp2YzI4cDNRbGNfdWVHaUNCMGJVVkI5YTBxSjUxSjNFZmM0Q3JWeWhFbkc1LXU?oc=5)\n\n"
          },
          "metadata": {}
        },
        {
          "output_type": "display_data",
          "data": {
            "text/plain": [
              "<IPython.core.display.Markdown object>"
            ],
            "text/markdown": "\n최근 7일간 '대한광통신(010170)' 관련 뉴스: (최대 10개):\n\n1. [[특징주]대한광통신, 美인캡 인수 효과로 상한가 - 아시아경제](https://news.google.com/rss/articles/CBMiYEFVX3lxTE4wVmJiT2JNSVdDTFllTXZ4Q09iLU5seUloQXJrMk9sRERCQllsZlFISXo5NE5idVFkSHE2OXBNSVNuLWp2NXMyVFVmWE11S25JbUlZb2M3RWU2RjdRdk9wRA?oc=5)\n\n2. [대한광통신, 28% 급등…장중 상한가 터치 - 영남일보](https://news.google.com/rss/articles/CBMia0FVX3lxTE9MVU1HUXpsYk5WT1kxTU96dkJHVzNvcHRBQ3lyTTQ1YnJIWnZxZXhPYXhVTExjaG9EVjU2TUF1RGJWU1ZpcWZWMmZMOTlqZFJjNk5jcFQ2U1RudGl5Q1pPakJyRzM3VGdjN05V?oc=5)\n\n3. [[급등주] 대한광통신, +29.94% 上 마감 - 전국매일신문](https://news.google.com/rss/articles/CBMibkFVX3lxTE1CYVlkZDNabk9XTVRuS1hHd2VPSGllcElLUDlHaGdIQlRBRDlJZVZIaENSMUFLNjhlNWUyd3IyaUxHazVvZVhtTnVraV9tZGpBOWRRRTVWRWw0Z2RDNkJLSmpYcmFweno1RlRfd3RB?oc=5)\n\n4. [[특징주]대한광통신, 美인캡 인수 효과로 상한가 - 네이트 뉴스](https://news.google.com/rss/articles/CBMiU0FVX3lxTFBKMUc5YUtrTHl4V2djbHVuRHZSeUc4dGRlQlhNaUw0YWZQa1FMV1ZTdHlOY25xMnVLTFgyc0ZWejhnd3FFS0J6NWY1WnlSRGlxalJJ?oc=5)\n\n5. [대한광통신, 美 케이블 전문 제조사 'INCAB' 인수 계약 최종 체결 - 뉴스퀘스트](https://news.google.com/rss/articles/CBMib0FVX3lxTE9SMTF1RmdXU1NXcjdYYk1WMVgxUWNTNkFjbHlBWlF1b0FBb2FLZlJMSVNCWTN0T20xV2NFd01CWnBua1pSVklna0pXbk15NGJNRHJHbF9yM09JMTRfQkZZUXoxY1BldVgzM09fdGlqc9IBc0FVX3lxTE9IWllUaVFieDRjVTAxQXZmU2QzbVhjcWxHMzQ3RlVpVGsxeXhFQkdnMTNYa282UlhVNVhPanRvRU1hRG9GeEEzZndHSnV3eVNXbGlxSzNTM01lUTBoZzM4VGs5OGxtZmczVWJPOEJodVdMU1U?oc=5)\n\n6. [[특징주] 대한광통신 '상한가', 美INCAB 인수계약 - 데일리임팩트](https://news.google.com/rss/articles/CBMiVkFVX3lxTFAyd1hYMUhGWGU5WXJITVAwM2ljYTNrd3NtcDg5eldCM0NxU0cyb01lVXVlUjNwYTI0eWFuTTZsV0hndDRreUhWek9Vb093Yl9vYWd5bXdn?oc=5)\n\n7. [\"美 케이블 업체 지분 88.5% 인수\"...대한광통신 주가 29% 상한가 - 국제뉴스](https://news.google.com/rss/articles/CBMibkFVX3lxTE44TDZMUVFlVVFrbHlqODhMUkRzVkhSU253OVp1czk2VHM2bE5weTdMZUFvMFlMSzFJVEtoN1ZtNWgzYnZqdGlmdnlTN0kzTjVLSnE3SzJMQmRTemRxcHRFaHFTSTJOT3RyWkZWaXJR?oc=5)\n\n8. [대한광통신, 상한가 진입.. +29.94% ↑ - 서울경제신문](https://news.google.com/rss/articles/CBMiV0FVX3lxTE10RUY1Q0RuaFlQajV2UmFVVlZHaVFIV2Q1Mk1wcmRYa2lUS2Y1djZ2cWJSTGVTTlIxWksxc3RzMEptNk5XQ0szSVBvSWVMV1JrMnlhZ3ZuNA?oc=5)\n\n9. [대한광통신, 美 INCAB 인수 계약 최종 체결…전력시장 진출을 위해 인수 주체는 티에프오네트웍스로 - 파이낸스 투데이](https://news.google.com/rss/articles/CBMibEFVX3lxTE1TbE9kd2hVUzBGLXlKMDZhdTBwc2RNa3pTQ1g4RTE0WDExYjRMaDFVYVk0SGV2WnBXSG5nTHNLd0IzdlFjd1JqNFM5dXNGYzZLUlNUSGlibmxsa2NuVl9VbnF0VGg2cWszT0p2Tg?oc=5)\n\n10. [대한광통신, 美 인캡 아메리카 인수계약 체결 완료…생산·영업 전문인력 우선 파견 - 전자신문](https://news.google.com/rss/articles/CBMiTkFVX3lxTFBudHRQbU4yT0NfbXFmZWd3OG5mWlVGNk1aa1cwMFV6RVRldDRFOUhvUDRlb21wX1c2R2lLMm55R2xXdV9DUzBrdkpnYW5hUQ?oc=5)\n\n"
          },
          "metadata": {}
        },
        {
          "output_type": "display_data",
          "data": {
            "text/plain": [
              "<IPython.core.display.Markdown object>"
            ],
            "text/markdown": "\n최근 7일간 '펨트론(168360)' 관련 뉴스: (최대 10개):\n\n1. [펨트론, 27% 급등…오로스테크놀로지·티에프이·저스템·기가비스 등 반도체 장비株 강세 - 영남일보](https://news.google.com/rss/articles/CBMia0FVX3lxTE15ZG5ZUEFWQkZTY0xBU3kzb3RlcXY2ZjBWVGdxYmJRTnVIWnBoZTVqWVdUOXJSS3oySmR5ZUgta1g1ejlmdlMxTU9SdzhSdUFwQjR0TXItcFByWFBpQTNfaHVaczhuc0dYQUE4?oc=5)\n\n2. [펨트론, 주가와 거래량 모두 강세... 최근 5거래일 최고 거래량 돌파 - 조세금융신문](https://news.google.com/rss/articles/CBMiYEFVX3lxTE1nNHZIRmRESTNXUURhSDhNNHpRNWxvRkdZZ3I5RldkN2dPVGl2ZkZXRm9yV2dmVnZtQzVCMENSQ19BOWx6b2FfYnFBTkc1eXg1ZzR5cTBYbElSU2lLUTZUSA?oc=5)\n\n3. [펨트론 주가 덩실덩실...외국인 대량매수 눈길 - 핀포인트뉴스](https://news.google.com/rss/articles/CBMic0FVX3lxTE1uVENvSGxjTGtIN0VvSFBoeEJUTEtuM2lEcmtSdGZfdGtoXzlaSG95SmliMXVGWG5IRFRQQ1hIN1VvUFpkd0F1dkEzSjRSY2pfZ3NQU0RsR3dWUWhRTlJEbzItUDBvamxmajFCTmdlNnpfWEHSAXdBVV95cUxNX3Q5bUgwNEM5cWlwT0JsLVk4aWpsZjNOWlJCekNSdzBPUFJqRWl1Y2lUaGZyaGZBR3ZTdDZEc2JhQ1ZYUFZoLXMxTmU2di1WUGtmQy1oVUpxeVpHNS0xcGN2VXRMUHBMay1XWU02NGVIZDJaaUtrTQ?oc=5)\n\n4. [특징주, 펨트론-반도체 장비 테마 상승세에 21.47% ↑ - MK빌리어드뉴스](https://news.google.com/rss/articles/CBMiU0FVX3lxTFBEQzg3NURYVEp3cFRiRTc2ckN4c25QUDdDNHo0Q3RLUG8yTFFXdnZ4WnAtOGVzN3J1WDlTcHFmeDFUOFpkcU9MOEZUMWJDN3R2REow?oc=5)\n\n5. [[강세 토픽] 2차전지 공정장비 테마, 펨트론 +21.33%, 파인텍 +10.18% - 조선비즈 - 조선비즈](https://news.google.com/rss/articles/CBMigwFBVV95cUxOZ2dwa2NYNHFnbFZiUEZGQ29wVmtYTUpMZ2c3OHdhWDBhS1ktRXgtY09TcWxXcXZQX1RaTHA4NU1GYUw4QmRxbWRCbGVieExQOTA1cVZTd2Fld2ZYcGlGaXVQaExSeC1xU28tSXZiRVdSdEh2UHlPcENURHIxUXg2Y1pKVdIBlwFBVV95cUxQeXUzendzbF9wUTBTRnJma3ZsZllvaGRnWnFDN2xzUFF3Tnl3RENyakpRXzRseHA2SFNwTm15VzhXcVExOXlhcnNYdVlhUlFBMjE5QW9EZzNqV2NiemYyU2dNRloxSFZOWTV4TUdfeS1oTGZBbVdFVmdpbjFnTjZUZXpUbEJaejFVQ1NGWmIyM2Y2b29NbmZ3?oc=5)\n\n6. [[생생한 주식쇼 생쇼] 트럼프 관세 전략과 AI·반도체·바이오 주요 종목 리뷰 / 펨트론 (168360) - 매일경제TV](https://news.google.com/rss/articles/CBMiaEFVX3lxTE5qMkgxdzFtb0FGbDNyMVV1UUF4ektSZGlnUEo3TmJGcDlKQ0ZrX2JBWkJrNkNXbGdqTWxjYTJ1Vl9KUjJkdXBtSzVVTEpaclY0WWtFcG5vSmUybmgza1p4WDdQY3RrSFlC?oc=5)\n\n7. [펨트론, +11.82% VI 발동 - 조선비즈 - 조선비즈](https://news.google.com/rss/articles/CBMigwFBVV95cUxOclRmb3Y5VXlnYXZUQWh0VXl4cHpkRmF2TFZaLVlYaC00RERsTmVkV0tqSUVmT1JQbmE4cE1UUS1VeHg4Z2ZhVU9SRWtqMWhobzh5T3lkWVd1bG5yX2c5TFpiY0FldGQzNlNIcWFac3RteGhzQ3Q1OFluWDlEeGNsNlVrUdIBlwFBVV95cUxOQlpBYnpDV1VGOTBVTUcwRU1DRzBBQ1VCQ3k3STZ2cjhGand1bDNlTWdZTGRHMUZYWjVDNElwWEpzTkZZZ2MxbUJRbjdScFpsOHQzelRraHNaQ2NidHROM3lIZ1liOEhGdkNYeXBBUWlKNHp4cjZRZFRadUxpMUJNb3ZfQlR2YXgtYTg2MHBkcU1lcnJUajI4?oc=5)\n\n8. [특징주, 저스템-반도체 장비 테마 상승세에 5.76% ↑ - 매일경제](https://news.google.com/rss/articles/CBMiUkFVX3lxTE1CcTZ1cHlXZ2FybVlxeFdUVi1aVXVPNExIVE1td2hmdml3WFlWMkktMXJuSE1pazN4eU5LS3kyNVplUzdHTllaanV5WHJRS3BRX1E?oc=5)\n\n"
          },
          "metadata": {}
        },
        {
          "output_type": "display_data",
          "data": {
            "text/plain": [
              "<IPython.core.display.Markdown object>"
            ],
            "text/markdown": "\n최근 7일간 '에스피지(058610)' 관련 뉴스: (최대 10개):\n\n1. [[특징주] 에스피지 장초반 9%대 상승…샘 올트먼 로봇 협업 기대감↑ - 아시아경제](https://news.google.com/rss/articles/CBMiX0FVX3lxTE50ZzhUVGZVME9ob1RlR01GeDZHcW9UbWF5eGkyS3lCWmU0ZG9pbks5UVYzNVNEb2J0MnBKcDFaU291V3k4QlVsaXdyaTY0dlF6TkhLeU9aZlo4WGM0RkdZ?oc=5)\n\n2. [[강세 토픽] 제조용 로봇 (스마트팩토리) 테마, 에스피지 +10.55%, 에스비비테크 +7.61% - 조선비즈 - 조선비즈](https://news.google.com/rss/articles/CBMigwFBVV95cUxNTVNjc3B1ZDZmazBsWUhrYlJRQWphVVJHMU9zSk5yR1RwRF9jUVgxNEl2S0ItQWtpZDFpMkxpU2o1ZEEzeDRwVkpkcG9WN25tQUYxUHpmSHBPRWhsUVNsdzZWRWxaZ1Jid1NfRHAxUjN6Tkpaa2Q3ZzluaS0zTTFjR2dCa9IBlwFBVV95cUxOVzJ4aGR5YzRNRldHWElCMUhOdlVHc2tWNmUxcGRlSkE4Nk5lMzVTc3Rkek1DWnJlaFlTTTY2UmxMaERwalpDM3pLcmpyQi1hWXRPMDVMZDBZdzQwSEV6QUNraW9sZXlENGRWdHl6NWxEMU1kV2dPOHlqcGNacUgzWHJORlE3UTIwN28zYmowUEszUF9VTVdF?oc=5)\n\n3. [에스피지, 전날 상승 이어 7% 급등…3만4000원선 재돌파 눈앞 - 이코노뉴스](https://news.google.com/rss/articles/CBMib0FVX3lxTE1YMU5yN0hwenFGQzBrSlhCdnNDM1N5b3VWTjlBWTNKbVNyeHpWYWw5aGhMYVdDV3FTMFljWExoeGtDY2lldGh3SF9tUEJGUHB6MkpMV2FqQXppd2VySUYwZFRWQllPYWEzM20xVjl4VQ?oc=5)\n\n4. [[특징주] 에스피지 장초반 9%대 상승…샘 올트먼 로봇 협업 기대감↑ - 아시아경제](https://news.google.com/rss/articles/CBMiYEFVX3lxTE1nMkNLSGlqc3lfTUZGYWdfN0ZYc25pMFJXMUplZmltWURVWUFqTXRFb3VIcEhtUG5rc3paZE15RndCX2lDNXh6QVdmamhxZEFjUVNtZHpBQTJRQWNqcFZpag?oc=5)\n\n5. [에스피지, 주가와 거래량 모두 강세... 최근 5거래일 최고 거래량 돌파 - 조세금융신문](https://news.google.com/rss/articles/CBMiY0FVX3lxTE1kUHpicnJNSnFyYjVTS3ptellmQk1sVVFlN182WDJub3otQTM2bFJPMFZFQktsdXgyLVJ3dFVKUEgyQ1ozU0loV1J2RDBqS21LQmczOWRVWi1uQkF5ZHo0aEJTbw?oc=5)\n\n6. [에스피지 주가 룰루랄라... 소형 기어드 모터 기능은? - 핀포인트뉴스](https://news.google.com/rss/articles/CBMic0FVX3lxTE1TZnAwNGxMaWVRY25oTnNCMjRpWUl6Y0s5eG9yNTJZWmV4c2JCejRTYzZfb09oQUFWWXNVUzB6VGNYVDE4ZU5WQU8wSlZrUTJhUzBMcWhaTVUtbjdyT0FrYUZERXNEWEJfLVJIaVNrTzRjOEHSAXdBVV95cUxQX3dUZ01YclF1R1pXc0E0eTlOc2dlNzhTN0VuRjdQM0REMzFiZVY1Vk9adlVwYm5ZazUzQmFrZTJLMXNoVlpvZ3ZVZGhQUzhOVW5QVVU5ZTA3Q3YwQTZ4bUR1aHl0Um10MnVsWk1fam5aaWpMVzRUUQ?oc=5)\n\n7. [휴머노이드 경쟁 스타트…에스피지가 뜨는 이유 - MSN](https://news.google.com/rss/articles/CBMi4gNBVV95cUxNQjhEUXozT3NRaThKaDRLU3VLUDdNUXVrRDVJNTB5QnhkUjBqNXFfUUxYczRiWk9ZbWFTZV9ZM1RpYklYMTZNSFVpaEZVSDVpQ3lOTFY0b01JVTdwZlhRTUFoLWg3MUNveFlyRkFoRmJrVkNrZzRfQ1JZeVgwTkdPdVplVExDU2NpcWhoSjF3YzJNcW1PMXZjUHA0WGpoVlJ2OElBd08yT3NRbmM4aGdzNzFpZkxUczBtSUh0OUVhbWc1ME9LNFBobDZlbGdsb0VGakg0UkRuQ1ZoQlZLYnBpamd6blhyZjV6eTVqdHdkbm1rZzlENjcxanoybXkzOVQ3a3hnV1NKcm90R0VoRDdBamJfTzMtN0hLcENnUmlFYkFQTmN5R0ozSkE3U0VmajN1M0Z4Q3NlaUZGYUR3MUZacWtqeHFjOG9iaWEweWk2QlpEMXJQbnl3eXFfdDZJcE9YOW1wOGhBOHpTZ0JyaEFHNHpMTTFuTnhHVHNheHR1WU1XdWtldHFyQUlsX2FmejF4SjlBOUNKejFNb0w4aWpMSHB0SlJaSV8tb0xFOElHZUc3UUJMOUNDakQ5X2VUSGxCQl9zektPOHl3ZkNWVF9RbkxvLXdoZFZJZFU0dFZ3SFNsdw?oc=5)\n\n8. [특징주, 에스피지-로봇(산업용/협동로봇 등) 테마 상승세에 7.09% ↑ - MK빌리어드뉴스](https://news.google.com/rss/articles/CBMiU0FVX3lxTE9pNUVDTlh6QWNvUTZ1cjM1SlR2Q1JVUjdTOGFwWXFRby1QaGRRMHZjUTREUGk1RXlFZS1rV2ZtanRIdml4RkhaSUkzVkl5YnFGLWxZ?oc=5)\n\n9. [에스피지, 보합 하루만에 12% 급등…3만1000원선 재돌파 - 이코노뉴스](https://news.google.com/rss/articles/CBMib0FVX3lxTE1Yd2ttWVhyaXUyUGxDSGJVODQ2YUhpTVBhczZkb016ZWpjMFVLejJURmw1a0VyajlOVklhRnBUbTNtSjkyM3NISnE2dmI1WDlSQ0ZFeG55ZEtkdFU1M2lUTmdHN2ZpMVZfY0VacmJ6VQ?oc=5)\n\n10. [특징주, 에스피지-로봇(산업용/협동로봇 등) 테마 상승세에 12.97% ↑ - MK빌리어드뉴스](https://news.google.com/rss/articles/CBMiU0FVX3lxTE1VeHo2UFFLdE5jUF9VcjhjbGhFVFl6VG05NzUtTU1hWVZoSlBESjBCSWpoZEZjWXVEOTNocjhuX2tjRFFwSG1ESTFYZ1ZFNnRUY0I0?oc=5)\n\n"
          },
          "metadata": {}
        },
        {
          "output_type": "display_data",
          "data": {
            "text/plain": [
              "<IPython.core.display.Markdown object>"
            ],
            "text/markdown": "\n최근 7일간 '나인테크(267320)' 관련 뉴스: (최대 10개):\n\n1. [나인테크, FO-PLP 및 유리기판용 장비 개발 완료 - 뉴스핌](https://news.google.com/rss/articles/CBMiXEFVX3lxTE9mQ00tTUVMRFpJY1RjZzdPXzlPR1NiSDBGMlY0WnhqbnJXOTJmVEpkaEdMY2NQNDlxLUdtdkRkX1l4NnEyci1iZGRwd3liOVdySTlCU1MtSTVNVTIw0gFeQVVfeXFMUDh4UGtuUWZqSUFQU05iT2VZcUtkMFZRTkJUam4xVGo4a1kxbUlmSnp2UE56eEdkWXlhVlROb2VlTDRmZVhLNnZhckVDQm5UNjdoS0p0ZjZEWjZtRUJvUQ?oc=5)\n\n2. [나인테크, +3.63% 상승폭 확대 - 조선비즈 - 조선비즈](https://news.google.com/rss/articles/CBMigwFBVV95cUxQYi1wNkE5WVBrZmZnLXBlNktQZmZ6YXFQTThEMW9nRWpkOEg2bHBGc21XTUplbWg0MzYyc2w4WGgxSmEzQ0FuWkM4UklfWUphNWRENWxwWVo5NldxSGtXZUM3SVBSbC1zYnFHOHVSNE1XZnFHSFNDWFEwaGFVeWNnbkxob9IBlwFBVV95cUxNeGdWeVhJdFhOSUxQUXZ3RGl1OF9iaXY1RGRhNHE5SzFYYnJZbGU0QjRJYURucl9ZZ0ZKWGJ6WE9wYnhtZjQxdFU0VTdRc3cwVnR6WDlZdzVqQjB3a01zdVBkTThDdkd4bzFWcU04TzJzdlhvbTRaU2tjYnBFRVEwSFRJa2NGNmE1UDdLcFQ2VVVpVjVOVXlV?oc=5)\n\n3. [나인테크, 주가 16% 급등…유리기판 장비 테스트 완료 - 영남일보](https://news.google.com/rss/articles/CBMiY0FVX3lxTE1JekdybUQxQzBkUXUyYnhXWkx1TFdhRmRDazhqMXB4Q1pLcWRuT2JTOGl0NnpuVHl5Xzc2dGhJZDNQb0FMTXc5RU92RW8wWEYtUEpDX01EUHZmdEZLd0ZySG1JUQ?oc=5)\n\n4. [[특징주] 나인테크, 차세대 반도체 핵심기술 개발·테스트 완료 소식에 급등 - 서울와이어](https://news.google.com/rss/articles/CBMia0FVX3lxTFB5a1o3b01fWG4wakJKWmx6SHRDREJ2Umh5ZjlRTDhBN25mazZnOEp2MFExTzczVHZ4bHRQSDh4UkZfbFdhMUZuaHozbjhJNkl1NnAwQkZ5ZjBJbWNSQWxFU2VPeThnaFFCdHV3?oc=5)\n\n5. [나인테크, FO-PLP 및 유리기판용 장비 개발 완료… 생산 설비 증설 검토 - MSN](https://news.google.com/rss/articles/CBMikwNBVV95cUxNMTVHSG9RaWhudlVmYThfUHVTcHhGX0JIb0ZBSWx5QUp3VzFXUU5kOFlKVC1BMUFmTlEtVU8wejFhdTE1Mklvb3JQR0RCYmxWVS1KaTItNjUzdnlhcWpCc1BEQXhVT1l5ZjkyWUpKZm1taDJRRm9tNExGeHhKUjJVTkJWRWJJdmRNeHE1V2FVYmNxQk8zSUhmeUVNZklmd0VzSm5MeGRIekJyMFZjVHVnUzVrR3BJUWVVOWFzUVBDV0VxYjYyRkJGUmVUa1AxNkl3NmFRZVJKX01pZWotaGlhazlIeTVmWTVESWJBSnNNSUV2V2FLZWR1VmZVWUdST1RBU1JnRFZqNjhyN21rVlpVb1o4b010MEFRLVNXRVh3Q2YxNkFiNEkwcEtpU0Rlc0huUkR2bGtrSTV0N0JMQ1UtNVFFU3FsQllaZzlJbV90WnNwX2ZlSHBpZ3BXQmlibHBvT19qMVBvbldMNDdsTVJOdkUzLWxRcEk0cE5lNmE2QzM0aDZRbG1KWUJOQk9rRWJ0S0Nj?oc=5)\n\n6. [나인테크 'FOPLP·유리기판' 장비 테스트 완료 - EBN뉴스센터](https://news.google.com/rss/articles/CBMiaEFVX3lxTFBibW9Td2NNZlVQODRVR3V6cVZiWXF3U1VhSS1rcFVNLUpaM1NFbHZlZW1MWTVHdmI0dG1EYzBSWWZrQzBwbko4ZUxvNlhFNldaazFwQ2pRSXdhc1doQlpTVUM3TjBkbm1R?oc=5)\n\n7. [나인테크, 주가 +8.89% 상승 중... 최근 5거래일 최고 거래량 돌파 - 조세금융신문](https://news.google.com/rss/articles/CBMiYEFVX3lxTFA3YWs3bkJqcWhqTjV4TEhXN1plcmxwVy1EZTl1alUwWlplMEhaYVJoTXI0MUtrWkdBb05lWWRiUWpHTFlWSVNmdUNNLWlFM0JUS0F0TDluNTA5M0dTT0RTcw?oc=5)\n\n8. [나인테크 주가 함박웃음... 유리기판 적용 습식 공정 장비 주목 - 핀포인트뉴스](https://news.google.com/rss/articles/CBMic0FVX3lxTE9yMkp1UGowS2phcjN3STh0ODFWV3pJckc0dno5N2dFbVhDSDgtWWJMLTEtc3RzcWNMSUhDbnd3bnJXaDNoWVJGMHZiMkFmakZxaHFIczlDX2FHMWJaLWJvcXBnQVNRcldiME9RdXFJSUREdlnSAXdBVV95cUxPYTFXVGt4NlhJYjVCSHZHLU8zMGUtM1NPckw4cmJnV0I0by1vdTAyZVV4eTIzNmNDeFJjRUVKUjlXQTU1RjI0Vy12OVlWQVZhX3EzNTVtWTBrMUVacW1XRmV1UzVqT2NIeUtCb2tvVlJ0cEE5eGNIUQ?oc=5)\n\n9. [[N2 증시 풍향계] GRT·에스에이티이엔지 '상한가'…삼양엔씨켐·유니온머티리얼·나인테크 '급등' - 뉴스투데이](https://news.google.com/rss/articles/CBMifEFVX3lxTFBpc05SWTVaS3FHd1NOMFNkVFZVWUlTZVAwUEZiQkdCNjN2TDdiT182ZmtIa0w1Q1FRTm1zVllXSGpOaVNXWjJVem1IcDFsenVtbnpJbnRBR18wTXloUDk0c0M0c2tzSTFyZkJXZzh3UE1kT2JpQ2tIcm5vWWw?oc=5)\n\n10. [[특징주] 나인테크, 장비 기술 검증 완료에 주가 급등…미래 성장 기대감에 투자자 관심 집중 - MSN](https://news.google.com/rss/articles/CBMikwRBVV95cUxOTTZzRFFSc1JOUEctVm1PUWQ5Y1FVYmFQM3ZCd0ZhVHN1c2ZrbkpPVHdmTFFidDNkVjVDenUzOWtxWG9kb01ZY21BQjh0a3ZXdnBadF9TZzgxeE9acWNuWW1sLWZXZ0gyaWxwS1JjWnpqa1gzSnVIZzlZaGJFUDBqcjU5QThMS3d1Q0tYQWNERTdfWE12blFSLW0tY2twdDdEck11RC1rRFFyMTA4SC1NZlRGYVZ3TXdRdndmakR3UDVsWGg4dVMzTzhnVDlxdnJRLVZFeUpIZDQ2ZXpVNnlCQlk1V0dnY2FCYWNCU2k5TXBsdW5rRU5GdGVfaTNrb3V2Z3Y4VzBzN2NoWHhmMFFEcFZzVVlVMHN4MXA5Tjdrd1R3OVhDYk45LVc0d243aDJmbXJ5bUJDV0hxcW1TYkJNOF80ZWwteWNvNmxYTERQbFdrX0F0dzQ4Q1RuR1VIRjBFN1BzN2QteG8ybHF5NXRybV92UmhORjg4WFpBU2M1eW5TdF9kRTZrY0lWaF8yWFNlUDZrcEg2Y1FJRUE3OXFDWUJwRlB2MFJGNzVNdTRKMkxCRkJ6NW5rOHJQbnZoWVB4MHVLOEpPbEgzY044Z0VSVGRIc3JGZjVmRTdLdWwxU0dKdzVKZ0F1SmwzTmFzOG9BTjc3VDhfbk1mckdoSnpyaHVlZ1hTN3pDMVRLS3hFdW9TUWc?oc=5)\n\n"
          },
          "metadata": {}
        },
        {
          "output_type": "display_data",
          "data": {
            "text/plain": [
              "<IPython.core.display.Markdown object>"
            ],
            "text/markdown": "\n최근 7일간 '카카오페이(377300)' 관련 뉴스: (최대 10개):\n\n1. [[오늘의 급등주] 카카오페이, 연내 흑자전환 전망에 주가 3만 원대 안착 - 동아일보](https://news.google.com/rss/articles/CBMickFVX3lxTFB5cmpHVW5FZjlmZ29nTHBWdHlyM0dKeWozUGFPcDEyUGJjblc5NHVLQi1OYVZoLVdtOWk2TjZxczRIN2pOSlZrYjR0TzBWb1RFN3Rzd3hPbmpFQmY0R0g5UlMxSGg1MWVkNWM5OGYxelh4QdIBZkFVX3lxTE9nLU5WcVEzNkJjbXYxd1dwQkI1dENyU2NBeEdSdGRQS090WEM1VnY4N3A1QzJZd2tNMkxiWFVjX05CLVRJOXR3QnBHa254Nnloc28zdTFJbzBGXzFaN0JyM3JzaGw4UQ?oc=5)\n\n2. [카카오페이손보 \"첫 달 휴대폰 보험료 100원\" - ZD넷 코리아](https://news.google.com/rss/articles/CBMiVkFVX3lxTFBLbzhXTUEwQlRadmYwbW5kUHlkcFZBRlhrNWs3eVpaS3BMYWw4YmVKSGxSWEFydGJRRWVQc1dYbGtuV3h6NzZ6UWVuT2VZUEJFZWZnWFBR?oc=5)\n\n3. [\"새 폰 샀다면 필수!\" 카카오페이 휴대폰보험 첫 달 100원 - 이코노믹리뷰](https://news.google.com/rss/articles/CBMibEFVX3lxTE8yRmJvLWVyTlZmWlQyYUY2dHo4bzJBRExId29FU2hHOTJ0WW9faUJmbk92dEl0UjRWVzg4anFlQ0hadks2WVpPVE9zaExrQVBTOXJ5NGN5Z1Z0cVZuUkNDS2xqTHF1R3VDVVd0cQ?oc=5)\n\n4. [카카오페이 지난해 순손실 215억, '티메프' 일회성 손실 제외하면 연간 흑자 - 비즈니스포스트](https://news.google.com/rss/articles/CBMib0FVX3lxTE54T1V6ckRBMEFNYkVXUE5uVjVIWEoxVmpueE5MU1otT2x0SmY5cmNycDRxdEdaM2JzbjZUcmRDUFhOS1I0QWZHNGdOWFFjNGVyVDRDTGl2dllzelR3NjBualljQ09hSEVmUWhKb3p0cw?oc=5)\n\n5. [신원근 카카오페이 대표, 티메프 여파로 215억원 적자…보험·투자서비스 매출 견인 [2024 금융사 실적] - 한국금융신문](https://news.google.com/rss/articles/CBMifEFVX3lxTE5qeWZMbjFRTDVZWnRuU3FyNnhjTEJzZjdjMlZ5b1VOdkxuN2VYTWlhejZMbzZOLXRBWFpXS2dKYkIweHlhSzg0Y3EwaHh1SHljclowdW1GLUdxVmNmSVozZHhLZFRTSG1ZcjY5dlBfZHVHSmphdW9xd0ZxWHk?oc=5)\n\n6. [교보證 “카카오페이, 증권 매출 고성장… 목표가 6.5% 상향” - 조선비즈 - 조선비즈](https://news.google.com/rss/articles/CBMiiAFBVV95cUxNaWd0OEJsS0pvaUVpNlRQV2I5eEFCZTBvWnM4TjNyOVBhMG5WNXdIdHhNSDNCRkgzb0hBZXJhaThHRV9jaFlweEJ1MXc3aDRWb251T0llTGFtR3RheXFscTJFMWpjbWVTY0Y0QS03c3pKU3VnRHdnX3Nhck9GeDBpUDRWMENjTHZj0gGcAUFVX3lxTE5PSzBiZUdrZHZzaklrUk1ldU5LYlJxaFdzZTZWd3JKQkV0OGwtcVc0dDcwMXI0NWZZSDd5aEtPVVVaQ184X3lvdWxUVzRqaEhBVWFqdlk3WXhscGdpcGhmaE5JWXNEY2JwaUoxNGEwbllhSXlRQ2pqLWhJTXJLb2NlTVIxN0FBNy14bmVSbmhLU1VJcTJCcFVzcXVFMQ?oc=5)\n\n7. [[리포트 브리핑]카카오페이, '금융서비스의 반격 시작' 목표가 38,000원 - NH투자증권 - 뉴스핌](https://news.google.com/rss/articles/CBMiXEFVX3lxTE9fc2NxYnZ3Nk5mSG54cmVOTm1kSnR5Vlo5aktHaWc0SkplRjJLc3B6QjhPQTJudVh1dEFOcm1UNW0wNkt0SDdMRGVqcDZ0Mlc4bUdQQTJ6cW5xT0tO0gFeQVVfeXFMUG1fNUJ0cmN6ODh5eHhhSUtpVDBTRkxPSmhMdnNQeEMzdnpKNkRlakFNd2xpSEpXVmQxS0U5Q0tyY3RmYVk5NjZQbFpOVjUyZUxyMDFkV3IyZnl3T2Nsdw?oc=5)\n\n8. [카카오페이, 올해 흑자전환 전망에 10%대 급등 - 한국경제](https://news.google.com/rss/articles/CBMiWkFVX3lxTE5aRzRaWXFzczJUNHRRQThXWnBVbHNyVmN1Z0tzRzJ6WFJWYVdwNVN3X3pxN1dzbEwyOTVBcWxSRjMzUVhPeEZscEpaX1VlRU1HR2haT1dINVViZ9IBVEFVX3lxTE5ENW5zQzE2cEp3UmRWQk15cVhkN2tNZDV1RGhfRjlHSDJxRlVENmpsYWtKTWxPY1lMMU5PU0N2dkp0YlFZM3hTUU1XM001T1M1SnJNVA?oc=5)\n\n9. [카카오페이 주가 급등에 덩달아 뛴 디카르고…15% 강세[특징코인] - 뉴스1](https://news.google.com/rss/articles/CBMiZkFVX3lxTE5KY3FSNF9BS0NrcEVEa2tRU2NnYkc0WFhDc1l2dlQ4MDNiOEFsSUxkeXRDcW5sYmlfVlY5b0MxZW9LM0FuVzRCbGJaR2U4Y0VPXzRxcmpGNDBvYmo0VndYVVR4czN3QQ?oc=5)\n\n10. [‘티메프 여파’ 카카오페이, 결제·금융 성장에도 지난해 적자 지속 - 매일경제TV](https://news.google.com/rss/articles/CBMiaEFVX3lxTE9ZVGFLRDdDeEVLa2pmeXBmVGZPaFk1MFNuMTBvZWpuMXNLX0lpUnBPdU1GLV9KSWNEZWI3QlhSOVFnc1BCeW9HR0lKSXNmaFEwVDlMWDE0X3lyRVlKTVRwMldEUVhRSndI?oc=5)\n\n"
          },
          "metadata": {}
        },
        {
          "output_type": "display_data",
          "data": {
            "text/plain": [
              "<IPython.core.display.Markdown object>"
            ],
            "text/markdown": "\n최근 7일간 '자화전자(033240)' 관련 뉴스: (최대 10개):\n\n1. [AI매매신호특징주 - 셀바스AI 매수, 싸이맥스 매도 - 한국경제](https://news.google.com/rss/articles/CBMiWkFVX3lxTFBDV3VaNGxEZjB5eW5WZjB5NVpPTFcxX2lfazZGNm5vSC12ODgyRjcxbWgtSF9wZ1VpMDNLR1gyeEQ1bHVJbml1RFRNNU9KeU9DTV9NNEFKOUFnQdIBVEFVX3lxTE5uMERZNU9va3I5QVM5RVlUdDhxem8xMjU2WGlRNEFBemZXVlZybnI4YU1rd1oxNmllNGlkZTRQaTd4VVJLTHQ5WXo0QTJ4NDg4VlY5RQ?oc=5)\n\n2. [자화전자. 투자자들이 예상보다 덜 비관적이어서 자화전자(KRX:033240) 주가가 31% 급등했다. - simplywall.st](https://news.google.com/rss/articles/CBMioAFBVV95cUxNSTJuci1STk5qTjdoRXJCaFp2T2JzSGxRM2k3cDBaTDRid3dXQkRlMHI2N01LNG5RbS1nVFVrd2pORldsVmdBMDZqcG5jSW5XdUhSZlpoYk1iSENDVkZ3aEZKa3pHM1kzcEVZcVQ4WXRiSENha2hzWFllSkxwVWJnRVZHODlST1BoZW1WbV9TeUNHZEg2VXEzaXVhX3hXa1FP0gGmAUFVX3lxTFBtMGEtUURzeTJWc3I3a2g1T3hzWU1UQzdhUGZGZ1g1NDJwQzl4Y2dVR3ZXMVZmSVJFdUxqZ0E3Q3A0NjhIVU9iNDl1Ni16S0kzdVpXNXBmYm9LRGYwZlZDOS1aZFJ4OVFUYWFSQUx6cVJ5ZXljYk16dElsRElCenBSeFktaGlmSVduZi1wRnowRm5vblZScVVHdmhNcGNOYXkxZ0NzNmc?oc=5)\n\n3. [자화전자, +1.35% 상승폭 확대 - 조선비즈 - 조선비즈](https://news.google.com/rss/articles/CBMigwFBVV95cUxPRWxWRVA4UGN6UW0yY2JtSXhFTUo0ZVhoZjI2aXRNc3dqVnNKODBDbEpRLWx4d1pjSm9MdTgySDVJNEhCdW9aZFhmanhfT2RoTTBId2FYUDRwMnEza2JnbjBFakFwYnVzUkt6eFpmZ0otQnRXbmNzX2s1QWhYa3BOX0JPONIBlwFBVV95cUxNZVdKLVJBTlQ3dTlucjFRdEZUQWl2dk5JZWpuYWRkVGdjQkRZVW5TY0pHaFhNY2tOeVN6NU5wQ1Jwb2ExaWRJZUJjVnNaaUdjN1V5SjJjU2pTOFMtMjJ6aG5USjFoZUoyRGloUDRUam51ZnJTMnhSdzZYN0JGV1JUelZBU3drdkJqWGVBWTIyZVl1d0VkNFhR?oc=5)\n\n4. [[MK시그널] 자화전자, 전기차용 모터 시장 급성장 전망에 주가 상승세... MK시그널 추천 후 상승률 22.28% 기록 - 매일경제](https://news.google.com/rss/articles/CBMiRkFVX3lxTE9LRzZjS3ZPb1JGU3Z1bUNGaFA4Uk5MOVhDbDRydmJ2U1lvTE0wMHd1elJScmhuem1GNW9hMnFzOVdvYjlaeGc?oc=5)\n\n"
          },
          "metadata": {}
        },
        {
          "output_type": "display_data",
          "data": {
            "text/plain": [
              "<IPython.core.display.Markdown object>"
            ],
            "text/markdown": "\n최근 7일간 '인스코비(006490)' 관련 뉴스: (최대 10개):\n\n1. [[급등주] 인스코비, +27.92% 강세 마감 - 전국매일신문](https://news.google.com/rss/articles/CBMibkFVX3lxTE04V1o3WHQ2Rk9NY054VXBpeFFsYVFraXJqYUJSTHh6bnFtX0h0dEd2dlI1NHJrRlpmRTVXTmc1LWw0THhzd21kenVUbWREbzFTWDRMdE9jXzAxYkVHYzh1aTE5cC14eWlkS21qTzd3?oc=5)\n\n2. [인스코비, 28% 급등…올릭스·안트로젠·강스템바이오텍 등 탈모치료 관련株도 ‘들썩’ - 영남일보](https://news.google.com/rss/articles/CBMia0FVX3lxTE5XX2NBYmx3QWRGSllYY0FWb2JEZG10ZGt6aDFhME9XRndidTE2cHdlMElSN2J0Unh2RWltYklHckU2V2t3SDlKTnFYYVQ2a0VTYXhES3JkbmRRX2E2ZlpBVmo4U1dSZ3JCWXpR?oc=5)\n\n3. [인스코비, 3거래일만에 상한가…1800원선 재돌파 - 이코노뉴스](https://news.google.com/rss/articles/CBMib0FVX3lxTE1ZV3JBUEJaRkVGM1VzNzhVbTlLSUl2bWR4eVByOUZVRkVPandNY1lYUDM1OGNzOVd4V1dWRHlwNktZOThQUmdiWU5LdTZSZndTMXJvbXg3cXpNTlhnV2xneldRaUJzamRzemdqcHMtdw?oc=5)\n\n4. [인스코비 주가 요원지화...건기식 브랜드 '룰더핏' 통해 국내 시장 공략 강화 - 핀포인트뉴스](https://news.google.com/rss/articles/CBMic0FVX3lxTE1NS1RyMGVqNHpDaWxFWmVjeVJUazRPOXpZU0lRbktBZGtId25qdTl3YjZMMm1Od3pOWkwtSzV3SlBadGpoQUQ1V0pjZklvYmZMekd2aVpSTzNNZVVBN1NsTUJjY0NfdWVnMjRsUENuV1R2b2fSAXdBVV95cUxOcHZBWFZpTFZUSEtYZHE0SW92dzlEcF9oenhOVnF4QmVTbExBOEZLTGcyaFNOdEFITXBfVkFTTE91ZFFqUlBSLVBIVnZJU21XVDlkOEZqTXpvaTgwM1hTZmN0WUJPMGZxRUdUU1Z3RUFEcWFqMlktQQ?oc=5)\n\n5. [인스코비, +10.50% VI 발동 - 조선비즈 - 조선비즈](https://news.google.com/rss/articles/CBMigwFBVV95cUxQXzU5NkxPclU2eEMwcGlUanVqRlUzcXlYTmtiMElZRWdDU0dpQlp4QnJSaGZRZ3RyY25NRTJ6Vnd4WmJwelNrcWN1OVpudjExbEstTkJJYS1XLU5HTS1mUTNERnh3bldnVXZiRlZGY3Jid1VDRG53eTlTWlg0R1hDaV9DQdIBlwFBVV95cUxQTElmNGFLVzBMVVFkVWs1S0sya0Zlb1d2VlJVZjVFVzJoeFRORi1GZzVESm8wLWx3VmlKMUtuY3pQTk1BS0Z4UngtZHlmbnNBNmRmYkxiNzBaZl9wVTlfNTR2cmJUcThoeGs3ZTdZRTVZUWpndV93cGkxbUlQazYtU3VpRjVJNlVMamdLRG8xNTJZZDNOR2hR?oc=5)\n\n6. [상승률 상위 50선 - 코스피 - 조선비즈 - 조선비즈](https://news.google.com/rss/articles/CBMigwFBVV95cUxOaERJRVdUcXhDMlZBdlpOejBWVnhoVktnRlMxSDY4emRRRXpDYmRHYjRxZEVSSHZSdU0ta2dLeGNfT0dTazF1b2JRSWRtZl80MERGcGt1MXlZNTY2RE9ta25yUEdvWERPVExVTDZHR1VxV1hiLUFhOXFUeFpZX056WExSMNIBlwFBVV95cUxNTERVWmNEeUlMa1k1eTRCZlp5dDk5a2FJeU42YW5IbE1UaGg3UVBQVTJGaDUxdFMycjVUMF8wSGlwVWtwaDdrOTd4QW5vbGNIdmJYYkJCQVZVT2NkUWRFbW1rZXpWY0JZRk1jZjgxcmdCOW92aF9QbFZNS1c1Q3R1ajBvU0tLMkZfLVg3VHI0WGlKUExZYTBF?oc=5)\n\n7. [오전 11:30 현재 코스피는 44:56으로 매수우위, 매도강세 업종은 통신업(1.28%↑) - 서울경제신문](https://news.google.com/rss/articles/CBMiVkFVX3lxTE16WHcxTDUxenEwZ05YWEVPVzFUOEZmWXRCUk1Rc0VfS1VxX2U5THdTemlyV01uRmxSRnJZOU05aWRGNlkwQWVzVUN3YnJMWGZBOGE2T0JB0gFXQVVfeXFMUFA4d0FvUHByaWlhbmZaejZSRGlZNXdJbHB0MWRhaUR1ekFaUGtKb3BhNnVLRklfZ3Axb2N2OGhaamVuMVlGTTZIVnZtLVFLVTlrNHlIaWJR?oc=5)\n\n"
          },
          "metadata": {}
        },
        {
          "output_type": "display_data",
          "data": {
            "text/plain": [
              "<IPython.core.display.Markdown object>"
            ],
            "text/markdown": "\n최근 7일간 '와이팜(332570)' 관련 뉴스: (최대 10개):\n\n1. [[생생한 주식쇼 생쇼] 지수 급락 속 반등 가능성…와이팜(332570) 자율주행 수혜 기대 - 매일경제TV](https://news.google.com/rss/articles/CBMiaEFVX3lxTE5YNFFSOHBNblZ1eWUxWkozMWEwMjRkdjZNRk10bWhmNWMzY2taNWxIZHpmSEdtbG1zbjhYNjNZVjV3a0VYRGJ1T2tYZ0dkTzdvRlVRektKYmNmVGdrUVNYSlp0dkYxbXkx?oc=5)\n\n2. [와이팜, +4.96% 상승폭 확대 - 조선비즈 - 조선비즈](https://news.google.com/rss/articles/CBMigwFBVV95cUxPZWZWa0lwQVV4cTl0U2dfanVEell1WHdNNkpfX1RUUHhxZzQtX29WcndFcy1sSzV5Mzl1N0lzU080cVdtY2c2aHFMZmlCSFp2M0h3N1hYSkJYUUU3b0NBcm9Ebm9KbkpkcEJoLUVYRnl2SXVUS1l3bEpOa09SaW9LY2V3NNIBlwFBVV95cUxNaDd0aGs2RTlBaTVmWmxxWHhneldfMk56R2xxdzBJWXZFdkVzaS1mWERJR01HODJMNDBjOS02aENMblN0SDdPQU5rb0c5V2NERW1rSUl6ZmZsOTh3dTViUTNvV0RhbTY2UHlYay1HZGtfaFY0YldJelA2bmJuQS05bGJFQVpYWUNySE91U2hybXZPeGRFVkZJ?oc=5)\n\n3. [와이팜, 하락 하루만에 25% 급등…5000원선 회복 - 이코노뉴스](https://news.google.com/rss/articles/CBMib0FVX3lxTE9iclVNSm9NR0NBeEk1eDF3QVJqdUdkdW5VbTJYNTdqcjlIUFg0VkxfUXAyaVEwWGFzbUNYTWtZbzdpX0JsZ2phOHBNeW1SZ25rLUZtUGp4cXd3cFNQUjRZYzdzTGh4amFzcUlwNllObw?oc=5)\n\n4. [[특징주] 와이팜 급등, 왕의 귀환 '갤럭시 S25' 세계 스마트폰 시장 점령할 수 있을까 - 와이드경제](https://news.google.com/rss/articles/CBMibEFVX3lxTE5zZFhFb3NTQ3lCdDAzbWVENTk2V3g1R0VjNndCQmwxZFdDc2RubUw3cFY5LUVlU0JXMmhEMzBHQ3pGQnhIZHItZkdtVEF3MDdCT2RLNjBVU3J5bjFpQzVJUWh5YTdLd3AwLTB6Ng?oc=5)\n\n5. [52주 신고가 - 코스닥 - 조선비즈 - 조선비즈](https://news.google.com/rss/articles/CBMigwFBVV95cUxOZVpjMkpMcmVKM1o4V3dwQldxUWYzM0Q3VjBMVlJDZHJNMmx1WC1SMVItREZuWHNGV0w5eVM3YjB1N251SnZVdFpMclY2MWFyRlotYkZ4N1UxdEl5alBVS3Qza0RtY19vYlFNZEJJdGFzQ095RnA2cGRfT21ybmtuRUlCSdIBlwFBVV95cUxPaXd4Uk96UkJOdVV3Zk9iOF9CTFRhcmpoNXh0R0VxNWdLaHpSb0g2aFhISmJTTXNUdXVTYXBLOGEyZnRhb180Wnl3TDhEWFpsWlZYWjdMd2VDbnNUT0pDd05ReUc0Rl92SUswaHdXaThIMFYwQWVPdmVPVm1faU9zSE5FZnNrellVVDNsQjE2QWphSmJOWGtr?oc=5)\n\n6. [와이팜, 매출 성장과 순이익 흑자 전환···재무제표 분석 - 스타데일리뉴스](https://news.google.com/rss/articles/CBMidEFVX3lxTE9lSUJRWG1zNUp6QzhHU1U1dk55QzdldGRRVHVPcmxrNU1UaG03Z3FDZVlYRkhGLTc2U24wYWg0LWZJbV9lMUJsZXZyM1dybmRJdW9OU3RZb0ZBc0U2UnlKenMxUjJ2YzFCVm4wZkVQYnVPbjJs0gF4QVVfeXFMUGdlanQxUFRTczVTbFhzVVk0RW4yN3RlU09MWmZFQkhZSlNWd3ZqMExiX3Q5SUpRaXpGNFc3aHhQelFiTGxrQkh1Y3dWYm5qWXRVcDZoQWJ5OXhvR2dpVUJpVkNlS1BvelMwUFdPWWpjbWs1dFVsb0tL?oc=5)\n\n"
          },
          "metadata": {}
        },
        {
          "output_type": "display_data",
          "data": {
            "text/plain": [
              "<IPython.core.display.Markdown object>"
            ],
            "text/markdown": "\n최근 7일간 '엑스게이트(356680)' 관련 뉴스: (최대 10개):\n\n1. [엑스게이트, 작년 영업익 35억…전년比 15% ↓ - 아시아경제](https://news.google.com/rss/articles/CBMiYEFVX3lxTFBfV3JtLXJBcFYxNEhKcEI1S3hOaDZIMDc1VWV1bDRFQ0JyOVl2ZjA3OHBCVjFjYTd4U2lwcWJyU1FPNmtVekgtQUNfZUwxYV9hSGNxYzdVRk43ajFiM1NRUA?oc=5)\n\n2. [엑스게이트, 작년 영업이익 35억…전년比 14.9%↓ - 네이트 뉴스](https://news.google.com/rss/articles/CBMiU0FVX3lxTE5DSXdnaGxQbkVuWHdYdEZOeVQ1TWpFaXFLdEZxRkpwNTJ2UHZ4U2w0eFUyUHh4VkhSWnM0emlRV1EtRTV4bkpaOGotazZZa3FSUW13?oc=5)\n\n3. [빌게이츠 \"양자컴퓨터 3~5년 후 상용화\"…엑스게이트 상한가[핫종목] - 뉴스1](https://news.google.com/rss/articles/CBMiX0FVX3lxTE1iRjc4anRFeTM4bVkzRkZ2VjdlVDRsSV9kWnFSMnYtNjUxRzZITm9Hcnd1cm01Rmxta1RYcmZGVnF6QW1OckU5MjJoZk5Dd1UxMGxxLXBRa1M0MnNMYjZZ?oc=5)\n\n4. [엑스게이트, 하락 벗어나 26% 급등…9200원선 회복 - 이코노뉴스](https://news.google.com/rss/articles/CBMib0FVX3lxTFBiYzV3bGRTZ1gxZlhlSHJydDBIdm5zR2JOd040dEg4RVgwMjZwbWRNNmZiMV9hS25PN2FMaENOckhDMDg4Nk9EZUVXRWpIaGNJVTlTQ0hfOVhjaTUxelJucGtmSHZaREhOdzJWV0xUcw?oc=5)\n\n5. [[특징주] \"양자컴퓨터 진짜 된다고?\"…엑스게이트 상한가 - 디지털타임스](https://news.google.com/rss/articles/CBMid0FVX3lxTE1XVm1FbmI4TWpaRDVmaURncUh5dWtLSGJCV3JXbU9DRnYxR282ekNmV1lmSldXMVVhYVEtdDZmR0dzLXppUEttdWdBRFM4TVFlaXdvaFRnRlhxd0ZSWmJwTEhEQ3VVSHZFQnhUS0Jma1VncXd4ckNr?oc=5)\n\n6. [엑스게이트·케이씨에스·코위버·한국첨단소재 등 양자암호株 ‘껑충’ - 영남일보](https://news.google.com/rss/articles/CBMia0FVX3lxTFBjdXFnVVZCd3pYTC11OUFMZ094YjJhbkI5U0JvUjZDcWFoa0lsa2lsS09yVEJIR216SmRPLVVjb181TTNFT2YzLWpCZVFCNU8tZDZnaFhVTnBLVkVLTTYxNUNNb2VGUFY1eEM0?oc=5)\n\n7. [[강세 토픽] IT 보안 테마, 엑스게이트 +30.00%, 아톤 +11.73% - 조선비즈 - 조선비즈](https://news.google.com/rss/articles/CBMigwFBVV95cUxQZU51dUVXaWtkaDByd0ltdS1KVDlaMkdTdXRCRUdrcER0QVJTTkhzNWhKa2c0LV82b3FodTduTWFxVWV5MkZFdllFLUpYZ01mZXd6eW9kWHF2bXdXTlhIYW5aZE14dzZFREhHLXY5d1c1ZGN6eWZELXhIeWNtMTZ1eVA5b9IBlwFBVV95cUxNQkszM1plSlVXTHUxRC1MVmprZTRqR2JrMVlNZFBJcmJCOWRYZlg5TVloUjZnc1pBOWxZa08yZW5vUjhGdWk4SHJQUEVfOWNkNVR2WXB1aUplZXk5RjI0elpPLU9HWGhoS25iSC02MjZBMHJ3ZkpaZlRpUnJBU0VGMXBWQXlja1BwamIyUTVDUTVsTnlyeWF3?oc=5)\n\n8. [엑스게이트, 상한가 진입.. +30.00% ↑ - 서울경제신문](https://news.google.com/rss/articles/CBMiVkFVX3lxTE52X2lUM2V4QVJXU0pwYW9oM25WRTRtdnVvSHFkM1p2ODJUdmt5R0NKR2xZNktWVzhZcVpTbGQycDItZExfV0pmQ21YcmFGX3pKMTFKRndB?oc=5)\n\n9. [\"양자컴퓨터 관련주 춤 춘다\"...엑스게이트 주가 28%대 '상한가' 근접 - 국제뉴스](https://news.google.com/rss/articles/CBMibkFVX3lxTE9Ib0c5bVdwVUdseDVIT3FjX0VnU2hPTmlUdHlib2tEMHFDSmk3SHlvRW1TTVliOHBvdHhuYW5NTzVXWW5XcUtIcDhDRVU4SXlwOHVVc19YVnFfQVEyMnJHYzcwbmFQUl9RcTZobkNn?oc=5)\n\n10. [[오늘의 급등주] 양자컴株 엑스게이트빌, 게이츠 “3~5년 내 상용화” 발언에 20%대 급등 - 동아일보](https://news.google.com/rss/articles/CBMibEFVX3lxTFBsalRnbnF2ZmhjU0RjRkJ1ZWhPWU96cnRjVDdmVHMwRldfbl81aWtlTkpvai1LQUFfa2JING9odVRIRzlXaWxtaWdjVHBVNl8wdW9tWFNrM2tYaFVwQkpsVEx0LXpYU1diWG5VcdIBZkFVX3lxTE1hTWFNcHNxNEdOWUxQR3ZVemw3MThiWW5Pd28wUmZMYUZyWUxQa21SaEpIeDZKYXRIaVJQQlZuZGg1UnMxUWhmMkh2VXdwQkpuNlJvRzBKY3g4ZUJacDhrTXlDVjZPZw?oc=5)\n\n"
          },
          "metadata": {}
        },
        {
          "output_type": "display_data",
          "data": {
            "text/plain": [
              "<IPython.core.display.Markdown object>"
            ],
            "text/markdown": "\n최근 7일간 '피앤에스미캐닉스(460940)' 관련 뉴스: (최대 10개):\n\n1. [[로봇사업 기대株] 피앤에스미캐닉스, 사우디·멕시코 진출 본격화 - 딜사이트](https://news.google.com/rss/articles/CBMiT0FVX3lxTFAtTzV5Ri1ZS3VncGNpSXU4cEJxd1hxeGxzYUdtS1h3d2w4Y09hTHJhTWQyTkJ2ejFOMW5NQXVQNHF0eXJId0h4dVlMZmVpaEE?oc=5)\n\n2. [피앤에스미캐닉스 주가 함박웃음... '워크라이트' 기존 재활 로봇 한계 극복 가능성 - 핀포인트뉴스](https://news.google.com/rss/articles/CBMic0FVX3lxTE5PSUhUODZmZHVuRFdrZjRmbzllb2t6QnpEb2o2bWJLY2dnUE1sbXN0aG5aRUV6MlI4bU1FZVlUNURlNE1RdFJPWjMxRC1CSG9ibVItcWNFTm5mS3NoVlkxQWpDbTVQQ1p1QVVRb0tXUnpjVkU?oc=5)\n\n3. [피앤에스미캐닉스, +12.23% VI 발동 - 조선비즈 - 조선비즈](https://news.google.com/rss/articles/CBMigwFBVV95cUxQdWs0V1E4TVREZzBtUXpEekxSLWkwei15SGQ0Q2Rqb09BNTVfd3NkbmhqeEZTWFFFVXlKTHlxNlh1cEdnUFVvNjFzRm5GWVF5dmRVVXh5U2Q4M3FSUU5aWEoxVW1OYXh6V1RSam9QRUpzS3lsNWktd0JKNTIyczNTN3pLNNIBlwFBVV95cUxOb3p6cFEwS1NIcEU3WUw0TUVUQjQ5anpaem9hNVBXVlVyOEpnT2xNU0g0R3dIVzE2QnJ5LXBUenhSSUhrczFMblZOa2lOcTZ2Rkxsc3NCRFJEekxtVjloQlUtUTE1dEVVUDN1YkpuMzNJenpHVmNzTDJkTjVrc0FMNC1PZjVabUVvQlVsdEF1SXY2S3o3NG4w?oc=5)\n\n4. [특징주, 피앤에스미캐닉스-지능형로봇/인공지능(AI) 테마 상승세에 5.25% ↑ - MK빌리어드뉴스](https://news.google.com/rss/articles/CBMiU0FVX3lxTFByNlM3TnhPZG9pSEV3eHA2ZDZqNU9TM3JFT18wYWZkVUZmbmxtZjA3MVE1d2pJb1VuNXJ5M1c4MHdGRi1tNGsyMGttdjRIemFIaC1r?oc=5)\n\n5. [[오늘의 증시리포트] 일진하이솔루스·피앤에스미캐닉스·대덕전자 등 - 이투데이](https://news.google.com/rss/articles/CBMiVEFVX3lxTE5zTHduZmZocHVtYW5zTVhWSGNyZHlMT0VmZThCcGpnVzhyaHNPXzFvMmx5NnZUWGRLZFVfMnZzVDAyQmloV2U0NURzbHZaTlJNdWZDQg?oc=5)\n\n6. [피앤에스미캐닉스 주가 들썩...휴머노이드 로봇 기술력 바탕 글로벌 시장 공략 박차 - 핀포인트뉴스](https://news.google.com/rss/articles/CBMic0FVX3lxTE5la1JuV0NmeXlPWGJkM3pvZ01xNHFSa3NMc0xFRW1pUHJ2NXlibURFeFBQZDRlMkdjc1JwT1FDY2dFODlLR290cG5CQkV4WDBLYWRHRFdCc2FEUTIyUzdQRnVaNGRtMHFXQnpNX1NTY091RHfSAXdBVV95cUxOb0ZTUjFoUGlOMjA3QlNURmZYTGxPQWVzWGhwakJFVGhRQVlwaWZiTFVOa2ZCYXZUU0Etc2FsdnBiTTlvR0tzRUFTZnMwQ2Rnb0pXZlktQWNBaWo1R2MteXQ0cEVKVWhyTFdwS214d2FuUm9tbmFJZw?oc=5)\n\n"
          },
          "metadata": {}
        },
        {
          "output_type": "display_data",
          "data": {
            "text/plain": [
              "<IPython.core.display.Markdown object>"
            ],
            "text/markdown": "\n최근 7일간 '카카오(035720)' 관련 뉴스: (최대 10개):\n\n1. [카카오, '카나나'에 오픈AI 최신 기술 가져다 쓴다 - ZD넷 코리아](https://news.google.com/rss/articles/CBMiVkFVX3lxTE5xUjZFVXdEejRTU3Y4LTNDU2RMNEVEVmpkRE5RM1RIZUlhZzdCSTlwZ1JhR3RzQTNTbUxNbDJOR0h3M1FJWElaUTZ5OENtb1pVcG16YjB3?oc=5)\n\n2. [[오늘의 급등주] 카카오페이, 연내 흑자전환 전망에 주가 3만 원대 안착 - 동아일보](https://news.google.com/rss/articles/CBMickFVX3lxTFB5cmpHVW5FZjlmZ29nTHBWdHlyM0dKeWozUGFPcDEyUGJjblc5NHVLQi1OYVZoLVdtOWk2TjZxczRIN2pOSlZrYjR0TzBWb1RFN3Rzd3hPbmpFQmY0R0g5UlMxSGg1MWVkNWM5OGYxelh4QdIBZkFVX3lxTE9nLU5WcVEzNkJjbXYxd1dwQkI1dENyU2NBeEdSdGRQS090WEM1VnY4N3A1QzJZd2tNMkxiWFVjX05CLVRJOXR3QnBHa254Nnloc28zdTFJbzBGXzFaN0JyM3JzaGw4UQ?oc=5)\n\n3. [[특징주] 카카오페이, 지난해 4분기 호실적에 10%대 상승세 - 이투데이](https://news.google.com/rss/articles/CBMiVEFVX3lxTFBQWGxORV81NEJpNThIaFczWl9CWDRQQW1TV3dXOFJXeE02akZCcG45ZVhaTDdTWWRmNWxLbjl5SWVuQ2ktUzhBT05pM28zY0Y5ZW8ySA?oc=5)\n\n4. [카카오페이, 올해 흑자전환 전망에 10%대 급등 - 한국경제](https://news.google.com/rss/articles/CBMiWkFVX3lxTE5aRzRaWXFzczJUNHRRQThXWnBVbHNyVmN1Z0tzRzJ6WFJWYVdwNVN3X3pxN1dzbEwyOTVBcWxSRjMzUVhPeEZscEpaX1VlRU1HR2haT1dINVViZ9IBVEFVX3lxTE5ENW5zQzE2cEp3UmRWQk15cVhkN2tNZDV1RGhfRjlHSDJxRlVENmpsYWtKTWxPY1lMMU5PU0N2dkp0YlFZM3hTUU1XM001T1M1SnJNVA?oc=5)\n\n5. [카카오 “딥시크 쓰지 마”…커지는 중국 AI 견제 - 한겨레](https://news.google.com/rss/articles/CBMiYEFVX3lxTE9NTUxqQjk0N3ZROTFvM3QwaV96SGNFeUczVjh2alYzYllzdFNBZTk5WXItMWZWeWFZWUpibWthYW9mX2tYa093a1RWYTBOTWdlMVFxb2dpcWp2LXdDNUFzZA?oc=5)\n\n6. [카카오·라인야후 등 '딥시크 금지령'…보안 우려 확산 - 연합뉴스TV](https://news.google.com/rss/articles/CBMiZ0FVX3lxTE91SWk2d2M3aW0tTTJydFllT1hwVTRETFB6Rlc3Z2Y3RlRiQ0lzYVFyeWlJWllXb2NVZ1hjdGJld3FibzcySDB4UG1ka0JFenVCNlRObGRtU05zTnhRcWUtaENycEhLeFk?oc=5)\n\n7. [외교·국방·산업부, 딥시크 차단...카카오·LG유플러스는 사용 금지령 - 조선일보](https://news.google.com/rss/articles/CBMiekFVX3lxTE95dUNEa09td1pYVnppcXFUV2FmN3Q3aUVVeHpKb2NlNFlyX2ZfTFNkRjFfQ1Y0Q3dYTlRsQk45SHlIMHA3eDljS2VzQ2NQYmJCckRwNEdrNmN1bU5QdVJqS0pPTzhRbXZsZEpWckVJYXRTSUZnZ0c5TmZ30gGOAUFVX3lxTFBWSmtzWWtnN2pVOUJoMWoyR3h0UkpUX1N0WjVac0J1X05ZeV85NkdIeENfODk5WjJuYlM5VGVjN3JIY2hCRktCeXJwRXN1dWRCNEM5d0xwMng2LUx4X25UeFk0YlUwNGxuTEF2cGV5TUZ1QUpaMGtPS2I3Z3NpOTFwakdjcTRYQUtPSFNDaHc?oc=5)\n\n8. [외국인은 네이버, 개인은 카카오…주식투자 수익률 승부는? - 매일경제](https://news.google.com/rss/articles/CBMiT0FVX3lxTFA4ek9UTG5fNF82M1RsSi1pVWlsOVQxZ2JvMFVRUXNaZUtWSWtTSG1iMnc0bnp0MGVGY2d1ZHZBaFF5VXFGVW9BRVhyOFZoN3M?oc=5)\n\n9. [카카오뱅크 작년 순이익 또 24% 뛰었다, 윤호영 은행권 장수 CEO 계보 잇나 - 비즈니스포스트](https://news.google.com/rss/articles/CBMic0FVX3lxTFBXT0FJY1puRnFZbVpYdm56UnRRa3BDTk93WFpFWXBObXJFTEpHWXE5TnQyT05sa29uakFzVG1HNENGdXdLcjlkN2R2TldpR0FSQVBuVjhTMldYRXc5Z1pQdWp5OHBRZkdadlNGQ3JLcjY3UnM?oc=5)\n\n10. [오픈AI와 손 잡은 카카오, 주가 '고공행진'...\"업종 내 사업적 우위 기대\" - 오피니언뉴스](https://news.google.com/rss/articles/CBMickFVX3lxTFB2bWViRmxaVUZEUDJvNGlhNGM1cXJHZm5lMkc3c0NQbDV1Q3pwVEVScGpsSFVzRlFPUU0tdk1lWVkyN3V5eDFkN19FdjgybkpnNnB4NHl6WmJMR3NMd1p2VV9seW5PSlpkT3Z1TEs4UUMxQQ?oc=5)\n\n"
          },
          "metadata": {}
        },
        {
          "output_type": "display_data",
          "data": {
            "text/plain": [
              "<IPython.core.display.Markdown object>"
            ],
            "text/markdown": "\n최근 7일간 '아이케이세미콘(149010)' 관련 뉴스: (최대 10개):\n\n"
          },
          "metadata": {}
        },
        {
          "output_type": "display_data",
          "data": {
            "text/plain": [
              "<IPython.core.display.Markdown object>"
            ],
            "text/markdown": "\n최근 7일간 '코어라인소프트(384470)' 관련 뉴스: (최대 10개):\n\n1. [코어라인소프트, AI 기술 기반 글로벌 원격진단 시장 공략 속도 - 뉴스핌](https://news.google.com/rss/articles/CBMiXEFVX3lxTFBCR0g4cXh6bWd6WE1SdUpCckhxb3FmWS1mZVd1eEFkV2Qxckl1c2pMdHdFRWVPWTBoclZ2dUFwR0ExcG4xdlFLbTg2aHp1VTRad2lhXzVKWlVtLS010gFeQVVfeXFMTndSNnRReU9EVVlqa0IxdW05V1dyYUoxU0V3cHVLS2JFWVhjUDNTR1FMUC1Yei1mQkQzWjlLTDVaSGNyenFjemM2Z0plSEh1OW5hYk9uWGtNVXhsZ3Nfdw?oc=5)\n\n2. [[생생한 주식쇼 생쇼] AI 의료·신약 개발 강세…코어라인소프트 (384470) 신규 편입 - 매일경제TV](https://news.google.com/rss/articles/CBMiaEFVX3lxTE9Bd241eEptbTVTUVkyUVQxNUZJVmMwMGRsa1hmdmtFbl96OEx0bldUR0cwRDdhR2JLelEyVEJHQ0JfZEVscEdwVFhFaEY1MG9mTHpGeWo2WUt5YnpqNnJ3c2ZBRUpzOWli?oc=5)\n\n3. [코어라인소프트, AI 원격진단 시장 공략 가속화 - AI타임스](https://news.google.com/rss/articles/CBMiakFVX3lxTE5TQktNS2JYQ25rTWVLdWJ1QW84N3owQjJ6eTc0d0E3YmdfX1B2ODhDZTVlR05PX0dTVE42RjJSd3FaTjg5QnZiMHFyblVVQkVhdHpRTFFidWdyR1RnN1lsYnUyU0tKLVVueWc?oc=5)\n\n4. [코어라인소프트, +1.65% 상승폭 확대 - 조선비즈 - 조선비즈](https://news.google.com/rss/articles/CBMigwFBVV95cUxPTEtCM3NrR05pTDBIcktvbmpQLVMwSldjczEwTzdDREdmcEJHMnptVXFqV0J3SFIwejBkeW9HYU56SFRObFl3SUZGR3kwMTh4dkpKc2d1c0t1Q3BhbGsxQ0swaVJiMUJDRlZVcDNEZjNrRk8zWmlmTEVhc01kLUxuM2FCd9IBlwFBVV95cUxPZmZONm1HR29hSHBhWXJ6bEctV1FQNDFPRDNKR0Y3VFM5azFIb1pta09DX0FSSHdyRXNrS0NMRERjV3U0SzhCb3FZYm0wclhCRFpWVU9IM0wzd3NVNC1IdEhkUU9USUhsUDRheTlUUk5vYzVFNWhHbEhUWUdLQ25KNWxLM24ya2lzMjJvTGpoeU91Sy1ocUMw?oc=5)\n\n5. [코어라인소프트 “글로벌 원격진단 시장 공략 가속화” - 라포르시안](https://news.google.com/rss/articles/CBMibkFVX3lxTE5WVlkyQjd5S1ZDTU1ZcG44ZTh4RmVTV1VORW53XzdoM1lrSHhkTy1TM2tLTURQeno5RXV6WU9CNUV4Y1RfRzN2VTVCREhiYm10aEVKVHpKcGJoT1V0ZUFhRUNZRWFqSUhPU2JDRzZB?oc=5)\n\n6. [코어라인소프트, 원격진단 시장 공략 가속화 - 의학신문](https://news.google.com/rss/articles/CBMiaEFVX3lxTFB6cnNwZXNHLXh3NGZudE9sRnFrWVcwUTRDclFyYUZsTkxIVnhuT25sRWhwWVR2M1lQVnNBTEZYTFhESGZRY2o4YnVmUkx0Uk0zM1ZqbW80bGUxX3lJWTBUblUtZ1pscHN2?oc=5)\n\n7. [[단독]김진국 코어라인소프트 대표 \"호주 1위 헬스케어社와 협업...글로벌 시장 공략\" - 팜이데일리](https://news.google.com/rss/articles/CBMibkFVX3lxTE1kUV85Y1c3ZUNrNWJCU19jbS1GY05UM3JBNVlETENHajhTdXJwb1RtMV9acTR0RmhDbzU2R1BjaWxiZmt5Nzc5elJ1RGhmY0s1U1VJdVprWmlrdm93RUtMcV9aY2o1RmZfYjBsNlRR?oc=5)\n\n8. [코어라인소프트, AI 기반 글로벌 원격진단 시장 공략 박차 - 더에이아이(THE AI)](https://news.google.com/rss/articles/CBMiakFVX3lxTE02QWtuQjJ2MWpXRC15X1RhaUVnc3BSaS0xNWU0NWU3UWhILVpBbGs2LXhzcm45emp1WUY2ZGpjQzJHTXBFbGRscUJmaDdmNWJvRmdQQXVSMS1aMm1yMVE0LWxOV0tQUjVLRXfSAW5BVV95cUxNXzM0NnR0SG5FYWN6VkJNTElQa1g3YjNxRXY1NFJtUUFpZjlxTHRwRlJFc2dkTnNSRzk3WERzeU5QdFBiYzRpWUN6SFVWdmpXejF2V3NoS3pWanJ4V0dYQmVWVFZJNmNuaktCX1gwdw?oc=5)\n\n9. [코어라인소프트, AI 원격진단 세계 정복 나서다- FDA, CE 등 해외 인증 다수 보유 - Korea IT Times](https://news.google.com/rss/articles/CBMicEFVX3lxTE5oSHgwTXJBOXBTVzlaVWpSN0VLTVowN2d5Y2tMMmFZdGFEQ2gwSXpUX2Ewd0cxWWplQzM5aXdQRzdJMTdsSVJldWpSMU41X0VIWTVjWDhJbTNEYWVZLWM4eXVQNjlZZlRxcG9fY0dfRUQ?oc=5)\n\n10. [코어라인소프트, AI기술 기반 글로벌 원격진단 시장 공략 - 동양뉴스](https://news.google.com/rss/articles/CBMiYEFVX3lxTE9McmpyLUJWZlpBQ1o1dW1pZm9rbnQ0SnVvaEJGckNqbFlLV0NWZGRCalhCMEdNZkYzbDR4NEdkRXN2MzRzYUpsNU4wOW9meFM1bVdvTlBLX3hxZDNXczloUQ?oc=5)\n\n"
          },
          "metadata": {}
        },
        {
          "output_type": "display_data",
          "data": {
            "text/plain": [
              "<IPython.core.display.Markdown object>"
            ],
            "text/markdown": "\n최근 7일간 '디티앤씨알오(383930)' 관련 뉴스: (최대 10개):\n\n1. [디티앤씨알오, 올해 약동력학센터 가동 눈앞…글로벌 시장 공략 속도 - 네이트 뉴스](https://news.google.com/rss/articles/CBMiU0FVX3lxTE00TVJocy1Hem54WDJYM2xJUWRHcmNrLVN2blZWdFpYZDFyNWFmVVQxUmhzQXF2OWRhSU4zZHM2bUJSMGlZX0x4eHNHS05DUGFTd1Vn?oc=5)\n\n2. [[강세 토픽] CRO(임상시험수탁기관) 테마, 디티앤씨알오 +5.78%, 현대ADM +5.65% - 조선비즈 - 조선비즈](https://news.google.com/rss/articles/CBMigwFBVV95cUxQQjkzLXJvalhCMC1rSTlkQWpXTmxoVW4tTlF3N2I0bVRjZmhERmNTa1hZdFVTM3hPdEZyRHg2UnJISXpiZ1NwU09vMnZZTlhycldWbXZzWF94VEZSQ2I0MlRSN1NucUZickl6Q0t0QmV3YlN1UmRHWjFQWXBxX2g2bWx5Z9IBlwFBVV95cUxQcTZpclVBT0lsR3pPNW5uUEphQkZQYXNVTUhzQi1WSFBzZUR2ZUtrcks0cXpJU0dMVWVCd3JxTXBiTWJxcE1nYzZZLVhiSy1PZk9jeU1EaF9KbzFNMjhFY2pEQ1R0V1UydUFJUW9SMFpqZ0Q0VTdyY2xyb2tBdGs2U0tYZ2hQZFU1MFBDUm80a1BFNXh6YVQw?oc=5)\n\n3. [디티앤씨알오, 올해 약동력학센터 가동 눈앞…글로벌 시장 공략 속도 - 머니투데이](https://news.google.com/rss/articles/CBMibkFVX3lxTE0tYTNra1F0R1FVUG81N204UkI5Z2ZMek9rX196aGQtREZfTEpJWmg1ODhzT2h5YkhpX2VLSzNQT1dLSm9aQXF1dk52MFJSb3JJUDQ5c3E0MFVUYmhwUGdiUm1aYV9SdDNsRklzZHdR0gFuQVVfeXFMTlpYSnllUnlRSkNJNmRzQ0JyOWZBVVQ2X0xSeGNDdk5yREZBbnVrWFl1SDFtRF9XNUp6WEVRUFdNZ0Y0bjJVbzNDakZ3UGEyVFVSTGZFb2ZNOWQxZ0NKWjRiZW83QnV5bFo3a2s0TGc?oc=5)\n\n4. [디티앤씨알오, +11.31% VI 발동 - 조선비즈 - 조선비즈](https://news.google.com/rss/articles/CBMigwFBVV95cUxPLWlELWpVb0lYcjFOOWNlVWF6NFZjSVg3elQzd1BvS1U4LTA5ekczQjBMTi02ZXRLazVldW91ZGFINmdaaGZWV1YzWnlqV2VVQVRmM05NaFk0clVhWFlWdWczaEVhU0MzUThvbHB2Mmk1SEU1WDFJV1VVM1YzM01SQXd0Z9IBlwFBVV95cUxOb1pGWEhYSXhmeHNqOXN1Y1pxTnNnQnlFcGYySUpkU2xsdEhuRzB5MU5kQW5iYVNfZzF5bmNHTnRyd1ZLNG5WQ25OajBKM3BRWEpWOUlDc1Vlem1fd0Y5Rk9rUm9ua1JSdVI0aDZlUTlGWFhkTV9JaF9tWWJvaDlYcUFQNXl6TlExb0M3MHBfaXVVd3lrWTln?oc=5)\n\n5. [[특징주] 디티앤씨알오 주가 급등, '尹 집행정지 찬성' 발언에 한동훈 테마주 부각 - MSN](https://news.google.com/rss/articles/CBMi9ARBVV95cUxNTzFlNWt0Z3BOVUVhaTNlXy1EQ3VuS3BsNWZVS2QyaG4zeVV0UGhqdWhkTnV3UWtvYUZlY0hBeVJqbU1ZR1ZDZGl0RXlwQnFhMjdVdlY0Z1hQbWVGV3V2ZVBoR0dQMWRPYW9oY2lkbDRnQUZFdVRYVHRYNERYSm1STmk3cm8tTVV1TUYzYVhUcU1VbkRDbmRxWmVBQTVIQjV6Rkd1WDN4TVFQblpVVENkQlRjdGZXeElkM292bEtobkZrVnMxRnVEa1ZqbURpVHBmWEticzUtTFdKdGxMcEdXMXRuQTRIdVJIOHV1RWd5NDJxZV9YU1dxVkNvV1NtNm11M1NxQ2JKcjV5RkhVMEFwQk1zeGpaWkxlekp1eWxqRmxxVXFWdk9ZbUlLVGdmc0p3VUd0YkVqWU4ybVRCOUtiM1ROMV9MelFzSzRhUEhsamc1NmozX0MwUkh3V1pkZGRvcmN1Z01BSXdZNHhZNmo2M18zZVNlOTJQUmNhNEdkRXByQU9heV9rcmNac09LdkVNS2FfdHpEWF9nY3V1Q3lJd1BoM0hGbVR6NHkyb1JEeXluZE8zbWZFMFFNQ1RTVWl1SVRuN2VBNWN2cENiZWd5NURDdFU1bDlHOVB6MWV3N3FUZVE0b0VfQzFtVnhPcmxEY19rR0xMNFVUV0pTYVI3M1FIal9sdkRMRy1qSWZjR3JWODRFYlpQMGpkMF8ySmtQbzVnalMzbm5pWDhqRlB3c0dwRHZYVjc4NWhadUI0Q3FITXp0ODk5LXRsZWw0QUZ3Y3VueGM1Vm11aEdmY0tPTnQ2bXVzQm4zdnZxTnVaX1lZZXYx?oc=5)\n\n"
          },
          "metadata": {}
        },
        {
          "output_type": "display_data",
          "data": {
            "text/plain": [
              "<IPython.core.display.Markdown object>"
            ],
            "text/markdown": "\n최근 7일간 '브레인즈컴퍼니(099390)' 관련 뉴스: (최대 10개):\n\n1. [브레인즈컴퍼니, +12.01% VI 발동 - 조선비즈 - 조선비즈](https://news.google.com/rss/articles/CBMigwFBVV95cUxNLWtaUUJWVy1aWXlzaUk5MzEwd0FDS3hlV1M4R0FzNlBsS1JSMVZLNURkcUZmb3c5M1F5UGduVEFiM0hnRVlabXpTYnIwNlBidUJWb3J5TmFVODZrb2ZORmh0WVlWT010T25Zc2ptVHBlQWRBOTUtYTctM19MNE4yb200VdIBlwFBVV95cUxQS3M4eFlGWlhUa1JyV1VmQUE0Nk96RjMweloxQVUzSlJEWUdlbGZvSlZBdkU3cFJhbElSM1ZSTmRuNTR6RVpJSG16MDhPbnRjd1ZGbzFOMnE1ZGtHUjZOMUxUejRydEVpOE9LNjU1UGdDNUNHa1FzNVFlZHlIWmtRYjN5X0JHVjdtWUhoNzk2UTR0c1BhV3VN?oc=5)\n\n2. [브레인즈컴퍼니, 주가와 거래량 모두 강세... 최근 5거래일 최고 거래량 돌파 - 조세금융신문](https://news.google.com/rss/articles/CBMiY0FVX3lxTE5NdFBSY1hGemZfWUo3clUtQ1pteVMxcXl3YzVpSk0xdFZQVzZTUnZyeXExeTdZa0VlQTNzUFFkaF9lZlVvdDd3YzNyUkdsdE5jR01fUHZnY21BMUtPOGJMZlZ6cw?oc=5)\n\n3. [특징주, 브레인즈컴퍼니-AI 챗봇(챗GPT 등) 테마 상승세에 5.35% ↑ - 매일경제](https://news.google.com/rss/articles/CBMiUkFVX3lxTE05Rk5LclMwLUl4b2NMU1hVNnR0ZmcxXzBFVEV3WTAxUlZpQ0hmb29ZNGMzRVpuRm0zZXhlazF0ZTRmXzNKNWlOWk9OREZkY2tJemc?oc=5)\n\n4. [브레인즈컴퍼니, +9.01% 상승폭 확대 - 조선비즈 - 조선비즈](https://news.google.com/rss/articles/CBMigwFBVV95cUxPS09xZFFOMEhmY3ZFdklCblZUV1pVY016QWRBSjJScHRZZDFxREI4dE1YZzBWWnJUYkFOMUhfQnNwZnpFSDc1dFV6MWl3WlRiTzE5Ni1pZzRqR3JmX05iM0RpWm9ZcEM5U1BLUTJsQXFNWnd3MkdzaF85OTlDNWVEYXdETdIBlwFBVV95cUxOZFN0U3c3RU1PUkRFZmtRYnpEN2RmT1hDVFAtZmE5cWozRkZ2cnNJcHczdUcwQXYtaGtqdjk2NXI1a1NvbGNrMXBUN2Q2aUhrTnlMazFBQVg1Z2JGNGUzME10NjBOQXp6MUdOYUZlbUhnMDd5dDg4eWdlRFhQQkVBWGJ2QXZ5N0ZLTmF5cWs3ano3Z3lIYkdj?oc=5)\n\n5. [특징주, 브레인즈컴퍼니-AI 챗봇(챗GPT 등) 테마 상승세에 6.89% ↑ - MK빌리어드뉴스](https://news.google.com/rss/articles/CBMiU0FVX3lxTE9Qc0c4SklTYkhCRXBCY3pNcUJ1S2JLZFNOZnA4OUhjMEdQa0xIMUxFLXVrRVp0OTBOSExkdDN1WXkzaklTczNIVFdNUVVzWWZCVS13?oc=5)\n\n6. [브레인즈컴퍼니, +11.21% VI 발동 - 조선비즈 - 조선비즈](https://news.google.com/rss/articles/CBMigwFBVV95cUxQRHBMUFFzc1JqR09aQ18tOUh4ZnB1aW5SdDVzVmlTeWY2MV9xZVJCd3lqTkMyTl9yZ0U5RjhJN3d3VkZ6U1doYk0yLVhfUFBuUnJPN1d5cjM5LTNiUU1oU3JiZVZrUmREN1pLZTFYcFAwNEh5bDRrbF8zVTlwbUFNODZETdIBlwFBVV95cUxPR0lKMFZ4YVRzN3c0RDhYdm0wU01FYkdkNUc2X0xUbFBkY0toNVp3LUN6WFVnNlJ1ZjVCZXBBblMwaHpjbllTNnRnaTZSelNmWDdUa3JXajdvMW5BbWNmWWJlWFB1dFY5Vnd5eFotMG5neGtfVzRGNW5pNUxObnZ4UnhUUzJOaWFFbWl4MmNxUEh4QS1zM1dF?oc=5)\n\n7. [브레인즈컴퍼니, +6.99% 상승폭 확대 - 조선비즈 - 조선비즈](https://news.google.com/rss/articles/CBMigwFBVV95cUxNX21WT3EyZ3BIaGhYVm5oZFVpcGFfa1VZdXdDczNCV0V4V0JyUnVMYnNGdjJhRXhfU1BYQWtVQXk1b3FLRjhBOGRCQzNiYld3c2FPenNvQlJCUXlRNmFKWXF2VDNBbGdXU1lfVmNVbXNJVzNaLVhKMzh2bEZIWGlCVFVEZ9IBlwFBVV95cUxOc19hYS1iY3pGbDhZZGJKY2NuOHBERWtEM1FpQXFtcjdUVnc0bmd1OC1QVzR5d1NyeXh5bnhtZmVlcUdPYUVobGRxTFVxM0hlNkV5VEpYb3ZlZVRIbXYyazRlRUY0bnNnaFJGQVYzVWhTYlJqZHJaRmpKRHNDal9nNGNQTkI2Njd5eEFybzZ2NTk2UnR0NlNJ?oc=5)\n\n8. [브레인즈컴퍼니, +9.90% VI 발동 - 조선비즈 - 조선비즈](https://news.google.com/rss/articles/CBMigwFBVV95cUxQczBGUi12Ynk0Y0xEVnlwaUE5Y05tRzRaVnFEN0E1b25JUmJCS0xJb3hjM2lSaEh3THdGOU94Tl9jVGZFNndSdVI1d0lkdS1GUTFDSkZFekFSWlZQYXp0SkMzbVZyR0pIVDdBOUdzNXVYcnBiR3RNMFROeGctSVNJbVdNVdIBlwFBVV95cUxOMDdSWnhtdlFKOWM0NVZJSWhQTklCS1UwdllxcjVOYkpOdkl0UzJjVkpKNHh0bUVJMlllSTlSeS1lbmNUMDQ5Q2FEZ2VzWU03Y3JDSFM2UUtFZWZjanMyY3lfYnhIOWxGVkhHdUFGb1h0ejRlQXJId05vM1ZsaDdTMEY2VEV6LVlEU0RjUFlIdVV0R2E0bWw0?oc=5)\n\n9. [브레인즈컴퍼니, +12.48% 상승폭 확대 - 조선비즈 - 조선비즈](https://news.google.com/rss/articles/CBMigwFBVV95cUxNSjM0Nk52MFoydUFqbk1PazJfWTZpWFoybDlQX2I0UmtqaFdXcUsxTE1xTXNmdXpHdnc1anU3V0VNM3NBcGhSSDJWT3dabHhUREtHdlAzRUlxdll3T2pPdGNHQ2lJeHRKN3VSVFlITUQ2RWYzR0plNFluTDRPeTJRVDJmNNIBlwFBVV95cUxQcXJaLWNXc0ZrX2tOZmExdzJpWEx3U05YbVZrbmVNSXdjN0h2M21FdlZZVXhER2o1OU1IMWtkVU9xTVJFbExGTWhQRVNlVmptc0RNcFFMYkhLRlR1WERuSzNsLUZlYUxlMXo3NzhWdml2eDZJUUZaTXRiZVVSSEk0R0JIZy1DY1E3c1VmUURLbEdlTGFTemow?oc=5)\n\n"
          },
          "metadata": {}
        },
        {
          "output_type": "display_data",
          "data": {
            "text/plain": [
              "<IPython.core.display.Markdown object>"
            ],
            "text/markdown": "\n최근 7일간 '이스트소프트(047560)' 관련 뉴스: (최대 10개):\n\n1. [[강세 토픽] 딥페이크 테마, 알체라 +7.59%, 이스트소프트 +7.39% - 조선비즈 - 조선비즈](https://news.google.com/rss/articles/CBMigwFBVV95cUxOWWRCemdzVE9xY1JmWnVxM3pSLWl2RHhNbTZkbVlveXJUS2NHRW56M1NGRWpYWnVDMXJEODMzVWZ1X3J6djJVUDRnb3RJRS1Wd1BUUng1aTR4dVFTZFNhdDhjZDhNTEd4VkZyTXFEcl96LWVrVGdyUjVLNmRLQjM5Q3RsTdIBlwFBVV95cUxOSVdqeTVpMkhoZ2F6WHlOQmRuQ0R0V25NQnE2aXVOanlXX3VfWWNpakRQR19OYnpZRVBMNjFaOHlWMnpjeU9lZWNKQ3hiSVhvcHpTSXcyT3BYZ3dOQVdQUW9ST2hZZUl2N0RjOHpuTzJ2SGR6Y3AtQVZwWURrLXpUbHh5SGJndHVTLW5CLTBMTFlOYjVIb2lZ?oc=5)\n\n2. [이스트소프트, 국제 NGO '더멋진세상'과 AI 교육 협력 - ZD넷 코리아](https://news.google.com/rss/articles/CBMiVkFVX3lxTE5hVjVTakRnSXZlY3VZOERHWlFldmtraVdObXFLaWFaWXIxWjZzUnpkUHd4ZnQzbWN2TXBNRnRKdlRIclBmd1BneXJJY2p2c1VQcjNmeFBn?oc=5)\n\n3. [이스트소프트, '퍼플렉시티' 대항마 '앨런' 시장 침투율 확대 '주목' - 프라임경제](https://news.google.com/rss/articles/CBMibEFVX3lxTE9CbmZwbENmNFpoeE9TN1dEV0RXZmRVZzJpX0VjUnRUc0xyU0dJaWRGTk5OWlNnRmRxc2pqRUlETnBaOTFwWE5xdnIzZ3l6M05mSmY1OXltSDA5X3hoeE1EV1hyalJ4b09nU2VwSA?oc=5)\n\n4. [이스트소프트, 국제구호개발 비정부기구 '더멋진세상'과 '페르소닷에이아이' 공급... 아프리카 청소년 IT 교육 위해 영상 오토 더빙 서비스 제공 - 인공지능신문](https://news.google.com/rss/articles/CBMiZ0FVX3lxTE9zNU83TFQxUzRVN1ZWMXJOS1dCUWpkMzYxSHJpcTFPeTBOaDZpbXI5UFlrM0Ytd1l1VEVTWENKazA4U2dyc3VscUx0UGlkcWVoY0hyYnpWU09lYVAzTkZEVFRpREdieDA?oc=5)\n\n5. [[특징주]'AI 소프트웨어 기대' 이스트소프트, 3%대↑ - 아시아경제](https://news.google.com/rss/articles/CBMiX0FVX3lxTFBSTEoxTl84ajBTbWZuVnRRNkpnaFhHdTZmMkdKUU13Q3EtRy12WVdWejRKbFFLaEVZZUJVR3Z1emJWMFJBUjNJWkZBdzBKLWxKdkpJN2ZUSUtoTVBiM0hB?oc=5)\n\n6. [[리포트 브리핑]이스트소프트, '신규 AI S/W 주목 받을 시점' Not Rated - 하나증권 - 뉴스핌](https://news.google.com/rss/articles/CBMiXEFVX3lxTE5ibnc3bTNlamZ6TVREblJsSlBhYWdqUVVfNUFfcEF4elo5YWF1blZCY1prOXk2Ni1kaUQxd3ZROGxMLS1ZWFRwaU5QaGZJbjVrZTZjdnVVRkNkMXIz0gFeQVVfeXFMTkRMd3BUQ3IzakFpcXY2alRNWnNPSVdkckFtU2Fxa0N0ZVhMbWZWQ2VoQkFtaDl6cm9XVl9Kc1NsTWY0bFFyTm9mT1dxWnpMY2tOTnNJUVlxcUNqbGN3dw?oc=5)\n\n7. [이스트소프트, NGO 아프리카 청소년 IT 교육에 AI 비디오 트랜슬레이터 활용 - AI타임스](https://news.google.com/rss/articles/CBMiakFVX3lxTFBxMnFmREhEbWc4b1RDbU9FNVdLNjM4LUFVbEZWZ3RFQWRjVzVLWFB3Ukdja1RLeVFodHZ1NDZvQng3b2FPNmJ5OUtJMzMxRm8zVXViQmFNdDF4UE1leEEwWXlBMmc0c1FKY1E?oc=5)\n\n8. [이스트소프트, ‘더멋진세상’과 아프리카 청소년 IT 교육에 AI 오토 더빙 제공 - 이데일리](https://news.google.com/rss/articles/CBMigAFBVV95cUxOOXBZRWR6NjR3THVqeWd0VHZlUDVSRFpuMk1UbEZRMk1kdXRxRzZKa1p1RHBBcUxNZXZqX2l1anJQaXJIeGxqMjV0NWFNLVFIYVdYOTN4OFBkT3hxbWtpaXJVVDA0UE91em01Q1drQnM0czJBYnBTY1M1cXgxYmJQQQ?oc=5)\n\n9. [이스트소프트, NGO에 AI 휴먼 영상·오토 더빙 지원 - 전자신문](https://news.google.com/rss/articles/CBMiTkFVX3lxTE92dkhldVUtaDhiSkFZaTZqUnBZdlAwbXFQU094UGFlQjBLZDAzRVdkRVU2by1aYjhFOEg2Q1NHanZiZkFKOFZva0ItRndaQQ?oc=5)\n\n10. [특징주, 이스트소프트-AI 챗봇(챗GPT 등) 테마 상승세에 5.98% ↑ - 매일경제](https://news.google.com/rss/articles/CBMiUkFVX3lxTFBHR2cwT2Z6bDFabzZzRTdKOWlPWGdFUmliQmRkRkJXa1NJSUZUcHIwRml5cjhPellRTGNFR01hSVRfZnBDTFhXNHBad2xIOERNTnc?oc=5)\n\n"
          },
          "metadata": {}
        }
      ]
    },
    {
      "cell_type": "code",
      "source": [
        "# prompt: 엑셀에서 종목별 일자별 주가를 받아와서 보여준다\n",
        "\n",
        "import pandas as pd\n",
        "\n",
        "df = pd.read_excel(\"/content/종목일자별주가.xlsx\", \"Sheet1\")\n",
        "\n",
        "# 새로운 컬럼 추가 (초기값은 ' ')\n",
        "for stock_name in df.columns:\n",
        "    df[stock_name + '_Signal'] = ' '\n",
        "\n",
        "# 80 이하이면 'T' 저장\n",
        "for stock_name in df.columns:\n",
        "    if stock_name.endswith('_Signal'):  # Signal 컬럼은 건너뛰기\n",
        "        continue\n",
        "    for index in df.index:\n",
        "        if df.loc[index, stock_name] <= 80:\n",
        "            df.loc[index, stock_name + '_Signal'] = 80\n",
        "\n",
        "print(df)\n"
      ],
      "metadata": {
        "id": "QfopRaqMyaUn",
        "outputId": "45e8101a-9481-4fcc-d4de-43c2a9f95385",
        "colab": {
          "base_uri": "https://localhost:8080/"
        }
      },
      "execution_count": 7,
      "outputs": [
        {
          "output_type": "stream",
          "name": "stdout",
          "text": [
            "    날짜      위메이드_0     RFHIC_1        야스_2        두산_3    코오롱티슈진_4  \\\n",
            "0    0  100.000000  100.000000  100.000000  100.000000  100.000000   \n",
            "1    1   99.743590  100.069541   96.204934  100.485437   98.221950   \n",
            "2    2   98.461538   97.566064   95.635674  101.456311   99.386879   \n",
            "3    3   93.974359   83.796940   96.015180   97.330097   95.892091   \n",
            "4    4  102.820513   89.986092   95.920304   99.029126  102.391171   \n",
            "..  ..         ...         ...         ...         ...         ...   \n",
            "56  56   97.948718   96.036161   76.660342  145.631068  174.126303   \n",
            "57  57   97.820513   98.956885   79.127135  140.533981  182.096873   \n",
            "58  58   98.461538   99.513213   82.542694  137.864078  175.352544   \n",
            "59  59  102.435897  103.616134   80.170778  133.009709  175.659105   \n",
            "60  60  102.564103  102.990264   79.601518  133.009709  184.855917   \n",
            "\n",
            "    브릿지바이오테라퓨틱스_5     코스모화학_6     롯데케미칼_7     제이앤티씨_8  ...  코스모화학_6_Signal  \\\n",
            "0      100.000000  100.000000  100.000000  100.000000  ...                   \n",
            "1      114.371859  104.883227   98.029557  105.741627  ...                   \n",
            "2      113.366834  102.972399   96.157635  105.741627  ...                   \n",
            "3      115.376884  103.821656  100.886700  105.741627  ...                   \n",
            "4      115.175879  103.609342   96.059113  108.133971  ...                   \n",
            "..            ...         ...         ...         ...  ...             ...   \n",
            "56      91.055276   65.477707   61.674877   94.449761  ...              80   \n",
            "57      93.467337   68.025478   62.364532   93.253589  ...              80   \n",
            "58      91.256281   66.751592   60.689655   90.287081  ...              80   \n",
            "59      86.331658   65.817410   60.098522   90.430622  ...              80   \n",
            "60      91.055276   64.288747   59.605911   88.373206  ...              80   \n",
            "\n",
            "    롯데케미칼_7_Signal  제이앤티씨_8_Signal  대한유화_9_Signal  효성티앤씨_10_Signal  \\\n",
            "0                                                                    \n",
            "1                                                                    \n",
            "2                                                                    \n",
            "3                                                                    \n",
            "4                                                                    \n",
            "..             ...             ...            ...              ...   \n",
            "56              80                             80               80   \n",
            "57              80                             80               80   \n",
            "58              80                             80               80   \n",
            "59              80                             80               80   \n",
            "60              80                             80               80   \n",
            "\n",
            "    송원산업_11_Signal  코스모신소재_12_Signal 대주전자재료_13_Signal 엘앤에프_14_Signal  \\\n",
            "0                                                                      \n",
            "1                                                                      \n",
            "2                                                                      \n",
            "3                                                                      \n",
            "4                                                                      \n",
            "..             ...               ...              ...            ...   \n",
            "56                                80               80                  \n",
            "57                                80               80                  \n",
            "58                                80               80                  \n",
            "59                                80               80             80   \n",
            "60                                80               80             80   \n",
            "\n",
            "   LS_15_Signal  \n",
            "0                \n",
            "1                \n",
            "2                \n",
            "3                \n",
            "4                \n",
            "..          ...  \n",
            "56           80  \n",
            "57           80  \n",
            "58           80  \n",
            "59           80  \n",
            "60           80  \n",
            "\n",
            "[61 rows x 34 columns]\n"
          ]
        }
      ]
    }
  ]
}
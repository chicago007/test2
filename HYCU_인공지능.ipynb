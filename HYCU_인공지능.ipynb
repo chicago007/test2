{
  "nbformat": 4,
  "nbformat_minor": 0,
  "metadata": {
    "colab": {
      "provenance": [],
      "authorship_tag": "ABX9TyMLB0J2A3kRDIlJtTCDzJEi",
      "include_colab_link": true
    },
    "kernelspec": {
      "name": "python3",
      "display_name": "Python 3"
    },
    "language_info": {
      "name": "python"
    }
  },
  "cells": [
    {
      "cell_type": "markdown",
      "metadata": {
        "id": "view-in-github",
        "colab_type": "text"
      },
      "source": [
        "<a href=\"https://colab.research.google.com/github/chicago007/test2/blob/main/HYCU_%EC%9D%B8%EA%B3%B5%EC%A7%80%EB%8A%A5.ipynb\" target=\"_parent\"><img src=\"https://colab.research.google.com/assets/colab-badge.svg\" alt=\"Open In Colab\"/></a>"
      ]
    },
    {
      "cell_type": "code",
      "execution_count": null,
      "metadata": {
        "id": "J6X9gcX555mI",
        "outputId": "b0ffae24-e206-4bb5-cc75-99511c7d66e2",
        "colab": {
          "base_uri": "https://localhost:8080/"
        }
      },
      "outputs": [
        {
          "output_type": "stream",
          "name": "stdout",
          "text": [
            "[1, 10, 20, 30, 40, 50, 10, 6]\n",
            "[10, 20, 30, 40, 50, 10, 6]\n",
            "[10, 20, 30, 50, 10, 6]\n"
          ]
        }
      ],
      "source": [
        "a = [1, 10,20,30,40,50,10]\n",
        "a.append(6)\n",
        "print(a)\n",
        "a.remove(1)\n",
        "print(a)\n",
        "del a[3]\n",
        "print(a)"
      ]
    },
    {
      "cell_type": "code",
      "source": [
        "a = (1, 10,20,30)\n",
        "b= (40,50,10)\n",
        "a=a+b\n",
        "a=a*3\n",
        "print(a)\n",
        "print(len(a))\n"
      ],
      "metadata": {
        "id": "cEQRomfK7K47",
        "outputId": "e4796f17-377a-45e7-b9e2-5e2243c5a1de",
        "colab": {
          "base_uri": "https://localhost:8080/"
        }
      },
      "execution_count": null,
      "outputs": [
        {
          "output_type": "stream",
          "name": "stdout",
          "text": [
            "(1, 10, 20, 30, 40, 50, 10, 1, 10, 20, 30, 40, 50, 10, 1, 10, 20, 30, 40, 50, 10)\n",
            "21\n"
          ]
        }
      ]
    },
    {
      "cell_type": "markdown",
      "source": [],
      "metadata": {
        "id": "xofQcqim7BT4"
      }
    },
    {
      "cell_type": "code",
      "source": [
        "a = {1: 'a'}\n",
        "a[2] = 'b'\n",
        "print(a) #a {1: 'a', 2: 'b'}\n",
        "a[3] = [1,2,3]\n",
        "print(a) #a {1: 'a', 2: 'b', 3: [1, 2, 3]}"
      ],
      "metadata": {
        "id": "6Ge486jG6NJR",
        "outputId": "4fa4ad69-9944-4183-8c60-66f098551051",
        "colab": {
          "base_uri": "https://localhost:8080/"
        }
      },
      "execution_count": null,
      "outputs": [
        {
          "output_type": "stream",
          "name": "stdout",
          "text": [
            "{1: 'a', 2: 'b'}\n",
            "{1: 'a', 2: 'b', 3: [1, 2, 3]}\n"
          ]
        }
      ]
    },
    {
      "cell_type": "code",
      "source": [
        "a = {'name':'hycu', 'phone':'0222901111', 'birth': '1111'}\n",
        "for i in a.keys():\n",
        "  print(i)\n",
        "print(list(a.keys())) #['name', 'phone', 'birth']\n",
        "'name' in a"
      ],
      "metadata": {
        "id": "QTl07W016NqE",
        "outputId": "d42285d1-1169-4c36-9fc3-bf299fedf6ec",
        "colab": {
          "base_uri": "https://localhost:8080/"
        }
      },
      "execution_count": null,
      "outputs": [
        {
          "output_type": "stream",
          "name": "stdout",
          "text": [
            "name\n",
            "phone\n",
            "birth\n",
            "['name', 'phone', 'birth']\n"
          ]
        },
        {
          "output_type": "execute_result",
          "data": {
            "text/plain": [
              "True"
            ]
          },
          "metadata": {},
          "execution_count": 8
        }
      ]
    },
    {
      "cell_type": "code",
      "source": [
        "a = set([1,2,3])\n",
        "a2= list(a)\n",
        "print(a)\n",
        "print(a2) #[1, 2, 3]\n",
        "print(a2[0]) #1\n",
        "\n",
        "print(type(a))"
      ],
      "metadata": {
        "id": "0mwPhXYC8Dmw",
        "outputId": "2de2693c-c8e6-480e-9308-47ea6fa44dbf",
        "colab": {
          "base_uri": "https://localhost:8080/"
        }
      },
      "execution_count": null,
      "outputs": [
        {
          "output_type": "stream",
          "name": "stdout",
          "text": [
            "{1, 2, 3}\n",
            "[1, 2, 3]\n",
            "1\n",
            "<class 'set'>\n"
          ]
        }
      ]
    },
    {
      "cell_type": "code",
      "source": [
        "s1 = set([1, 2, 3])\n",
        "s1.update([4, 5, 6])\n",
        "print(s1) #{1, 2, 3, 4, 5, 6}\n",
        "s1 = set([1, 2, 3])\n",
        "s1.remove(2)\n",
        "print(s1) #{1, 3}\n"
      ],
      "metadata": {
        "id": "58GbnNLj8TQo",
        "outputId": "9bbafd9f-8644-4a52-cf9b-f9d4c7c49fbc",
        "colab": {
          "base_uri": "https://localhost:8080/"
        }
      },
      "execution_count": null,
      "outputs": [
        {
          "output_type": "stream",
          "name": "stdout",
          "text": [
            "{1, 2, 3, 4, 5, 6}\n",
            "{1, 3}\n"
          ]
        }
      ]
    },
    {
      "cell_type": "code",
      "source": [
        "s1 = set([1, 2, 3, 4, 5, 6])\n",
        "s2 = set([4, 5, 6, 7, 8, 9])\n",
        "print(s1 & s2)\n",
        "print(s1.intersection(s2))\n",
        "print(s1 | s2)\n",
        "print(s1.union(s2))\n",
        "print(s1 - s2)\n",
        "print(s1.difference(s2))"
      ],
      "metadata": {
        "id": "6LtVYw7z8dGr",
        "outputId": "dc24ea96-2ab9-4e7a-e7de-28e5b17ab39e",
        "colab": {
          "base_uri": "https://localhost:8080/"
        }
      },
      "execution_count": null,
      "outputs": [
        {
          "output_type": "stream",
          "name": "stdout",
          "text": [
            "{4, 5, 6}\n",
            "{4, 5, 6}\n",
            "{1, 2, 3, 4, 5, 6, 7, 8, 9}\n",
            "{1, 2, 3, 4, 5, 6, 7, 8, 9}\n",
            "{1, 2, 3}\n",
            "{1, 2, 3}\n"
          ]
        }
      ]
    },
    {
      "cell_type": "markdown",
      "source": [],
      "metadata": {
        "id": "kk2aDm6y8-CH"
      }
    },
    {
      "cell_type": "code",
      "source": [
        "tmp1=[10,20,30,40,50]\n",
        "print(tmp1[1:3])\n",
        "tmp2=(1,2,3,4,5)\n",
        "print(type(tmp2))\n",
        "tmp3={'name':'kim hycu', 'dept':'sw'}\n",
        "for i in tmp3:\n",
        "  print(i, end=' ')\n",
        "print()\n",
        "for i in tmp3.values():\n",
        "  print(i, end=' ')"
      ],
      "metadata": {
        "id": "2GCxJzy-84k3",
        "outputId": "366fbf19-8ac5-4aa4-8066-22a36fb84d44",
        "colab": {
          "base_uri": "https://localhost:8080/"
        }
      },
      "execution_count": null,
      "outputs": [
        {
          "output_type": "stream",
          "name": "stdout",
          "text": [
            "[20, 30]\n",
            "<class 'tuple'>\n",
            "name dept \n",
            "kim hycu sw "
          ]
        }
      ]
    },
    {
      "cell_type": "code",
      "source": [
        "def tmp4(a):\n",
        "  for i in a:\n",
        "    print(i, end=\" \")\n",
        "  print()\n",
        "\n",
        "tmp2=(1,2,3,4,5)\n",
        "print(tmp4(tmp2))\n"
      ],
      "metadata": {
        "id": "ZG_dNzoG-ELI",
        "outputId": "6a9c40bf-0d1d-4175-bc8d-5b743c11f2a8",
        "colab": {
          "base_uri": "https://localhost:8080/"
        }
      },
      "execution_count": null,
      "outputs": [
        {
          "output_type": "stream",
          "name": "stdout",
          "text": [
            "1 2 3 4 5 \n",
            "None\n"
          ]
        }
      ]
    },
    {
      "cell_type": "code",
      "source": [
        "class tmp5:\n",
        "  def __init__(self, n1,n2):\n",
        "    self.n1=n1\n",
        "    self.n2=n2\n",
        "\n",
        "  def add(self):\n",
        "    return self.n1+self.n2\n",
        "\n",
        "tmp6=tmp5(1,2)\n",
        "print(tmp6.add())"
      ],
      "metadata": {
        "id": "ecHLbPyp-YnD",
        "outputId": "2ea2afad-aaf6-4e91-e6eb-799becff9942",
        "colab": {
          "base_uri": "https://localhost:8080/"
        }
      },
      "execution_count": null,
      "outputs": [
        {
          "output_type": "stream",
          "name": "stdout",
          "text": [
            "3\n"
          ]
        }
      ]
    },
    {
      "cell_type": "code",
      "source": [
        "import numpy as np\n",
        "\n",
        "i=np.array([[1,2],[3,4]])\n",
        "j=np.array([[1,2]])\n",
        "print(i)\n",
        "print(j)\n",
        "print(i+j)"
      ],
      "metadata": {
        "id": "sBOpj4iuCLuZ",
        "outputId": "58b4c7ab-c965-4ef1-947d-69ad6b9caab6",
        "colab": {
          "base_uri": "https://localhost:8080/"
        }
      },
      "execution_count": 29,
      "outputs": [
        {
          "output_type": "stream",
          "name": "stdout",
          "text": [
            "[[1 2]\n",
            " [3 4]]\n",
            "[[1 2]]\n",
            "[[2 4]\n",
            " [4 6]]\n"
          ]
        }
      ]
    },
    {
      "cell_type": "code",
      "source": [
        "import numpy as np\n",
        "a=np.array([[1,2,3],[3,4,5]])\n",
        "print(a.T)\n"
      ],
      "metadata": {
        "id": "Zqhlh9tSCngO",
        "outputId": "ae5cf377-85f3-4a96-eeb6-24c6f00cb16a",
        "colab": {
          "base_uri": "https://localhost:8080/"
        }
      },
      "execution_count": 30,
      "outputs": [
        {
          "output_type": "stream",
          "name": "stdout",
          "text": [
            "[[1 3]\n",
            " [2 4]\n",
            " [3 5]]\n"
          ]
        }
      ]
    },
    {
      "cell_type": "code",
      "source": [
        "import numpy as np\n",
        "i=np.array([[1,2],[3,4]])\n",
        "j=np.array([[1,2],[3,4]])\n",
        "print(i+j)\n",
        "print(i-j)\n",
        "print(i*j)\n",
        "print(i/j)"
      ],
      "metadata": {
        "id": "z1qNVpF9DL1H",
        "outputId": "78677921-b3a6-4d4a-efd5-16f8263f788e",
        "colab": {
          "base_uri": "https://localhost:8080/"
        }
      },
      "execution_count": 31,
      "outputs": [
        {
          "output_type": "stream",
          "name": "stdout",
          "text": [
            "[[2 4]\n",
            " [6 8]]\n",
            "[[0 0]\n",
            " [0 0]]\n",
            "[[ 1  4]\n",
            " [ 9 16]]\n",
            "[[1. 1.]\n",
            " [1. 1.]]\n"
          ]
        }
      ]
    },
    {
      "cell_type": "code",
      "source": [
        "import numpy as np\n",
        "# i=np.array([[1,2],[3,4]])\n",
        "# j=np.array([[1,2],[3,4]])\n",
        "# print(np.dot(i,j))\n",
        "A = np.array([10, 20, 30, 40, 50, 60]).reshape(3, 2)\n",
        "print(A)\n",
        "print(A[0, 0], A[0][0])\n",
        "print(A[2,1], A[2][1])\n",
        "print(A[0:-1, 1:2])\n",
        "print(A[:, 0])\n",
        "print(A[:, :])\n"
      ],
      "metadata": {
        "id": "MR2S4kpkDUDE",
        "outputId": "e943a440-4039-4f20-9ee7-d998c66928f2",
        "colab": {
          "base_uri": "https://localhost:8080/"
        }
      },
      "execution_count": 33,
      "outputs": [
        {
          "output_type": "stream",
          "name": "stdout",
          "text": [
            "[[10 20]\n",
            " [30 40]\n",
            " [50 60]]\n",
            "10 10\n",
            "60 60\n",
            "[[20]\n",
            " [40]]\n",
            "[10 30 50]\n",
            "[[10 20]\n",
            " [30 40]\n",
            " [50 60]]\n"
          ]
        }
      ]
    },
    {
      "cell_type": "code",
      "source": [
        "import numpy as np\n",
        "i=np.array([1,2,3])\n",
        "print(i)\n",
        "print(type(i))\n",
        "j=np.array([[1,2], [3,4]])\n",
        "print(j)\n",
        "print(type(j))"
      ],
      "metadata": {
        "id": "ba37gDWtD9M3",
        "outputId": "aaf98714-4573-4180-8a6f-637903c050d9",
        "colab": {
          "base_uri": "https://localhost:8080/"
        }
      },
      "execution_count": 35,
      "outputs": [
        {
          "output_type": "stream",
          "name": "stdout",
          "text": [
            "[1 2 3]\n",
            "<class 'numpy.ndarray'>\n",
            "[[1 2]\n",
            " [3 4]]\n",
            "<class 'numpy.ndarray'>\n"
          ]
        }
      ]
    }
  ]
}
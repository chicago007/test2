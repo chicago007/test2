{
  "cells": [
    {
      "cell_type": "markdown",
      "metadata": {
        "id": "view-in-github",
        "colab_type": "text"
      },
      "source": [
        "<a href=\"https://colab.research.google.com/github/chicago007/test2/blob/main/%EA%B1%B0%EB%9E%98%EB%8C%80%EA%B8%88%EA%B3%BC%20%EA%B3%A0%EA%B0%80.ipynb\" target=\"_parent\"><img src=\"https://colab.research.google.com/assets/colab-badge.svg\" alt=\"Open In Colab\"/></a>"
      ]
    },
    {
      "cell_type": "code",
      "source": [
        "# prompt: 종목이란 엑셀파일의  sheet1에 A열에 날짜, B 열에 종목코드, C열에 종목명이 있는 파일을 읽어서 전일 종가대비 오늘의 종가 및 고가의 수익률과 거래량을 만들어줘. 종목의 해당 정보는 Pykrx에서 가져와\n",
        "\n",
        "# !pip install pykrx openpyxl\n",
        "\n",
        "from pykrx import stock\n",
        "import pandas as pd\n",
        "\n",
        "# # Google Drive 마운트\n",
        "from google.colab import drive\n",
        "drive.mount('/content/drive')\n",
        "\n",
        "# /content/종목.xlsx\n",
        "\n",
        "# 파일 경로 설정 (Google Drive 내 파일 경로)\n",
        "excel_file_path = '/content/종목.xlsx'\n",
        "\n",
        "# 엑셀 파일 읽기\n",
        "df_input = pd.read_excel(excel_file_path, sheet_name='Sheet2')\n",
        "\n",
        "# 결과 DataFrame 생성\n",
        "df_output = pd.DataFrame(columns=['날짜', '종목코드', '종목명', '수익률(%)', '고가수익률(%)', '거래대금'])\n",
        "\n",
        "\n",
        "for index, row in df_input.iterrows():\n",
        "    date_str = str(row['날짜'])\n",
        "    ticker = str(row['종목코드']).zfill(6)\n",
        "    stock_name = row['종목명']\n",
        "    # print(date_str, ticker, stock_name)\n",
        "    # 해당 날짜의 주가 정보 가져오기\n",
        "    df_price = stock.get_market_ohlcv_by_date(\"20211001\", date_str, ticker)\n",
        "    df_price['전종'] = df_price['종가'].shift(1)\n",
        "    # print(df_price.tail(5))\n",
        "    df_price['고가수익률'] = ((df_price['고가'] - df_price['전종']) / df_price['전종']) * 100\n",
        "    df_price['거래대금'] = df_price['종가'] * df_price['거래량']\n",
        "    df_price = df_price.tail(1)\n",
        "\n",
        "    # print(df_price)\n",
        "\n",
        "    # 결과 DataFrame에 추가\n",
        "    df_output = pd.concat([df_output, pd.DataFrame([{\n",
        "        '날짜': date_str,\n",
        "        '종목코드': ticker,\n",
        "        '종목명': stock_name,\n",
        "        '수익률(%)': round(df_price.iloc[-1]['등락률'], 2),\n",
        "        '고가수익률(%)': round(df_price.iloc[-1]['고가수익률'], 2),\n",
        "        '거래대금': format(df_price.iloc[-1]['거래대금'],  ',.0f')\n",
        "    }])], ignore_index=True)\n",
        "\n",
        "\n",
        "# 결과 DataFrame 출력\n",
        "print(\"\\n결과 DataFrame:\")\n",
        "print(df_output)\n",
        "\n",
        "# 필요하다면 결과를 새로운 엑셀 파일로 저장\n",
        "output_excel_path = '/content/drive/MyDrive/종목_결과.xlsx'\n",
        "df_output.to_excel(output_excel_path, index=False)\n",
        "print(f\"\\n결과가 '{output_excel_path}'에 저장되었습니다.\")\n"
      ],
      "metadata": {
        "colab": {
          "base_uri": "https://localhost:8080/"
        },
        "id": "lGE3f2e3FM88",
        "outputId": "f21c1c44-3ccf-4910-856e-a33c4080f211"
      },
      "execution_count": null,
      "outputs": [
        {
          "output_type": "stream",
          "name": "stdout",
          "text": [
            "Drive already mounted at /content/drive; to attempt to forcibly remount, call drive.mount(\"/content/drive\", force_remount=True).\n"
          ]
        },
        {
          "output_type": "stream",
          "name": "stderr",
          "text": [
            "/tmp/ipython-input-40-1964132335.py:40: FutureWarning: The behavior of DataFrame concatenation with empty or all-NA entries is deprecated. In a future version, this will no longer exclude empty or all-NA columns when determining the result dtypes. To retain the old behavior, exclude the relevant entries before the concat operation.\n",
            "  df_output = pd.concat([df_output, pd.DataFrame([{\n",
            "/tmp/ipython-input-40-1964132335.py:31: SettingWithCopyWarning: \n",
            "A value is trying to be set on a copy of a slice from a DataFrame.\n",
            "Try using .loc[row_indexer,col_indexer] = value instead\n",
            "\n",
            "See the caveats in the documentation: https://pandas.pydata.org/pandas-docs/stable/user_guide/indexing.html#returning-a-view-versus-a-copy\n",
            "  df_price['전종'] = df_price['종가'].shift(1)\n",
            "/tmp/ipython-input-40-1964132335.py:33: SettingWithCopyWarning: \n",
            "A value is trying to be set on a copy of a slice from a DataFrame.\n",
            "Try using .loc[row_indexer,col_indexer] = value instead\n",
            "\n",
            "See the caveats in the documentation: https://pandas.pydata.org/pandas-docs/stable/user_guide/indexing.html#returning-a-view-versus-a-copy\n",
            "  df_price['고가수익률'] = ((df_price['고가'] - df_price['전종']) / df_price['전종']) * 100\n",
            "/tmp/ipython-input-40-1964132335.py:34: SettingWithCopyWarning: \n",
            "A value is trying to be set on a copy of a slice from a DataFrame.\n",
            "Try using .loc[row_indexer,col_indexer] = value instead\n",
            "\n",
            "See the caveats in the documentation: https://pandas.pydata.org/pandas-docs/stable/user_guide/indexing.html#returning-a-view-versus-a-copy\n",
            "  df_price['거래대금'] = df_price['종가'] * df_price['거래량']\n",
            "/tmp/ipython-input-40-1964132335.py:31: SettingWithCopyWarning: \n",
            "A value is trying to be set on a copy of a slice from a DataFrame.\n",
            "Try using .loc[row_indexer,col_indexer] = value instead\n",
            "\n",
            "See the caveats in the documentation: https://pandas.pydata.org/pandas-docs/stable/user_guide/indexing.html#returning-a-view-versus-a-copy\n",
            "  df_price['전종'] = df_price['종가'].shift(1)\n",
            "/tmp/ipython-input-40-1964132335.py:33: SettingWithCopyWarning: \n",
            "A value is trying to be set on a copy of a slice from a DataFrame.\n",
            "Try using .loc[row_indexer,col_indexer] = value instead\n",
            "\n",
            "See the caveats in the documentation: https://pandas.pydata.org/pandas-docs/stable/user_guide/indexing.html#returning-a-view-versus-a-copy\n",
            "  df_price['고가수익률'] = ((df_price['고가'] - df_price['전종']) / df_price['전종']) * 100\n",
            "/tmp/ipython-input-40-1964132335.py:34: SettingWithCopyWarning: \n",
            "A value is trying to be set on a copy of a slice from a DataFrame.\n",
            "Try using .loc[row_indexer,col_indexer] = value instead\n",
            "\n",
            "See the caveats in the documentation: https://pandas.pydata.org/pandas-docs/stable/user_guide/indexing.html#returning-a-view-versus-a-copy\n",
            "  df_price['거래대금'] = df_price['종가'] * df_price['거래량']\n",
            "/tmp/ipython-input-40-1964132335.py:31: SettingWithCopyWarning: \n",
            "A value is trying to be set on a copy of a slice from a DataFrame.\n",
            "Try using .loc[row_indexer,col_indexer] = value instead\n",
            "\n",
            "See the caveats in the documentation: https://pandas.pydata.org/pandas-docs/stable/user_guide/indexing.html#returning-a-view-versus-a-copy\n",
            "  df_price['전종'] = df_price['종가'].shift(1)\n",
            "/tmp/ipython-input-40-1964132335.py:33: SettingWithCopyWarning: \n",
            "A value is trying to be set on a copy of a slice from a DataFrame.\n",
            "Try using .loc[row_indexer,col_indexer] = value instead\n",
            "\n",
            "See the caveats in the documentation: https://pandas.pydata.org/pandas-docs/stable/user_guide/indexing.html#returning-a-view-versus-a-copy\n",
            "  df_price['고가수익률'] = ((df_price['고가'] - df_price['전종']) / df_price['전종']) * 100\n",
            "/tmp/ipython-input-40-1964132335.py:34: SettingWithCopyWarning: \n",
            "A value is trying to be set on a copy of a slice from a DataFrame.\n",
            "Try using .loc[row_indexer,col_indexer] = value instead\n",
            "\n",
            "See the caveats in the documentation: https://pandas.pydata.org/pandas-docs/stable/user_guide/indexing.html#returning-a-view-versus-a-copy\n",
            "  df_price['거래대금'] = df_price['종가'] * df_price['거래량']\n",
            "/tmp/ipython-input-40-1964132335.py:31: SettingWithCopyWarning: \n",
            "A value is trying to be set on a copy of a slice from a DataFrame.\n",
            "Try using .loc[row_indexer,col_indexer] = value instead\n",
            "\n",
            "See the caveats in the documentation: https://pandas.pydata.org/pandas-docs/stable/user_guide/indexing.html#returning-a-view-versus-a-copy\n",
            "  df_price['전종'] = df_price['종가'].shift(1)\n",
            "/tmp/ipython-input-40-1964132335.py:33: SettingWithCopyWarning: \n",
            "A value is trying to be set on a copy of a slice from a DataFrame.\n",
            "Try using .loc[row_indexer,col_indexer] = value instead\n",
            "\n",
            "See the caveats in the documentation: https://pandas.pydata.org/pandas-docs/stable/user_guide/indexing.html#returning-a-view-versus-a-copy\n",
            "  df_price['고가수익률'] = ((df_price['고가'] - df_price['전종']) / df_price['전종']) * 100\n",
            "/tmp/ipython-input-40-1964132335.py:34: SettingWithCopyWarning: \n",
            "A value is trying to be set on a copy of a slice from a DataFrame.\n",
            "Try using .loc[row_indexer,col_indexer] = value instead\n",
            "\n",
            "See the caveats in the documentation: https://pandas.pydata.org/pandas-docs/stable/user_guide/indexing.html#returning-a-view-versus-a-copy\n",
            "  df_price['거래대금'] = df_price['종가'] * df_price['거래량']\n"
          ]
        }
      ]
    },
    {
      "cell_type": "markdown",
      "source": [
        "# 새 섹션"
      ],
      "metadata": {
        "id": "mJpGY_meFLBE"
      }
    },
    {
      "cell_type": "code",
      "source": [
        "!pip install pykrx"
      ],
      "metadata": {
        "colab": {
          "base_uri": "https://localhost:8080/"
        },
        "collapsed": true,
        "id": "US7eMCAvH87N",
        "outputId": "256e7d60-0941-4569-d0ea-a8fa9afeba50"
      },
      "execution_count": 1,
      "outputs": [
        {
          "output_type": "stream",
          "name": "stdout",
          "text": [
            "Collecting pykrx\n",
            "  Downloading pykrx-1.0.51-py3-none-any.whl.metadata (61 kB)\n",
            "\u001b[?25l     \u001b[90m━━━━━━━━━━━━━━━━━━━━━━━━━━━━━━━━━━━━━━━━\u001b[0m \u001b[32m0.0/61.1 kB\u001b[0m \u001b[31m?\u001b[0m eta \u001b[36m-:--:--\u001b[0m\r\u001b[2K     \u001b[90m━━━━━━━━━━━━━━━━━━━━━━━━━━━━━━━━━━━━━━━━\u001b[0m \u001b[32m61.1/61.1 kB\u001b[0m \u001b[31m1.8 MB/s\u001b[0m eta \u001b[36m0:00:00\u001b[0m\n",
            "\u001b[?25hRequirement already satisfied: requests in /usr/local/lib/python3.11/dist-packages (from pykrx) (2.32.3)\n",
            "Requirement already satisfied: pandas in /usr/local/lib/python3.11/dist-packages (from pykrx) (2.2.2)\n",
            "Collecting datetime (from pykrx)\n",
            "  Downloading DateTime-5.5-py3-none-any.whl.metadata (33 kB)\n",
            "Requirement already satisfied: numpy in /usr/local/lib/python3.11/dist-packages (from pykrx) (2.0.2)\n",
            "Requirement already satisfied: xlrd in /usr/local/lib/python3.11/dist-packages (from pykrx) (2.0.2)\n",
            "Collecting deprecated (from pykrx)\n",
            "  Downloading Deprecated-1.2.18-py2.py3-none-any.whl.metadata (5.7 kB)\n",
            "Requirement already satisfied: multipledispatch in /usr/local/lib/python3.11/dist-packages (from pykrx) (1.0.0)\n",
            "Requirement already satisfied: matplotlib in /usr/local/lib/python3.11/dist-packages (from pykrx) (3.10.0)\n",
            "Collecting zope.interface (from datetime->pykrx)\n",
            "  Downloading zope.interface-7.2-cp311-cp311-manylinux_2_5_x86_64.manylinux1_x86_64.manylinux_2_17_x86_64.manylinux2014_x86_64.whl.metadata (44 kB)\n",
            "\u001b[2K     \u001b[90m━━━━━━━━━━━━━━━━━━━━━━━━━━━━━━━━━━━━━━━━\u001b[0m \u001b[32m44.4/44.4 kB\u001b[0m \u001b[31m2.2 MB/s\u001b[0m eta \u001b[36m0:00:00\u001b[0m\n",
            "\u001b[?25hRequirement already satisfied: pytz in /usr/local/lib/python3.11/dist-packages (from datetime->pykrx) (2025.2)\n",
            "Requirement already satisfied: wrapt<2,>=1.10 in /usr/local/lib/python3.11/dist-packages (from deprecated->pykrx) (1.17.2)\n",
            "Requirement already satisfied: contourpy>=1.0.1 in /usr/local/lib/python3.11/dist-packages (from matplotlib->pykrx) (1.3.2)\n",
            "Requirement already satisfied: cycler>=0.10 in /usr/local/lib/python3.11/dist-packages (from matplotlib->pykrx) (0.12.1)\n",
            "Requirement already satisfied: fonttools>=4.22.0 in /usr/local/lib/python3.11/dist-packages (from matplotlib->pykrx) (4.58.5)\n",
            "Requirement already satisfied: kiwisolver>=1.3.1 in /usr/local/lib/python3.11/dist-packages (from matplotlib->pykrx) (1.4.8)\n",
            "Requirement already satisfied: packaging>=20.0 in /usr/local/lib/python3.11/dist-packages (from matplotlib->pykrx) (25.0)\n",
            "Requirement already satisfied: pillow>=8 in /usr/local/lib/python3.11/dist-packages (from matplotlib->pykrx) (11.2.1)\n",
            "Requirement already satisfied: pyparsing>=2.3.1 in /usr/local/lib/python3.11/dist-packages (from matplotlib->pykrx) (3.2.3)\n",
            "Requirement already satisfied: python-dateutil>=2.7 in /usr/local/lib/python3.11/dist-packages (from matplotlib->pykrx) (2.9.0.post0)\n",
            "Requirement already satisfied: tzdata>=2022.7 in /usr/local/lib/python3.11/dist-packages (from pandas->pykrx) (2025.2)\n",
            "Requirement already satisfied: charset-normalizer<4,>=2 in /usr/local/lib/python3.11/dist-packages (from requests->pykrx) (3.4.2)\n",
            "Requirement already satisfied: idna<4,>=2.5 in /usr/local/lib/python3.11/dist-packages (from requests->pykrx) (3.10)\n",
            "Requirement already satisfied: urllib3<3,>=1.21.1 in /usr/local/lib/python3.11/dist-packages (from requests->pykrx) (2.4.0)\n",
            "Requirement already satisfied: certifi>=2017.4.17 in /usr/local/lib/python3.11/dist-packages (from requests->pykrx) (2025.7.14)\n",
            "Requirement already satisfied: six>=1.5 in /usr/local/lib/python3.11/dist-packages (from python-dateutil>=2.7->matplotlib->pykrx) (1.17.0)\n",
            "Requirement already satisfied: setuptools in /usr/local/lib/python3.11/dist-packages (from zope.interface->datetime->pykrx) (75.2.0)\n",
            "Downloading pykrx-1.0.51-py3-none-any.whl (2.2 MB)\n",
            "\u001b[2K   \u001b[90m━━━━━━━━━━━━━━━━━━━━━━━━━━━━━━━━━━━━━━━━\u001b[0m \u001b[32m2.2/2.2 MB\u001b[0m \u001b[31m25.7 MB/s\u001b[0m eta \u001b[36m0:00:00\u001b[0m\n",
            "\u001b[?25hDownloading DateTime-5.5-py3-none-any.whl (52 kB)\n",
            "\u001b[2K   \u001b[90m━━━━━━━━━━━━━━━━━━━━━━━━━━━━━━━━━━━━━━━━\u001b[0m \u001b[32m52.6/52.6 kB\u001b[0m \u001b[31m3.1 MB/s\u001b[0m eta \u001b[36m0:00:00\u001b[0m\n",
            "\u001b[?25hDownloading Deprecated-1.2.18-py2.py3-none-any.whl (10.0 kB)\n",
            "Downloading zope.interface-7.2-cp311-cp311-manylinux_2_5_x86_64.manylinux1_x86_64.manylinux_2_17_x86_64.manylinux2014_x86_64.whl (259 kB)\n",
            "\u001b[2K   \u001b[90m━━━━━━━━━━━━━━━━━━━━━━━━━━━━━━━━━━━━━━━━\u001b[0m \u001b[32m259.8/259.8 kB\u001b[0m \u001b[31m20.1 MB/s\u001b[0m eta \u001b[36m0:00:00\u001b[0m\n",
            "\u001b[?25hInstalling collected packages: zope.interface, deprecated, datetime, pykrx\n",
            "Successfully installed datetime-5.5 deprecated-1.2.18 pykrx-1.0.51 zope.interface-7.2\n"
          ]
        }
      ]
    },
    {
      "cell_type": "code",
      "source": [],
      "metadata": {
        "id": "pfPZcC75Iqh-"
      },
      "execution_count": null,
      "outputs": []
    },
    {
      "cell_type": "code",
      "source": [
        "from pykrx import stock\n",
        "\n",
        "\n",
        "df = stock.get_market_ohlcv(\"20220720\", \"20250721\", \"005930\")\n",
        "df['전종'] = df['종가'].shift(1)\n",
        "df['수익률'] = ((df['종가'] - df['전종']) / df['전종']) * 100\n",
        "print(df.tail(2))"
      ],
      "metadata": {
        "colab": {
          "base_uri": "https://localhost:8080/"
        },
        "id": "SghIccgBIDtH",
        "outputId": "d0b3fba2-acb1-4817-a0ab-179468da75d8"
      },
      "execution_count": 27,
      "outputs": [
        {
          "output_type": "stream",
          "name": "stdout",
          "text": [
            "               시가     고가     저가     종가       거래량       등락률       전종       수익률\n",
            "날짜                                                                           \n",
            "2025-07-18  67000  67800  66300  67100  23951531  0.599700  66700.0  0.599700\n",
            "2025-07-21  67400  68800  67200  68100  13408492  1.490313  67100.0  1.490313\n"
          ]
        }
      ]
    }
  ],
  "metadata": {
    "colab": {
      "name": "Colab 시작하기",
      "provenance": [],
      "include_colab_link": true
    },
    "kernelspec": {
      "display_name": "Python 3",
      "name": "python3"
    }
  },
  "nbformat": 4,
  "nbformat_minor": 0
}
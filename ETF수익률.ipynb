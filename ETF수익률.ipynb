{
  "cells": [
    {
      "cell_type": "markdown",
      "metadata": {
        "id": "view-in-github",
        "colab_type": "text"
      },
      "source": [
        "<a href=\"https://colab.research.google.com/github/chicago007/test2/blob/main/ETF%EC%88%98%EC%9D%B5%EB%A5%A0.ipynb\" target=\"_parent\"><img src=\"https://colab.research.google.com/assets/colab-badge.svg\" alt=\"Open In Colab\"/></a>"
      ]
    },
    {
      "cell_type": "code",
      "source": [
        "!pip install pykrx openpyxl"
      ],
      "metadata": {
        "colab": {
          "base_uri": "https://localhost:8080/"
        },
        "id": "XXUwGCLV-Rvv",
        "outputId": "58955316-eaae-448a-f508-4144c88ca508"
      },
      "execution_count": 1,
      "outputs": [
        {
          "output_type": "stream",
          "name": "stdout",
          "text": [
            "Collecting pykrx\n",
            "  Downloading pykrx-1.0.48-py3-none-any.whl.metadata (60 kB)\n",
            "\u001b[?25l     \u001b[90m━━━━━━━━━━━━━━━━━━━━━━━━━━━━━━━━━━━━━━━━\u001b[0m \u001b[32m0.0/60.9 kB\u001b[0m \u001b[31m?\u001b[0m eta \u001b[36m-:--:--\u001b[0m\r\u001b[2K     \u001b[90m━━━━━━━━━━━━━━━━━━━━━━━━━━━━━━━━━━━━━━━━\u001b[0m \u001b[32m60.9/60.9 kB\u001b[0m \u001b[31m2.9 MB/s\u001b[0m eta \u001b[36m0:00:00\u001b[0m\n",
            "\u001b[?25hRequirement already satisfied: openpyxl in /usr/local/lib/python3.11/dist-packages (3.1.5)\n",
            "Requirement already satisfied: requests in /usr/local/lib/python3.11/dist-packages (from pykrx) (2.32.3)\n",
            "Requirement already satisfied: pandas in /usr/local/lib/python3.11/dist-packages (from pykrx) (2.2.2)\n",
            "Collecting datetime (from pykrx)\n",
            "  Downloading DateTime-5.5-py3-none-any.whl.metadata (33 kB)\n",
            "Requirement already satisfied: numpy in /usr/local/lib/python3.11/dist-packages (from pykrx) (1.26.4)\n",
            "Requirement already satisfied: xlrd in /usr/local/lib/python3.11/dist-packages (from pykrx) (2.0.1)\n",
            "Requirement already satisfied: deprecated in /usr/local/lib/python3.11/dist-packages (from pykrx) (1.2.18)\n",
            "Requirement already satisfied: multipledispatch in /usr/local/lib/python3.11/dist-packages (from pykrx) (1.0.0)\n",
            "Requirement already satisfied: matplotlib in /usr/local/lib/python3.11/dist-packages (from pykrx) (3.10.0)\n",
            "Requirement already satisfied: et-xmlfile in /usr/local/lib/python3.11/dist-packages (from openpyxl) (2.0.0)\n",
            "Collecting zope.interface (from datetime->pykrx)\n",
            "  Downloading zope.interface-7.2-cp311-cp311-manylinux_2_5_x86_64.manylinux1_x86_64.manylinux_2_17_x86_64.manylinux2014_x86_64.whl.metadata (44 kB)\n",
            "\u001b[2K     \u001b[90m━━━━━━━━━━━━━━━━━━━━━━━━━━━━━━━━━━━━━━━━\u001b[0m \u001b[32m44.4/44.4 kB\u001b[0m \u001b[31m1.1 MB/s\u001b[0m eta \u001b[36m0:00:00\u001b[0m\n",
            "\u001b[?25hRequirement already satisfied: pytz in /usr/local/lib/python3.11/dist-packages (from datetime->pykrx) (2025.1)\n",
            "Requirement already satisfied: wrapt<2,>=1.10 in /usr/local/lib/python3.11/dist-packages (from deprecated->pykrx) (1.17.2)\n",
            "Requirement already satisfied: contourpy>=1.0.1 in /usr/local/lib/python3.11/dist-packages (from matplotlib->pykrx) (1.3.1)\n",
            "Requirement already satisfied: cycler>=0.10 in /usr/local/lib/python3.11/dist-packages (from matplotlib->pykrx) (0.12.1)\n",
            "Requirement already satisfied: fonttools>=4.22.0 in /usr/local/lib/python3.11/dist-packages (from matplotlib->pykrx) (4.56.0)\n",
            "Requirement already satisfied: kiwisolver>=1.3.1 in /usr/local/lib/python3.11/dist-packages (from matplotlib->pykrx) (1.4.8)\n",
            "Requirement already satisfied: packaging>=20.0 in /usr/local/lib/python3.11/dist-packages (from matplotlib->pykrx) (24.2)\n",
            "Requirement already satisfied: pillow>=8 in /usr/local/lib/python3.11/dist-packages (from matplotlib->pykrx) (11.1.0)\n",
            "Requirement already satisfied: pyparsing>=2.3.1 in /usr/local/lib/python3.11/dist-packages (from matplotlib->pykrx) (3.2.1)\n",
            "Requirement already satisfied: python-dateutil>=2.7 in /usr/local/lib/python3.11/dist-packages (from matplotlib->pykrx) (2.8.2)\n",
            "Requirement already satisfied: tzdata>=2022.7 in /usr/local/lib/python3.11/dist-packages (from pandas->pykrx) (2025.1)\n",
            "Requirement already satisfied: charset-normalizer<4,>=2 in /usr/local/lib/python3.11/dist-packages (from requests->pykrx) (3.4.1)\n",
            "Requirement already satisfied: idna<4,>=2.5 in /usr/local/lib/python3.11/dist-packages (from requests->pykrx) (3.10)\n",
            "Requirement already satisfied: urllib3<3,>=1.21.1 in /usr/local/lib/python3.11/dist-packages (from requests->pykrx) (2.3.0)\n",
            "Requirement already satisfied: certifi>=2017.4.17 in /usr/local/lib/python3.11/dist-packages (from requests->pykrx) (2025.1.31)\n",
            "Requirement already satisfied: six>=1.5 in /usr/local/lib/python3.11/dist-packages (from python-dateutil>=2.7->matplotlib->pykrx) (1.17.0)\n",
            "Requirement already satisfied: setuptools in /usr/local/lib/python3.11/dist-packages (from zope.interface->datetime->pykrx) (75.1.0)\n",
            "Downloading pykrx-1.0.48-py3-none-any.whl (2.2 MB)\n",
            "\u001b[2K   \u001b[90m━━━━━━━━━━━━━━━━━━━━━━━━━━━━━━━━━━━━━━━━\u001b[0m \u001b[32m2.2/2.2 MB\u001b[0m \u001b[31m18.0 MB/s\u001b[0m eta \u001b[36m0:00:00\u001b[0m\n",
            "\u001b[?25hDownloading DateTime-5.5-py3-none-any.whl (52 kB)\n",
            "\u001b[2K   \u001b[90m━━━━━━━━━━━━━━━━━━━━━━━━━━━━━━━━━━━━━━━━\u001b[0m \u001b[32m52.6/52.6 kB\u001b[0m \u001b[31m2.1 MB/s\u001b[0m eta \u001b[36m0:00:00\u001b[0m\n",
            "\u001b[?25hDownloading zope.interface-7.2-cp311-cp311-manylinux_2_5_x86_64.manylinux1_x86_64.manylinux_2_17_x86_64.manylinux2014_x86_64.whl (259 kB)\n",
            "\u001b[2K   \u001b[90m━━━━━━━━━━━━━━━━━━━━━━━━━━━━━━━━━━━━━━━━\u001b[0m \u001b[32m259.8/259.8 kB\u001b[0m \u001b[31m7.3 MB/s\u001b[0m eta \u001b[36m0:00:00\u001b[0m\n",
            "\u001b[?25hInstalling collected packages: zope.interface, datetime, pykrx\n",
            "Successfully installed datetime-5.5 pykrx-1.0.48 zope.interface-7.2\n"
          ]
        }
      ]
    },
    {
      "cell_type": "code",
      "source": [
        "import pandas as pd\n",
        "from pykrx import stock\n",
        "from datetime import datetime, timedelta\n",
        "\n",
        "def calculate_etf_returns(etf_code):\n",
        "    today = datetime.today().strftime(\"%Y%m%d\")\n",
        "    end_date = today\n",
        "    start_date = (datetime.today() - timedelta(days=400)).strftime(\"%Y%m%d\")\n",
        "\n",
        "\n",
        "    df = stock.get_etf_ohlcv_by_date(start_date, end_date, etf_code)\n",
        "\n",
        "    # Create a new DataFrame to store returns\n",
        "    returns_df = pd.DataFrame()\n",
        "\n",
        "    returns_df['종목코드'] = [etf_code]\n",
        "    returns_df['종목명'] = [stock.get_etf_ticker_name(etf_code)]\n",
        "\n",
        "    # Calculate and assign returns to the new DataFrame\n",
        "    returns_df['1d'] = [(df['종가'].pct_change(periods=1) * 100).round(2).iloc[-1]]\n",
        "    returns_df['3d'] = [(df['종가'].pct_change(periods=3) * 100).round(2).iloc[-1]]\n",
        "    returns_df['5d'] = [(df['종가'].pct_change(periods=5) * 100).round(2).iloc[-1]]\n",
        "    returns_df['10d'] = [(df['종가'].pct_change(periods=10) * 100).round(2).iloc[-1]]\n",
        "    returns_df['20d'] = [(df['종가'].pct_change(periods=20) * 100).round(2).iloc[-1]]\n",
        "    returns_df['60d'] = [(df['종가'].pct_change(periods=60) * 100).round(2).iloc[-1]]\n",
        "    returns_df['90d'] = [(df['종가'].pct_change(periods=90) * 100).round(2).iloc[-1]]\n",
        "    returns_df['120d'] = [(df['종가'].pct_change(periods=120) * 100).round(2).iloc[-1]]\n",
        "    returns_df['250d'] = [(df['종가'].pct_change(periods=250) * 100).round(2).iloc[-1]]\n",
        "\n",
        "\n",
        "    # Select only the last row using tail(1)\n",
        "    returns_df = returns_df.tail(1)\n",
        "\n",
        "    return returns_df\n",
        "\n",
        "\n",
        "if __name__ == \"__main__\":\n",
        "    etf_codes = ['069500', '498400', '122630', '252670', '371460']  # Example ETF codes\n",
        "\n",
        "    # Calculate returns for each ETF and combine into a single DataFrame\n",
        "    all_returns_df = pd.concat([calculate_etf_returns(code) for code in etf_codes])\n",
        "\n",
        "    # Set '종목코드' and '종목명' as index\n",
        "    all_returns_df = all_returns_df.set_index(['종목코드', '종목명'])\n",
        "\n",
        "    print(all_returns_df)"
      ],
      "metadata": {
        "colab": {
          "base_uri": "https://localhost:8080/"
        },
        "id": "qENXQyLTAK9T",
        "outputId": "90ccb10f-0e19-46c6-fd25-79af107b1a1e"
      },
      "execution_count": 43,
      "outputs": [
        {
          "output_type": "stream",
          "name": "stdout",
          "text": [
            "                                1d    3d    5d    10d    20d    60d    90d  \\\n",
            "종목코드   종목명                                                                   \n",
            "069500 KODEX 200              0.73  2.35  3.30   6.41   3.84   8.66  -0.30   \n",
            "498400 KODEX 200타겟위클리커버드콜     0.46  0.05  0.92   3.30   1.86    NaN    NaN   \n",
            "122630 KODEX 레버리지             1.38  4.74  6.61  12.92   7.90  16.05  -2.75   \n",
            "252670 KODEX 200선물인버스2X      -1.34 -4.75 -6.17 -11.80  -7.93 -16.00  -0.68   \n",
            "371460 TIGER 차이나전기차SOLACTIVE -0.82  0.74  1.54  11.78  10.45   6.94  19.95   \n",
            "\n",
            "                               120d   250d  \n",
            "종목코드   종목명                                  \n",
            "069500 KODEX 200              -3.04   0.60  \n",
            "498400 KODEX 200타겟위클리커버드콜       NaN    NaN  \n",
            "122630 KODEX 레버리지             -8.98  -4.28  \n",
            "252670 KODEX 200선물인버스2X        4.01  -9.26  \n",
            "371460 TIGER 차이나전기차SOLACTIVE  54.02  55.54  \n"
          ]
        }
      ]
    },
    {
      "cell_type": "code",
      "source": [
        "import pandas as pd\n",
        "from pykrx import stock\n",
        "from datetime import datetime, timedelta\n",
        "\n",
        "\n",
        "today = datetime.today().strftime(\"%Y%m%d\")\n",
        "end_date = today\n",
        "start_date = (datetime.today() - timedelta(days=365)).strftime(\"%Y%m%d\")\n",
        "\n",
        "etf_code = '069500'\n",
        "\n",
        "df = stock.get_etf_ohlcv_by_date(start_date, end_date, etf_code)\n",
        "\n",
        "print(df.tail(240))\n",
        "\n",
        "# Create a new DataFrame to store returns\n",
        "returns_df = pd.DataFrame()\n",
        "\n",
        "returns_df['종목코드'] = [etf_code]\n",
        "returns_df['종목명'] = [stock.get_etf_ticker_name(etf_code)]\n",
        "\n",
        "# Calculate and assign returns to the new DataFrame\n",
        "returns_df['1d'] = [(df['종가'].pct_change(periods=1) * 100).round(2).iloc[-1]]\n",
        "returns_df['3d'] = [(df['종가'].pct_change(periods=3) * 100).round(2).iloc[-1]]\n",
        "returns_df['5d'] = [(df['종가'].pct_change(periods=5) * 100).round(2).iloc[-1]]\n",
        "returns_df['10d'] = [(df['종가'].pct_change(periods=10) * 100).round(2).iloc[-1]]\n",
        "returns_df['20d'] = [(df['종가'].pct_change(periods=20) * 100).round(2).iloc[-1]]\n",
        "returns_df['60d'] = [(df['종가'].pct_change(periods=60) * 100).round(2).iloc[-1]]\n",
        "returns_df['90d'] = [(df['종가'].pct_change(periods=90) * 100).round(2).iloc[-1]]\n",
        "returns_df['120d'] = [(df['종가'].pct_change(periods=120) * 100).round(2).iloc[-1]]\n",
        "returns_df['250d'] = [(df['종가'].pct_change(periods=250) * 100).round(2).iloc[-1]]\n",
        "\n",
        "print(returns_df)"
      ],
      "metadata": {
        "id": "NwKiw6RGN7Bu",
        "outputId": "51db565f-b5ba-4762-b842-d047668b373b",
        "colab": {
          "base_uri": "https://localhost:8080/"
        }
      },
      "execution_count": 36,
      "outputs": [
        {
          "output_type": "stream",
          "name": "stdout",
          "text": [
            "                 NAV     시가     고가     저가     종가      거래량          거래대금  \\\n",
            "날짜                                                                        \n",
            "2024-02-20  35952.09  36200  36220  35670  35875  6441149  231374816790   \n",
            "2024-02-21  35864.79  35855  36110  35675  35795  6976327  249929190430   \n",
            "2024-02-22  36036.22  36130  36165  35845  35980  6463600  232662997114   \n",
            "2024-02-23  36128.24  36300  36510  36040  36090  6739000  243844554310   \n",
            "2024-02-26  35817.12  35875  35960  35510  35800  5130714  183671994120   \n",
            "...              ...    ...    ...    ...    ...      ...           ...   \n",
            "2025-02-11  33821.31  33685  33935  33580  33775  7792158  263193885270   \n",
            "2025-02-12  33881.74  33720  33860  33535  33820  7996959  270289000765   \n",
            "2025-02-13  34248.13  33935  34195  33905  34195  6598772  225217370180   \n",
            "2025-02-14  34433.01  34250  34525  34210  34365  7663353  263587421200   \n",
            "2025-02-17  34668.66  34480  34660  34410  34615  5249340  181638969080   \n",
            "\n",
            "              기초지수  \n",
            "날짜                  \n",
            "2024-02-20  356.92  \n",
            "2024-02-21  356.04  \n",
            "2024-02-22  357.67  \n",
            "2024-02-23  358.57  \n",
            "2024-02-26  355.48  \n",
            "...            ...  \n",
            "2025-02-11  336.67  \n",
            "2025-02-12  337.23  \n",
            "2025-02-13  341.06  \n",
            "2025-02-14  342.76  \n",
            "2025-02-17  345.11  \n",
            "\n",
            "[240 rows x 8 columns]\n",
            "     종목코드        종목명    1d    3d   5d   10d   20d   60d  90d  120d  250d\n",
            "0  069500  KODEX 200  0.73  2.35  3.3  6.41  3.84  8.66 -0.3 -3.04   NaN\n"
          ]
        }
      ]
    }
  ],
  "metadata": {
    "colab": {
      "name": "Colaboratory에 오신 것을 환영합니다",
      "toc_visible": true,
      "provenance": [],
      "include_colab_link": true
    },
    "kernelspec": {
      "display_name": "Python 3",
      "name": "python3"
    }
  },
  "nbformat": 4,
  "nbformat_minor": 0
}
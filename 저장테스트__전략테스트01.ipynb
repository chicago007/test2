{
  "nbformat": 4,
  "nbformat_minor": 0,
  "metadata": {
    "colab": {
      "provenance": [],
      "authorship_tag": "ABX9TyMY/HYBJxYqxKRpWe80Wpt8",
      "include_colab_link": true
    },
    "kernelspec": {
      "name": "python3",
      "display_name": "Python 3"
    },
    "language_info": {
      "name": "python"
    }
  },
  "cells": [
    {
      "cell_type": "markdown",
      "metadata": {
        "id": "view-in-github",
        "colab_type": "text"
      },
      "source": [
        "<a href=\"https://colab.research.google.com/github/chicago007/test2/blob/main/%EC%A0%80%EC%9E%A5%ED%85%8C%EC%8A%A4%ED%8A%B8__%EC%A0%84%EB%9E%B5%ED%85%8C%EC%8A%A4%ED%8A%B801.ipynb\" target=\"_parent\"><img src=\"https://colab.research.google.com/assets/colab-badge.svg\" alt=\"Open In Colab\"/></a>"
      ]
    },
    {
      "cell_type": "code",
      "source": [
        "!pip install pykrx"
      ],
      "metadata": {
        "colab": {
          "base_uri": "https://localhost:8080/"
        },
        "collapsed": true,
        "id": "wdM8U65L2NcT",
        "outputId": "f8a6a5a3-2be4-49cd-b4ff-4d0b56b91c85"
      },
      "execution_count": null,
      "outputs": [
        {
          "output_type": "stream",
          "name": "stdout",
          "text": [
            "Collecting pykrx\n",
            "  Downloading pykrx-1.0.48-py3-none-any.whl.metadata (60 kB)\n",
            "\u001b[?25l     \u001b[90m━━━━━━━━━━━━━━━━━━━━━━━━━━━━━━━━━━━━━━━━\u001b[0m \u001b[32m0.0/60.9 kB\u001b[0m \u001b[31m?\u001b[0m eta \u001b[36m-:--:--\u001b[0m\r\u001b[2K     \u001b[90m━━━━━━━━━━━━━━━━━━━━━━━━━━━━━━━━━━━━━━━━\u001b[0m \u001b[32m60.9/60.9 kB\u001b[0m \u001b[31m2.4 MB/s\u001b[0m eta \u001b[36m0:00:00\u001b[0m\n",
            "\u001b[?25hRequirement already satisfied: requests in /usr/local/lib/python3.11/dist-packages (from pykrx) (2.32.3)\n",
            "Requirement already satisfied: pandas in /usr/local/lib/python3.11/dist-packages (from pykrx) (2.2.2)\n",
            "Collecting datetime (from pykrx)\n",
            "  Downloading DateTime-5.5-py3-none-any.whl.metadata (33 kB)\n",
            "Requirement already satisfied: numpy in /usr/local/lib/python3.11/dist-packages (from pykrx) (1.26.4)\n",
            "Requirement already satisfied: xlrd in /usr/local/lib/python3.11/dist-packages (from pykrx) (2.0.1)\n",
            "Requirement already satisfied: deprecated in /usr/local/lib/python3.11/dist-packages (from pykrx) (1.2.18)\n",
            "Requirement already satisfied: multipledispatch in /usr/local/lib/python3.11/dist-packages (from pykrx) (1.0.0)\n",
            "Requirement already satisfied: matplotlib in /usr/local/lib/python3.11/dist-packages (from pykrx) (3.10.0)\n",
            "Collecting zope.interface (from datetime->pykrx)\n",
            "  Downloading zope.interface-7.2-cp311-cp311-manylinux_2_5_x86_64.manylinux1_x86_64.manylinux_2_17_x86_64.manylinux2014_x86_64.whl.metadata (44 kB)\n",
            "\u001b[2K     \u001b[90m━━━━━━━━━━━━━━━━━━━━━━━━━━━━━━━━━━━━━━━━\u001b[0m \u001b[32m44.4/44.4 kB\u001b[0m \u001b[31m2.7 MB/s\u001b[0m eta \u001b[36m0:00:00\u001b[0m\n",
            "\u001b[?25hRequirement already satisfied: pytz in /usr/local/lib/python3.11/dist-packages (from datetime->pykrx) (2025.1)\n",
            "Requirement already satisfied: wrapt<2,>=1.10 in /usr/local/lib/python3.11/dist-packages (from deprecated->pykrx) (1.17.2)\n",
            "Requirement already satisfied: contourpy>=1.0.1 in /usr/local/lib/python3.11/dist-packages (from matplotlib->pykrx) (1.3.1)\n",
            "Requirement already satisfied: cycler>=0.10 in /usr/local/lib/python3.11/dist-packages (from matplotlib->pykrx) (0.12.1)\n",
            "Requirement already satisfied: fonttools>=4.22.0 in /usr/local/lib/python3.11/dist-packages (from matplotlib->pykrx) (4.55.8)\n",
            "Requirement already satisfied: kiwisolver>=1.3.1 in /usr/local/lib/python3.11/dist-packages (from matplotlib->pykrx) (1.4.8)\n",
            "Requirement already satisfied: packaging>=20.0 in /usr/local/lib/python3.11/dist-packages (from matplotlib->pykrx) (24.2)\n",
            "Requirement already satisfied: pillow>=8 in /usr/local/lib/python3.11/dist-packages (from matplotlib->pykrx) (11.1.0)\n",
            "Requirement already satisfied: pyparsing>=2.3.1 in /usr/local/lib/python3.11/dist-packages (from matplotlib->pykrx) (3.2.1)\n",
            "Requirement already satisfied: python-dateutil>=2.7 in /usr/local/lib/python3.11/dist-packages (from matplotlib->pykrx) (2.8.2)\n",
            "Requirement already satisfied: tzdata>=2022.7 in /usr/local/lib/python3.11/dist-packages (from pandas->pykrx) (2025.1)\n",
            "Requirement already satisfied: charset-normalizer<4,>=2 in /usr/local/lib/python3.11/dist-packages (from requests->pykrx) (3.4.1)\n",
            "Requirement already satisfied: idna<4,>=2.5 in /usr/local/lib/python3.11/dist-packages (from requests->pykrx) (3.10)\n",
            "Requirement already satisfied: urllib3<3,>=1.21.1 in /usr/local/lib/python3.11/dist-packages (from requests->pykrx) (2.3.0)\n",
            "Requirement already satisfied: certifi>=2017.4.17 in /usr/local/lib/python3.11/dist-packages (from requests->pykrx) (2025.1.31)\n",
            "Requirement already satisfied: six>=1.5 in /usr/local/lib/python3.11/dist-packages (from python-dateutil>=2.7->matplotlib->pykrx) (1.17.0)\n",
            "Requirement already satisfied: setuptools in /usr/local/lib/python3.11/dist-packages (from zope.interface->datetime->pykrx) (75.1.0)\n",
            "Downloading pykrx-1.0.48-py3-none-any.whl (2.2 MB)\n",
            "\u001b[2K   \u001b[90m━━━━━━━━━━━━━━━━━━━━━━━━━━━━━━━━━━━━━━━━\u001b[0m \u001b[32m2.2/2.2 MB\u001b[0m \u001b[31m32.1 MB/s\u001b[0m eta \u001b[36m0:00:00\u001b[0m\n",
            "\u001b[?25hDownloading DateTime-5.5-py3-none-any.whl (52 kB)\n",
            "\u001b[2K   \u001b[90m━━━━━━━━━━━━━━━━━━━━━━━━━━━━━━━━━━━━━━━━\u001b[0m \u001b[32m52.6/52.6 kB\u001b[0m \u001b[31m3.8 MB/s\u001b[0m eta \u001b[36m0:00:00\u001b[0m\n",
            "\u001b[?25hDownloading zope.interface-7.2-cp311-cp311-manylinux_2_5_x86_64.manylinux1_x86_64.manylinux_2_17_x86_64.manylinux2014_x86_64.whl (259 kB)\n",
            "\u001b[2K   \u001b[90m━━━━━━━━━━━━━━━━━━━━━━━━━━━━━━━━━━━━━━━━\u001b[0m \u001b[32m259.8/259.8 kB\u001b[0m \u001b[31m17.9 MB/s\u001b[0m eta \u001b[36m0:00:00\u001b[0m\n",
            "\u001b[?25hInstalling collected packages: zope.interface, datetime, pykrx\n",
            "Successfully installed datetime-5.5 pykrx-1.0.48 zope.interface-7.2\n"
          ]
        }
      ]
    },
    {
      "cell_type": "code",
      "execution_count": null,
      "metadata": {
        "colab": {
          "base_uri": "https://localhost:8080/"
        },
        "id": "90PWGi1l1puz",
        "outputId": "0ade6f52-e8fa-430d-c3e7-ead006850806"
      },
      "outputs": [
        {
          "output_type": "stream",
          "name": "stdout",
          "text": [
            "Optimal Short VWEMA Window: 12\n",
            "Optimal Long VWEMA Window: 33\n",
            "Maximum Return: 0.0016\n"
          ]
        }
      ],
      "source": [
        "# prompt: pykrx에서 삼성전자 주가를 가져와서 2024년1월2일~2025년2월7일까지 ema 적용하는 전략에서 최적값을 찾는 코드를 생성해줘\n",
        "\n",
        "#!pip install pykrx\n",
        "\n",
        "import pandas as pd\n",
        "from pykrx import stock\n",
        "import numpy as np\n",
        "\n",
        "def calculate_vwema(data, window):\n",
        "    \"\"\"Calculates the Volume-Weighted Exponential Moving Average (VWEMA).\"\"\"\n",
        "    typical_price = (data['고가'] + data['저가'] + data['종가']) / 3\n",
        "    volume_weighted_price = typical_price * data['거래량']\n",
        "\n",
        "    # Calculate EWMA of volume-weighted price and volume separately\n",
        "    vwema = volume_weighted_price.ewm(span=window, adjust=False).mean() / data['거래량'].ewm(span=window, adjust=False).mean()\n",
        "\n",
        "    return vwema\n",
        "\n",
        "def backtest_strategy(data, short_window, long_window):\n",
        "    \"\"\"Backtests the dual VWEMA strategy.\"\"\"\n",
        "    data['vwema_short'] = calculate_vwema(data, short_window)\n",
        "    data['vwema_long'] = calculate_vwema(data, long_window)\n",
        "\n",
        "    data['signal'] = 0.0\n",
        "    data.loc[data['vwema_short'] > data['vwema_long'], 'signal'] = 1.0  # Buy signal\n",
        "    data.loc[data['vwema_short'] < data['vwema_long'], 'signal'] = 0.0  # Sell signal\n",
        "\n",
        "    data['positions'] = data['signal'].diff()\n",
        "    data['returns'] = data['종가'].pct_change()\n",
        "    data['strategy_returns'] = data['returns'] * data['signal'].shift(1)\n",
        "\n",
        "    total_return = (1 + data['strategy_returns']).cumprod().iloc[-1] - 1\n",
        "    return total_return\n",
        "\n",
        "# Fetch Samsung Electronics stock data (2024-01-02 to 2025-02-07)\n",
        "start_date = \"20240102\"\n",
        "end_date = \"20250207\"\n",
        "ticker = \"005930\"  # Samsung Electronics ticker symbol\n",
        "df = stock.get_market_ohlcv_by_date(start_date, end_date, ticker)\n",
        "\n",
        "\n",
        "# Optimize dual VWEMA windows\n",
        "best_short_window = 0\n",
        "best_long_window = 0\n",
        "best_return = -1.0\n",
        "\n",
        "for short_window in range(5, 21):\n",
        "    for long_window in range(short_window + 5, 51):\n",
        "        total_return = backtest_strategy(df.copy(), short_window, long_window)\n",
        "        if total_return > best_return:\n",
        "            best_return = total_return\n",
        "            best_short_window = short_window\n",
        "            best_long_window = long_window\n",
        "\n",
        "print(f\"Optimal Short VWEMA Window: {best_short_window}\")\n",
        "print(f\"Optimal Long VWEMA Window: {best_long_window}\")\n",
        "print(f\"Maximum Return: {best_return:.4f}\")"
      ]
    },
    {
      "cell_type": "code",
      "source": [
        "# !pip install pykrx\n",
        "!pip install deap\n",
        "\n",
        "import pandas as pd\n",
        "from pykrx import stock\n",
        "import numpy as np\n",
        "from deap import base, creator, tools, algorithms\n",
        "\n",
        "def calculate_vwsma(data, window):\n",
        "    \"\"\"Calculates the Volume-Weighted Simple Moving Average (VWSMA).\"\"\"\n",
        "    typical_price = (data['고가'] + data['저가'] + data['종가']) / 3\n",
        "    volume_weighted_price = typical_price * data['거래량']\n",
        "    vwsma = volume_weighted_price.rolling(window=window).sum() / data['거래량'].rolling(window=window).sum()\n",
        "    return vwsma\n",
        "\n",
        "def backtest_strategy(data, individual):\n",
        "    \"\"\"Backtests the dual VWSMA strategy using individual parameters.\"\"\"\n",
        "    short_window, long_window = individual\n",
        "\n",
        "    data['vwsma_short'] = calculate_vwsma(data, short_window)\n",
        "    data['vwsma_long'] = calculate_vwsma(data, long_window)\n",
        "\n",
        "    data['signal'] = 0.0\n",
        "    data.loc[data['vwsma_short'] > data['vwsma_long'], 'signal'] = 1.0  # Buy signal\n",
        "    data.loc[data['vwsma_short'] < data['vwsma_long'], 'signal'] = 0.0  # Sell signal\n",
        "\n",
        "    data['positions'] = data['signal'].diff()\n",
        "    data['returns'] = data['종가'].pct_change()\n",
        "    data['strategy_returns'] = data['returns'] * data['signal'].shift(1)\n",
        "\n",
        "    total_return = (1 + data['strategy_returns']).cumprod().iloc[-1] - 1\n",
        "    return total_return,\n",
        "\n",
        "\n",
        "# Fetch Samsung Electronics stock data (2024-01-02 to 2025-02-07)\n",
        "start_date = \"20240102\"\n",
        "end_date = \"20250207\"\n",
        "ticker = \"005930\"  # Samsung Electronics ticker symbol\n",
        "df = stock.get_market_ohlcv_by_date(start_date, end_date, ticker)\n",
        "\n",
        "# Define the fitness function\n",
        "creator.create(\"FitnessMax\", base.Fitness, weights=(1.0,))\n",
        "creator.create(\"Individual\", list, fitness=creator.FitnessMax)\n",
        "\n",
        "toolbox = base.Toolbox()\n",
        "toolbox.register(\"attr_int\", np.random.randint, 5, 50)  # Window range: 5 to 50\n",
        "toolbox.register(\"individual\", tools.initRepeat, creator.Individual, toolbox.attr_int, 2)\n",
        "toolbox.register(\"population\", tools.initRepeat, list, toolbox.individual)\n",
        "\n",
        "# Define evaluation, selection, mutation, and crossover functions\n",
        "toolbox.register(\"evaluate\", lambda individual: backtest_strategy(df.copy(), individual))\n",
        "toolbox.register(\"mate\", tools.cxTwoPoint)\n",
        "toolbox.register(\"mutate\", tools.mutUniformInt, low=5, up=50, indpb=0.1)\n",
        "toolbox.register(\"select\", tools.selTournament, tournsize=3)\n",
        "\n",
        "# Run the genetic algorithm\n",
        "population = toolbox.population(n=50)  # Population size\n",
        "ngen = 50  # Number of generations\n",
        "cxpb = 0.5  # Crossover probability\n",
        "mutpb = 0.2  # Mutation probability\n",
        "\n",
        "# Run the evolution\n",
        "pop, logbook = algorithms.eaSimple(population, toolbox, cxpb, mutpb, ngen, stats=None, halloffame=None, verbose=False)\n",
        "\n",
        "# Get the best individual (optimal windows)\n",
        "best_individual = tools.selBest(pop, 1)[0]\n",
        "best_short_window, best_long_window = best_individual\n",
        "\n",
        "print(f\"Optimal Short VWSMA Window: {best_short_window}\")\n",
        "print(f\"Optimal Long VWSMA Window: {best_long_window}\")\n",
        "# Calculate the maximum return using the best individual\n",
        "best_return, = backtest_strategy(df.copy(), best_individual)\n",
        "print(f\"Maximum Return: {best_return:.4f}\")"
      ],
      "metadata": {
        "colab": {
          "base_uri": "https://localhost:8080/"
        },
        "id": "Uzfb0RwR95Fh",
        "outputId": "660fde1b-4618-4103-86df-a8b2dd165a5c"
      },
      "execution_count": null,
      "outputs": [
        {
          "output_type": "stream",
          "name": "stdout",
          "text": [
            "Requirement already satisfied: deap in /usr/local/lib/python3.11/dist-packages (1.4.2)\n",
            "Requirement already satisfied: numpy in /usr/local/lib/python3.11/dist-packages (from deap) (1.26.4)\n"
          ]
        },
        {
          "output_type": "stream",
          "name": "stderr",
          "text": [
            "/usr/local/lib/python3.11/dist-packages/deap/creator.py:185: RuntimeWarning: A class named 'FitnessMax' has already been created and it will be overwritten. Consider deleting previous creation of that class or rename it.\n",
            "  warnings.warn(\"A class named '{0}' has already been created and it \"\n",
            "/usr/local/lib/python3.11/dist-packages/deap/creator.py:185: RuntimeWarning: A class named 'Individual' has already been created and it will be overwritten. Consider deleting previous creation of that class or rename it.\n",
            "  warnings.warn(\"A class named '{0}' has already been created and it \"\n"
          ]
        },
        {
          "output_type": "stream",
          "name": "stdout",
          "text": [
            "Optimal Short VWSMA Window: 14\n",
            "Optimal Long VWSMA Window: 22\n",
            "Maximum Return: 0.0360\n"
          ]
        }
      ]
    }
  ]
}